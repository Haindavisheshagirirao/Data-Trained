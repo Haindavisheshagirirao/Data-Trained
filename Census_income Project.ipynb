{
 "cells": [
  {
   "cell_type": "markdown",
   "id": "e548b427",
   "metadata": {},
   "source": [
    "# Importing the required libraries:"
   ]
  },
  {
   "cell_type": "code",
   "execution_count": 1,
   "id": "59d53071",
   "metadata": {},
   "outputs": [],
   "source": [
    "import pandas as pd\n",
    "import numpy as np\n",
    "import seaborn as sns\n",
    "import matplotlib.pyplot as plt\n",
    "from scipy.stats import skew\n",
    "%matplotlib inline\n",
    "from sklearn.preprocessing import  StandardScaler\n",
    "from sklearn.model_selection import  train_test_split, cross_val_score\n",
    "#from sklearn.feature_selection import SelectKBest\n",
    "from sklearn.metrics import r2_score, mean_squared_error\n",
    "from sklearn.linear_model import LogisticRegression\n",
    "from sklearn.neighbors import KNeighborsClassifier\n",
    "from sklearn.tree import DecisionTreeClassifier\n",
    "#from sklearn.svm import LinearSVC , SVC\n",
    "\n",
    "from sklearn.ensemble import  RandomForestClassifier , GradientBoostingClassifier\n",
    "import warnings\n",
    "warnings.filterwarnings(\"ignore\") "
   ]
  },
  {
   "cell_type": "markdown",
   "id": "5e9ac535",
   "metadata": {},
   "source": [
    "# Data Collection:"
   ]
  },
  {
   "cell_type": "code",
   "execution_count": 2,
   "id": "6118decb",
   "metadata": {},
   "outputs": [],
   "source": [
    "census_data = pd.read_csv(\"census_income.csv\")"
   ]
  },
  {
   "cell_type": "code",
   "execution_count": 3,
   "id": "183c3db5",
   "metadata": {
    "scrolled": false
   },
   "outputs": [
    {
     "data": {
      "text/html": [
       "<div>\n",
       "<style scoped>\n",
       "    .dataframe tbody tr th:only-of-type {\n",
       "        vertical-align: middle;\n",
       "    }\n",
       "\n",
       "    .dataframe tbody tr th {\n",
       "        vertical-align: top;\n",
       "    }\n",
       "\n",
       "    .dataframe thead th {\n",
       "        text-align: right;\n",
       "    }\n",
       "</style>\n",
       "<table border=\"1\" class=\"dataframe\">\n",
       "  <thead>\n",
       "    <tr style=\"text-align: right;\">\n",
       "      <th></th>\n",
       "      <th>Age</th>\n",
       "      <th>Workclass</th>\n",
       "      <th>Fnlwgt</th>\n",
       "      <th>Education</th>\n",
       "      <th>Education_num</th>\n",
       "      <th>Marital_status</th>\n",
       "      <th>Occupation</th>\n",
       "      <th>Relationship</th>\n",
       "      <th>Race</th>\n",
       "      <th>Sex</th>\n",
       "      <th>Capital_gain</th>\n",
       "      <th>Capital_loss</th>\n",
       "      <th>Hours_per_week</th>\n",
       "      <th>Native_country</th>\n",
       "      <th>Income</th>\n",
       "    </tr>\n",
       "  </thead>\n",
       "  <tbody>\n",
       "    <tr>\n",
       "      <th>0</th>\n",
       "      <td>50</td>\n",
       "      <td>Self-emp-not-inc</td>\n",
       "      <td>83311</td>\n",
       "      <td>Bachelors</td>\n",
       "      <td>13</td>\n",
       "      <td>Married-civ-spouse</td>\n",
       "      <td>Exec-managerial</td>\n",
       "      <td>Husband</td>\n",
       "      <td>White</td>\n",
       "      <td>Male</td>\n",
       "      <td>0</td>\n",
       "      <td>0</td>\n",
       "      <td>13</td>\n",
       "      <td>United-States</td>\n",
       "      <td>&lt;=50K</td>\n",
       "    </tr>\n",
       "    <tr>\n",
       "      <th>1</th>\n",
       "      <td>38</td>\n",
       "      <td>Private</td>\n",
       "      <td>215646</td>\n",
       "      <td>HS-grad</td>\n",
       "      <td>9</td>\n",
       "      <td>Divorced</td>\n",
       "      <td>Handlers-cleaners</td>\n",
       "      <td>Not-in-family</td>\n",
       "      <td>White</td>\n",
       "      <td>Male</td>\n",
       "      <td>0</td>\n",
       "      <td>0</td>\n",
       "      <td>40</td>\n",
       "      <td>United-States</td>\n",
       "      <td>&lt;=50K</td>\n",
       "    </tr>\n",
       "    <tr>\n",
       "      <th>2</th>\n",
       "      <td>53</td>\n",
       "      <td>Private</td>\n",
       "      <td>234721</td>\n",
       "      <td>11th</td>\n",
       "      <td>7</td>\n",
       "      <td>Married-civ-spouse</td>\n",
       "      <td>Handlers-cleaners</td>\n",
       "      <td>Husband</td>\n",
       "      <td>Black</td>\n",
       "      <td>Male</td>\n",
       "      <td>0</td>\n",
       "      <td>0</td>\n",
       "      <td>40</td>\n",
       "      <td>United-States</td>\n",
       "      <td>&lt;=50K</td>\n",
       "    </tr>\n",
       "    <tr>\n",
       "      <th>3</th>\n",
       "      <td>28</td>\n",
       "      <td>Private</td>\n",
       "      <td>338409</td>\n",
       "      <td>Bachelors</td>\n",
       "      <td>13</td>\n",
       "      <td>Married-civ-spouse</td>\n",
       "      <td>Prof-specialty</td>\n",
       "      <td>Wife</td>\n",
       "      <td>Black</td>\n",
       "      <td>Female</td>\n",
       "      <td>0</td>\n",
       "      <td>0</td>\n",
       "      <td>40</td>\n",
       "      <td>Cuba</td>\n",
       "      <td>&lt;=50K</td>\n",
       "    </tr>\n",
       "    <tr>\n",
       "      <th>4</th>\n",
       "      <td>37</td>\n",
       "      <td>Private</td>\n",
       "      <td>284582</td>\n",
       "      <td>Masters</td>\n",
       "      <td>14</td>\n",
       "      <td>Married-civ-spouse</td>\n",
       "      <td>Exec-managerial</td>\n",
       "      <td>Wife</td>\n",
       "      <td>White</td>\n",
       "      <td>Female</td>\n",
       "      <td>0</td>\n",
       "      <td>0</td>\n",
       "      <td>40</td>\n",
       "      <td>United-States</td>\n",
       "      <td>&lt;=50K</td>\n",
       "    </tr>\n",
       "  </tbody>\n",
       "</table>\n",
       "</div>"
      ],
      "text/plain": [
       "   Age          Workclass  Fnlwgt   Education  Education_num  \\\n",
       "0   50   Self-emp-not-inc   83311   Bachelors             13   \n",
       "1   38            Private  215646     HS-grad              9   \n",
       "2   53            Private  234721        11th              7   \n",
       "3   28            Private  338409   Bachelors             13   \n",
       "4   37            Private  284582     Masters             14   \n",
       "\n",
       "        Marital_status          Occupation    Relationship    Race      Sex  \\\n",
       "0   Married-civ-spouse     Exec-managerial         Husband   White     Male   \n",
       "1             Divorced   Handlers-cleaners   Not-in-family   White     Male   \n",
       "2   Married-civ-spouse   Handlers-cleaners         Husband   Black     Male   \n",
       "3   Married-civ-spouse      Prof-specialty            Wife   Black   Female   \n",
       "4   Married-civ-spouse     Exec-managerial            Wife   White   Female   \n",
       "\n",
       "   Capital_gain  Capital_loss  Hours_per_week  Native_country  Income  \n",
       "0             0             0              13   United-States   <=50K  \n",
       "1             0             0              40   United-States   <=50K  \n",
       "2             0             0              40   United-States   <=50K  \n",
       "3             0             0              40            Cuba   <=50K  \n",
       "4             0             0              40   United-States   <=50K  "
      ]
     },
     "execution_count": 3,
     "metadata": {},
     "output_type": "execute_result"
    }
   ],
   "source": [
    "census_data.head()"
   ]
  },
  {
   "cell_type": "markdown",
   "id": "06483b1c",
   "metadata": {},
   "source": [
    "# What are the columns?"
   ]
  },
  {
   "cell_type": "code",
   "execution_count": 4,
   "id": "a8cb4018",
   "metadata": {},
   "outputs": [
    {
     "data": {
      "text/plain": [
       "Index(['Age', 'Workclass', 'Fnlwgt', 'Education', 'Education_num',\n",
       "       'Marital_status', 'Occupation', 'Relationship', 'Race', 'Sex',\n",
       "       'Capital_gain', 'Capital_loss', 'Hours_per_week', 'Native_country',\n",
       "       'Income'],\n",
       "      dtype='object')"
      ]
     },
     "execution_count": 4,
     "metadata": {},
     "output_type": "execute_result"
    }
   ],
   "source": [
    "census_data.columns"
   ]
  },
  {
   "cell_type": "markdown",
   "id": "f3f91b4b",
   "metadata": {},
   "source": [
    "# Size of the data:"
   ]
  },
  {
   "cell_type": "code",
   "execution_count": 5,
   "id": "d33696cf",
   "metadata": {},
   "outputs": [
    {
     "data": {
      "text/plain": [
       "(32560, 15)"
      ]
     },
     "execution_count": 5,
     "metadata": {},
     "output_type": "execute_result"
    }
   ],
   "source": [
    "census_data.shape"
   ]
  },
  {
   "cell_type": "code",
   "execution_count": 6,
   "id": "62860369",
   "metadata": {},
   "outputs": [],
   "source": [
    "# Observation: here we can see that the data consists of 32,560 rows and 15 columns."
   ]
  },
  {
   "cell_type": "markdown",
   "id": "645bfc3e",
   "metadata": {},
   "source": [
    "# What are the different datatypes present?"
   ]
  },
  {
   "cell_type": "code",
   "execution_count": 7,
   "id": "51e155d4",
   "metadata": {},
   "outputs": [
    {
     "data": {
      "text/plain": [
       "Age                int64\n",
       "Workclass         object\n",
       "Fnlwgt             int64\n",
       "Education         object\n",
       "Education_num      int64\n",
       "Marital_status    object\n",
       "Occupation        object\n",
       "Relationship      object\n",
       "Race              object\n",
       "Sex               object\n",
       "Capital_gain       int64\n",
       "Capital_loss       int64\n",
       "Hours_per_week     int64\n",
       "Native_country    object\n",
       "Income            object\n",
       "dtype: object"
      ]
     },
     "execution_count": 7,
     "metadata": {},
     "output_type": "execute_result"
    }
   ],
   "source": [
    "census_data.dtypes"
   ]
  },
  {
   "cell_type": "code",
   "execution_count": 8,
   "id": "30523ba1",
   "metadata": {},
   "outputs": [],
   "source": [
    "# Observation: here we can see that the data has \"int\" and \"object\" datatypes."
   ]
  },
  {
   "cell_type": "markdown",
   "id": "915c3723",
   "metadata": {},
   "source": [
    "# Information of the data:"
   ]
  },
  {
   "cell_type": "code",
   "execution_count": 9,
   "id": "7e2cbfe5",
   "metadata": {},
   "outputs": [
    {
     "name": "stdout",
     "output_type": "stream",
     "text": [
      "<class 'pandas.core.frame.DataFrame'>\n",
      "RangeIndex: 32560 entries, 0 to 32559\n",
      "Data columns (total 15 columns):\n",
      " #   Column          Non-Null Count  Dtype \n",
      "---  ------          --------------  ----- \n",
      " 0   Age             32560 non-null  int64 \n",
      " 1   Workclass       32560 non-null  object\n",
      " 2   Fnlwgt          32560 non-null  int64 \n",
      " 3   Education       32560 non-null  object\n",
      " 4   Education_num   32560 non-null  int64 \n",
      " 5   Marital_status  32560 non-null  object\n",
      " 6   Occupation      32560 non-null  object\n",
      " 7   Relationship    32560 non-null  object\n",
      " 8   Race            32560 non-null  object\n",
      " 9   Sex             32560 non-null  object\n",
      " 10  Capital_gain    32560 non-null  int64 \n",
      " 11  Capital_loss    32560 non-null  int64 \n",
      " 12  Hours_per_week  32560 non-null  int64 \n",
      " 13  Native_country  32560 non-null  object\n",
      " 14  Income          32560 non-null  object\n",
      "dtypes: int64(6), object(9)\n",
      "memory usage: 3.7+ MB\n"
     ]
    }
   ],
   "source": [
    "census_data.info()"
   ]
  },
  {
   "cell_type": "code",
   "execution_count": 10,
   "id": "ce5a9d33",
   "metadata": {},
   "outputs": [],
   "source": [
    "# Observation: Here we can see that hthere are \"no nullvalues\" present in the data."
   ]
  },
  {
   "cell_type": "markdown",
   "id": "ae029810",
   "metadata": {},
   "source": [
    "# Checking the null values in the data:"
   ]
  },
  {
   "cell_type": "code",
   "execution_count": 11,
   "id": "90ef904c",
   "metadata": {},
   "outputs": [
    {
     "data": {
      "text/plain": [
       "Age               0\n",
       "Workclass         0\n",
       "Fnlwgt            0\n",
       "Education         0\n",
       "Education_num     0\n",
       "Marital_status    0\n",
       "Occupation        0\n",
       "Relationship      0\n",
       "Race              0\n",
       "Sex               0\n",
       "Capital_gain      0\n",
       "Capital_loss      0\n",
       "Hours_per_week    0\n",
       "Native_country    0\n",
       "Income            0\n",
       "dtype: int64"
      ]
     },
     "execution_count": 11,
     "metadata": {},
     "output_type": "execute_result"
    }
   ],
   "source": [
    "census_data.isnull().sum()"
   ]
  },
  {
   "cell_type": "code",
   "execution_count": 12,
   "id": "de3be8f5",
   "metadata": {},
   "outputs": [
    {
     "data": {
      "text/plain": [
       "0"
      ]
     },
     "execution_count": 12,
     "metadata": {},
     "output_type": "execute_result"
    }
   ],
   "source": [
    "census_data.isnull().sum().sum()"
   ]
  },
  {
   "cell_type": "code",
   "execution_count": 13,
   "id": "daa6e99c",
   "metadata": {},
   "outputs": [],
   "source": [
    "# Observation: Here we can see that obsolutely the data has no null - values."
   ]
  },
  {
   "cell_type": "markdown",
   "id": "e53cf10d",
   "metadata": {},
   "source": [
    "# Finding the missing values if any:"
   ]
  },
  {
   "cell_type": "code",
   "execution_count": 14,
   "id": "4f566da6",
   "metadata": {},
   "outputs": [
    {
     "data": {
      "text/plain": [
       "False"
      ]
     },
     "execution_count": 14,
     "metadata": {},
     "output_type": "execute_result"
    }
   ],
   "source": [
    "census_data.isnull().values.any()"
   ]
  },
  {
   "cell_type": "code",
   "execution_count": 15,
   "id": "4eaddd64",
   "metadata": {},
   "outputs": [],
   "source": [
    "# observation: We can observe that there are no missing values present."
   ]
  },
  {
   "cell_type": "markdown",
   "id": "08a5c9ac",
   "metadata": {},
   "source": [
    "# Statistical Information of the data:"
   ]
  },
  {
   "cell_type": "code",
   "execution_count": 16,
   "id": "b33b8851",
   "metadata": {},
   "outputs": [
    {
     "data": {
      "text/html": [
       "<div>\n",
       "<style scoped>\n",
       "    .dataframe tbody tr th:only-of-type {\n",
       "        vertical-align: middle;\n",
       "    }\n",
       "\n",
       "    .dataframe tbody tr th {\n",
       "        vertical-align: top;\n",
       "    }\n",
       "\n",
       "    .dataframe thead th {\n",
       "        text-align: right;\n",
       "    }\n",
       "</style>\n",
       "<table border=\"1\" class=\"dataframe\">\n",
       "  <thead>\n",
       "    <tr style=\"text-align: right;\">\n",
       "      <th></th>\n",
       "      <th>Age</th>\n",
       "      <th>Fnlwgt</th>\n",
       "      <th>Education_num</th>\n",
       "      <th>Capital_gain</th>\n",
       "      <th>Capital_loss</th>\n",
       "      <th>Hours_per_week</th>\n",
       "    </tr>\n",
       "  </thead>\n",
       "  <tbody>\n",
       "    <tr>\n",
       "      <th>count</th>\n",
       "      <td>32560.000000</td>\n",
       "      <td>3.256000e+04</td>\n",
       "      <td>32560.000000</td>\n",
       "      <td>32560.000000</td>\n",
       "      <td>32560.000000</td>\n",
       "      <td>32560.000000</td>\n",
       "    </tr>\n",
       "    <tr>\n",
       "      <th>mean</th>\n",
       "      <td>38.581634</td>\n",
       "      <td>1.897818e+05</td>\n",
       "      <td>10.080590</td>\n",
       "      <td>1077.615172</td>\n",
       "      <td>87.306511</td>\n",
       "      <td>40.437469</td>\n",
       "    </tr>\n",
       "    <tr>\n",
       "      <th>std</th>\n",
       "      <td>13.640642</td>\n",
       "      <td>1.055498e+05</td>\n",
       "      <td>2.572709</td>\n",
       "      <td>7385.402999</td>\n",
       "      <td>402.966116</td>\n",
       "      <td>12.347618</td>\n",
       "    </tr>\n",
       "    <tr>\n",
       "      <th>min</th>\n",
       "      <td>17.000000</td>\n",
       "      <td>1.228500e+04</td>\n",
       "      <td>1.000000</td>\n",
       "      <td>0.000000</td>\n",
       "      <td>0.000000</td>\n",
       "      <td>1.000000</td>\n",
       "    </tr>\n",
       "    <tr>\n",
       "      <th>25%</th>\n",
       "      <td>28.000000</td>\n",
       "      <td>1.178315e+05</td>\n",
       "      <td>9.000000</td>\n",
       "      <td>0.000000</td>\n",
       "      <td>0.000000</td>\n",
       "      <td>40.000000</td>\n",
       "    </tr>\n",
       "    <tr>\n",
       "      <th>50%</th>\n",
       "      <td>37.000000</td>\n",
       "      <td>1.783630e+05</td>\n",
       "      <td>10.000000</td>\n",
       "      <td>0.000000</td>\n",
       "      <td>0.000000</td>\n",
       "      <td>40.000000</td>\n",
       "    </tr>\n",
       "    <tr>\n",
       "      <th>75%</th>\n",
       "      <td>48.000000</td>\n",
       "      <td>2.370545e+05</td>\n",
       "      <td>12.000000</td>\n",
       "      <td>0.000000</td>\n",
       "      <td>0.000000</td>\n",
       "      <td>45.000000</td>\n",
       "    </tr>\n",
       "    <tr>\n",
       "      <th>max</th>\n",
       "      <td>90.000000</td>\n",
       "      <td>1.484705e+06</td>\n",
       "      <td>16.000000</td>\n",
       "      <td>99999.000000</td>\n",
       "      <td>4356.000000</td>\n",
       "      <td>99.000000</td>\n",
       "    </tr>\n",
       "  </tbody>\n",
       "</table>\n",
       "</div>"
      ],
      "text/plain": [
       "                Age        Fnlwgt  Education_num  Capital_gain  Capital_loss  \\\n",
       "count  32560.000000  3.256000e+04   32560.000000  32560.000000  32560.000000   \n",
       "mean      38.581634  1.897818e+05      10.080590   1077.615172     87.306511   \n",
       "std       13.640642  1.055498e+05       2.572709   7385.402999    402.966116   \n",
       "min       17.000000  1.228500e+04       1.000000      0.000000      0.000000   \n",
       "25%       28.000000  1.178315e+05       9.000000      0.000000      0.000000   \n",
       "50%       37.000000  1.783630e+05      10.000000      0.000000      0.000000   \n",
       "75%       48.000000  2.370545e+05      12.000000      0.000000      0.000000   \n",
       "max       90.000000  1.484705e+06      16.000000  99999.000000   4356.000000   \n",
       "\n",
       "       Hours_per_week  \n",
       "count    32560.000000  \n",
       "mean        40.437469  \n",
       "std         12.347618  \n",
       "min          1.000000  \n",
       "25%         40.000000  \n",
       "50%         40.000000  \n",
       "75%         45.000000  \n",
       "max         99.000000  "
      ]
     },
     "execution_count": 16,
     "metadata": {},
     "output_type": "execute_result"
    }
   ],
   "source": [
    "census_data.describe()"
   ]
  },
  {
   "cell_type": "code",
   "execution_count": 17,
   "id": "d8b9a85b",
   "metadata": {},
   "outputs": [],
   "source": [
    "# Observation: 1) Here we can see that only few columns which have appeared with the statistical information this is because \n",
    "# all these are numerical columns and the rest which are not appeared are the non-numerical columns."
   ]
  },
  {
   "cell_type": "markdown",
   "id": "998d4a06",
   "metadata": {},
   "source": [
    "# Lets check the information about the categorical data:"
   ]
  },
  {
   "cell_type": "code",
   "execution_count": 18,
   "id": "7541f813",
   "metadata": {},
   "outputs": [
    {
     "data": {
      "text/plain": [
       "Index(['Age', 'Workclass', 'Fnlwgt', 'Education', 'Education_num',\n",
       "       'Marital_status', 'Occupation', 'Relationship', 'Race', 'Sex',\n",
       "       'Capital_gain', 'Capital_loss', 'Hours_per_week', 'Native_country',\n",
       "       'Income'],\n",
       "      dtype='object')"
      ]
     },
     "execution_count": 18,
     "metadata": {},
     "output_type": "execute_result"
    }
   ],
   "source": [
    "census_data.columns"
   ]
  },
  {
   "cell_type": "code",
   "execution_count": 19,
   "id": "ceccfbdd",
   "metadata": {},
   "outputs": [
    {
     "data": {
      "text/plain": [
       "Workclass        \n",
       " Private             22696\n",
       " Self-emp-not-inc     2541\n",
       " Local-gov            2093\n",
       " ?                    1836\n",
       " State-gov            1297\n",
       " Self-emp-inc         1116\n",
       " Federal-gov           960\n",
       " Without-pay            14\n",
       " Never-worked            7\n",
       "dtype: int64"
      ]
     },
     "execution_count": 19,
     "metadata": {},
     "output_type": "execute_result"
    }
   ],
   "source": [
    "census_data.value_counts(['Workclass'])"
   ]
  },
  {
   "cell_type": "code",
   "execution_count": 20,
   "id": "88a9bd7d",
   "metadata": {},
   "outputs": [
    {
     "data": {
      "text/plain": [
       "Education    \n",
       " HS-grad         10501\n",
       " Some-college     7291\n",
       " Bachelors        5354\n",
       " Masters          1723\n",
       " Assoc-voc        1382\n",
       " 11th             1175\n",
       " Assoc-acdm       1067\n",
       " 10th              933\n",
       " 7th-8th           646\n",
       " Prof-school       576\n",
       " 9th               514\n",
       " 12th              433\n",
       " Doctorate         413\n",
       " 5th-6th           333\n",
       " 1st-4th           168\n",
       " Preschool          51\n",
       "dtype: int64"
      ]
     },
     "execution_count": 20,
     "metadata": {},
     "output_type": "execute_result"
    }
   ],
   "source": [
    "census_data.value_counts(['Education'])"
   ]
  },
  {
   "cell_type": "code",
   "execution_count": 21,
   "id": "3dfe2abe",
   "metadata": {},
   "outputs": [
    {
     "data": {
      "text/plain": [
       "Marital_status        \n",
       " Married-civ-spouse       14976\n",
       " Never-married            10682\n",
       " Divorced                  4443\n",
       " Separated                 1025\n",
       " Widowed                    993\n",
       " Married-spouse-absent      418\n",
       " Married-AF-spouse           23\n",
       "dtype: int64"
      ]
     },
     "execution_count": 21,
     "metadata": {},
     "output_type": "execute_result"
    }
   ],
   "source": [
    "census_data.value_counts(['Marital_status'])"
   ]
  },
  {
   "cell_type": "code",
   "execution_count": 22,
   "id": "cc2be254",
   "metadata": {},
   "outputs": [
    {
     "data": {
      "text/plain": [
       "Occupation        \n",
       " Prof-specialty       4140\n",
       " Craft-repair         4099\n",
       " Exec-managerial      4066\n",
       " Adm-clerical         3769\n",
       " Sales                3650\n",
       " Other-service        3295\n",
       " Machine-op-inspct    2002\n",
       " ?                    1843\n",
       " Transport-moving     1597\n",
       " Handlers-cleaners    1370\n",
       " Farming-fishing       994\n",
       " Tech-support          928\n",
       " Protective-serv       649\n",
       " Priv-house-serv       149\n",
       " Armed-Forces            9\n",
       "dtype: int64"
      ]
     },
     "execution_count": 22,
     "metadata": {},
     "output_type": "execute_result"
    }
   ],
   "source": [
    "census_data.value_counts(['Occupation'])"
   ]
  },
  {
   "cell_type": "code",
   "execution_count": 23,
   "id": "7e5701a3",
   "metadata": {},
   "outputs": [
    {
     "data": {
      "text/plain": [
       "Relationship   \n",
       " Husband           13193\n",
       " Not-in-family      8304\n",
       " Own-child          5068\n",
       " Unmarried          3446\n",
       " Wife               1568\n",
       " Other-relative      981\n",
       "dtype: int64"
      ]
     },
     "execution_count": 23,
     "metadata": {},
     "output_type": "execute_result"
    }
   ],
   "source": [
    "census_data.value_counts(['Relationship'])"
   ]
  },
  {
   "cell_type": "code",
   "execution_count": 24,
   "id": "c90d42ed",
   "metadata": {},
   "outputs": [
    {
     "data": {
      "text/plain": [
       "Race               \n",
       " White                 27815\n",
       " Black                  3124\n",
       " Asian-Pac-Islander     1039\n",
       " Amer-Indian-Eskimo      311\n",
       " Other                   271\n",
       "dtype: int64"
      ]
     },
     "execution_count": 24,
     "metadata": {},
     "output_type": "execute_result"
    }
   ],
   "source": [
    "census_data.value_counts(['Race'])"
   ]
  },
  {
   "cell_type": "code",
   "execution_count": 25,
   "id": "47a0cb38",
   "metadata": {},
   "outputs": [
    {
     "data": {
      "text/plain": [
       "Sex    \n",
       " Male      21789\n",
       " Female    10771\n",
       "dtype: int64"
      ]
     },
     "execution_count": 25,
     "metadata": {},
     "output_type": "execute_result"
    }
   ],
   "source": [
    "census_data.value_counts(['Sex'])"
   ]
  },
  {
   "cell_type": "code",
   "execution_count": 26,
   "id": "cf1a1da2",
   "metadata": {},
   "outputs": [
    {
     "data": {
      "text/plain": [
       "Native_country             \n",
       " United-States                 29169\n",
       " Mexico                          643\n",
       " ?                               583\n",
       " Philippines                     198\n",
       " Germany                         137\n",
       " Canada                          121\n",
       " Puerto-Rico                     114\n",
       " El-Salvador                     106\n",
       " India                           100\n",
       " Cuba                             95\n",
       " England                          90\n",
       " Jamaica                          81\n",
       " South                            80\n",
       " China                            75\n",
       " Italy                            73\n",
       " Dominican-Republic               70\n",
       " Vietnam                          67\n",
       " Guatemala                        64\n",
       " Japan                            62\n",
       " Poland                           60\n",
       " Columbia                         59\n",
       " Taiwan                           51\n",
       " Haiti                            44\n",
       " Iran                             43\n",
       " Portugal                         37\n",
       " Nicaragua                        34\n",
       " Peru                             31\n",
       " Greece                           29\n",
       " France                           29\n",
       " Ecuador                          28\n",
       " Ireland                          24\n",
       " Hong                             20\n",
       " Cambodia                         19\n",
       " Trinadad&Tobago                  19\n",
       " Laos                             18\n",
       " Thailand                         18\n",
       " Yugoslavia                       16\n",
       " Outlying-US(Guam-USVI-etc)       14\n",
       " Hungary                          13\n",
       " Honduras                         13\n",
       " Scotland                         12\n",
       " Holand-Netherlands                1\n",
       "dtype: int64"
      ]
     },
     "execution_count": 26,
     "metadata": {},
     "output_type": "execute_result"
    }
   ],
   "source": [
    "census_data.value_counts(['Native_country'])"
   ]
  },
  {
   "cell_type": "code",
   "execution_count": 27,
   "id": "f8e85e5c",
   "metadata": {},
   "outputs": [
    {
     "data": {
      "text/plain": [
       "Income\n",
       " <=50K    24719\n",
       " >50K      7841\n",
       "dtype: int64"
      ]
     },
     "execution_count": 27,
     "metadata": {},
     "output_type": "execute_result"
    }
   ],
   "source": [
    "census_data.value_counts(['Income'])"
   ]
  },
  {
   "cell_type": "markdown",
   "id": "6c75bc47",
   "metadata": {},
   "source": [
    "# Using For-loop to find the unique values in all the columns:"
   ]
  },
  {
   "cell_type": "code",
   "execution_count": 28,
   "id": "42070eaa",
   "metadata": {},
   "outputs": [
    {
     "name": "stdout",
     "output_type": "stream",
     "text": [
      "Age : 73\n",
      "Workclass : 9\n",
      "Fnlwgt : 21647\n",
      "Education : 16\n",
      "Education_num : 16\n",
      "Marital_status : 7\n",
      "Occupation : 15\n",
      "Relationship : 6\n",
      "Race : 5\n",
      "Sex : 2\n",
      "Capital_gain : 119\n",
      "Capital_loss : 92\n",
      "Hours_per_week : 94\n",
      "Native_country : 42\n",
      "Income : 2\n"
     ]
    }
   ],
   "source": [
    "for i in census_data.columns:\n",
    "    print (i,':',len(census_data[i].unique()))"
   ]
  },
  {
   "cell_type": "code",
   "execution_count": 29,
   "id": "2424e15f",
   "metadata": {},
   "outputs": [],
   "source": [
    "# Observation: Here we can see that the columns have few unique data and the rest records are with these repeated values,so this\n",
    "# states that our data has duplicates."
   ]
  },
  {
   "cell_type": "markdown",
   "id": "aee2ad8a",
   "metadata": {},
   "source": [
    "# Dropping the duplicates:"
   ]
  },
  {
   "cell_type": "code",
   "execution_count": 30,
   "id": "31835686",
   "metadata": {},
   "outputs": [],
   "source": [
    "census_data=census_data.drop_duplicates()"
   ]
  },
  {
   "cell_type": "code",
   "execution_count": 31,
   "id": "f968b8bd",
   "metadata": {},
   "outputs": [
    {
     "data": {
      "text/plain": [
       "(32536, 15)"
      ]
     },
     "execution_count": 31,
     "metadata": {},
     "output_type": "execute_result"
    }
   ],
   "source": [
    "census_data.shape"
   ]
  },
  {
   "cell_type": "markdown",
   "id": "033bcf4a",
   "metadata": {},
   "source": [
    "# Checking whether we have any other data apart from\"Nan\":"
   ]
  },
  {
   "cell_type": "code",
   "execution_count": 32,
   "id": "c6ee72cb",
   "metadata": {},
   "outputs": [
    {
     "data": {
      "text/plain": [
       "Index(['Age', 'Workclass', 'Fnlwgt', 'Education', 'Education_num',\n",
       "       'Marital_status', 'Occupation', 'Relationship', 'Race', 'Sex',\n",
       "       'Capital_gain', 'Capital_loss', 'Hours_per_week', 'Native_country',\n",
       "       'Income'],\n",
       "      dtype='object')"
      ]
     },
     "execution_count": 32,
     "metadata": {},
     "output_type": "execute_result"
    }
   ],
   "source": [
    "census_data.columns"
   ]
  },
  {
   "cell_type": "code",
   "execution_count": 33,
   "id": "c08d1721",
   "metadata": {},
   "outputs": [
    {
     "data": {
      "text/plain": [
       "array([' Self-emp-not-inc', ' Private', ' State-gov', ' Federal-gov',\n",
       "       ' Local-gov', ' ?', ' Self-emp-inc', ' Without-pay',\n",
       "       ' Never-worked'], dtype=object)"
      ]
     },
     "execution_count": 33,
     "metadata": {},
     "output_type": "execute_result"
    }
   ],
   "source": [
    "census_data['Workclass'].unique()"
   ]
  },
  {
   "cell_type": "code",
   "execution_count": 34,
   "id": "d4ccbac6",
   "metadata": {},
   "outputs": [],
   "source": [
    "# Observation: Here we can see that we have the data as \"?\" which is of no use in our prediction and the other columns might also have\n",
    "# have this data and so we will drop this data."
   ]
  },
  {
   "cell_type": "markdown",
   "id": "7ffcb06b",
   "metadata": {},
   "source": [
    "## Now we will replace the data \"?\" with \"nan\" and then we will drop:"
   ]
  },
  {
   "cell_type": "code",
   "execution_count": 35,
   "id": "bc8c2a6c",
   "metadata": {},
   "outputs": [],
   "source": [
    "census_data[census_data == ' ?'] = np.nan"
   ]
  },
  {
   "cell_type": "code",
   "execution_count": 36,
   "id": "9e744da2",
   "metadata": {},
   "outputs": [
    {
     "data": {
      "text/plain": [
       "Age                  0\n",
       "Workclass         1836\n",
       "Fnlwgt               0\n",
       "Education            0\n",
       "Education_num        0\n",
       "Marital_status       0\n",
       "Occupation        1843\n",
       "Relationship         0\n",
       "Race                 0\n",
       "Sex                  0\n",
       "Capital_gain         0\n",
       "Capital_loss         0\n",
       "Hours_per_week       0\n",
       "Native_country     582\n",
       "Income               0\n",
       "dtype: int64"
      ]
     },
     "execution_count": 36,
     "metadata": {},
     "output_type": "execute_result"
    }
   ],
   "source": [
    "census_data.isnull().sum()"
   ]
  },
  {
   "cell_type": "code",
   "execution_count": 37,
   "id": "5d040948",
   "metadata": {},
   "outputs": [],
   "source": [
    "# Observation: Here we can see that our data is replace with \"nan\" instead of \"?\" and now we will drop \"NAN\""
   ]
  },
  {
   "cell_type": "code",
   "execution_count": 38,
   "id": "b4625d01",
   "metadata": {},
   "outputs": [],
   "source": [
    "census_data=census_data.dropna()"
   ]
  },
  {
   "cell_type": "code",
   "execution_count": 39,
   "id": "af0a9684",
   "metadata": {},
   "outputs": [
    {
     "data": {
      "text/plain": [
       "Age               0\n",
       "Workclass         0\n",
       "Fnlwgt            0\n",
       "Education         0\n",
       "Education_num     0\n",
       "Marital_status    0\n",
       "Occupation        0\n",
       "Relationship      0\n",
       "Race              0\n",
       "Sex               0\n",
       "Capital_gain      0\n",
       "Capital_loss      0\n",
       "Hours_per_week    0\n",
       "Native_country    0\n",
       "Income            0\n",
       "dtype: int64"
      ]
     },
     "execution_count": 39,
     "metadata": {},
     "output_type": "execute_result"
    }
   ],
   "source": [
    "census_data.isnull().sum()"
   ]
  },
  {
   "cell_type": "code",
   "execution_count": 40,
   "id": "cc6a36c9",
   "metadata": {},
   "outputs": [],
   "source": [
    "# Observation: Here we can see that we have dropped our \"nan\" values and so we can proceed."
   ]
  },
  {
   "cell_type": "markdown",
   "id": "4ecb2989",
   "metadata": {},
   "source": [
    "## Checking our data shape now:"
   ]
  },
  {
   "cell_type": "code",
   "execution_count": 41,
   "id": "83406e0a",
   "metadata": {},
   "outputs": [
    {
     "data": {
      "text/plain": [
       "(30138, 15)"
      ]
     },
     "execution_count": 41,
     "metadata": {},
     "output_type": "execute_result"
    }
   ],
   "source": [
    "census_data.shape"
   ]
  },
  {
   "cell_type": "code",
   "execution_count": 42,
   "id": "7e00b6c9",
   "metadata": {},
   "outputs": [],
   "source": [
    "# Observation: Here we can see that our data is reduced which we can see in number of \"records\"."
   ]
  },
  {
   "cell_type": "markdown",
   "id": "5a8b593d",
   "metadata": {},
   "source": [
    "# Checking the null values by plotting the heatmap:"
   ]
  },
  {
   "cell_type": "code",
   "execution_count": 43,
   "id": "35865f66",
   "metadata": {},
   "outputs": [
    {
     "data": {
      "text/plain": [
       "<AxesSubplot:>"
      ]
     },
     "execution_count": 43,
     "metadata": {},
     "output_type": "execute_result"
    },
    {
     "data": {
      "image/png": "[encoded data removed]",
      "text/plain": [
       "<Figure size 432x288 with 2 Axes>"
      ]
     },
     "metadata": {
      "needs_background": "light"
     },
     "output_type": "display_data"
    }
   ],
   "source": [
    "sns.heatmap(census_data.isnull())"
   ]
  },
  {
   "cell_type": "code",
   "execution_count": 44,
   "id": "e754dea4",
   "metadata": {},
   "outputs": [],
   "source": [
    "# Observation: Here we can see that our graph shows no null values."
   ]
  },
  {
   "cell_type": "markdown",
   "id": "002ce80d",
   "metadata": {},
   "source": [
    "# Visualization:"
   ]
  },
  {
   "cell_type": "markdown",
   "id": "a6a822dc",
   "metadata": {},
   "source": [
    "## Univariate Analysis:"
   ]
  },
  {
   "cell_type": "code",
   "execution_count": 45,
   "id": "c6eba4ff",
   "metadata": {},
   "outputs": [
    {
     "data": {
      "text/plain": [
       "Index(['Age', 'Workclass', 'Fnlwgt', 'Education', 'Education_num',\n",
       "       'Marital_status', 'Occupation', 'Relationship', 'Race', 'Sex',\n",
       "       'Capital_gain', 'Capital_loss', 'Hours_per_week', 'Native_country',\n",
       "       'Income'],\n",
       "      dtype='object')"
      ]
     },
     "execution_count": 45,
     "metadata": {},
     "output_type": "execute_result"
    }
   ],
   "source": [
    "census_data.columns"
   ]
  },
  {
   "cell_type": "markdown",
   "id": "204c370e",
   "metadata": {},
   "source": [
    "# Age:"
   ]
  },
  {
   "cell_type": "code",
   "execution_count": 46,
   "id": "ced1be67",
   "metadata": {},
   "outputs": [
    {
     "data": {
      "image/png": "[encoded data removed]",
      "text/plain": [
       "<Figure size 2160x720 with 1 Axes>"
      ]
     },
     "metadata": {
      "needs_background": "light"
     },
     "output_type": "display_data"
    }
   ],
   "source": [
    "plt.figure(figsize=(30,10))\n",
    "sns.countplot(census_data.Age);"
   ]
  },
  {
   "cell_type": "code",
   "execution_count": 47,
   "id": "49728ddb",
   "metadata": {},
   "outputs": [
    {
     "data": {
      "image/png": "[encoded data removed]",
      "text/plain": [
       "<Figure size 864x576 with 3 Axes>"
      ]
     },
     "metadata": {
      "needs_background": "light"
     },
     "output_type": "display_data"
    }
   ],
   "source": [
    "plt.figure(figsize=(12,8))\n",
    "plt.subplot(2,2,1)\n",
    "sns.distplot(census_data['Age'], kde=False, bins=range(0, 100, 5));\n",
    "plt.subplot(2,2,2)\n",
    "sns.boxplot(census_data['Age']);\n",
    "plt.subplot(2,2,3)\n",
    "sns.distplot(census_data['Age']);"
   ]
  },
  {
   "cell_type": "code",
   "execution_count": 48,
   "id": "b99d5ddb",
   "metadata": {},
   "outputs": [],
   "source": [
    "# Observation: here we can see that our boxplot has the outliers and the distribution curve is skewed somewhat and also the \n",
    "# count is more in the ages of 31 and 36"
   ]
  },
  {
   "cell_type": "markdown",
   "id": "e906a5ed",
   "metadata": {},
   "source": [
    "# Workclass:"
   ]
  },
  {
   "cell_type": "code",
   "execution_count": 49,
   "id": "654eb08b",
   "metadata": {},
   "outputs": [
    {
     "data": {
      "image/png": "[encoded data removed]",
      "text/plain": [
       "<Figure size 2160x720 with 1 Axes>"
      ]
     },
     "metadata": {
      "needs_background": "light"
     },
     "output_type": "display_data"
    }
   ],
   "source": [
    "# Workclass:\n",
    "plt.figure(figsize=(30,10))\n",
    "sns.countplot(census_data.Workclass);"
   ]
  },
  {
   "cell_type": "code",
   "execution_count": 50,
   "id": "67eba9e6",
   "metadata": {},
   "outputs": [],
   "source": [
    "# Observation: Here we can see that the count is more in the \"Private\". and the lease is in \"without pay\"."
   ]
  },
  {
   "cell_type": "markdown",
   "id": "80dec40d",
   "metadata": {},
   "source": [
    "# Fnlwgt:"
   ]
  },
  {
   "cell_type": "code",
   "execution_count": 51,
   "id": "93536dd6",
   "metadata": {},
   "outputs": [
    {
     "data": {
      "image/png": "[encoded data removed]",
      "text/plain": [
       "<Figure size 864x576 with 2 Axes>"
      ]
     },
     "metadata": {
      "needs_background": "light"
     },
     "output_type": "display_data"
    }
   ],
   "source": [
    "plt.figure(figsize=(12,8))\n",
    "plt.subplot(2,2,1)\n",
    "sns.boxplot(census_data['Fnlwgt']);\n",
    "plt.subplot(2,2,2)\n",
    "sns.distplot(census_data['Fnlwgt']);"
   ]
  },
  {
   "cell_type": "code",
   "execution_count": 52,
   "id": "adf551c4",
   "metadata": {},
   "outputs": [],
   "source": [
    "# Observation: here we can see that there are outliers in the boxplot and the distribution curve is not at all normal."
   ]
  },
  {
   "cell_type": "markdown",
   "id": "6ff9a4bc",
   "metadata": {},
   "source": [
    "# Education:"
   ]
  },
  {
   "cell_type": "code",
   "execution_count": 53,
   "id": "1ef23ae4",
   "metadata": {},
   "outputs": [
    {
     "data": {
      "image/png": "[encoded data removed]",
      "text/plain": [
       "<Figure size 2160x720 with 1 Axes>"
      ]
     },
     "metadata": {
      "needs_background": "light"
     },
     "output_type": "display_data"
    }
   ],
   "source": [
    "plt.figure(figsize=(30,10))\n",
    "sns.countplot(census_data.Education);"
   ]
  },
  {
   "cell_type": "code",
   "execution_count": 54,
   "id": "c0eb36c5",
   "metadata": {},
   "outputs": [],
   "source": [
    "# Observation: Here we can see that the category \"HS - grad\" is highest in count and the least count we can see in the category\n",
    "# \"Preschool\"."
   ]
  },
  {
   "cell_type": "markdown",
   "id": "e6f70edc",
   "metadata": {},
   "source": [
    "# Education_num:"
   ]
  },
  {
   "cell_type": "code",
   "execution_count": 55,
   "id": "73ea68f2",
   "metadata": {},
   "outputs": [
    {
     "data": {
      "image/png": "[encoded data removed]",
      "text/plain": [
       "<Figure size 864x576 with 2 Axes>"
      ]
     },
     "metadata": {
      "needs_background": "light"
     },
     "output_type": "display_data"
    }
   ],
   "source": [
    "plt.figure(figsize=(12,8))\n",
    "plt.subplot(2,2,1)\n",
    "sns.boxplot(census_data['Education_num']);\n",
    "plt.subplot(2,2,2)\n",
    "sns.distplot(census_data['Education_num']);"
   ]
  },
  {
   "cell_type": "code",
   "execution_count": 56,
   "id": "796ed0fc",
   "metadata": {},
   "outputs": [],
   "source": [
    "# Observation: Here we can see that the boxplot has the outliers but they are far away from \"max -quantile\" and probably these\n",
    "# dont affect our model much and the distribution curve as you see is not at all normal."
   ]
  },
  {
   "cell_type": "markdown",
   "id": "7a3c37c8",
   "metadata": {},
   "source": [
    "# Marital_status:"
   ]
  },
  {
   "cell_type": "code",
   "execution_count": 57,
   "id": "b799f371",
   "metadata": {},
   "outputs": [
    {
     "data": {
      "image/png": "[encoded data removed]",
      "text/plain": [
       "<Figure size 2160x720 with 1 Axes>"
      ]
     },
     "metadata": {
      "needs_background": "light"
     },
     "output_type": "display_data"
    }
   ],
   "source": [
    "plt.figure(figsize=(30,10))\n",
    "sns.countplot(census_data.Marital_status);"
   ]
  },
  {
   "cell_type": "code",
   "execution_count": 58,
   "id": "15576d51",
   "metadata": {},
   "outputs": [],
   "source": [
    "# Observation: here we can see that the category \"Married civ spouse\" and the least count is for the category \"Married AF spouse\"."
   ]
  },
  {
   "cell_type": "markdown",
   "id": "a7ea7dbc",
   "metadata": {},
   "source": [
    "# Occupation:"
   ]
  },
  {
   "cell_type": "code",
   "execution_count": 59,
   "id": "841d9f1e",
   "metadata": {},
   "outputs": [
    {
     "data": {
      "image/png": "[encoded data removed]",
      "text/plain": [
       "<Figure size 2160x720 with 1 Axes>"
      ]
     },
     "metadata": {
      "needs_background": "light"
     },
     "output_type": "display_data"
    }
   ],
   "source": [
    "plt.figure(figsize=(30,10))\n",
    "sns.countplot(census_data.Occupation);"
   ]
  },
  {
   "cell_type": "code",
   "execution_count": 60,
   "id": "d73c09ec",
   "metadata": {},
   "outputs": [],
   "source": [
    "# Observation: Here we can see that the categories \"prof-speciality\" and \"craft-repair\" and the least count is for the category\n",
    "# \"Armed Forces\"."
   ]
  },
  {
   "cell_type": "markdown",
   "id": "b693dfdd",
   "metadata": {},
   "source": [
    "# Relationship:"
   ]
  },
  {
   "cell_type": "code",
   "execution_count": 61,
   "id": "7012abf4",
   "metadata": {},
   "outputs": [
    {
     "data": {
      "image/png": "[encoded data removed]",
      "text/plain": [
       "<Figure size 2160x720 with 1 Axes>"
      ]
     },
     "metadata": {
      "needs_background": "light"
     },
     "output_type": "display_data"
    }
   ],
   "source": [
    "plt.figure(figsize=(30,10))\n",
    "sns.countplot(census_data.Relationship);"
   ]
  },
  {
   "cell_type": "markdown",
   "id": "dc234b25",
   "metadata": {},
   "source": [
    "# Race:"
   ]
  },
  {
   "cell_type": "code",
   "execution_count": 62,
   "id": "bc2778a8",
   "metadata": {},
   "outputs": [
    {
     "data": {
      "image/png": "[encoded data removed]",
      "text/plain": [
       "<Figure size 2160x720 with 1 Axes>"
      ]
     },
     "metadata": {
      "needs_background": "light"
     },
     "output_type": "display_data"
    }
   ],
   "source": [
    "plt.figure(figsize=(30,10))\n",
    "sns.countplot(census_data.Race);"
   ]
  },
  {
   "cell_type": "code",
   "execution_count": 63,
   "id": "5be41fd9",
   "metadata": {},
   "outputs": [],
   "source": [
    "# Observation: here we can see that the highest count is for the category \"White\" and the least count is for the category \"Other\"."
   ]
  },
  {
   "cell_type": "markdown",
   "id": "d29e008d",
   "metadata": {},
   "source": [
    "# Sex:"
   ]
  },
  {
   "cell_type": "code",
   "execution_count": 64,
   "id": "f052c088",
   "metadata": {},
   "outputs": [
    {
     "data": {
      "image/png": "[encoded data removed]",
      "text/plain": [
       "<Figure size 720x360 with 1 Axes>"
      ]
     },
     "metadata": {
      "needs_background": "light"
     },
     "output_type": "display_data"
    }
   ],
   "source": [
    "plt.figure(figsize=(10,5))\n",
    "sns.countplot(census_data.Sex);"
   ]
  },
  {
   "cell_type": "code",
   "execution_count": 65,
   "id": "3432ac0f",
   "metadata": {},
   "outputs": [],
   "source": [
    "# Observation: Here we can see that highest count is for the category \"Male\"."
   ]
  },
  {
   "cell_type": "markdown",
   "id": "2e36741b",
   "metadata": {},
   "source": [
    "# Capital_gain:"
   ]
  },
  {
   "cell_type": "code",
   "execution_count": 66,
   "id": "b3007bf5",
   "metadata": {},
   "outputs": [
    {
     "data": {
      "image/png": "[encoded data removed]",
      "text/plain": [
       "<Figure size 864x576 with 2 Axes>"
      ]
     },
     "metadata": {
      "needs_background": "light"
     },
     "output_type": "display_data"
    }
   ],
   "source": [
    "plt.figure(figsize=(12,8))\n",
    "plt.subplot(2,2,1)\n",
    "sns.boxplot(census_data['Capital_gain']);\n",
    "plt.subplot(2,2,2)\n",
    "sns.distplot(census_data['Capital_gain']);"
   ]
  },
  {
   "cell_type": "code",
   "execution_count": 67,
   "id": "897a9cea",
   "metadata": {},
   "outputs": [],
   "source": [
    "# Observation: Here we can see that boxplot has outliers and the distribution curve is not at all normal."
   ]
  },
  {
   "cell_type": "markdown",
   "id": "b0f7677d",
   "metadata": {},
   "source": [
    "# Capital_loss:"
   ]
  },
  {
   "cell_type": "code",
   "execution_count": 68,
   "id": "cea4b90e",
   "metadata": {},
   "outputs": [
    {
     "data": {
      "image/png": "[encoded data removed]",
      "text/plain": [
       "<Figure size 864x576 with 2 Axes>"
      ]
     },
     "metadata": {
      "needs_background": "light"
     },
     "output_type": "display_data"
    }
   ],
   "source": [
    "plt.figure(figsize=(12,8))\n",
    "plt.subplot(2,2,1)\n",
    "sns.boxplot(census_data['Capital_loss']);\n",
    "plt.subplot(2,2,2)\n",
    "sns.distplot(census_data['Capital_loss']);"
   ]
  },
  {
   "cell_type": "code",
   "execution_count": 69,
   "id": "3086be8f",
   "metadata": {},
   "outputs": [],
   "source": [
    "# Observation: Here we can see that the boxplot has many outliers and the distribution curve is not at all normal."
   ]
  },
  {
   "cell_type": "markdown",
   "id": "3b0698a6",
   "metadata": {},
   "source": [
    "# Hours_per_week:"
   ]
  },
  {
   "cell_type": "code",
   "execution_count": 70,
   "id": "fc31bb9a",
   "metadata": {},
   "outputs": [
    {
     "data": {
      "image/png": "[encoded data removed]",
      "text/plain": [
       "<Figure size 864x576 with 2 Axes>"
      ]
     },
     "metadata": {
      "needs_background": "light"
     },
     "output_type": "display_data"
    }
   ],
   "source": [
    "plt.figure(figsize=(12,8))\n",
    "plt.subplot(2,2,1)\n",
    "sns.boxplot(census_data['Hours_per_week']);\n",
    "plt.subplot(2,2,2)\n",
    "sns.distplot(census_data['Hours_per_week']);"
   ]
  },
  {
   "cell_type": "code",
   "execution_count": 71,
   "id": "cb591006",
   "metadata": {},
   "outputs": [],
   "source": [
    "# Observation: Here we can see that there are many outliers on both sides of the quantiles and the distribution curve is not at all\n",
    "# normal and has many peaks."
   ]
  },
  {
   "cell_type": "markdown",
   "id": "ffa72b27",
   "metadata": {},
   "source": [
    "#  Native_country:"
   ]
  },
  {
   "cell_type": "code",
   "execution_count": 72,
   "id": "6055f370",
   "metadata": {},
   "outputs": [
    {
     "data": {
      "image/png": "[encoded data removed]",
      "text/plain": [
       "<Figure size 3240x1080 with 1 Axes>"
      ]
     },
     "metadata": {
      "needs_background": "light"
     },
     "output_type": "display_data"
    }
   ],
   "source": [
    "plt.figure(figsize=(45,15))\n",
    "sns.countplot(census_data.Native_country);"
   ]
  },
  {
   "cell_type": "code",
   "execution_count": 73,
   "id": "dea33c31",
   "metadata": {},
   "outputs": [],
   "source": [
    "# Observation: Here we can see that the highest count is only for \"United states\" and rest all the other are least in heir count."
   ]
  },
  {
   "cell_type": "markdown",
   "id": "b49c5529",
   "metadata": {},
   "source": [
    "# Income:"
   ]
  },
  {
   "cell_type": "code",
   "execution_count": 74,
   "id": "a28e830b",
   "metadata": {},
   "outputs": [
    {
     "data": {
      "image/png": "[encoded data removed]",
      "text/plain": [
       "<Figure size 720x360 with 1 Axes>"
      ]
     },
     "metadata": {
      "needs_background": "light"
     },
     "output_type": "display_data"
    }
   ],
   "source": [
    "plt.figure(figsize=(10,5))\n",
    "sns.countplot(census_data.Income);"
   ]
  },
  {
   "cell_type": "code",
   "execution_count": 75,
   "id": "f0907b25",
   "metadata": {},
   "outputs": [],
   "source": [
    "# Observation: Here we can see that there are 2 categories which are <=50k and the other is >50k and this column is our label and\n",
    "# by this we can understand that our model would be a \"Classification model\". "
   ]
  },
  {
   "cell_type": "markdown",
   "id": "3d4fa0fb",
   "metadata": {},
   "source": [
    "# Bivariate Analysis:"
   ]
  },
  {
   "cell_type": "code",
   "execution_count": 76,
   "id": "22529321",
   "metadata": {},
   "outputs": [
    {
     "data": {
      "text/plain": [
       "Index(['Age', 'Workclass', 'Fnlwgt', 'Education', 'Education_num',\n",
       "       'Marital_status', 'Occupation', 'Relationship', 'Race', 'Sex',\n",
       "       'Capital_gain', 'Capital_loss', 'Hours_per_week', 'Native_country',\n",
       "       'Income'],\n",
       "      dtype='object')"
      ]
     },
     "execution_count": 76,
     "metadata": {},
     "output_type": "execute_result"
    }
   ],
   "source": [
    "census_data.columns"
   ]
  },
  {
   "cell_type": "markdown",
   "id": "dbe595d7",
   "metadata": {},
   "source": [
    "# Age:"
   ]
  },
  {
   "cell_type": "code",
   "execution_count": 77,
   "id": "0b4b7c96",
   "metadata": {},
   "outputs": [
    {
     "data": {
      "text/plain": [
       "<AxesSubplot:xlabel='Income', ylabel='Age'>"
      ]
     },
     "execution_count": 77,
     "metadata": {},
     "output_type": "execute_result"
    },
    {
     "data": {
      "image/png": "[encoded data removed]",
      "text/plain": [
       "<Figure size 360x360 with 1 Axes>"
      ]
     },
     "metadata": {
      "needs_background": "light"
     },
     "output_type": "display_data"
    }
   ],
   "source": [
    "plot = plt.figure(figsize = (5,5))\n",
    "sns.scatterplot(x = 'Income', y = 'Age', data = census_data )"
   ]
  },
  {
   "cell_type": "code",
   "execution_count": 1,
   "id": "9d081ce7",
   "metadata": {},
   "outputs": [],
   "source": [
    "# Observation: Here we can see that as the \"age\" increases there is increase in the \"Income\" and also we can see that there is \n",
    "# high density at the age 80-90 in the income <=50k and at which the income is less at that agein >50k."
   ]
  },
  {
   "cell_type": "markdown",
   "id": "2f2c5694",
   "metadata": {},
   "source": [
    "# Workclass:"
   ]
  },
  {
   "cell_type": "code",
   "execution_count": 78,
   "id": "4c5b60fa",
   "metadata": {},
   "outputs": [
    {
     "data": {
      "text/plain": [
       "<AxesSubplot:xlabel='Income', ylabel='Workclass'>"
      ]
     },
     "execution_count": 78,
     "metadata": {},
     "output_type": "execute_result"
    },
    {
     "data": {
      "image/png": "[encoded data removed]",
      "text/plain": [
       "<Figure size 360x360 with 1 Axes>"
      ]
     },
     "metadata": {
      "needs_background": "light"
     },
     "output_type": "display_data"
    }
   ],
   "source": [
    "plot = plt.figure(figsize = (5,5))\n",
    "sns.scatterplot(x = 'Income', y = 'Workclass', data = census_data )"
   ]
  },
  {
   "cell_type": "code",
   "execution_count": 2,
   "id": "8cfc8645",
   "metadata": {},
   "outputs": [],
   "source": [
    "# Observation: Here we can see that as there is change in \"Workclass\" categories there is change in the \"income\" in both of the\n",
    "# categories <=50k and >50k and also it is understood that there is no income in the category \"without pay\" in the income >50k."
   ]
  },
  {
   "cell_type": "code",
   "execution_count": 79,
   "id": "b350008c",
   "metadata": {},
   "outputs": [
    {
     "data": {
      "text/plain": [
       "<AxesSubplot:xlabel='Income', ylabel='Fnlwgt'>"
      ]
     },
     "execution_count": 79,
     "metadata": {},
     "output_type": "execute_result"
    },
    {
     "data": {
      "image/png": "[encoded data removed]",
      "text/plain": [
       "<Figure size 360x360 with 1 Axes>"
      ]
     },
     "metadata": {
      "needs_background": "light"
     },
     "output_type": "display_data"
    }
   ],
   "source": [
    "plot = plt.figure(figsize = (5,5))\n",
    "sns.scatterplot(x = 'Income', y = 'Fnlwgt', data = census_data )"
   ]
  },
  {
   "cell_type": "code",
   "execution_count": 3,
   "id": "6b2f0ec3",
   "metadata": {},
   "outputs": [],
   "source": [
    "# Observation: Here we can see that as there is increase in the \"fnlwgt\"then there is increase in the category <=50k in income \n",
    "# but the category 50k has no density at the fnlwgt between 0.8 - 1.4 ."
   ]
  },
  {
   "cell_type": "code",
   "execution_count": 80,
   "id": "9a448d42",
   "metadata": {},
   "outputs": [
    {
     "data": {
      "text/plain": [
       "<AxesSubplot:xlabel='Income', ylabel='Education'>"
      ]
     },
     "execution_count": 80,
     "metadata": {},
     "output_type": "execute_result"
    },
    {
     "data": {
      "image/png": "[encoded data removed]",
      "text/plain": [
       "<Figure size 360x360 with 1 Axes>"
      ]
     },
     "metadata": {
      "needs_background": "light"
     },
     "output_type": "display_data"
    }
   ],
   "source": [
    "plot = plt.figure(figsize = (5,5))\n",
    "sns.scatterplot(x = 'Income', y = 'Education', data = census_data )"
   ]
  },
  {
   "cell_type": "code",
   "execution_count": 4,
   "id": "7e460587",
   "metadata": {},
   "outputs": [],
   "source": [
    "# Observation: As the \"Education\" increases then we can see that there is change in different categories and \"income\" also changes\n",
    "# and instead increases."
   ]
  },
  {
   "cell_type": "code",
   "execution_count": 81,
   "id": "dbcddc12",
   "metadata": {},
   "outputs": [
    {
     "data": {
      "text/plain": [
       "<AxesSubplot:xlabel='Income', ylabel='Education_num'>"
      ]
     },
     "execution_count": 81,
     "metadata": {},
     "output_type": "execute_result"
    },
    {
     "data": {
      "image/png": "[encoded data removed]",
      "text/plain": [
       "<Figure size 360x360 with 1 Axes>"
      ]
     },
     "metadata": {
      "needs_background": "light"
     },
     "output_type": "display_data"
    }
   ],
   "source": [
    "plot = plt.figure(figsize = (5,5))\n",
    "sns.scatterplot(x = 'Income', y = 'Education_num', data = census_data )"
   ]
  },
  {
   "cell_type": "code",
   "execution_count": 5,
   "id": "41e1af57",
   "metadata": {},
   "outputs": [],
   "source": [
    "# Observation: Here we can see that as there is change or increase in the category in \"Educational_num\" then there is individual\n",
    "# difference in the <=50k,>50k."
   ]
  },
  {
   "cell_type": "code",
   "execution_count": 82,
   "id": "2ecdb7a8",
   "metadata": {},
   "outputs": [
    {
     "data": {
      "text/plain": [
       "Index(['Age', 'Workclass', 'Fnlwgt', 'Education', 'Education_num',\n",
       "       'Marital_status', 'Occupation', 'Relationship', 'Race', 'Sex',\n",
       "       'Capital_gain', 'Capital_loss', 'Hours_per_week', 'Native_country',\n",
       "       'Income'],\n",
       "      dtype='object')"
      ]
     },
     "execution_count": 82,
     "metadata": {},
     "output_type": "execute_result"
    }
   ],
   "source": [
    "census_data.columns"
   ]
  },
  {
   "cell_type": "code",
   "execution_count": 83,
   "id": "41f69385",
   "metadata": {},
   "outputs": [
    {
     "data": {
      "text/plain": [
       "<AxesSubplot:xlabel='Income', ylabel='Marital_status'>"
      ]
     },
     "execution_count": 83,
     "metadata": {},
     "output_type": "execute_result"
    },
    {
     "data": {
      "image/png": "[encoded data removed]",
      "text/plain": [
       "<Figure size 360x360 with 1 Axes>"
      ]
     },
     "metadata": {
      "needs_background": "light"
     },
     "output_type": "display_data"
    }
   ],
   "source": [
    "plot = plt.figure(figsize = (5,5))\n",
    "sns.scatterplot(x = 'Income', y = 'Marital_status', data = census_data )"
   ]
  },
  {
   "cell_type": "code",
   "execution_count": 1,
   "id": "acd97d5b",
   "metadata": {},
   "outputs": [],
   "source": [
    "# Observation: Here we can see that the categories are with different distributions in the categories of the \"Income\"."
   ]
  },
  {
   "cell_type": "code",
   "execution_count": 84,
   "id": "2286fa78",
   "metadata": {},
   "outputs": [
    {
     "data": {
      "text/plain": [
       "<AxesSubplot:xlabel='Income', ylabel='Occupation'>"
      ]
     },
     "execution_count": 84,
     "metadata": {},
     "output_type": "execute_result"
    },
    {
     "data": {
      "image/png": "[encoded data removed]",
      "text/plain": [
       "<Figure size 360x360 with 1 Axes>"
      ]
     },
     "metadata": {
      "needs_background": "light"
     },
     "output_type": "display_data"
    }
   ],
   "source": [
    "plot = plt.figure(figsize = (5,5))\n",
    "sns.scatterplot(x = 'Income', y = 'Occupation', data = census_data )"
   ]
  },
  {
   "cell_type": "code",
   "execution_count": 2,
   "id": "e6efeec4",
   "metadata": {},
   "outputs": [],
   "source": [
    "# Observation: Here we can see that the different categories of the column \"Occupation\" are with almost same distributions in both\n",
    "# the categories of the column \"Income\"."
   ]
  },
  {
   "cell_type": "code",
   "execution_count": 85,
   "id": "30cf72e0",
   "metadata": {},
   "outputs": [
    {
     "data": {
      "text/plain": [
       "<AxesSubplot:xlabel='Income', ylabel='Relationship'>"
      ]
     },
     "execution_count": 85,
     "metadata": {},
     "output_type": "execute_result"
    },
    {
     "data": {
      "image/png": "[encoded data removed]",
      "text/plain": [
       "<Figure size 360x360 with 1 Axes>"
      ]
     },
     "metadata": {
      "needs_background": "light"
     },
     "output_type": "display_data"
    }
   ],
   "source": [
    "plot = plt.figure(figsize = (5,5))\n",
    "sns.scatterplot(x = 'Income', y = 'Relationship', data = census_data )"
   ]
  },
  {
   "cell_type": "code",
   "execution_count": 3,
   "id": "e5a53a8d",
   "metadata": {},
   "outputs": [],
   "source": [
    "# Observation: Here we can see that the different categories of the column \"Relationship\" are with almost same distributions in both\n",
    "# the categories of the column \"Income\"."
   ]
  },
  {
   "cell_type": "code",
   "execution_count": 86,
   "id": "71892845",
   "metadata": {},
   "outputs": [
    {
     "data": {
      "text/plain": [
       "<AxesSubplot:xlabel='Income', ylabel='Race'>"
      ]
     },
     "execution_count": 86,
     "metadata": {},
     "output_type": "execute_result"
    },
    {
     "data": {
      "image/png": "[encoded data removed]",
      "text/plain": [
       "<Figure size 360x360 with 1 Axes>"
      ]
     },
     "metadata": {
      "needs_background": "light"
     },
     "output_type": "display_data"
    }
   ],
   "source": [
    "plot = plt.figure(figsize = (5,5))\n",
    "sns.scatterplot(x = 'Income', y = 'Race', data = census_data )"
   ]
  },
  {
   "cell_type": "code",
   "execution_count": 4,
   "id": "139ab148",
   "metadata": {},
   "outputs": [],
   "source": [
    "# Observation: Here we can see that the different categories of the column \"Race\" are with almost same distributions in both\n",
    "# the categories of the column \"Income\"."
   ]
  },
  {
   "cell_type": "code",
   "execution_count": 87,
   "id": "1e3b0a1f",
   "metadata": {},
   "outputs": [
    {
     "data": {
      "text/plain": [
       "<AxesSubplot:xlabel='Income', ylabel='Sex'>"
      ]
     },
     "execution_count": 87,
     "metadata": {},
     "output_type": "execute_result"
    },
    {
     "data": {
      "image/png": "[encoded data removed]",
      "text/plain": [
       "<Figure size 360x360 with 1 Axes>"
      ]
     },
     "metadata": {
      "needs_background": "light"
     },
     "output_type": "display_data"
    }
   ],
   "source": [
    "plot = plt.figure(figsize = (5,5))\n",
    "sns.scatterplot(x = 'Income', y = 'Sex', data = census_data )"
   ]
  },
  {
   "cell_type": "code",
   "execution_count": 5,
   "id": "42615c34",
   "metadata": {},
   "outputs": [],
   "source": [
    "# Observation: Here we can see that there is no proper distribution in the categories of the column \"Income\" when with column \"Sex\"."
   ]
  },
  {
   "cell_type": "code",
   "execution_count": 88,
   "id": "d3efa498",
   "metadata": {},
   "outputs": [
    {
     "data": {
      "text/plain": [
       "<AxesSubplot:xlabel='Income', ylabel='Capital_gain'>"
      ]
     },
     "execution_count": 88,
     "metadata": {},
     "output_type": "execute_result"
    },
    {
     "data": {
      "image/png": "[encoded data removed]",
      "text/plain": [
       "<Figure size 360x360 with 1 Axes>"
      ]
     },
     "metadata": {
      "needs_background": "light"
     },
     "output_type": "display_data"
    }
   ],
   "source": [
    "plot = plt.figure(figsize = (5,5))\n",
    "sns.scatterplot(x = 'Income', y = 'Capital_gain', data = census_data )"
   ]
  },
  {
   "cell_type": "code",
   "execution_count": 9,
   "id": "ea7689b1",
   "metadata": {},
   "outputs": [],
   "source": [
    "# Observation: Here we can see that the density is in the lower side of the category >50k when compared to the category <=50k of the column \"Income\"."
   ]
  },
  {
   "cell_type": "code",
   "execution_count": 89,
   "id": "8ce7212b",
   "metadata": {},
   "outputs": [
    {
     "data": {
      "text/plain": [
       "<AxesSubplot:xlabel='Income', ylabel='Capital_loss'>"
      ]
     },
     "execution_count": 89,
     "metadata": {},
     "output_type": "execute_result"
    },
    {
     "data": {
      "image/png": "[encoded data removed]",
      "text/plain": [
       "<Figure size 360x360 with 1 Axes>"
      ]
     },
     "metadata": {
      "needs_background": "light"
     },
     "output_type": "display_data"
    }
   ],
   "source": [
    "plot = plt.figure(figsize = (5,5))\n",
    "sns.scatterplot(x = 'Income', y = 'Capital_loss', data = census_data )"
   ]
  },
  {
   "cell_type": "code",
   "execution_count": 8,
   "id": "1987a7e0",
   "metadata": {},
   "outputs": [],
   "source": [
    "# Observation: Here we can see that the highest distribution is in the category <=50k when compared to the category >50k of the column \"Income\"."
   ]
  },
  {
   "cell_type": "code",
   "execution_count": 90,
   "id": "34bc266a",
   "metadata": {},
   "outputs": [
    {
     "data": {
      "text/plain": [
       "<AxesSubplot:xlabel='Income', ylabel='Hours_per_week'>"
      ]
     },
     "execution_count": 90,
     "metadata": {},
     "output_type": "execute_result"
    },
    {
     "data": {
      "image/png": "[encoded data removed]",
      "text/plain": [
       "<Figure size 360x360 with 1 Axes>"
      ]
     },
     "metadata": {
      "needs_background": "light"
     },
     "output_type": "display_data"
    }
   ],
   "source": [
    "plot = plt.figure(figsize = (5,5))\n",
    "sns.scatterplot(x = 'Income', y = 'Hours_per_week', data = census_data )"
   ]
  },
  {
   "cell_type": "code",
   "execution_count": 7,
   "id": "06d8cb94",
   "metadata": {},
   "outputs": [],
   "source": [
    "# Observation: Here we can see that the highest distribution is in the category <=50k when compared to the category >50k of the column \"Income\"."
   ]
  },
  {
   "cell_type": "code",
   "execution_count": 91,
   "id": "f9ce8b98",
   "metadata": {
    "scrolled": true
   },
   "outputs": [
    {
     "data": {
      "text/plain": [
       "<AxesSubplot:xlabel='Income', ylabel='Native_country'>"
      ]
     },
     "execution_count": 91,
     "metadata": {},
     "output_type": "execute_result"
    },
    {
     "data": {
      "image/png": "[encoded data removed]",
      "text/plain": [
       "<Figure size 720x1080 with 1 Axes>"
      ]
     },
     "metadata": {
      "needs_background": "light"
     },
     "output_type": "display_data"
    }
   ],
   "source": [
    "plot = plt.figure(figsize = (10,15))\n",
    "sns.scatterplot(x = 'Income', y = 'Native_country', data = census_data )"
   ]
  },
  {
   "cell_type": "code",
   "execution_count": 6,
   "id": "ca83d6a5",
   "metadata": {},
   "outputs": [],
   "source": [
    "# Observation: Here we can see that there are equal distributions in all the categories of both column."
   ]
  },
  {
   "cell_type": "markdown",
   "id": "a77fa19d",
   "metadata": {},
   "source": [
    "# Multivariate Analysis:"
   ]
  },
  {
   "cell_type": "markdown",
   "id": "cf987b8b",
   "metadata": {},
   "source": [
    "## Correlation:"
   ]
  },
  {
   "cell_type": "markdown",
   "id": "6dc6e9f3",
   "metadata": {},
   "source": [
    "## Finding the correlation between the variables:"
   ]
  },
  {
   "cell_type": "code",
   "execution_count": 92,
   "id": "f20ac2a7",
   "metadata": {},
   "outputs": [],
   "source": [
    "corr_data = census_data.corr()"
   ]
  },
  {
   "cell_type": "code",
   "execution_count": 93,
   "id": "66edacc9",
   "metadata": {},
   "outputs": [
    {
     "data": {
      "image/png": "[encoded data removed]",
      "text/plain": [
       "<Figure size 2880x1800 with 2 Axes>"
      ]
     },
     "metadata": {
      "needs_background": "light"
     },
     "output_type": "display_data"
    }
   ],
   "source": [
    "plt.figure(figsize =(40,25))\n",
    "sns.heatmap(corr_data,annot = True,fmt = \".0%\",cbar = True,square = True,annot_kws = {'size': 20}, cmap = 'Reds')\n",
    "plt.show()"
   ]
  },
  {
   "cell_type": "code",
   "execution_count": 94,
   "id": "fc7cdc1d",
   "metadata": {},
   "outputs": [],
   "source": [
    "# Observation: Here we can see that all these columns are with very low correlation with label and also with eachother."
   ]
  },
  {
   "cell_type": "markdown",
   "id": "a6320949",
   "metadata": {},
   "source": [
    "# Finding the value_counts in our label column:"
   ]
  },
  {
   "cell_type": "code",
   "execution_count": 95,
   "id": "e07e7c02",
   "metadata": {},
   "outputs": [],
   "source": [
    "Income_count = pd.DataFrame(census_data[\"Income\"].value_counts())"
   ]
  },
  {
   "cell_type": "code",
   "execution_count": 96,
   "id": "7f5618fb",
   "metadata": {},
   "outputs": [
    {
     "data": {
      "text/html": [
       "<div>\n",
       "<style scoped>\n",
       "    .dataframe tbody tr th:only-of-type {\n",
       "        vertical-align: middle;\n",
       "    }\n",
       "\n",
       "    .dataframe tbody tr th {\n",
       "        vertical-align: top;\n",
       "    }\n",
       "\n",
       "    .dataframe thead th {\n",
       "        text-align: right;\n",
       "    }\n",
       "</style>\n",
       "<table border=\"1\" class=\"dataframe\">\n",
       "  <thead>\n",
       "    <tr style=\"text-align: right;\">\n",
       "      <th></th>\n",
       "      <th>Income</th>\n",
       "    </tr>\n",
       "  </thead>\n",
       "  <tbody>\n",
       "    <tr>\n",
       "      <th>&lt;=50K</th>\n",
       "      <td>22632</td>\n",
       "    </tr>\n",
       "    <tr>\n",
       "      <th>&gt;50K</th>\n",
       "      <td>7506</td>\n",
       "    </tr>\n",
       "  </tbody>\n",
       "</table>\n",
       "</div>"
      ],
      "text/plain": [
       "        Income\n",
       " <=50K   22632\n",
       " >50K     7506"
      ]
     },
     "execution_count": 96,
     "metadata": {},
     "output_type": "execute_result"
    }
   ],
   "source": [
    "Income_count"
   ]
  },
  {
   "cell_type": "markdown",
   "id": "d4bec978",
   "metadata": {},
   "source": [
    "# Transforming the data:"
   ]
  },
  {
   "cell_type": "markdown",
   "id": "ec614e3e",
   "metadata": {},
   "source": [
    "## Transforming the non-numerical columns into numerical:"
   ]
  },
  {
   "cell_type": "code",
   "execution_count": 97,
   "id": "fe13016a",
   "metadata": {},
   "outputs": [],
   "source": [
    "from sklearn.preprocessing import LabelEncoder"
   ]
  },
  {
   "cell_type": "code",
   "execution_count": 98,
   "id": "b0dd6800",
   "metadata": {},
   "outputs": [],
   "source": [
    "# Inspite of mentioning each and every which has strings we user \"forloop\" here as the data seems to be big."
   ]
  },
  {
   "cell_type": "code",
   "execution_count": 99,
   "id": "05dc141c",
   "metadata": {},
   "outputs": [],
   "source": [
    "for column in census_data.columns:\n",
    "    if census_data[column].dtype == np.number:\n",
    "        continue\n",
    "    census_data[column] = LabelEncoder().fit_transform(census_data[column])\n",
    "        "
   ]
  },
  {
   "cell_type": "code",
   "execution_count": 100,
   "id": "78686449",
   "metadata": {
    "scrolled": true
   },
   "outputs": [
    {
     "data": {
      "text/html": [
       "<div>\n",
       "<style scoped>\n",
       "    .dataframe tbody tr th:only-of-type {\n",
       "        vertical-align: middle;\n",
       "    }\n",
       "\n",
       "    .dataframe tbody tr th {\n",
       "        vertical-align: top;\n",
       "    }\n",
       "\n",
       "    .dataframe thead th {\n",
       "        text-align: right;\n",
       "    }\n",
       "</style>\n",
       "<table border=\"1\" class=\"dataframe\">\n",
       "  <thead>\n",
       "    <tr style=\"text-align: right;\">\n",
       "      <th></th>\n",
       "      <th>Age</th>\n",
       "      <th>Workclass</th>\n",
       "      <th>Fnlwgt</th>\n",
       "      <th>Education</th>\n",
       "      <th>Education_num</th>\n",
       "      <th>Marital_status</th>\n",
       "      <th>Occupation</th>\n",
       "      <th>Relationship</th>\n",
       "      <th>Race</th>\n",
       "      <th>Sex</th>\n",
       "      <th>Capital_gain</th>\n",
       "      <th>Capital_loss</th>\n",
       "      <th>Hours_per_week</th>\n",
       "      <th>Native_country</th>\n",
       "      <th>Income</th>\n",
       "    </tr>\n",
       "  </thead>\n",
       "  <tbody>\n",
       "    <tr>\n",
       "      <th>0</th>\n",
       "      <td>33</td>\n",
       "      <td>4</td>\n",
       "      <td>2726</td>\n",
       "      <td>9</td>\n",
       "      <td>12</td>\n",
       "      <td>2</td>\n",
       "      <td>3</td>\n",
       "      <td>0</td>\n",
       "      <td>4</td>\n",
       "      <td>1</td>\n",
       "      <td>0</td>\n",
       "      <td>0</td>\n",
       "      <td>12</td>\n",
       "      <td>38</td>\n",
       "      <td>0</td>\n",
       "    </tr>\n",
       "    <tr>\n",
       "      <th>1</th>\n",
       "      <td>21</td>\n",
       "      <td>2</td>\n",
       "      <td>13187</td>\n",
       "      <td>11</td>\n",
       "      <td>8</td>\n",
       "      <td>0</td>\n",
       "      <td>5</td>\n",
       "      <td>1</td>\n",
       "      <td>4</td>\n",
       "      <td>1</td>\n",
       "      <td>0</td>\n",
       "      <td>0</td>\n",
       "      <td>39</td>\n",
       "      <td>38</td>\n",
       "      <td>0</td>\n",
       "    </tr>\n",
       "    <tr>\n",
       "      <th>2</th>\n",
       "      <td>36</td>\n",
       "      <td>2</td>\n",
       "      <td>14353</td>\n",
       "      <td>1</td>\n",
       "      <td>6</td>\n",
       "      <td>2</td>\n",
       "      <td>5</td>\n",
       "      <td>0</td>\n",
       "      <td>2</td>\n",
       "      <td>1</td>\n",
       "      <td>0</td>\n",
       "      <td>0</td>\n",
       "      <td>39</td>\n",
       "      <td>38</td>\n",
       "      <td>0</td>\n",
       "    </tr>\n",
       "    <tr>\n",
       "      <th>3</th>\n",
       "      <td>11</td>\n",
       "      <td>2</td>\n",
       "      <td>18119</td>\n",
       "      <td>9</td>\n",
       "      <td>12</td>\n",
       "      <td>2</td>\n",
       "      <td>9</td>\n",
       "      <td>5</td>\n",
       "      <td>2</td>\n",
       "      <td>0</td>\n",
       "      <td>0</td>\n",
       "      <td>0</td>\n",
       "      <td>39</td>\n",
       "      <td>4</td>\n",
       "      <td>0</td>\n",
       "    </tr>\n",
       "    <tr>\n",
       "      <th>4</th>\n",
       "      <td>20</td>\n",
       "      <td>2</td>\n",
       "      <td>16566</td>\n",
       "      <td>12</td>\n",
       "      <td>13</td>\n",
       "      <td>2</td>\n",
       "      <td>3</td>\n",
       "      <td>5</td>\n",
       "      <td>4</td>\n",
       "      <td>0</td>\n",
       "      <td>0</td>\n",
       "      <td>0</td>\n",
       "      <td>39</td>\n",
       "      <td>38</td>\n",
       "      <td>0</td>\n",
       "    </tr>\n",
       "    <tr>\n",
       "      <th>...</th>\n",
       "      <td>...</td>\n",
       "      <td>...</td>\n",
       "      <td>...</td>\n",
       "      <td>...</td>\n",
       "      <td>...</td>\n",
       "      <td>...</td>\n",
       "      <td>...</td>\n",
       "      <td>...</td>\n",
       "      <td>...</td>\n",
       "      <td>...</td>\n",
       "      <td>...</td>\n",
       "      <td>...</td>\n",
       "      <td>...</td>\n",
       "      <td>...</td>\n",
       "      <td>...</td>\n",
       "    </tr>\n",
       "    <tr>\n",
       "      <th>32555</th>\n",
       "      <td>10</td>\n",
       "      <td>2</td>\n",
       "      <td>15470</td>\n",
       "      <td>7</td>\n",
       "      <td>11</td>\n",
       "      <td>2</td>\n",
       "      <td>12</td>\n",
       "      <td>5</td>\n",
       "      <td>4</td>\n",
       "      <td>0</td>\n",
       "      <td>0</td>\n",
       "      <td>0</td>\n",
       "      <td>37</td>\n",
       "      <td>38</td>\n",
       "      <td>0</td>\n",
       "    </tr>\n",
       "    <tr>\n",
       "      <th>32556</th>\n",
       "      <td>23</td>\n",
       "      <td>2</td>\n",
       "      <td>7554</td>\n",
       "      <td>11</td>\n",
       "      <td>8</td>\n",
       "      <td>2</td>\n",
       "      <td>6</td>\n",
       "      <td>0</td>\n",
       "      <td>4</td>\n",
       "      <td>1</td>\n",
       "      <td>0</td>\n",
       "      <td>0</td>\n",
       "      <td>39</td>\n",
       "      <td>38</td>\n",
       "      <td>1</td>\n",
       "    </tr>\n",
       "    <tr>\n",
       "      <th>32557</th>\n",
       "      <td>41</td>\n",
       "      <td>2</td>\n",
       "      <td>7376</td>\n",
       "      <td>11</td>\n",
       "      <td>8</td>\n",
       "      <td>6</td>\n",
       "      <td>0</td>\n",
       "      <td>4</td>\n",
       "      <td>4</td>\n",
       "      <td>0</td>\n",
       "      <td>0</td>\n",
       "      <td>0</td>\n",
       "      <td>39</td>\n",
       "      <td>38</td>\n",
       "      <td>0</td>\n",
       "    </tr>\n",
       "    <tr>\n",
       "      <th>32558</th>\n",
       "      <td>5</td>\n",
       "      <td>2</td>\n",
       "      <td>12059</td>\n",
       "      <td>11</td>\n",
       "      <td>8</td>\n",
       "      <td>4</td>\n",
       "      <td>0</td>\n",
       "      <td>3</td>\n",
       "      <td>4</td>\n",
       "      <td>1</td>\n",
       "      <td>0</td>\n",
       "      <td>0</td>\n",
       "      <td>19</td>\n",
       "      <td>38</td>\n",
       "      <td>0</td>\n",
       "    </tr>\n",
       "    <tr>\n",
       "      <th>32559</th>\n",
       "      <td>35</td>\n",
       "      <td>3</td>\n",
       "      <td>16688</td>\n",
       "      <td>11</td>\n",
       "      <td>8</td>\n",
       "      <td>2</td>\n",
       "      <td>3</td>\n",
       "      <td>5</td>\n",
       "      <td>4</td>\n",
       "      <td>0</td>\n",
       "      <td>107</td>\n",
       "      <td>0</td>\n",
       "      <td>39</td>\n",
       "      <td>38</td>\n",
       "      <td>1</td>\n",
       "    </tr>\n",
       "  </tbody>\n",
       "</table>\n",
       "<p>30138 rows × 15 columns</p>\n",
       "</div>"
      ],
      "text/plain": [
       "       Age  Workclass  Fnlwgt  Education  Education_num  Marital_status  \\\n",
       "0       33          4    2726          9             12               2   \n",
       "1       21          2   13187         11              8               0   \n",
       "2       36          2   14353          1              6               2   \n",
       "3       11          2   18119          9             12               2   \n",
       "4       20          2   16566         12             13               2   \n",
       "...    ...        ...     ...        ...            ...             ...   \n",
       "32555   10          2   15470          7             11               2   \n",
       "32556   23          2    7554         11              8               2   \n",
       "32557   41          2    7376         11              8               6   \n",
       "32558    5          2   12059         11              8               4   \n",
       "32559   35          3   16688         11              8               2   \n",
       "\n",
       "       Occupation  Relationship  Race  Sex  Capital_gain  Capital_loss  \\\n",
       "0               3             0     4    1             0             0   \n",
       "1               5             1     4    1             0             0   \n",
       "2               5             0     2    1             0             0   \n",
       "3               9             5     2    0             0             0   \n",
       "4               3             5     4    0             0             0   \n",
       "...           ...           ...   ...  ...           ...           ...   \n",
       "32555          12             5     4    0             0             0   \n",
       "32556           6             0     4    1             0             0   \n",
       "32557           0             4     4    0             0             0   \n",
       "32558           0             3     4    1             0             0   \n",
       "32559           3             5     4    0           107             0   \n",
       "\n",
       "       Hours_per_week  Native_country  Income  \n",
       "0                  12              38       0  \n",
       "1                  39              38       0  \n",
       "2                  39              38       0  \n",
       "3                  39               4       0  \n",
       "4                  39              38       0  \n",
       "...               ...             ...     ...  \n",
       "32555              37              38       0  \n",
       "32556              39              38       1  \n",
       "32557              39              38       0  \n",
       "32558              19              38       0  \n",
       "32559              39              38       1  \n",
       "\n",
       "[30138 rows x 15 columns]"
      ]
     },
     "execution_count": 100,
     "metadata": {},
     "output_type": "execute_result"
    }
   ],
   "source": [
    "census_data"
   ]
  },
  {
   "cell_type": "markdown",
   "id": "26ec223e",
   "metadata": {},
   "source": [
    "# Checking the Outliers:"
   ]
  },
  {
   "cell_type": "code",
   "execution_count": 101,
   "id": "9a4c1b03",
   "metadata": {},
   "outputs": [
    {
     "data": {
      "image/png": "[encoded data removed]",
      "text/plain": [
       "<Figure size 2304x11520 with 15 Axes>"
      ]
     },
     "metadata": {
      "needs_background": "light"
     },
     "output_type": "display_data"
    }
   ],
   "source": [
    "col_list = census_data.columns.values\n",
    "ncol = 32\n",
    "nrows = 12\n",
    "plt.figure(figsize = (ncol,5*ncol))\n",
    "for i in range (0, len(col_list)):\n",
    "    plt.subplot(nrows,ncol,i+1)\n",
    "    sns.boxplot(data = census_data[col_list[i]],color = 'green', orient = 'v')\n",
    "    plt.tight_layout()"
   ]
  },
  {
   "cell_type": "code",
   "execution_count": 102,
   "id": "4668a8c5",
   "metadata": {},
   "outputs": [],
   "source": [
    "# Observation: Here we can see that there are few columns with many number of outliers and mostly the columns \"Native_country\",\n",
    "# \"Hours_per_week\", \"Capital_loss\", \"Capital_gain\" are with many number of outliers and of them the column \"Hours_per_week\" has\n",
    "# outliers on both sides."
   ]
  },
  {
   "cell_type": "markdown",
   "id": "8714f495",
   "metadata": {},
   "source": [
    "# Treating/Removing the outliers:"
   ]
  },
  {
   "cell_type": "code",
   "execution_count": 103,
   "id": "4aa1304d",
   "metadata": {},
   "outputs": [
    {
     "data": {
      "text/plain": [
       "(30138, 15)"
      ]
     },
     "execution_count": 103,
     "metadata": {},
     "output_type": "execute_result"
    }
   ],
   "source": [
    "from scipy.stats import zscore\n",
    "z = np.abs(zscore(census_data))\n",
    "z.shape"
   ]
  },
  {
   "cell_type": "code",
   "execution_count": 104,
   "id": "e36710b2",
   "metadata": {},
   "outputs": [
    {
     "name": "stdout",
     "output_type": "stream",
     "text": [
      "(array([    3,     7,     8, ..., 30128, 30130, 30137], dtype=int64), array([13, 10, 10, ...,  8,  8, 10], dtype=int64))\n"
     ]
    }
   ],
   "source": [
    "threshold = 3\n",
    "print(np.where(z>3))"
   ]
  },
  {
   "cell_type": "code",
   "execution_count": 105,
   "id": "40798275",
   "metadata": {},
   "outputs": [
    {
     "name": "stdout",
     "output_type": "stream",
     "text": [
      "(30138, 15)\n",
      "(25095, 15)\n"
     ]
    }
   ],
   "source": [
    "census_data_new = census_data[(z<3).all(axis = 1)]\n",
    "print(census_data.shape)\n",
    "print(census_data_new.shape)"
   ]
  },
  {
   "cell_type": "code",
   "execution_count": 106,
   "id": "2f3dba8a",
   "metadata": {},
   "outputs": [],
   "source": [
    "# Observation: Here we can see that the number of records reduced which indicates that we have succeeded in the reduction of the\n",
    "# outliers and thus we can proceed with our model."
   ]
  },
  {
   "cell_type": "markdown",
   "id": "02154b9e",
   "metadata": {},
   "source": [
    "# loss percentage calculation:"
   ]
  },
  {
   "cell_type": "code",
   "execution_count": 107,
   "id": "336b59bd",
   "metadata": {},
   "outputs": [
    {
     "name": "stdout",
     "output_type": "stream",
     "text": [
      "16.733028070873978\n"
     ]
    }
   ],
   "source": [
    "loss_percent = (30138-25095)/30138*100\n",
    "print(loss_percent)"
   ]
  },
  {
   "cell_type": "markdown",
   "id": "28ca21a2",
   "metadata": {},
   "source": [
    "# Checking the Skewness:"
   ]
  },
  {
   "cell_type": "code",
   "execution_count": 108,
   "id": "efa14581",
   "metadata": {},
   "outputs": [
    {
     "data": {
      "text/plain": [
       "Age               0.470686\n",
       "Workclass         1.209196\n",
       "Fnlwgt            0.043663\n",
       "Education        -0.964003\n",
       "Education_num    -0.140265\n",
       "Marital_status   -0.077640\n",
       "Occupation        0.126800\n",
       "Relationship      0.751909\n",
       "Race             -2.574446\n",
       "Sex              -0.688212\n",
       "Capital_gain      5.829795\n",
       "Capital_loss      9.788317\n",
       "Hours_per_week   -0.284461\n",
       "Native_country   -5.212713\n",
       "Income            1.520476\n",
       "dtype: float64"
      ]
     },
     "execution_count": 108,
     "metadata": {},
     "output_type": "execute_result"
    }
   ],
   "source": [
    "census_data_new.skew()"
   ]
  },
  {
   "cell_type": "code",
   "execution_count": 109,
   "id": "a67fa90d",
   "metadata": {},
   "outputs": [],
   "source": [
    "# Observation: Here we can see that the there are columns with extreme skewness either it is negative skewness or positive skewness\n",
    "# and alowest skewness is for the column \"Native_country\" and the highest is for the column \"Capital_loss\"."
   ]
  },
  {
   "cell_type": "markdown",
   "id": "7c09cfd5",
   "metadata": {},
   "source": [
    "# Removing the skewness:"
   ]
  },
  {
   "cell_type": "code",
   "execution_count": 110,
   "id": "6bb5c275",
   "metadata": {},
   "outputs": [],
   "source": [
    "features = [\"Native_country\",\"Capital_loss\",\"Capital_gain\",\"Workclass\",\"Race\"]"
   ]
  },
  {
   "cell_type": "code",
   "execution_count": 111,
   "id": "7089ef9a",
   "metadata": {},
   "outputs": [
    {
     "data": {
      "text/plain": [
       "\"\\nparameters:\\nmethod = 'box-cox' or 'yeo-johnson'\\n\""
      ]
     },
     "execution_count": 111,
     "metadata": {},
     "output_type": "execute_result"
    }
   ],
   "source": [
    "from sklearn.preprocessing import PowerTransformer\n",
    "scaler = PowerTransformer(method='yeo-johnson')\n",
    "'''\n",
    "parameters:\n",
    "method = 'box-cox' or 'yeo-johnson'\n",
    "'''"
   ]
  },
  {
   "cell_type": "code",
   "execution_count": 112,
   "id": "fff18901",
   "metadata": {},
   "outputs": [
    {
     "data": {
      "text/html": [
       "<div>\n",
       "<style scoped>\n",
       "    .dataframe tbody tr th:only-of-type {\n",
       "        vertical-align: middle;\n",
       "    }\n",
       "\n",
       "    .dataframe tbody tr th {\n",
       "        vertical-align: top;\n",
       "    }\n",
       "\n",
       "    .dataframe thead th {\n",
       "        text-align: right;\n",
       "    }\n",
       "</style>\n",
       "<table border=\"1\" class=\"dataframe\">\n",
       "  <thead>\n",
       "    <tr style=\"text-align: right;\">\n",
       "      <th></th>\n",
       "      <th>Native_country</th>\n",
       "      <th>Capital_loss</th>\n",
       "      <th>Capital_gain</th>\n",
       "      <th>Workclass</th>\n",
       "      <th>Race</th>\n",
       "    </tr>\n",
       "  </thead>\n",
       "  <tbody>\n",
       "    <tr>\n",
       "      <th>0</th>\n",
       "      <td>0.165979</td>\n",
       "      <td>-0.115789</td>\n",
       "      <td>-0.196724</td>\n",
       "      <td>1.799395</td>\n",
       "      <td>0.348802</td>\n",
       "    </tr>\n",
       "    <tr>\n",
       "      <th>1</th>\n",
       "      <td>0.165979</td>\n",
       "      <td>-0.115789</td>\n",
       "      <td>-0.196724</td>\n",
       "      <td>-0.118525</td>\n",
       "      <td>0.348802</td>\n",
       "    </tr>\n",
       "    <tr>\n",
       "      <th>2</th>\n",
       "      <td>0.165979</td>\n",
       "      <td>-0.115789</td>\n",
       "      <td>-0.196724</td>\n",
       "      <td>-0.118525</td>\n",
       "      <td>-2.870006</td>\n",
       "    </tr>\n",
       "    <tr>\n",
       "      <th>4</th>\n",
       "      <td>0.165979</td>\n",
       "      <td>-0.115789</td>\n",
       "      <td>-0.196724</td>\n",
       "      <td>-0.118525</td>\n",
       "      <td>0.348802</td>\n",
       "    </tr>\n",
       "    <tr>\n",
       "      <th>5</th>\n",
       "      <td>-4.325867</td>\n",
       "      <td>-0.115789</td>\n",
       "      <td>-0.196724</td>\n",
       "      <td>-0.118525</td>\n",
       "      <td>-2.870006</td>\n",
       "    </tr>\n",
       "    <tr>\n",
       "      <th>...</th>\n",
       "      <td>...</td>\n",
       "      <td>...</td>\n",
       "      <td>...</td>\n",
       "      <td>...</td>\n",
       "      <td>...</td>\n",
       "    </tr>\n",
       "    <tr>\n",
       "      <th>32554</th>\n",
       "      <td>0.165979</td>\n",
       "      <td>-0.115789</td>\n",
       "      <td>-0.196724</td>\n",
       "      <td>-0.118525</td>\n",
       "      <td>0.348802</td>\n",
       "    </tr>\n",
       "    <tr>\n",
       "      <th>32555</th>\n",
       "      <td>0.165979</td>\n",
       "      <td>-0.115789</td>\n",
       "      <td>-0.196724</td>\n",
       "      <td>-0.118525</td>\n",
       "      <td>0.348802</td>\n",
       "    </tr>\n",
       "    <tr>\n",
       "      <th>32556</th>\n",
       "      <td>0.165979</td>\n",
       "      <td>-0.115789</td>\n",
       "      <td>-0.196724</td>\n",
       "      <td>-0.118525</td>\n",
       "      <td>0.348802</td>\n",
       "    </tr>\n",
       "    <tr>\n",
       "      <th>32557</th>\n",
       "      <td>0.165979</td>\n",
       "      <td>-0.115789</td>\n",
       "      <td>-0.196724</td>\n",
       "      <td>-0.118525</td>\n",
       "      <td>0.348802</td>\n",
       "    </tr>\n",
       "    <tr>\n",
       "      <th>32558</th>\n",
       "      <td>0.165979</td>\n",
       "      <td>-0.115789</td>\n",
       "      <td>-0.196724</td>\n",
       "      <td>-0.118525</td>\n",
       "      <td>0.348802</td>\n",
       "    </tr>\n",
       "  </tbody>\n",
       "</table>\n",
       "<p>25095 rows × 5 columns</p>\n",
       "</div>"
      ],
      "text/plain": [
       "       Native_country  Capital_loss  Capital_gain  Workclass      Race\n",
       "0            0.165979     -0.115789     -0.196724   1.799395  0.348802\n",
       "1            0.165979     -0.115789     -0.196724  -0.118525  0.348802\n",
       "2            0.165979     -0.115789     -0.196724  -0.118525 -2.870006\n",
       "4            0.165979     -0.115789     -0.196724  -0.118525  0.348802\n",
       "5           -4.325867     -0.115789     -0.196724  -0.118525 -2.870006\n",
       "...               ...           ...           ...        ...       ...\n",
       "32554        0.165979     -0.115789     -0.196724  -0.118525  0.348802\n",
       "32555        0.165979     -0.115789     -0.196724  -0.118525  0.348802\n",
       "32556        0.165979     -0.115789     -0.196724  -0.118525  0.348802\n",
       "32557        0.165979     -0.115789     -0.196724  -0.118525  0.348802\n",
       "32558        0.165979     -0.115789     -0.196724  -0.118525  0.348802\n",
       "\n",
       "[25095 rows x 5 columns]"
      ]
     },
     "execution_count": 112,
     "metadata": {},
     "output_type": "execute_result"
    }
   ],
   "source": [
    "census_data_new[features] = scaler.fit_transform(census_data_new[features].values)\n",
    "census_data_new[features]"
   ]
  },
  {
   "cell_type": "code",
   "execution_count": 113,
   "id": "d26a3830",
   "metadata": {},
   "outputs": [
    {
     "data": {
      "text/plain": [
       "Age               0.470686\n",
       "Workclass         0.123680\n",
       "Fnlwgt            0.043663\n",
       "Education        -0.964003\n",
       "Education_num    -0.140265\n",
       "Marital_status   -0.077640\n",
       "Occupation        0.126800\n",
       "Relationship      0.751909\n",
       "Race             -2.518358\n",
       "Sex              -0.688212\n",
       "Capital_gain      4.886834\n",
       "Capital_loss      8.521117\n",
       "Hours_per_week   -0.284461\n",
       "Native_country    1.404296\n",
       "Income            1.520476\n",
       "dtype: float64"
      ]
     },
     "execution_count": 113,
     "metadata": {},
     "output_type": "execute_result"
    }
   ],
   "source": [
    "census_data_new.skew()"
   ]
  },
  {
   "cell_type": "code",
   "execution_count": 114,
   "id": "783a61b2",
   "metadata": {},
   "outputs": [],
   "source": [
    "# Observation: Here we can see that there is change or we can say that reduce in the skewness of the data."
   ]
  },
  {
   "cell_type": "markdown",
   "id": "b768d801",
   "metadata": {},
   "source": [
    "# Data Preprocessing:"
   ]
  },
  {
   "cell_type": "markdown",
   "id": "58df5129",
   "metadata": {},
   "source": [
    "## Separating independent and the target variables:"
   ]
  },
  {
   "cell_type": "markdown",
   "id": "57e0c022",
   "metadata": {},
   "source": [
    "### train_test_split:"
   ]
  },
  {
   "cell_type": "code",
   "execution_count": 115,
   "id": "467ee091",
   "metadata": {},
   "outputs": [],
   "source": [
    "x = census_data_new.drop(\"Income\", axis=1)\n",
    "y = census_data_new[\"Income\"]"
   ]
  },
  {
   "cell_type": "code",
   "execution_count": 116,
   "id": "b12ae07e",
   "metadata": {},
   "outputs": [
    {
     "data": {
      "text/html": [
       "<div>\n",
       "<style scoped>\n",
       "    .dataframe tbody tr th:only-of-type {\n",
       "        vertical-align: middle;\n",
       "    }\n",
       "\n",
       "    .dataframe tbody tr th {\n",
       "        vertical-align: top;\n",
       "    }\n",
       "\n",
       "    .dataframe thead th {\n",
       "        text-align: right;\n",
       "    }\n",
       "</style>\n",
       "<table border=\"1\" class=\"dataframe\">\n",
       "  <thead>\n",
       "    <tr style=\"text-align: right;\">\n",
       "      <th></th>\n",
       "      <th>Age</th>\n",
       "      <th>Workclass</th>\n",
       "      <th>Fnlwgt</th>\n",
       "      <th>Education</th>\n",
       "      <th>Education_num</th>\n",
       "      <th>Marital_status</th>\n",
       "      <th>Occupation</th>\n",
       "      <th>Relationship</th>\n",
       "      <th>Race</th>\n",
       "      <th>Sex</th>\n",
       "      <th>Capital_gain</th>\n",
       "      <th>Capital_loss</th>\n",
       "      <th>Hours_per_week</th>\n",
       "      <th>Native_country</th>\n",
       "    </tr>\n",
       "  </thead>\n",
       "  <tbody>\n",
       "    <tr>\n",
       "      <th>0</th>\n",
       "      <td>33</td>\n",
       "      <td>1.799395</td>\n",
       "      <td>2726</td>\n",
       "      <td>9</td>\n",
       "      <td>12</td>\n",
       "      <td>2</td>\n",
       "      <td>3</td>\n",
       "      <td>0</td>\n",
       "      <td>0.348802</td>\n",
       "      <td>1</td>\n",
       "      <td>-0.196724</td>\n",
       "      <td>-0.115789</td>\n",
       "      <td>12</td>\n",
       "      <td>0.165979</td>\n",
       "    </tr>\n",
       "    <tr>\n",
       "      <th>1</th>\n",
       "      <td>21</td>\n",
       "      <td>-0.118525</td>\n",
       "      <td>13187</td>\n",
       "      <td>11</td>\n",
       "      <td>8</td>\n",
       "      <td>0</td>\n",
       "      <td>5</td>\n",
       "      <td>1</td>\n",
       "      <td>0.348802</td>\n",
       "      <td>1</td>\n",
       "      <td>-0.196724</td>\n",
       "      <td>-0.115789</td>\n",
       "      <td>39</td>\n",
       "      <td>0.165979</td>\n",
       "    </tr>\n",
       "    <tr>\n",
       "      <th>2</th>\n",
       "      <td>36</td>\n",
       "      <td>-0.118525</td>\n",
       "      <td>14353</td>\n",
       "      <td>1</td>\n",
       "      <td>6</td>\n",
       "      <td>2</td>\n",
       "      <td>5</td>\n",
       "      <td>0</td>\n",
       "      <td>-2.870006</td>\n",
       "      <td>1</td>\n",
       "      <td>-0.196724</td>\n",
       "      <td>-0.115789</td>\n",
       "      <td>39</td>\n",
       "      <td>0.165979</td>\n",
       "    </tr>\n",
       "    <tr>\n",
       "      <th>4</th>\n",
       "      <td>20</td>\n",
       "      <td>-0.118525</td>\n",
       "      <td>16566</td>\n",
       "      <td>12</td>\n",
       "      <td>13</td>\n",
       "      <td>2</td>\n",
       "      <td>3</td>\n",
       "      <td>5</td>\n",
       "      <td>0.348802</td>\n",
       "      <td>0</td>\n",
       "      <td>-0.196724</td>\n",
       "      <td>-0.115789</td>\n",
       "      <td>39</td>\n",
       "      <td>0.165979</td>\n",
       "    </tr>\n",
       "    <tr>\n",
       "      <th>5</th>\n",
       "      <td>32</td>\n",
       "      <td>-0.118525</td>\n",
       "      <td>7981</td>\n",
       "      <td>6</td>\n",
       "      <td>4</td>\n",
       "      <td>3</td>\n",
       "      <td>7</td>\n",
       "      <td>1</td>\n",
       "      <td>-2.870006</td>\n",
       "      <td>0</td>\n",
       "      <td>-0.196724</td>\n",
       "      <td>-0.115789</td>\n",
       "      <td>15</td>\n",
       "      <td>-4.325867</td>\n",
       "    </tr>\n",
       "    <tr>\n",
       "      <th>...</th>\n",
       "      <td>...</td>\n",
       "      <td>...</td>\n",
       "      <td>...</td>\n",
       "      <td>...</td>\n",
       "      <td>...</td>\n",
       "      <td>...</td>\n",
       "      <td>...</td>\n",
       "      <td>...</td>\n",
       "      <td>...</td>\n",
       "      <td>...</td>\n",
       "      <td>...</td>\n",
       "      <td>...</td>\n",
       "      <td>...</td>\n",
       "      <td>...</td>\n",
       "    </tr>\n",
       "    <tr>\n",
       "      <th>32554</th>\n",
       "      <td>5</td>\n",
       "      <td>-0.118525</td>\n",
       "      <td>17374</td>\n",
       "      <td>15</td>\n",
       "      <td>9</td>\n",
       "      <td>4</td>\n",
       "      <td>10</td>\n",
       "      <td>1</td>\n",
       "      <td>0.348802</td>\n",
       "      <td>1</td>\n",
       "      <td>-0.196724</td>\n",
       "      <td>-0.115789</td>\n",
       "      <td>39</td>\n",
       "      <td>0.165979</td>\n",
       "    </tr>\n",
       "    <tr>\n",
       "      <th>32555</th>\n",
       "      <td>10</td>\n",
       "      <td>-0.118525</td>\n",
       "      <td>15470</td>\n",
       "      <td>7</td>\n",
       "      <td>11</td>\n",
       "      <td>2</td>\n",
       "      <td>12</td>\n",
       "      <td>5</td>\n",
       "      <td>0.348802</td>\n",
       "      <td>0</td>\n",
       "      <td>-0.196724</td>\n",
       "      <td>-0.115789</td>\n",
       "      <td>37</td>\n",
       "      <td>0.165979</td>\n",
       "    </tr>\n",
       "    <tr>\n",
       "      <th>32556</th>\n",
       "      <td>23</td>\n",
       "      <td>-0.118525</td>\n",
       "      <td>7554</td>\n",
       "      <td>11</td>\n",
       "      <td>8</td>\n",
       "      <td>2</td>\n",
       "      <td>6</td>\n",
       "      <td>0</td>\n",
       "      <td>0.348802</td>\n",
       "      <td>1</td>\n",
       "      <td>-0.196724</td>\n",
       "      <td>-0.115789</td>\n",
       "      <td>39</td>\n",
       "      <td>0.165979</td>\n",
       "    </tr>\n",
       "    <tr>\n",
       "      <th>32557</th>\n",
       "      <td>41</td>\n",
       "      <td>-0.118525</td>\n",
       "      <td>7376</td>\n",
       "      <td>11</td>\n",
       "      <td>8</td>\n",
       "      <td>6</td>\n",
       "      <td>0</td>\n",
       "      <td>4</td>\n",
       "      <td>0.348802</td>\n",
       "      <td>0</td>\n",
       "      <td>-0.196724</td>\n",
       "      <td>-0.115789</td>\n",
       "      <td>39</td>\n",
       "      <td>0.165979</td>\n",
       "    </tr>\n",
       "    <tr>\n",
       "      <th>32558</th>\n",
       "      <td>5</td>\n",
       "      <td>-0.118525</td>\n",
       "      <td>12059</td>\n",
       "      <td>11</td>\n",
       "      <td>8</td>\n",
       "      <td>4</td>\n",
       "      <td>0</td>\n",
       "      <td>3</td>\n",
       "      <td>0.348802</td>\n",
       "      <td>1</td>\n",
       "      <td>-0.196724</td>\n",
       "      <td>-0.115789</td>\n",
       "      <td>19</td>\n",
       "      <td>0.165979</td>\n",
       "    </tr>\n",
       "  </tbody>\n",
       "</table>\n",
       "<p>25095 rows × 14 columns</p>\n",
       "</div>"
      ],
      "text/plain": [
       "       Age  Workclass  Fnlwgt  Education  Education_num  Marital_status  \\\n",
       "0       33   1.799395    2726          9             12               2   \n",
       "1       21  -0.118525   13187         11              8               0   \n",
       "2       36  -0.118525   14353          1              6               2   \n",
       "4       20  -0.118525   16566         12             13               2   \n",
       "5       32  -0.118525    7981          6              4               3   \n",
       "...    ...        ...     ...        ...            ...             ...   \n",
       "32554    5  -0.118525   17374         15              9               4   \n",
       "32555   10  -0.118525   15470          7             11               2   \n",
       "32556   23  -0.118525    7554         11              8               2   \n",
       "32557   41  -0.118525    7376         11              8               6   \n",
       "32558    5  -0.118525   12059         11              8               4   \n",
       "\n",
       "       Occupation  Relationship      Race  Sex  Capital_gain  Capital_loss  \\\n",
       "0               3             0  0.348802    1     -0.196724     -0.115789   \n",
       "1               5             1  0.348802    1     -0.196724     -0.115789   \n",
       "2               5             0 -2.870006    1     -0.196724     -0.115789   \n",
       "4               3             5  0.348802    0     -0.196724     -0.115789   \n",
       "5               7             1 -2.870006    0     -0.196724     -0.115789   \n",
       "...           ...           ...       ...  ...           ...           ...   \n",
       "32554          10             1  0.348802    1     -0.196724     -0.115789   \n",
       "32555          12             5  0.348802    0     -0.196724     -0.115789   \n",
       "32556           6             0  0.348802    1     -0.196724     -0.115789   \n",
       "32557           0             4  0.348802    0     -0.196724     -0.115789   \n",
       "32558           0             3  0.348802    1     -0.196724     -0.115789   \n",
       "\n",
       "       Hours_per_week  Native_country  \n",
       "0                  12        0.165979  \n",
       "1                  39        0.165979  \n",
       "2                  39        0.165979  \n",
       "4                  39        0.165979  \n",
       "5                  15       -4.325867  \n",
       "...               ...             ...  \n",
       "32554              39        0.165979  \n",
       "32555              37        0.165979  \n",
       "32556              39        0.165979  \n",
       "32557              39        0.165979  \n",
       "32558              19        0.165979  \n",
       "\n",
       "[25095 rows x 14 columns]"
      ]
     },
     "execution_count": 116,
     "metadata": {},
     "output_type": "execute_result"
    }
   ],
   "source": [
    "x"
   ]
  },
  {
   "cell_type": "code",
   "execution_count": 117,
   "id": "1a6c5f17",
   "metadata": {},
   "outputs": [
    {
     "data": {
      "text/plain": [
       "0        0\n",
       "1        0\n",
       "2        0\n",
       "4        0\n",
       "5        0\n",
       "        ..\n",
       "32554    0\n",
       "32555    0\n",
       "32556    1\n",
       "32557    0\n",
       "32558    0\n",
       "Name: Income, Length: 25095, dtype: int32"
      ]
     },
     "execution_count": 117,
     "metadata": {},
     "output_type": "execute_result"
    }
   ],
   "source": [
    "y"
   ]
  },
  {
   "cell_type": "markdown",
   "id": "ccc2a01b",
   "metadata": {},
   "source": [
    "# Scaling the x_data using standardscaler:"
   ]
  },
  {
   "cell_type": "code",
   "execution_count": 118,
   "id": "0778f316",
   "metadata": {},
   "outputs": [
    {
     "data": {
      "text/html": [
       "<div>\n",
       "<style scoped>\n",
       "    .dataframe tbody tr th:only-of-type {\n",
       "        vertical-align: middle;\n",
       "    }\n",
       "\n",
       "    .dataframe tbody tr th {\n",
       "        vertical-align: top;\n",
       "    }\n",
       "\n",
       "    .dataframe thead th {\n",
       "        text-align: right;\n",
       "    }\n",
       "</style>\n",
       "<table border=\"1\" class=\"dataframe\">\n",
       "  <thead>\n",
       "    <tr style=\"text-align: right;\">\n",
       "      <th></th>\n",
       "      <th>Age</th>\n",
       "      <th>Workclass</th>\n",
       "      <th>Fnlwgt</th>\n",
       "      <th>Education</th>\n",
       "      <th>Education_num</th>\n",
       "      <th>Marital_status</th>\n",
       "      <th>Occupation</th>\n",
       "      <th>Relationship</th>\n",
       "      <th>Race</th>\n",
       "      <th>Sex</th>\n",
       "      <th>Capital_gain</th>\n",
       "      <th>Capital_loss</th>\n",
       "      <th>Hours_per_week</th>\n",
       "      <th>Native_country</th>\n",
       "    </tr>\n",
       "  </thead>\n",
       "  <tbody>\n",
       "    <tr>\n",
       "      <th>0</th>\n",
       "      <td>0.961058</td>\n",
       "      <td>1.799395</td>\n",
       "      <td>-1.267433</td>\n",
       "      <td>-0.350314</td>\n",
       "      <td>1.254196</td>\n",
       "      <td>-0.394840</td>\n",
       "      <td>-0.718858</td>\n",
       "      <td>-0.920370</td>\n",
       "      <td>0.348802</td>\n",
       "      <td>0.713456</td>\n",
       "      <td>-0.196724</td>\n",
       "      <td>-0.115789</td>\n",
       "      <td>-2.546462</td>\n",
       "      <td>0.165979</td>\n",
       "    </tr>\n",
       "    <tr>\n",
       "      <th>1</th>\n",
       "      <td>0.026590</td>\n",
       "      <td>-0.118525</td>\n",
       "      <td>0.579736</td>\n",
       "      <td>0.168459</td>\n",
       "      <td>-0.432132</td>\n",
       "      <td>-1.703931</td>\n",
       "      <td>-0.225902</td>\n",
       "      <td>-0.292657</td>\n",
       "      <td>0.348802</td>\n",
       "      <td>0.713456</td>\n",
       "      <td>-0.196724</td>\n",
       "      <td>-0.115789</td>\n",
       "      <td>-0.022599</td>\n",
       "      <td>0.165979</td>\n",
       "    </tr>\n",
       "    <tr>\n",
       "      <th>2</th>\n",
       "      <td>1.194675</td>\n",
       "      <td>-0.118525</td>\n",
       "      <td>0.785624</td>\n",
       "      <td>-2.425408</td>\n",
       "      <td>-1.275296</td>\n",
       "      <td>-0.394840</td>\n",
       "      <td>-0.225902</td>\n",
       "      <td>-0.920370</td>\n",
       "      <td>-2.870006</td>\n",
       "      <td>0.713456</td>\n",
       "      <td>-0.196724</td>\n",
       "      <td>-0.115789</td>\n",
       "      <td>-0.022599</td>\n",
       "      <td>0.165979</td>\n",
       "    </tr>\n",
       "    <tr>\n",
       "      <th>3</th>\n",
       "      <td>-0.051282</td>\n",
       "      <td>-0.118525</td>\n",
       "      <td>1.176388</td>\n",
       "      <td>0.427846</td>\n",
       "      <td>1.675778</td>\n",
       "      <td>-0.394840</td>\n",
       "      <td>-0.718858</td>\n",
       "      <td>2.218194</td>\n",
       "      <td>0.348802</td>\n",
       "      <td>-1.401628</td>\n",
       "      <td>-0.196724</td>\n",
       "      <td>-0.115789</td>\n",
       "      <td>-0.022599</td>\n",
       "      <td>0.165979</td>\n",
       "    </tr>\n",
       "    <tr>\n",
       "      <th>4</th>\n",
       "      <td>0.883186</td>\n",
       "      <td>-0.118525</td>\n",
       "      <td>-0.339523</td>\n",
       "      <td>-1.128474</td>\n",
       "      <td>-2.118460</td>\n",
       "      <td>0.259706</td>\n",
       "      <td>0.267055</td>\n",
       "      <td>-0.292657</td>\n",
       "      <td>-2.870006</td>\n",
       "      <td>-1.401628</td>\n",
       "      <td>-0.196724</td>\n",
       "      <td>-0.115789</td>\n",
       "      <td>-2.266033</td>\n",
       "      <td>-4.325867</td>\n",
       "    </tr>\n",
       "    <tr>\n",
       "      <th>...</th>\n",
       "      <td>...</td>\n",
       "      <td>...</td>\n",
       "      <td>...</td>\n",
       "      <td>...</td>\n",
       "      <td>...</td>\n",
       "      <td>...</td>\n",
       "      <td>...</td>\n",
       "      <td>...</td>\n",
       "      <td>...</td>\n",
       "      <td>...</td>\n",
       "      <td>...</td>\n",
       "      <td>...</td>\n",
       "      <td>...</td>\n",
       "      <td>...</td>\n",
       "    </tr>\n",
       "    <tr>\n",
       "      <th>25090</th>\n",
       "      <td>-1.219367</td>\n",
       "      <td>-0.118525</td>\n",
       "      <td>1.319062</td>\n",
       "      <td>1.206006</td>\n",
       "      <td>-0.010550</td>\n",
       "      <td>0.914251</td>\n",
       "      <td>1.006490</td>\n",
       "      <td>-0.292657</td>\n",
       "      <td>0.348802</td>\n",
       "      <td>0.713456</td>\n",
       "      <td>-0.196724</td>\n",
       "      <td>-0.115789</td>\n",
       "      <td>-0.022599</td>\n",
       "      <td>0.165979</td>\n",
       "    </tr>\n",
       "    <tr>\n",
       "      <th>25091</th>\n",
       "      <td>-0.830005</td>\n",
       "      <td>-0.118525</td>\n",
       "      <td>0.982860</td>\n",
       "      <td>-0.869088</td>\n",
       "      <td>0.832614</td>\n",
       "      <td>-0.394840</td>\n",
       "      <td>1.499446</td>\n",
       "      <td>2.218194</td>\n",
       "      <td>0.348802</td>\n",
       "      <td>-1.401628</td>\n",
       "      <td>-0.196724</td>\n",
       "      <td>-0.115789</td>\n",
       "      <td>-0.209552</td>\n",
       "      <td>0.165979</td>\n",
       "    </tr>\n",
       "    <tr>\n",
       "      <th>25092</th>\n",
       "      <td>0.182335</td>\n",
       "      <td>-0.118525</td>\n",
       "      <td>-0.414921</td>\n",
       "      <td>0.168459</td>\n",
       "      <td>-0.432132</td>\n",
       "      <td>-0.394840</td>\n",
       "      <td>0.020577</td>\n",
       "      <td>-0.920370</td>\n",
       "      <td>0.348802</td>\n",
       "      <td>0.713456</td>\n",
       "      <td>-0.196724</td>\n",
       "      <td>-0.115789</td>\n",
       "      <td>-0.022599</td>\n",
       "      <td>0.165979</td>\n",
       "    </tr>\n",
       "    <tr>\n",
       "      <th>25093</th>\n",
       "      <td>1.584037</td>\n",
       "      <td>-0.118525</td>\n",
       "      <td>-0.446351</td>\n",
       "      <td>0.168459</td>\n",
       "      <td>-0.432132</td>\n",
       "      <td>2.223342</td>\n",
       "      <td>-1.458293</td>\n",
       "      <td>1.590481</td>\n",
       "      <td>0.348802</td>\n",
       "      <td>-1.401628</td>\n",
       "      <td>-0.196724</td>\n",
       "      <td>-0.115789</td>\n",
       "      <td>-0.022599</td>\n",
       "      <td>0.165979</td>\n",
       "    </tr>\n",
       "    <tr>\n",
       "      <th>25094</th>\n",
       "      <td>-1.219367</td>\n",
       "      <td>-0.118525</td>\n",
       "      <td>0.380557</td>\n",
       "      <td>0.168459</td>\n",
       "      <td>-0.432132</td>\n",
       "      <td>0.914251</td>\n",
       "      <td>-1.458293</td>\n",
       "      <td>0.962768</td>\n",
       "      <td>0.348802</td>\n",
       "      <td>0.713456</td>\n",
       "      <td>-0.196724</td>\n",
       "      <td>-0.115789</td>\n",
       "      <td>-1.892127</td>\n",
       "      <td>0.165979</td>\n",
       "    </tr>\n",
       "  </tbody>\n",
       "</table>\n",
       "<p>25095 rows × 14 columns</p>\n",
       "</div>"
      ],
      "text/plain": [
       "            Age  Workclass    Fnlwgt  Education  Education_num  \\\n",
       "0      0.961058   1.799395 -1.267433  -0.350314       1.254196   \n",
       "1      0.026590  -0.118525  0.579736   0.168459      -0.432132   \n",
       "2      1.194675  -0.118525  0.785624  -2.425408      -1.275296   \n",
       "3     -0.051282  -0.118525  1.176388   0.427846       1.675778   \n",
       "4      0.883186  -0.118525 -0.339523  -1.128474      -2.118460   \n",
       "...         ...        ...       ...        ...            ...   \n",
       "25090 -1.219367  -0.118525  1.319062   1.206006      -0.010550   \n",
       "25091 -0.830005  -0.118525  0.982860  -0.869088       0.832614   \n",
       "25092  0.182335  -0.118525 -0.414921   0.168459      -0.432132   \n",
       "25093  1.584037  -0.118525 -0.446351   0.168459      -0.432132   \n",
       "25094 -1.219367  -0.118525  0.380557   0.168459      -0.432132   \n",
       "\n",
       "       Marital_status  Occupation  Relationship      Race       Sex  \\\n",
       "0           -0.394840   -0.718858     -0.920370  0.348802  0.713456   \n",
       "1           -1.703931   -0.225902     -0.292657  0.348802  0.713456   \n",
       "2           -0.394840   -0.225902     -0.920370 -2.870006  0.713456   \n",
       "3           -0.394840   -0.718858      2.218194  0.348802 -1.401628   \n",
       "4            0.259706    0.267055     -0.292657 -2.870006 -1.401628   \n",
       "...               ...         ...           ...       ...       ...   \n",
       "25090        0.914251    1.006490     -0.292657  0.348802  0.713456   \n",
       "25091       -0.394840    1.499446      2.218194  0.348802 -1.401628   \n",
       "25092       -0.394840    0.020577     -0.920370  0.348802  0.713456   \n",
       "25093        2.223342   -1.458293      1.590481  0.348802 -1.401628   \n",
       "25094        0.914251   -1.458293      0.962768  0.348802  0.713456   \n",
       "\n",
       "       Capital_gain  Capital_loss  Hours_per_week  Native_country  \n",
       "0         -0.196724     -0.115789       -2.546462        0.165979  \n",
       "1         -0.196724     -0.115789       -0.022599        0.165979  \n",
       "2         -0.196724     -0.115789       -0.022599        0.165979  \n",
       "3         -0.196724     -0.115789       -0.022599        0.165979  \n",
       "4         -0.196724     -0.115789       -2.266033       -4.325867  \n",
       "...             ...           ...             ...             ...  \n",
       "25090     -0.196724     -0.115789       -0.022599        0.165979  \n",
       "25091     -0.196724     -0.115789       -0.209552        0.165979  \n",
       "25092     -0.196724     -0.115789       -0.022599        0.165979  \n",
       "25093     -0.196724     -0.115789       -0.022599        0.165979  \n",
       "25094     -0.196724     -0.115789       -1.892127        0.165979  \n",
       "\n",
       "[25095 rows x 14 columns]"
      ]
     },
     "execution_count": 118,
     "metadata": {},
     "output_type": "execute_result"
    }
   ],
   "source": [
    "scaler = StandardScaler()\n",
    "x = pd.DataFrame(scaler.fit_transform(x), columns=x.columns)\n",
    "x"
   ]
  },
  {
   "cell_type": "code",
   "execution_count": 119,
   "id": "16997397",
   "metadata": {},
   "outputs": [],
   "source": [
    "x_train,x_test,y_train,y_test = train_test_split(x,y, test_size = 0.3, random_state = 0)"
   ]
  },
  {
   "cell_type": "markdown",
   "id": "02fbec1d",
   "metadata": {},
   "source": [
    "# Training:"
   ]
  },
  {
   "cell_type": "code",
   "execution_count": 120,
   "id": "7df06dba",
   "metadata": {},
   "outputs": [
    {
     "name": "stdout",
     "output_type": "stream",
     "text": [
      "LogisticRegression is trained now.\n",
      "K-Nearest Neighbors is trained now.\n",
      "Decision Tree is trained now.\n",
      "Random Forest is trained now.\n",
      "Gradient Boosting is trained now.\n"
     ]
    }
   ],
   "source": [
    "models = {\"LogisticRegression\" : LogisticRegression(),\n",
    "          \"K-Nearest Neighbors\": KNeighborsClassifier(),\n",
    "          \"Decision Tree\"      : DecisionTreeClassifier(),\n",
    "          \"Random Forest\"      : RandomForestClassifier(),\n",
    "          \"Gradient Boosting\"  : GradientBoostingClassifier()}\n",
    "\n",
    "for name, model in models.items():\n",
    "    model.fit(x_train,y_train)\n",
    "    print(name + \" is trained now.\")"
   ]
  },
  {
   "cell_type": "markdown",
   "id": "751a1f45",
   "metadata": {},
   "source": [
    "# Testing:"
   ]
  },
  {
   "cell_type": "code",
   "execution_count": 121,
   "id": "d33ba914",
   "metadata": {},
   "outputs": [
    {
     "name": "stdout",
     "output_type": "stream",
     "text": [
      "LogisticRegression: 82.30%\n",
      "K-Nearest Neighbors: 82.51%\n",
      "Decision Tree: 79.51%\n",
      "Random Forest: 83.96%\n",
      "Gradient Boosting: 84.37%\n"
     ]
    }
   ],
   "source": [
    "for name, model in models.items():\n",
    "    print(name + \": {:,.2f}%\".format(model.score(x_test,y_test)*100))"
   ]
  },
  {
   "cell_type": "markdown",
   "id": "c06cea9f",
   "metadata": {},
   "source": [
    "# Hyper Parameter Tuning:"
   ]
  },
  {
   "cell_type": "markdown",
   "id": "05cf155b",
   "metadata": {},
   "source": [
    "# Grid Search CV:"
   ]
  },
  {
   "cell_type": "code",
   "execution_count": 122,
   "id": "eedc023c",
   "metadata": {},
   "outputs": [],
   "source": [
    "from sklearn.model_selection import GridSearchCV"
   ]
  },
  {
   "cell_type": "code",
   "execution_count": 123,
   "id": "50664d54",
   "metadata": {},
   "outputs": [],
   "source": [
    "parameters = {'criterion':['mse', 'mae'],\n",
    "             'max_features':['auto', 'sqrt', 'log2'],\n",
    "             'n_estimators':[0,20],\n",
    "             'max_depth':[2,4,6]}"
   ]
  },
  {
   "cell_type": "markdown",
   "id": "b356fbf4",
   "metadata": {},
   "source": [
    "# Gradient Boosting Classifier:"
   ]
  },
  {
   "cell_type": "code",
   "execution_count": 124,
   "id": "161d8c67",
   "metadata": {},
   "outputs": [],
   "source": [
    "# here we use \"GradientBoostingClassifier\" because this model has highest accuracy score when compared to the other models."
   ]
  },
  {
   "cell_type": "code",
   "execution_count": 125,
   "id": "c25dbcba",
   "metadata": {},
   "outputs": [],
   "source": [
    "GCV=GridSearchCV(GradientBoostingClassifier(),parameters,cv=5)"
   ]
  },
  {
   "cell_type": "code",
   "execution_count": 126,
   "id": "9c70c28f",
   "metadata": {},
   "outputs": [],
   "source": [
    "from sklearn import metrics\n",
    "from sklearn.metrics import mean_absolute_error\n",
    "from sklearn.metrics import mean_squared_error\n",
    "from sklearn.metrics import r2_score"
   ]
  },
  {
   "cell_type": "code",
   "execution_count": 127,
   "id": "70f4a3c5",
   "metadata": {},
   "outputs": [
    {
     "name": "stdout",
     "output_type": "stream",
     "text": [
      "{'criterion': 'mse', 'max_features': 'auto'}\n"
     ]
    }
   ],
   "source": [
    "parameters = {'criterion': ['mse','mae'], 'max_features': ['auto', 'sqrt', 'log2']}\n",
    "\n",
    "GradientBoosting = GradientBoostingClassifier()\n",
    "Classifier = GridSearchCV(GradientBoosting,parameters)\n",
    "Classifier.fit(x_train,y_train)\n",
    "\n",
    "print(Classifier.best_params_)"
   ]
  },
  {
   "cell_type": "code",
   "execution_count": 128,
   "id": "2f392948",
   "metadata": {},
   "outputs": [],
   "source": [
    "# observation: here we can see that the best_parameteers are selected."
   ]
  },
  {
   "cell_type": "code",
   "execution_count": 129,
   "id": "bcd16a63",
   "metadata": {},
   "outputs": [
    {
     "name": "stdout",
     "output_type": "stream",
     "text": [
      "R2 Score: 0.710773136793319\n",
      "Cross Val Score: 85.21219366407651\n"
     ]
    }
   ],
   "source": [
    "GradientBoosting = GradientBoostingClassifier(criterion = 'mse', max_features = 'auto')\n",
    "GradientBoosting.fit(x_train,y_train)\n",
    "GradientBoosting.score(x_train,y_train)\n",
    "\n",
    "pred_decision = GradientBoosting.predict(x_test)\n",
    "GradientBoostingS = r2_score(y_test,pred_decision)\n",
    "print('R2 Score:', GradientBoostingS*100)\n",
    "\n",
    "GradientBoostingScore = cross_val_score(GradientBoosting,x,y,cv = 5)\n",
    "GradientBoostingC = GradientBoostingScore.mean()\n",
    "print(\"Cross Val Score:\",GradientBoostingC*100)"
   ]
  },
  {
   "cell_type": "markdown",
   "id": "e5388aee",
   "metadata": {},
   "source": [
    "# Saving the model:"
   ]
  },
  {
   "cell_type": "code",
   "execution_count": 130,
   "id": "5c08749b",
   "metadata": {},
   "outputs": [],
   "source": [
    "import pickle\n",
    "filename = 'churn.pkl'\n",
    "pickle.dump(GradientBoosting,open(filename, 'wb'))"
   ]
  },
  {
   "cell_type": "code",
   "execution_count": 131,
   "id": "e35e9343",
   "metadata": {},
   "outputs": [
    {
     "name": "stdout",
     "output_type": "stream",
     "text": [
      "0.8436711382653739\n"
     ]
    }
   ],
   "source": [
    "loaded_model = pickle.load(open(\"churn.pkl\", \"rb\"))\n",
    "result = loaded_model.score(x_test, y_test)\n",
    "print(result)"
   ]
  },
  {
   "cell_type": "markdown",
   "id": "6f6e4f91",
   "metadata": {},
   "source": [
    "# Conclusion:"
   ]
  },
  {
   "cell_type": "code",
   "execution_count": 132,
   "id": "ebe62af4",
   "metadata": {},
   "outputs": [],
   "source": [
    "conclusion = pd.DataFrame([loaded_model.predict(x_test)[:],pred_decision[:]],index = [\"Predicted\",\"Original\"])"
   ]
  },
  {
   "cell_type": "code",
   "execution_count": 133,
   "id": "2b2f91ec",
   "metadata": {},
   "outputs": [
    {
     "data": {
      "text/html": [
       "<div>\n",
       "<style scoped>\n",
       "    .dataframe tbody tr th:only-of-type {\n",
       "        vertical-align: middle;\n",
       "    }\n",
       "\n",
       "    .dataframe tbody tr th {\n",
       "        vertical-align: top;\n",
       "    }\n",
       "\n",
       "    .dataframe thead th {\n",
       "        text-align: right;\n",
       "    }\n",
       "</style>\n",
       "<table border=\"1\" class=\"dataframe\">\n",
       "  <thead>\n",
       "    <tr style=\"text-align: right;\">\n",
       "      <th></th>\n",
       "      <th>0</th>\n",
       "      <th>1</th>\n",
       "      <th>2</th>\n",
       "      <th>3</th>\n",
       "      <th>4</th>\n",
       "      <th>5</th>\n",
       "      <th>6</th>\n",
       "      <th>7</th>\n",
       "      <th>8</th>\n",
       "      <th>9</th>\n",
       "      <th>...</th>\n",
       "      <th>7519</th>\n",
       "      <th>7520</th>\n",
       "      <th>7521</th>\n",
       "      <th>7522</th>\n",
       "      <th>7523</th>\n",
       "      <th>7524</th>\n",
       "      <th>7525</th>\n",
       "      <th>7526</th>\n",
       "      <th>7527</th>\n",
       "      <th>7528</th>\n",
       "    </tr>\n",
       "  </thead>\n",
       "  <tbody>\n",
       "    <tr>\n",
       "      <th>Predicted</th>\n",
       "      <td>0</td>\n",
       "      <td>0</td>\n",
       "      <td>0</td>\n",
       "      <td>0</td>\n",
       "      <td>0</td>\n",
       "      <td>0</td>\n",
       "      <td>0</td>\n",
       "      <td>1</td>\n",
       "      <td>1</td>\n",
       "      <td>1</td>\n",
       "      <td>...</td>\n",
       "      <td>0</td>\n",
       "      <td>0</td>\n",
       "      <td>1</td>\n",
       "      <td>0</td>\n",
       "      <td>0</td>\n",
       "      <td>0</td>\n",
       "      <td>0</td>\n",
       "      <td>0</td>\n",
       "      <td>0</td>\n",
       "      <td>0</td>\n",
       "    </tr>\n",
       "    <tr>\n",
       "      <th>Original</th>\n",
       "      <td>0</td>\n",
       "      <td>0</td>\n",
       "      <td>0</td>\n",
       "      <td>0</td>\n",
       "      <td>0</td>\n",
       "      <td>0</td>\n",
       "      <td>0</td>\n",
       "      <td>1</td>\n",
       "      <td>1</td>\n",
       "      <td>1</td>\n",
       "      <td>...</td>\n",
       "      <td>0</td>\n",
       "      <td>0</td>\n",
       "      <td>1</td>\n",
       "      <td>0</td>\n",
       "      <td>0</td>\n",
       "      <td>0</td>\n",
       "      <td>0</td>\n",
       "      <td>0</td>\n",
       "      <td>0</td>\n",
       "      <td>0</td>\n",
       "    </tr>\n",
       "  </tbody>\n",
       "</table>\n",
       "<p>2 rows × 7529 columns</p>\n",
       "</div>"
      ],
      "text/plain": [
       "           0     1     2     3     4     5     6     7     8     9     ...  \\\n",
       "Predicted     0     0     0     0     0     0     0     1     1     1  ...   \n",
       "Original      0     0     0     0     0     0     0     1     1     1  ...   \n",
       "\n",
       "           7519  7520  7521  7522  7523  7524  7525  7526  7527  7528  \n",
       "Predicted     0     0     1     0     0     0     0     0     0     0  \n",
       "Original      0     0     1     0     0     0     0     0     0     0  \n",
       "\n",
       "[2 rows x 7529 columns]"
      ]
     },
     "execution_count": 133,
     "metadata": {},
     "output_type": "execute_result"
    }
   ],
   "source": [
    "conclusion"
   ]
  },
  {
   "cell_type": "markdown",
   "id": "b6adfc83",
   "metadata": {},
   "source": [
    "So, therefore our best model is \"GradientBoosting\" and the percentage we achieved is 84% ."
   ]
  },
  {
   "cell_type": "code",
   "execution_count": null,
   "id": "944c14ed",
   "metadata": {},
   "outputs": [],
   "source": []
  }
 ],
 "metadata": {
  "kernelspec": {
   "display_name": "Python 3 (ipykernel)",
   "language": "python",
   "name": "python3"
  },
  "language_info": {
   "codemirror_mode": {
    "name": "ipython",
    "version": 3
   },
   "file_extension": ".py",
   "mimetype": "text/x-python",
   "name": "python",
   "nbconvert_exporter": "python",
   "pygments_lexer": "ipython3",
   "version": "3.9.7"
  }
 },
 "nbformat": 4,
 "nbformat_minor": 5
}
