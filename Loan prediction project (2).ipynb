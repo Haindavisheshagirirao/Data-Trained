{
 "cells": [
  {
   "cell_type": "markdown",
   "id": "3011ce0b",
   "metadata": {},
   "source": [
    "# Importing required libraries:"
   ]
  },
  {
   "cell_type": "code",
   "execution_count": 53,
   "id": "57abdcd9",
   "metadata": {},
   "outputs": [],
   "source": [
    "import pandas as pd\n",
    "import numpy as np\n",
    "import seaborn as sns\n",
    "import matplotlib.pyplot as plt\n",
    "from scipy.stats import skew\n",
    "%matplotlib inline\n",
    "from sklearn.preprocessing import  StandardScaler\n",
    "from sklearn.model_selection import  train_test_split, cross_val_score\n",
    "from sklearn.metrics import r2_score, mean_squared_error\n",
    "from sklearn.linear_model import LogisticRegression\n",
    "from sklearn.neighbors import KNeighborsClassifier\n",
    "from sklearn.tree import DecisionTreeClassifier\n",
    "\n",
    "from sklearn.ensemble import  RandomForestClassifier , GradientBoostingClassifier\n",
    "import warnings\n",
    "warnings.filterwarnings(\"ignore\") "
   ]
  },
  {
   "cell_type": "markdown",
   "id": "49157e96",
   "metadata": {},
   "source": [
    "# Data Collection:"
   ]
  },
  {
   "cell_type": "code",
   "execution_count": 54,
   "id": "9a49ff8a",
   "metadata": {},
   "outputs": [],
   "source": [
    "loan_data = pd.read_csv(\"loan_prediction.csv\")"
   ]
  },
  {
   "cell_type": "code",
   "execution_count": 55,
   "id": "20975e2a",
   "metadata": {},
   "outputs": [
    {
     "data": {
      "text/html": [
       "<div>\n",
       "<style scoped>\n",
       "    .dataframe tbody tr th:only-of-type {\n",
       "        vertical-align: middle;\n",
       "    }\n",
       "\n",
       "    .dataframe tbody tr th {\n",
       "        vertical-align: top;\n",
       "    }\n",
       "\n",
       "    .dataframe thead th {\n",
       "        text-align: right;\n",
       "    }\n",
       "</style>\n",
       "<table border=\"1\" class=\"dataframe\">\n",
       "  <thead>\n",
       "    <tr style=\"text-align: right;\">\n",
       "      <th></th>\n",
       "      <th>Loan_ID</th>\n",
       "      <th>Gender</th>\n",
       "      <th>Married</th>\n",
       "      <th>Dependents</th>\n",
       "      <th>Education</th>\n",
       "      <th>Self_Employed</th>\n",
       "      <th>ApplicantIncome</th>\n",
       "      <th>CoapplicantIncome</th>\n",
       "      <th>LoanAmount</th>\n",
       "      <th>Loan_Amount_Term</th>\n",
       "      <th>Credit_History</th>\n",
       "      <th>Property_Area</th>\n",
       "      <th>Loan_Status</th>\n",
       "    </tr>\n",
       "  </thead>\n",
       "  <tbody>\n",
       "    <tr>\n",
       "      <th>0</th>\n",
       "      <td>LP001002</td>\n",
       "      <td>Male</td>\n",
       "      <td>No</td>\n",
       "      <td>0</td>\n",
       "      <td>Graduate</td>\n",
       "      <td>No</td>\n",
       "      <td>5849</td>\n",
       "      <td>0.0</td>\n",
       "      <td>NaN</td>\n",
       "      <td>360.0</td>\n",
       "      <td>1.0</td>\n",
       "      <td>Urban</td>\n",
       "      <td>Y</td>\n",
       "    </tr>\n",
       "    <tr>\n",
       "      <th>1</th>\n",
       "      <td>LP001003</td>\n",
       "      <td>Male</td>\n",
       "      <td>Yes</td>\n",
       "      <td>1</td>\n",
       "      <td>Graduate</td>\n",
       "      <td>No</td>\n",
       "      <td>4583</td>\n",
       "      <td>1508.0</td>\n",
       "      <td>128.0</td>\n",
       "      <td>360.0</td>\n",
       "      <td>1.0</td>\n",
       "      <td>Rural</td>\n",
       "      <td>N</td>\n",
       "    </tr>\n",
       "    <tr>\n",
       "      <th>2</th>\n",
       "      <td>LP001005</td>\n",
       "      <td>Male</td>\n",
       "      <td>Yes</td>\n",
       "      <td>0</td>\n",
       "      <td>Graduate</td>\n",
       "      <td>Yes</td>\n",
       "      <td>3000</td>\n",
       "      <td>0.0</td>\n",
       "      <td>66.0</td>\n",
       "      <td>360.0</td>\n",
       "      <td>1.0</td>\n",
       "      <td>Urban</td>\n",
       "      <td>Y</td>\n",
       "    </tr>\n",
       "    <tr>\n",
       "      <th>3</th>\n",
       "      <td>LP001006</td>\n",
       "      <td>Male</td>\n",
       "      <td>Yes</td>\n",
       "      <td>0</td>\n",
       "      <td>Not Graduate</td>\n",
       "      <td>No</td>\n",
       "      <td>2583</td>\n",
       "      <td>2358.0</td>\n",
       "      <td>120.0</td>\n",
       "      <td>360.0</td>\n",
       "      <td>1.0</td>\n",
       "      <td>Urban</td>\n",
       "      <td>Y</td>\n",
       "    </tr>\n",
       "    <tr>\n",
       "      <th>4</th>\n",
       "      <td>LP001008</td>\n",
       "      <td>Male</td>\n",
       "      <td>No</td>\n",
       "      <td>0</td>\n",
       "      <td>Graduate</td>\n",
       "      <td>No</td>\n",
       "      <td>6000</td>\n",
       "      <td>0.0</td>\n",
       "      <td>141.0</td>\n",
       "      <td>360.0</td>\n",
       "      <td>1.0</td>\n",
       "      <td>Urban</td>\n",
       "      <td>Y</td>\n",
       "    </tr>\n",
       "  </tbody>\n",
       "</table>\n",
       "</div>"
      ],
      "text/plain": [
       "    Loan_ID Gender Married Dependents     Education Self_Employed  \\\n",
       "0  LP001002   Male      No          0      Graduate            No   \n",
       "1  LP001003   Male     Yes          1      Graduate            No   \n",
       "2  LP001005   Male     Yes          0      Graduate           Yes   \n",
       "3  LP001006   Male     Yes          0  Not Graduate            No   \n",
       "4  LP001008   Male      No          0      Graduate            No   \n",
       "\n",
       "   ApplicantIncome  CoapplicantIncome  LoanAmount  Loan_Amount_Term  \\\n",
       "0             5849                0.0         NaN             360.0   \n",
       "1             4583             1508.0       128.0             360.0   \n",
       "2             3000                0.0        66.0             360.0   \n",
       "3             2583             2358.0       120.0             360.0   \n",
       "4             6000                0.0       141.0             360.0   \n",
       "\n",
       "   Credit_History Property_Area Loan_Status  \n",
       "0             1.0         Urban           Y  \n",
       "1             1.0         Rural           N  \n",
       "2             1.0         Urban           Y  \n",
       "3             1.0         Urban           Y  \n",
       "4             1.0         Urban           Y  "
      ]
     },
     "execution_count": 55,
     "metadata": {},
     "output_type": "execute_result"
    }
   ],
   "source": [
    "loan_data.head()"
   ]
  },
  {
   "cell_type": "code",
   "execution_count": 56,
   "id": "86ace9ec",
   "metadata": {},
   "outputs": [],
   "source": [
    "# Observation: here we can see that the data has \"nan\" vales and so we have to fix them to get good accuracy. "
   ]
  },
  {
   "cell_type": "markdown",
   "id": "cd3c2d70",
   "metadata": {},
   "source": [
    "# What are the columns?"
   ]
  },
  {
   "cell_type": "code",
   "execution_count": 5,
   "id": "973ed195",
   "metadata": {},
   "outputs": [
    {
     "data": {
      "text/plain": [
       "Index(['Loan_ID', 'Gender', 'Married', 'Dependents', 'Education',\n",
       "       'Self_Employed', 'ApplicantIncome', 'CoapplicantIncome', 'LoanAmount',\n",
       "       'Loan_Amount_Term', 'Credit_History', 'Property_Area', 'Loan_Status'],\n",
       "      dtype='object')"
      ]
     },
     "execution_count": 5,
     "metadata": {},
     "output_type": "execute_result"
    }
   ],
   "source": [
    "loan_data.columns"
   ]
  },
  {
   "cell_type": "markdown",
   "id": "6d9323d4",
   "metadata": {},
   "source": [
    "# Size of the data:"
   ]
  },
  {
   "cell_type": "code",
   "execution_count": 6,
   "id": "87ff4bce",
   "metadata": {},
   "outputs": [
    {
     "data": {
      "text/plain": [
       "(614, 13)"
      ]
     },
     "execution_count": 6,
     "metadata": {},
     "output_type": "execute_result"
    }
   ],
   "source": [
    "loan_data.shape"
   ]
  },
  {
   "cell_type": "code",
   "execution_count": 7,
   "id": "75eb2ccd",
   "metadata": {},
   "outputs": [],
   "source": [
    "# Observation: here we can see that the data consists of 614 rows and 13 columns."
   ]
  },
  {
   "cell_type": "markdown",
   "id": "35084d9c",
   "metadata": {},
   "source": [
    "# What are the different datatypes present?"
   ]
  },
  {
   "cell_type": "code",
   "execution_count": 46,
   "id": "84ceca28",
   "metadata": {},
   "outputs": [
    {
     "ename": "NameError",
     "evalue": "name 'loan_data' is not defined",
     "output_type": "error",
     "traceback": [
      "\u001b[1;31m---------------------------------------------------------------------------\u001b[0m",
      "\u001b[1;31mNameError\u001b[0m                                 Traceback (most recent call last)",
      "\u001b[1;32m~\\AppData\\Local\\Temp/ipykernel_24184/846091932.py\u001b[0m in \u001b[0;36m<module>\u001b[1;34m\u001b[0m\n\u001b[1;32m----> 1\u001b[1;33m \u001b[0mloan_data\u001b[0m\u001b[1;33m.\u001b[0m\u001b[0mdtypes\u001b[0m\u001b[1;33m\u001b[0m\u001b[1;33m\u001b[0m\u001b[0m\n\u001b[0m",
      "\u001b[1;31mNameError\u001b[0m: name 'loan_data' is not defined"
     ]
    }
   ],
   "source": [
    "loan_data.dtypes"
   ]
  },
  {
   "cell_type": "code",
   "execution_count": 9,
   "id": "e81b1e2d",
   "metadata": {},
   "outputs": [],
   "source": [
    "# Observation: Here we can see that the data is with \"float\" and \"object\" types data."
   ]
  },
  {
   "cell_type": "markdown",
   "id": "456f6f25",
   "metadata": {},
   "source": [
    "# Information of the data:"
   ]
  },
  {
   "cell_type": "code",
   "execution_count": 10,
   "id": "57bb9b50",
   "metadata": {},
   "outputs": [
    {
     "name": "stdout",
     "output_type": "stream",
     "text": [
      "<class 'pandas.core.frame.DataFrame'>\n",
      "RangeIndex: 614 entries, 0 to 613\n",
      "Data columns (total 13 columns):\n",
      " #   Column             Non-Null Count  Dtype  \n",
      "---  ------             --------------  -----  \n",
      " 0   Loan_ID            614 non-null    object \n",
      " 1   Gender             601 non-null    object \n",
      " 2   Married            611 non-null    object \n",
      " 3   Dependents         599 non-null    object \n",
      " 4   Education          614 non-null    object \n",
      " 5   Self_Employed      582 non-null    object \n",
      " 6   ApplicantIncome    614 non-null    int64  \n",
      " 7   CoapplicantIncome  614 non-null    float64\n",
      " 8   LoanAmount         592 non-null    float64\n",
      " 9   Loan_Amount_Term   600 non-null    float64\n",
      " 10  Credit_History     564 non-null    float64\n",
      " 11  Property_Area      614 non-null    object \n",
      " 12  Loan_Status        614 non-null    object \n",
      "dtypes: float64(4), int64(1), object(8)\n",
      "memory usage: 62.5+ KB\n"
     ]
    }
   ],
   "source": [
    "loan_data.info()"
   ]
  },
  {
   "cell_type": "code",
   "execution_count": 11,
   "id": "652879a0",
   "metadata": {},
   "outputs": [],
   "source": [
    "# Observation: Here we can see that few columns in the data are with \"nan\" values and so we have to treat them in our model for\n",
    "# the good accuracy."
   ]
  },
  {
   "cell_type": "markdown",
   "id": "8bc81e44",
   "metadata": {},
   "source": [
    "# Checking the null-values in the data:"
   ]
  },
  {
   "cell_type": "code",
   "execution_count": 12,
   "id": "a992de08",
   "metadata": {},
   "outputs": [
    {
     "data": {
      "text/plain": [
       "Loan_ID               0\n",
       "Gender               13\n",
       "Married               3\n",
       "Dependents           15\n",
       "Education             0\n",
       "Self_Employed        32\n",
       "ApplicantIncome       0\n",
       "CoapplicantIncome     0\n",
       "LoanAmount           22\n",
       "Loan_Amount_Term     14\n",
       "Credit_History       50\n",
       "Property_Area         0\n",
       "Loan_Status           0\n",
       "dtype: int64"
      ]
     },
     "execution_count": 12,
     "metadata": {},
     "output_type": "execute_result"
    }
   ],
   "source": [
    "loan_data.isnull().sum()"
   ]
  },
  {
   "cell_type": "code",
   "execution_count": 13,
   "id": "1df31ac3",
   "metadata": {},
   "outputs": [],
   "source": [
    "# Observation: Here we can see that most of our columns are with null values."
   ]
  },
  {
   "cell_type": "code",
   "execution_count": 14,
   "id": "02126013",
   "metadata": {},
   "outputs": [
    {
     "data": {
      "text/plain": [
       "True"
      ]
     },
     "execution_count": 14,
     "metadata": {},
     "output_type": "execute_result"
    }
   ],
   "source": [
    "loan_data.isnull().values.any()"
   ]
  },
  {
   "cell_type": "markdown",
   "id": "422b4d7f",
   "metadata": {},
   "source": [
    "# Finding the missing values if any: "
   ]
  },
  {
   "cell_type": "code",
   "execution_count": 15,
   "id": "13b0cd77",
   "metadata": {},
   "outputs": [
    {
     "data": {
      "text/plain": [
       "True"
      ]
     },
     "execution_count": 15,
     "metadata": {},
     "output_type": "execute_result"
    }
   ],
   "source": [
    "loan_data.isnull().values.any()"
   ]
  },
  {
   "cell_type": "code",
   "execution_count": 16,
   "id": "2ff7da19",
   "metadata": {},
   "outputs": [],
   "source": [
    "# observation: We can observe that there are  missing values present."
   ]
  },
  {
   "cell_type": "markdown",
   "id": "0e68c4bc",
   "metadata": {},
   "source": [
    "# Statistical information:"
   ]
  },
  {
   "cell_type": "code",
   "execution_count": 17,
   "id": "29f81bc8",
   "metadata": {},
   "outputs": [
    {
     "data": {
      "text/html": [
       "<div>\n",
       "<style scoped>\n",
       "    .dataframe tbody tr th:only-of-type {\n",
       "        vertical-align: middle;\n",
       "    }\n",
       "\n",
       "    .dataframe tbody tr th {\n",
       "        vertical-align: top;\n",
       "    }\n",
       "\n",
       "    .dataframe thead th {\n",
       "        text-align: right;\n",
       "    }\n",
       "</style>\n",
       "<table border=\"1\" class=\"dataframe\">\n",
       "  <thead>\n",
       "    <tr style=\"text-align: right;\">\n",
       "      <th></th>\n",
       "      <th>ApplicantIncome</th>\n",
       "      <th>CoapplicantIncome</th>\n",
       "      <th>LoanAmount</th>\n",
       "      <th>Loan_Amount_Term</th>\n",
       "      <th>Credit_History</th>\n",
       "    </tr>\n",
       "  </thead>\n",
       "  <tbody>\n",
       "    <tr>\n",
       "      <th>count</th>\n",
       "      <td>614.000000</td>\n",
       "      <td>614.000000</td>\n",
       "      <td>592.000000</td>\n",
       "      <td>600.00000</td>\n",
       "      <td>564.000000</td>\n",
       "    </tr>\n",
       "    <tr>\n",
       "      <th>mean</th>\n",
       "      <td>5403.459283</td>\n",
       "      <td>1621.245798</td>\n",
       "      <td>146.412162</td>\n",
       "      <td>342.00000</td>\n",
       "      <td>0.842199</td>\n",
       "    </tr>\n",
       "    <tr>\n",
       "      <th>std</th>\n",
       "      <td>6109.041673</td>\n",
       "      <td>2926.248369</td>\n",
       "      <td>85.587325</td>\n",
       "      <td>65.12041</td>\n",
       "      <td>0.364878</td>\n",
       "    </tr>\n",
       "    <tr>\n",
       "      <th>min</th>\n",
       "      <td>150.000000</td>\n",
       "      <td>0.000000</td>\n",
       "      <td>9.000000</td>\n",
       "      <td>12.00000</td>\n",
       "      <td>0.000000</td>\n",
       "    </tr>\n",
       "    <tr>\n",
       "      <th>25%</th>\n",
       "      <td>2877.500000</td>\n",
       "      <td>0.000000</td>\n",
       "      <td>100.000000</td>\n",
       "      <td>360.00000</td>\n",
       "      <td>1.000000</td>\n",
       "    </tr>\n",
       "    <tr>\n",
       "      <th>50%</th>\n",
       "      <td>3812.500000</td>\n",
       "      <td>1188.500000</td>\n",
       "      <td>128.000000</td>\n",
       "      <td>360.00000</td>\n",
       "      <td>1.000000</td>\n",
       "    </tr>\n",
       "    <tr>\n",
       "      <th>75%</th>\n",
       "      <td>5795.000000</td>\n",
       "      <td>2297.250000</td>\n",
       "      <td>168.000000</td>\n",
       "      <td>360.00000</td>\n",
       "      <td>1.000000</td>\n",
       "    </tr>\n",
       "    <tr>\n",
       "      <th>max</th>\n",
       "      <td>81000.000000</td>\n",
       "      <td>41667.000000</td>\n",
       "      <td>700.000000</td>\n",
       "      <td>480.00000</td>\n",
       "      <td>1.000000</td>\n",
       "    </tr>\n",
       "  </tbody>\n",
       "</table>\n",
       "</div>"
      ],
      "text/plain": [
       "       ApplicantIncome  CoapplicantIncome  LoanAmount  Loan_Amount_Term  \\\n",
       "count       614.000000         614.000000  592.000000         600.00000   \n",
       "mean       5403.459283        1621.245798  146.412162         342.00000   \n",
       "std        6109.041673        2926.248369   85.587325          65.12041   \n",
       "min         150.000000           0.000000    9.000000          12.00000   \n",
       "25%        2877.500000           0.000000  100.000000         360.00000   \n",
       "50%        3812.500000        1188.500000  128.000000         360.00000   \n",
       "75%        5795.000000        2297.250000  168.000000         360.00000   \n",
       "max       81000.000000       41667.000000  700.000000         480.00000   \n",
       "\n",
       "       Credit_History  \n",
       "count      564.000000  \n",
       "mean         0.842199  \n",
       "std          0.364878  \n",
       "min          0.000000  \n",
       "25%          1.000000  \n",
       "50%          1.000000  \n",
       "75%          1.000000  \n",
       "max          1.000000  "
      ]
     },
     "execution_count": 17,
     "metadata": {},
     "output_type": "execute_result"
    }
   ],
   "source": [
    "loan_data.describe()"
   ]
  },
  {
   "cell_type": "code",
   "execution_count": 18,
   "id": "e92535cd",
   "metadata": {},
   "outputs": [],
   "source": [
    "# Observation: Here we can say that the \"Count\" is not as equal as number of records and so we have to set the value equal to columns\n",
    "# and also we can see that the \"mean\" and \"std\" values are with large difference in most of the columns and in few \"std\" is greater\n",
    "# than \"mean\"."
   ]
  },
  {
   "cell_type": "code",
   "execution_count": 19,
   "id": "e82a4cb8",
   "metadata": {},
   "outputs": [
    {
     "data": {
      "text/plain": [
       "Index(['Loan_ID', 'Gender', 'Married', 'Dependents', 'Education',\n",
       "       'Self_Employed', 'ApplicantIncome', 'CoapplicantIncome', 'LoanAmount',\n",
       "       'Loan_Amount_Term', 'Credit_History', 'Property_Area', 'Loan_Status'],\n",
       "      dtype='object')"
      ]
     },
     "execution_count": 19,
     "metadata": {},
     "output_type": "execute_result"
    }
   ],
   "source": [
    "loan_data.columns"
   ]
  },
  {
   "cell_type": "markdown",
   "id": "c41aa76d",
   "metadata": {},
   "source": [
    "# Dropping the unrequired columns:"
   ]
  },
  {
   "cell_type": "code",
   "execution_count": 20,
   "id": "59b2ffd7",
   "metadata": {},
   "outputs": [],
   "source": [
    "# the column \"Loan_ID\" will not have any impact on the \"prediction\",so we can drop it."
   ]
  },
  {
   "cell_type": "code",
   "execution_count": 21,
   "id": "e0cff285",
   "metadata": {},
   "outputs": [],
   "source": [
    "loan_data = loan_data.drop([\"Loan_ID\"] , axis = 1)"
   ]
  },
  {
   "cell_type": "code",
   "execution_count": 22,
   "id": "2957e078",
   "metadata": {},
   "outputs": [
    {
     "data": {
      "text/plain": [
       "(614, 12)"
      ]
     },
     "execution_count": 22,
     "metadata": {},
     "output_type": "execute_result"
    }
   ],
   "source": [
    "loan_data.shape"
   ]
  },
  {
   "cell_type": "code",
   "execution_count": 23,
   "id": "bc87fbc1",
   "metadata": {},
   "outputs": [],
   "source": [
    "# Observation: Here we can see that we have dropped the column successfully."
   ]
  },
  {
   "cell_type": "markdown",
   "id": "513b8f3e",
   "metadata": {},
   "source": [
    "# Checking the count o our label: \"Loan_Status\" :"
   ]
  },
  {
   "cell_type": "code",
   "execution_count": 24,
   "id": "9a73b046",
   "metadata": {},
   "outputs": [],
   "source": [
    "Loan_Status_count = pd.DataFrame(loan_data[\"Loan_Status\"].value_counts())"
   ]
  },
  {
   "cell_type": "code",
   "execution_count": 25,
   "id": "5d935e1b",
   "metadata": {},
   "outputs": [
    {
     "data": {
      "text/html": [
       "<div>\n",
       "<style scoped>\n",
       "    .dataframe tbody tr th:only-of-type {\n",
       "        vertical-align: middle;\n",
       "    }\n",
       "\n",
       "    .dataframe tbody tr th {\n",
       "        vertical-align: top;\n",
       "    }\n",
       "\n",
       "    .dataframe thead th {\n",
       "        text-align: right;\n",
       "    }\n",
       "</style>\n",
       "<table border=\"1\" class=\"dataframe\">\n",
       "  <thead>\n",
       "    <tr style=\"text-align: right;\">\n",
       "      <th></th>\n",
       "      <th>Loan_Status</th>\n",
       "    </tr>\n",
       "  </thead>\n",
       "  <tbody>\n",
       "    <tr>\n",
       "      <th>Y</th>\n",
       "      <td>422</td>\n",
       "    </tr>\n",
       "    <tr>\n",
       "      <th>N</th>\n",
       "      <td>192</td>\n",
       "    </tr>\n",
       "  </tbody>\n",
       "</table>\n",
       "</div>"
      ],
      "text/plain": [
       "   Loan_Status\n",
       "Y          422\n",
       "N          192"
      ]
     },
     "execution_count": 25,
     "metadata": {},
     "output_type": "execute_result"
    }
   ],
   "source": [
    "Loan_Status_count"
   ]
  },
  {
   "cell_type": "code",
   "execution_count": 26,
   "id": "9c4456c5",
   "metadata": {},
   "outputs": [],
   "source": [
    "# Observation: Here we can see that the number loan approvals are 422 and the number of loan rejections are 192."
   ]
  },
  {
   "cell_type": "markdown",
   "id": "f9c04473",
   "metadata": {},
   "source": [
    "# Filling the null-values:"
   ]
  },
  {
   "cell_type": "code",
   "execution_count": 27,
   "id": "acc6f3ad",
   "metadata": {},
   "outputs": [],
   "source": [
    "loan_data[\"Gender\"].fillna(loan_data[\"Gender\"].mode()[0],inplace = True)"
   ]
  },
  {
   "cell_type": "code",
   "execution_count": 28,
   "id": "039c6f16",
   "metadata": {},
   "outputs": [],
   "source": [
    "loan_data[\"Married\"].fillna(loan_data[\"Married\"].mode()[0],inplace = True)"
   ]
  },
  {
   "cell_type": "code",
   "execution_count": 29,
   "id": "963fb49e",
   "metadata": {},
   "outputs": [],
   "source": [
    "loan_data[\"Self_Employed\"].fillna(loan_data[\"Self_Employed\"].mode()[0],inplace = True)"
   ]
  },
  {
   "cell_type": "code",
   "execution_count": 30,
   "id": "b4acfffc",
   "metadata": {},
   "outputs": [],
   "source": [
    "loan_data[\"Dependents\"].fillna(loan_data[\"Dependents\"].mode()[0],inplace = True)"
   ]
  },
  {
   "cell_type": "code",
   "execution_count": 31,
   "id": "1ff28a38",
   "metadata": {},
   "outputs": [],
   "source": [
    "loan_data[\"LoanAmount\"].fillna(loan_data[\"LoanAmount\"].mode()[0],inplace = True)"
   ]
  },
  {
   "cell_type": "code",
   "execution_count": 32,
   "id": "37f0fbc7",
   "metadata": {},
   "outputs": [],
   "source": [
    "loan_data[\"Loan_Amount_Term\"].fillna(loan_data[\"Loan_Amount_Term\"].mean(),inplace = True)"
   ]
  },
  {
   "cell_type": "code",
   "execution_count": 33,
   "id": "c9d32cf7",
   "metadata": {},
   "outputs": [],
   "source": [
    "loan_data[\"Credit_History\"].fillna(loan_data[\"Credit_History\"].mode()[0],inplace = True)"
   ]
  },
  {
   "cell_type": "code",
   "execution_count": 41,
   "id": "b7847fb4",
   "metadata": {},
   "outputs": [],
   "source": [
    "# Observation: Here we can see that we have filled \"Nan\" values in the particular columns."
   ]
  },
  {
   "cell_type": "markdown",
   "id": "071f31c0",
   "metadata": {},
   "source": [
    "# Checking the null-values:"
   ]
  },
  {
   "cell_type": "code",
   "execution_count": 34,
   "id": "83c8f404",
   "metadata": {},
   "outputs": [
    {
     "data": {
      "text/plain": [
       "Gender               0\n",
       "Married              0\n",
       "Dependents           0\n",
       "Education            0\n",
       "Self_Employed        0\n",
       "ApplicantIncome      0\n",
       "CoapplicantIncome    0\n",
       "LoanAmount           0\n",
       "Loan_Amount_Term     0\n",
       "Credit_History       0\n",
       "Property_Area        0\n",
       "Loan_Status          0\n",
       "dtype: int64"
      ]
     },
     "execution_count": 34,
     "metadata": {},
     "output_type": "execute_result"
    }
   ],
   "source": [
    "loan_data.isnull().sum()"
   ]
  },
  {
   "cell_type": "code",
   "execution_count": 35,
   "id": "b2669735",
   "metadata": {},
   "outputs": [],
   "source": [
    "# Observation: here we can see that all the columns are without null-values."
   ]
  },
  {
   "cell_type": "code",
   "execution_count": 36,
   "id": "9ec4a6f9",
   "metadata": {},
   "outputs": [
    {
     "data": {
      "text/plain": [
       "False"
      ]
     },
     "execution_count": 36,
     "metadata": {},
     "output_type": "execute_result"
    }
   ],
   "source": [
    "# Also can see the null/missing values:\n",
    "\n",
    "loan_data.isnull().values.any()"
   ]
  },
  {
   "cell_type": "code",
   "execution_count": 37,
   "id": "abff3092",
   "metadata": {},
   "outputs": [],
   "source": [
    "# observation: Here we can see that absolutely there are no null-values."
   ]
  },
  {
   "cell_type": "markdown",
   "id": "64da3dfa",
   "metadata": {},
   "source": [
    "# Plotting the null-values through heat-map:"
   ]
  },
  {
   "cell_type": "code",
   "execution_count": 38,
   "id": "4cd985c6",
   "metadata": {},
   "outputs": [
    {
     "data": {
      "text/plain": [
       "<AxesSubplot:>"
      ]
     },
     "execution_count": 38,
     "metadata": {},
     "output_type": "execute_result"
    },
    {
     "data": {
      "image/png": "[encoded data removed]",
      "text/plain": [
       "<Figure size 432x288 with 2 Axes>"
      ]
     },
     "metadata": {
      "needs_background": "light"
     },
     "output_type": "display_data"
    }
   ],
   "source": [
    "sns.heatmap(loan_data.isnull())"
   ]
  },
  {
   "cell_type": "code",
   "execution_count": 39,
   "id": "8c36684f",
   "metadata": {},
   "outputs": [],
   "source": [
    "# observation: Here we can that there are no null-values can be seen in the heatmap."
   ]
  },
  {
   "cell_type": "markdown",
   "id": "ef0fbb9b",
   "metadata": {},
   "source": [
    "# Visualization:"
   ]
  },
  {
   "cell_type": "markdown",
   "id": "6fa4640b",
   "metadata": {},
   "source": [
    "## Univariate Analysis:"
   ]
  },
  {
   "cell_type": "code",
   "execution_count": 40,
   "id": "d0e3cd35",
   "metadata": {},
   "outputs": [
    {
     "data": {
      "text/plain": [
       "Index(['Gender', 'Married', 'Dependents', 'Education', 'Self_Employed',\n",
       "       'ApplicantIncome', 'CoapplicantIncome', 'LoanAmount',\n",
       "       'Loan_Amount_Term', 'Credit_History', 'Property_Area', 'Loan_Status'],\n",
       "      dtype='object')"
      ]
     },
     "execution_count": 40,
     "metadata": {},
     "output_type": "execute_result"
    }
   ],
   "source": [
    "loan_data.columns"
   ]
  },
  {
   "cell_type": "markdown",
   "id": "0eb17b38",
   "metadata": {},
   "source": [
    "## Firstly we will plot for our label: \"Loan_Status\":"
   ]
  },
  {
   "cell_type": "code",
   "execution_count": 41,
   "id": "0dd2c99c",
   "metadata": {},
   "outputs": [
    {
     "data": {
      "image/png": "[encoded data removed]",
      "text/plain": [
       "<Figure size 360x360 with 1 Axes>"
      ]
     },
     "metadata": {
      "needs_background": "light"
     },
     "output_type": "display_data"
    }
   ],
   "source": [
    "plt.figure(figsize=(5,5))\n",
    "sns.countplot(loan_data.Loan_Status);"
   ]
  },
  {
   "cell_type": "code",
   "execution_count": 40,
   "id": "7faaa23d",
   "metadata": {},
   "outputs": [],
   "source": [
    "#Observation: Here we can see that the category \"Y\" has the highest count compared to the category \"N\"."
   ]
  },
  {
   "cell_type": "markdown",
   "id": "40ac0398",
   "metadata": {},
   "source": [
    "# Gender:"
   ]
  },
  {
   "cell_type": "code",
   "execution_count": 42,
   "id": "56746ce0",
   "metadata": {},
   "outputs": [
    {
     "data": {
      "image/png": "[encoded data removed]",
      "text/plain": [
       "<Figure size 360x360 with 1 Axes>"
      ]
     },
     "metadata": {
      "needs_background": "light"
     },
     "output_type": "display_data"
    }
   ],
   "source": [
    "plt.figure(figsize=(5,5))\n",
    "sns.countplot(loan_data.Gender);"
   ]
  },
  {
   "cell_type": "code",
   "execution_count": 39,
   "id": "c8f50759",
   "metadata": {},
   "outputs": [],
   "source": [
    "# Observation: Here we can see that the category \"Male\" has the highest count in the column \"Gender\" and the least is for the \"Female\"."
   ]
  },
  {
   "cell_type": "code",
   "execution_count": 43,
   "id": "77aa5001",
   "metadata": {},
   "outputs": [
    {
     "data": {
      "text/plain": [
       "Index(['Gender', 'Married', 'Dependents', 'Education', 'Self_Employed',\n",
       "       'ApplicantIncome', 'CoapplicantIncome', 'LoanAmount',\n",
       "       'Loan_Amount_Term', 'Credit_History', 'Property_Area', 'Loan_Status'],\n",
       "      dtype='object')"
      ]
     },
     "execution_count": 43,
     "metadata": {},
     "output_type": "execute_result"
    }
   ],
   "source": [
    "loan_data.columns"
   ]
  },
  {
   "cell_type": "markdown",
   "id": "1e25e2e1",
   "metadata": {},
   "source": [
    "# Married:"
   ]
  },
  {
   "cell_type": "code",
   "execution_count": 44,
   "id": "31e22af8",
   "metadata": {},
   "outputs": [
    {
     "data": {
      "image/png": "[encoded data removed]",
      "text/plain": [
       "<Figure size 360x360 with 1 Axes>"
      ]
     },
     "metadata": {
      "needs_background": "light"
     },
     "output_type": "display_data"
    }
   ],
   "source": [
    "plt.figure(figsize=(5,5))\n",
    "sns.countplot(loan_data.Married);"
   ]
  },
  {
   "cell_type": "code",
   "execution_count": 38,
   "id": "91c2fec8",
   "metadata": {},
   "outputs": [],
   "source": [
    "# Observation: Here we can see that the highest count is for the category \"Yes\" in the column \"Married\" and the least for the other."
   ]
  },
  {
   "cell_type": "markdown",
   "id": "ba1e3473",
   "metadata": {},
   "source": [
    "# Dependents:"
   ]
  },
  {
   "cell_type": "code",
   "execution_count": 45,
   "id": "3e0b30d6",
   "metadata": {},
   "outputs": [
    {
     "data": {
      "image/png": "[encoded data removed]",
      "text/plain": [
       "<Figure size 360x360 with 1 Axes>"
      ]
     },
     "metadata": {
      "needs_background": "light"
     },
     "output_type": "display_data"
    }
   ],
   "source": [
    "# Dependents:\n",
    "\n",
    "plt.figure(figsize=(5,5))\n",
    "sns.countplot(loan_data.Dependents);"
   ]
  },
  {
   "cell_type": "code",
   "execution_count": 37,
   "id": "4d510175",
   "metadata": {},
   "outputs": [],
   "source": [
    "# Observation: Here we can see that the highest count is for the category \"0\" of the column \"Dependents\"."
   ]
  },
  {
   "cell_type": "markdown",
   "id": "cbed6083",
   "metadata": {},
   "source": [
    "# Education:"
   ]
  },
  {
   "cell_type": "code",
   "execution_count": 46,
   "id": "96337260",
   "metadata": {},
   "outputs": [
    {
     "data": {
      "image/png": "[encoded data removed]",
      "text/plain": [
       "<Figure size 360x360 with 1 Axes>"
      ]
     },
     "metadata": {
      "needs_background": "light"
     },
     "output_type": "display_data"
    }
   ],
   "source": [
    "# Education:\n",
    "\n",
    "plt.figure(figsize=(5,5))\n",
    "sns.countplot(loan_data.Education);"
   ]
  },
  {
   "cell_type": "code",
   "execution_count": 36,
   "id": "bd3d3650",
   "metadata": {},
   "outputs": [],
   "source": [
    "# Observation: Here we can see that the count is high in column \"Graduate\" and low in the other."
   ]
  },
  {
   "cell_type": "markdown",
   "id": "3e930612",
   "metadata": {},
   "source": [
    "# Self_Employed:"
   ]
  },
  {
   "cell_type": "code",
   "execution_count": 47,
   "id": "6802f55c",
   "metadata": {},
   "outputs": [
    {
     "data": {
      "image/png": "[encoded data removed]",
      "text/plain": [
       "<Figure size 360x360 with 1 Axes>"
      ]
     },
     "metadata": {
      "needs_background": "light"
     },
     "output_type": "display_data"
    }
   ],
   "source": [
    "# Self_Employed:\n",
    "\n",
    "plt.figure(figsize=(5,5))\n",
    "sns.countplot(loan_data.Self_Employed);"
   ]
  },
  {
   "cell_type": "code",
   "execution_count": 47,
   "id": "17128268",
   "metadata": {},
   "outputs": [],
   "source": [
    "# Observation: Here we can see that the count is high in the category \"No\" of the column \"Self_Employed\"."
   ]
  },
  {
   "cell_type": "markdown",
   "id": "fe5a2956",
   "metadata": {},
   "source": [
    "# ApplicantIncome:"
   ]
  },
  {
   "cell_type": "code",
   "execution_count": 48,
   "id": "c420743f",
   "metadata": {},
   "outputs": [
    {
     "data": {
      "image/png": "[encoded data removed]",
      "text/plain": [
       "<Figure size 864x576 with 3 Axes>"
      ]
     },
     "metadata": {
      "needs_background": "light"
     },
     "output_type": "display_data"
    }
   ],
   "source": [
    "# ApplicantIncome:\n",
    "\n",
    "plt.figure(figsize=(12,8))\n",
    "plt.subplot(2,2,1)\n",
    "sns.distplot(loan_data['ApplicantIncome'], kde=False, bins=range(0, 10000, 500));\n",
    "plt.subplot(2,2,2)\n",
    "sns.boxplot(loan_data['ApplicantIncome']);\n",
    "plt.subplot(2,2,3)\n",
    "sns.distplot(loan_data['ApplicantIncome']);"
   ]
  },
  {
   "cell_type": "code",
   "execution_count": 34,
   "id": "8abe9e0b",
   "metadata": {},
   "outputs": [],
   "source": [
    "# Observation: Here we can see tnat there are outliers present in the boxplot and the distribution curve is with narrow in its\n",
    "# peak and has skewness."
   ]
  },
  {
   "cell_type": "markdown",
   "id": "9d0478cd",
   "metadata": {},
   "source": [
    "# CoapplicantIncome:"
   ]
  },
  {
   "cell_type": "code",
   "execution_count": 49,
   "id": "b3cd6978",
   "metadata": {},
   "outputs": [
    {
     "data": {
      "image/png": "[encoded data removed]",
      "text/plain": [
       "<Figure size 864x576 with 3 Axes>"
      ]
     },
     "metadata": {
      "needs_background": "light"
     },
     "output_type": "display_data"
    }
   ],
   "source": [
    "# CoapplicantIncome:\n",
    "\n",
    "plt.figure(figsize=(12,8))\n",
    "plt.subplot(2,2,1)\n",
    "sns.distplot(loan_data['CoapplicantIncome'], kde=False, bins=range(0, 10000, 500));\n",
    "plt.subplot(2,2,2)\n",
    "sns.boxplot(loan_data['CoapplicantIncome']);\n",
    "plt.subplot(2,2,3)\n",
    "sns.distplot(loan_data['CoapplicantIncome']);"
   ]
  },
  {
   "cell_type": "code",
   "execution_count": 33,
   "id": "ec693078",
   "metadata": {},
   "outputs": [],
   "source": [
    "# Observation: Here we can see tnat there are outliers present in the boxplot and the distribution curve is with narrow in its\n",
    "# peak and has skewness."
   ]
  },
  {
   "cell_type": "markdown",
   "id": "422e8bf2",
   "metadata": {},
   "source": [
    "# LoanAmount:"
   ]
  },
  {
   "cell_type": "code",
   "execution_count": 50,
   "id": "0418b770",
   "metadata": {},
   "outputs": [
    {
     "data": {
      "image/png": "[encoded data removed]",
      "text/plain": [
       "<Figure size 864x576 with 3 Axes>"
      ]
     },
     "metadata": {
      "needs_background": "light"
     },
     "output_type": "display_data"
    }
   ],
   "source": [
    "# LoanAmount:\n",
    "\n",
    "plt.figure(figsize=(12,8))\n",
    "plt.subplot(2,2,1)\n",
    "sns.distplot(loan_data['LoanAmount'], kde=False, bins=range(0, 1000, 50));\n",
    "plt.subplot(2,2,2)\n",
    "sns.boxplot(loan_data['LoanAmount']);\n",
    "plt.subplot(2,2,3)\n",
    "sns.distplot(loan_data['LoanAmount']);"
   ]
  },
  {
   "cell_type": "code",
   "execution_count": 32,
   "id": "9ba2b1a6",
   "metadata": {},
   "outputs": [],
   "source": [
    "# Observation: Here we can see tnat there are outliers present in the boxplot and the distribution curve is with narrow in its\n",
    "# peak and has skewness."
   ]
  },
  {
   "cell_type": "markdown",
   "id": "0b060de0",
   "metadata": {},
   "source": [
    "# Loan_Amount_Term:"
   ]
  },
  {
   "cell_type": "code",
   "execution_count": 51,
   "id": "43236215",
   "metadata": {},
   "outputs": [
    {
     "data": {
      "image/png": "[encoded data removed]",
      "text/plain": [
       "<Figure size 864x576 with 3 Axes>"
      ]
     },
     "metadata": {
      "needs_background": "light"
     },
     "output_type": "display_data"
    }
   ],
   "source": [
    "# Loan_Amount_Term:\n",
    "\n",
    "plt.figure(figsize=(12,8))\n",
    "plt.subplot(2,2,1)\n",
    "sns.distplot(loan_data['Loan_Amount_Term'], kde=False, bins=range(0, 1000, 50));\n",
    "plt.subplot(2,2,2)\n",
    "sns.boxplot(loan_data['Loan_Amount_Term']);\n",
    "plt.subplot(2,2,3)\n",
    "sns.distplot(loan_data['Loan_Amount_Term']);"
   ]
  },
  {
   "cell_type": "code",
   "execution_count": 52,
   "id": "8c855753",
   "metadata": {
    "scrolled": true
   },
   "outputs": [
    {
     "data": {
      "image/png": "[encoded data removed]",
      "text/plain": [
       "<Figure size 2160x1080 with 1 Axes>"
      ]
     },
     "metadata": {
      "needs_background": "light"
     },
     "output_type": "display_data"
    }
   ],
   "source": [
    "plt.figure(figsize=(30,15))\n",
    "sns.countplot(loan_data.Loan_Amount_Term);"
   ]
  },
  {
   "cell_type": "code",
   "execution_count": 31,
   "id": "2989a2de",
   "metadata": {},
   "outputs": [],
   "source": [
    "# Observation: Here we can see that the category \"12.0\" is with lowest count and highest count is in the category \"360.0\"  and\n",
    "# also there are outliers can be seen in boxplot and also we can see that there is no normal distribution curve at all."
   ]
  },
  {
   "cell_type": "markdown",
   "id": "7b7f46f2",
   "metadata": {},
   "source": [
    "# Credit_History:"
   ]
  },
  {
   "cell_type": "code",
   "execution_count": 53,
   "id": "fdfeaa7a",
   "metadata": {},
   "outputs": [
    {
     "data": {
      "image/png": "[encoded data removed]",
      "text/plain": [
       "<Figure size 360x360 with 1 Axes>"
      ]
     },
     "metadata": {
      "needs_background": "light"
     },
     "output_type": "display_data"
    }
   ],
   "source": [
    "# Credit_History:\n",
    "\n",
    "plt.figure(figsize=(5,5))\n",
    "sns.countplot(loan_data.Credit_History);"
   ]
  },
  {
   "cell_type": "code",
   "execution_count": 29,
   "id": "3e81354f",
   "metadata": {},
   "outputs": [],
   "source": [
    "# Observation: Here we can see that the \"Credit_History\" is highest in category \"1.0\" ."
   ]
  },
  {
   "cell_type": "markdown",
   "id": "35785cf3",
   "metadata": {},
   "source": [
    "# Property_Area:"
   ]
  },
  {
   "cell_type": "code",
   "execution_count": 54,
   "id": "0e52f4f5",
   "metadata": {},
   "outputs": [
    {
     "data": {
      "image/png": "[encoded data removed]",
      "text/plain": [
       "<Figure size 360x360 with 1 Axes>"
      ]
     },
     "metadata": {
      "needs_background": "light"
     },
     "output_type": "display_data"
    }
   ],
   "source": [
    "plt.figure(figsize=(5,5))\n",
    "sns.countplot(loan_data.Property_Area);"
   ]
  },
  {
   "cell_type": "code",
   "execution_count": 28,
   "id": "1b9decef",
   "metadata": {},
   "outputs": [],
   "source": [
    "# Observation: Here we can see that the Count is more in the Category \"Semiurban\" and least in the category \"Rural\"."
   ]
  },
  {
   "cell_type": "markdown",
   "id": "2c9e672e",
   "metadata": {},
   "source": [
    "# Bivariate Analysis:"
   ]
  },
  {
   "cell_type": "markdown",
   "id": "aeb9d5aa",
   "metadata": {},
   "source": [
    "## As our prediction is \"Loan_status\", now we will analyse all the columns based on it:"
   ]
  },
  {
   "cell_type": "code",
   "execution_count": 55,
   "id": "6c348917",
   "metadata": {},
   "outputs": [
    {
     "data": {
      "text/plain": [
       "Index(['Gender', 'Married', 'Dependents', 'Education', 'Self_Employed',\n",
       "       'ApplicantIncome', 'CoapplicantIncome', 'LoanAmount',\n",
       "       'Loan_Amount_Term', 'Credit_History', 'Property_Area', 'Loan_Status'],\n",
       "      dtype='object')"
      ]
     },
     "execution_count": 55,
     "metadata": {},
     "output_type": "execute_result"
    }
   ],
   "source": [
    "loan_data.columns"
   ]
  },
  {
   "cell_type": "markdown",
   "id": "4c127ff1",
   "metadata": {},
   "source": [
    "## a) Relationship between \"Loan_Status\" and \"Gender\":"
   ]
  },
  {
   "cell_type": "code",
   "execution_count": 56,
   "id": "9850d84b",
   "metadata": {},
   "outputs": [
    {
     "data": {
      "text/plain": [
       "<AxesSubplot:xlabel='Loan_Status', ylabel='Gender'>"
      ]
     },
     "execution_count": 56,
     "metadata": {},
     "output_type": "execute_result"
    },
    {
     "data": {
      "image/png": "[encoded data removed]",
      "text/plain": [
       "<Figure size 360x360 with 1 Axes>"
      ]
     },
     "metadata": {
      "needs_background": "light"
     },
     "output_type": "display_data"
    }
   ],
   "source": [
    "plot = plt.figure(figsize = (5,5))\n",
    "sns.scatterplot(x = 'Loan_Status', y = 'Gender', data = loan_data )"
   ]
  },
  {
   "cell_type": "code",
   "execution_count": 27,
   "id": "1a1de55f",
   "metadata": {},
   "outputs": [],
   "source": [
    "# Observation: Here we can see that there is no effective plots between the columns and with no distribution pattern and density."
   ]
  },
  {
   "cell_type": "markdown",
   "id": "394f142c",
   "metadata": {},
   "source": [
    "# Relationship between \"Loan_status\" and \"Married\":"
   ]
  },
  {
   "cell_type": "code",
   "execution_count": 57,
   "id": "89626cbc",
   "metadata": {},
   "outputs": [
    {
     "data": {
      "text/plain": [
       "<AxesSubplot:xlabel='Loan_Status', ylabel='Married'>"
      ]
     },
     "execution_count": 57,
     "metadata": {},
     "output_type": "execute_result"
    },
    {
     "data": {
      "image/png": "[encoded data removed]",
      "text/plain": [
       "<Figure size 360x360 with 1 Axes>"
      ]
     },
     "metadata": {
      "needs_background": "light"
     },
     "output_type": "display_data"
    }
   ],
   "source": [
    "plot = plt.figure(figsize = (5,5))\n",
    "sns.scatterplot(x = 'Loan_Status', y = 'Married', data = loan_data )"
   ]
  },
  {
   "cell_type": "code",
   "execution_count": 26,
   "id": "9fdff53a",
   "metadata": {},
   "outputs": [],
   "source": [
    "# Observation: Here we can see that there is no effective plots between the columns and with no distributio pattern and density."
   ]
  },
  {
   "cell_type": "markdown",
   "id": "acbf6111",
   "metadata": {},
   "source": [
    "# Relationship between \"Loan_status\" and \"Dependents\":"
   ]
  },
  {
   "cell_type": "code",
   "execution_count": 58,
   "id": "e1feea0b",
   "metadata": {},
   "outputs": [
    {
     "data": {
      "text/plain": [
       "<AxesSubplot:xlabel='Loan_Status', ylabel='Dependents'>"
      ]
     },
     "execution_count": 58,
     "metadata": {},
     "output_type": "execute_result"
    },
    {
     "data": {
      "image/png": "[encoded data removed]",
      "text/plain": [
       "<Figure size 360x360 with 1 Axes>"
      ]
     },
     "metadata": {
      "needs_background": "light"
     },
     "output_type": "display_data"
    }
   ],
   "source": [
    "plot = plt.figure(figsize = (5,5))\n",
    "sns.scatterplot(x = 'Loan_Status', y = 'Dependents', data = loan_data )"
   ]
  },
  {
   "cell_type": "code",
   "execution_count": 25,
   "id": "c721294d",
   "metadata": {},
   "outputs": [],
   "source": [
    "# Observation: Here we can see that as the \"Dependents\" are increasing the categories Y and N are with no effective distribution pattern."
   ]
  },
  {
   "cell_type": "markdown",
   "id": "95cc198c",
   "metadata": {},
   "source": [
    "# Relationship between \"Loan_status\" and \"Education\":"
   ]
  },
  {
   "cell_type": "code",
   "execution_count": 59,
   "id": "235615b5",
   "metadata": {},
   "outputs": [
    {
     "data": {
      "text/plain": [
       "<AxesSubplot:xlabel='Loan_Status', ylabel='Education'>"
      ]
     },
     "execution_count": 59,
     "metadata": {},
     "output_type": "execute_result"
    },
    {
     "data": {
      "image/png": "[encoded data removed]",
      "text/plain": [
       "<Figure size 360x360 with 1 Axes>"
      ]
     },
     "metadata": {
      "needs_background": "light"
     },
     "output_type": "display_data"
    }
   ],
   "source": [
    "plot = plt.figure(figsize = (5,5))\n",
    "sns.scatterplot(x = 'Loan_Status', y = 'Education', data = loan_data )"
   ]
  },
  {
   "cell_type": "code",
   "execution_count": 24,
   "id": "1243d245",
   "metadata": {},
   "outputs": [],
   "source": [
    "# Observation: Here we can see that there is no effective plots between the columns and with no distributio pattern and density."
   ]
  },
  {
   "cell_type": "markdown",
   "id": "3c0106db",
   "metadata": {},
   "source": [
    "# Relationship between \"Loan_status\" and \"Self_Employed\":"
   ]
  },
  {
   "cell_type": "code",
   "execution_count": 60,
   "id": "d4a84c46",
   "metadata": {},
   "outputs": [
    {
     "data": {
      "text/plain": [
       "<AxesSubplot:xlabel='Loan_Status', ylabel='Self_Employed'>"
      ]
     },
     "execution_count": 60,
     "metadata": {},
     "output_type": "execute_result"
    },
    {
     "data": {
      "image/png": "[encoded data removed]",
      "text/plain": [
       "<Figure size 360x360 with 1 Axes>"
      ]
     },
     "metadata": {
      "needs_background": "light"
     },
     "output_type": "display_data"
    }
   ],
   "source": [
    "plot = plt.figure(figsize = (5,5))\n",
    "sns.scatterplot(x = 'Loan_Status', y = 'Self_Employed', data = loan_data )"
   ]
  },
  {
   "cell_type": "code",
   "execution_count": 23,
   "id": "8de2cf05",
   "metadata": {},
   "outputs": [],
   "source": [
    "# Observation: Here we can see that there is no effective plots between the columns and with no distributio pattern and density."
   ]
  },
  {
   "cell_type": "markdown",
   "id": "7adab66e",
   "metadata": {},
   "source": [
    "# Relationship between \"Loan_status\" and \"ApplicantIncome\":"
   ]
  },
  {
   "cell_type": "code",
   "execution_count": 61,
   "id": "6fb426b5",
   "metadata": {},
   "outputs": [
    {
     "data": {
      "text/plain": [
       "<AxesSubplot:xlabel='Loan_Status', ylabel='ApplicantIncome'>"
      ]
     },
     "execution_count": 61,
     "metadata": {},
     "output_type": "execute_result"
    },
    {
     "data": {
      "image/png": "[encoded data removed]",
      "text/plain": [
       "<Figure size 360x360 with 1 Axes>"
      ]
     },
     "metadata": {
      "needs_background": "light"
     },
     "output_type": "display_data"
    }
   ],
   "source": [
    "plot = plt.figure(figsize = (5,5))\n",
    "sns.scatterplot(x = 'Loan_Status', y = 'ApplicantIncome', data = loan_data )"
   ]
  },
  {
   "cell_type": "code",
   "execution_count": 21,
   "id": "0ed0a491",
   "metadata": {},
   "outputs": [],
   "source": [
    "# Observation: Here we can see that the highest value of \"ApplicantIncome\" is with few and no density in the category \"Y\" of the Loan_status\n",
    "# and in the category \"N\" there is no density and in both of them the density is more in lower side of the \"ApplicantIncome\"."
   ]
  },
  {
   "cell_type": "markdown",
   "id": "09c89a13",
   "metadata": {},
   "source": [
    "# Relationship between \"Loan_status\" and \"CoapplicantIncome\":"
   ]
  },
  {
   "cell_type": "code",
   "execution_count": 62,
   "id": "4a49b5c9",
   "metadata": {},
   "outputs": [
    {
     "data": {
      "text/plain": [
       "<AxesSubplot:xlabel='Loan_Status', ylabel='CoapplicantIncome'>"
      ]
     },
     "execution_count": 62,
     "metadata": {},
     "output_type": "execute_result"
    },
    {
     "data": {
      "image/png": "[encoded data removed]",
      "text/plain": [
       "<Figure size 360x360 with 1 Axes>"
      ]
     },
     "metadata": {
      "needs_background": "light"
     },
     "output_type": "display_data"
    }
   ],
   "source": [
    "plot = plt.figure(figsize = (5,5))\n",
    "sns.scatterplot(x = 'Loan_Status', y = 'CoapplicantIncome', data = loan_data )"
   ]
  },
  {
   "cell_type": "code",
   "execution_count": 20,
   "id": "204816c3",
   "metadata": {},
   "outputs": [],
   "source": [
    "# Observation: Here we can see that the highest value of \"CoapplicantIncome\" is with no density in the category \"Y\" of the Loan_status\n",
    "# and in the category \"N\" there are few also with no density and in both of them the density is more in lower side of the \"CoapplicantIncome\"."
   ]
  },
  {
   "cell_type": "markdown",
   "id": "3e4b73a5",
   "metadata": {},
   "source": [
    "# Relationship between \"Loan_status\" and \"LoanAmount\":"
   ]
  },
  {
   "cell_type": "code",
   "execution_count": 63,
   "id": "504dad8d",
   "metadata": {},
   "outputs": [
    {
     "data": {
      "text/plain": [
       "<AxesSubplot:xlabel='Loan_Status', ylabel='LoanAmount'>"
      ]
     },
     "execution_count": 63,
     "metadata": {},
     "output_type": "execute_result"
    },
    {
     "data": {
      "image/png": "[encoded data removed]",
      "text/plain": [
       "<Figure size 360x360 with 1 Axes>"
      ]
     },
     "metadata": {
      "needs_background": "light"
     },
     "output_type": "display_data"
    }
   ],
   "source": [
    "plot = plt.figure(figsize = (5,5))\n",
    "sns.scatterplot(x = 'Loan_Status', y = 'LoanAmount', data = loan_data )"
   ]
  },
  {
   "cell_type": "code",
   "execution_count": 19,
   "id": "9228d267",
   "metadata": {},
   "outputs": [],
   "source": [
    "# Observation: Here we can see that as the \"LoanAmount\" increases the density distribution decreased and is more in both of the\n",
    "# categories of the column \"Loan_Status\" in the lower side of the \"LoanAmount\"."
   ]
  },
  {
   "cell_type": "markdown",
   "id": "82f56e40",
   "metadata": {},
   "source": [
    "# Relationship between \"Loan_Status\" and \"Loan_Amount_Term\":"
   ]
  },
  {
   "cell_type": "code",
   "execution_count": 64,
   "id": "aca0d18b",
   "metadata": {},
   "outputs": [
    {
     "data": {
      "text/plain": [
       "<AxesSubplot:xlabel='Loan_Status', ylabel='Loan_Amount_Term'>"
      ]
     },
     "execution_count": 64,
     "metadata": {},
     "output_type": "execute_result"
    },
    {
     "data": {
      "image/png": "[encoded data removed]",
      "text/plain": [
       "<Figure size 360x360 with 1 Axes>"
      ]
     },
     "metadata": {
      "needs_background": "light"
     },
     "output_type": "display_data"
    }
   ],
   "source": [
    "plot = plt.figure(figsize = (5,5))\n",
    "sns.scatterplot(x = 'Loan_Status', y = 'Loan_Amount_Term', data = loan_data )"
   ]
  },
  {
   "cell_type": "code",
   "execution_count": 18,
   "id": "f63e25d8",
   "metadata": {},
   "outputs": [],
   "source": [
    "# Observation: Here we can see that as the \"Loan_Amount_Term\" increases we can see that there is uneven distribution of the \n",
    "# \"Loan_Status\" (Y and N) ."
   ]
  },
  {
   "cell_type": "markdown",
   "id": "757a5a92",
   "metadata": {},
   "source": [
    "# Relationship between \"Loan_Status\" and \"Credit_History\":"
   ]
  },
  {
   "cell_type": "code",
   "execution_count": 65,
   "id": "5417f424",
   "metadata": {},
   "outputs": [
    {
     "data": {
      "text/plain": [
       "<AxesSubplot:xlabel='Loan_Status', ylabel='Credit_History'>"
      ]
     },
     "execution_count": 65,
     "metadata": {},
     "output_type": "execute_result"
    },
    {
     "data": {
      "image/png": "[encoded data removed]",
      "text/plain": [
       "<Figure size 360x360 with 1 Axes>"
      ]
     },
     "metadata": {
      "needs_background": "light"
     },
     "output_type": "display_data"
    }
   ],
   "source": [
    "plot = plt.figure(figsize = (5,5))\n",
    "sns.scatterplot(x = 'Loan_Status', y = 'Credit_History', data = loan_data )"
   ]
  },
  {
   "cell_type": "code",
   "execution_count": 17,
   "id": "128e5715",
   "metadata": {},
   "outputs": [],
   "source": [
    "# Observation: Here we can see that in the column \"Credit_History\" there is Loan_Status(Y) for Credit_History (0.0) and also there\n",
    "# is Loan_Status(N) for Credit_History(0.0) and is same for highest Credit_History(1.0)"
   ]
  },
  {
   "cell_type": "markdown",
   "id": "c8e7b4ba",
   "metadata": {},
   "source": [
    "# Relationship between \"Loan_Status\" and \"Property_Area\":"
   ]
  },
  {
   "cell_type": "code",
   "execution_count": 66,
   "id": "d6e26aba",
   "metadata": {},
   "outputs": [
    {
     "data": {
      "text/plain": [
       "<AxesSubplot:xlabel='Loan_Status', ylabel='Property_Area'>"
      ]
     },
     "execution_count": 66,
     "metadata": {},
     "output_type": "execute_result"
    },
    {
     "data": {
      "image/png": "[encoded data removed]",
      "text/plain": [
       "<Figure size 360x360 with 1 Axes>"
      ]
     },
     "metadata": {
      "needs_background": "light"
     },
     "output_type": "display_data"
    }
   ],
   "source": [
    "plot = plt.figure(figsize = (5,5))\n",
    "sns.scatterplot(x = 'Loan_Status', y = 'Property_Area', data = loan_data )"
   ]
  },
  {
   "cell_type": "code",
   "execution_count": 16,
   "id": "d3c44aa9",
   "metadata": {},
   "outputs": [],
   "source": [
    "# Observation: Here we can see that as the column \"Property_Area\" is with different categories and few of them in each of the \n",
    "# categories are with Loan_Status(Y) and the few with Loan_Status(N)"
   ]
  },
  {
   "cell_type": "markdown",
   "id": "2ba5aa82",
   "metadata": {},
   "source": [
    "# Multivariate Analysis:"
   ]
  },
  {
   "cell_type": "markdown",
   "id": "59b210e8",
   "metadata": {},
   "source": [
    "## Finding the correlation between the variables:"
   ]
  },
  {
   "cell_type": "code",
   "execution_count": 67,
   "id": "108e9084",
   "metadata": {},
   "outputs": [],
   "source": [
    "corr_data = loan_data.corr()"
   ]
  },
  {
   "cell_type": "code",
   "execution_count": 68,
   "id": "6a98ad94",
   "metadata": {},
   "outputs": [
    {
     "data": {
      "image/png": "[encoded data removed]",
      "text/plain": [
       "<Figure size 2880x1800 with 2 Axes>"
      ]
     },
     "metadata": {
      "needs_background": "light"
     },
     "output_type": "display_data"
    }
   ],
   "source": [
    "plt.figure(figsize =(40,25))\n",
    "sns.heatmap(corr_data,annot = True,fmt = \".0%\",cbar = True,square = True,annot_kws = {'size': 20}, cmap = 'Reds')\n",
    "plt.show()"
   ]
  },
  {
   "cell_type": "code",
   "execution_count": 15,
   "id": "704d08b7",
   "metadata": {},
   "outputs": [],
   "source": [
    "# Observation: Here we can see that all the variables with low correlation with eachother and the columns \"Loanamount\" and the \n",
    "# \"Applicantincome\" are with correlation of 56%."
   ]
  },
  {
   "cell_type": "markdown",
   "id": "2c8db14b",
   "metadata": {},
   "source": [
    "## Checking the data description through statistical analysis of the data:"
   ]
  },
  {
   "cell_type": "code",
   "execution_count": 69,
   "id": "b6d5b060",
   "metadata": {},
   "outputs": [
    {
     "data": {
      "text/html": [
       "<div>\n",
       "<style scoped>\n",
       "    .dataframe tbody tr th:only-of-type {\n",
       "        vertical-align: middle;\n",
       "    }\n",
       "\n",
       "    .dataframe tbody tr th {\n",
       "        vertical-align: top;\n",
       "    }\n",
       "\n",
       "    .dataframe thead th {\n",
       "        text-align: right;\n",
       "    }\n",
       "</style>\n",
       "<table border=\"1\" class=\"dataframe\">\n",
       "  <thead>\n",
       "    <tr style=\"text-align: right;\">\n",
       "      <th></th>\n",
       "      <th>ApplicantIncome</th>\n",
       "      <th>CoapplicantIncome</th>\n",
       "      <th>LoanAmount</th>\n",
       "      <th>Loan_Amount_Term</th>\n",
       "      <th>Credit_History</th>\n",
       "    </tr>\n",
       "  </thead>\n",
       "  <tbody>\n",
       "    <tr>\n",
       "      <th>count</th>\n",
       "      <td>614.000000</td>\n",
       "      <td>614.000000</td>\n",
       "      <td>614.000000</td>\n",
       "      <td>614.000000</td>\n",
       "      <td>614.000000</td>\n",
       "    </tr>\n",
       "    <tr>\n",
       "      <th>mean</th>\n",
       "      <td>5403.459283</td>\n",
       "      <td>1621.245798</td>\n",
       "      <td>145.465798</td>\n",
       "      <td>342.000000</td>\n",
       "      <td>0.855049</td>\n",
       "    </tr>\n",
       "    <tr>\n",
       "      <th>std</th>\n",
       "      <td>6109.041673</td>\n",
       "      <td>2926.248369</td>\n",
       "      <td>84.180967</td>\n",
       "      <td>64.372489</td>\n",
       "      <td>0.352339</td>\n",
       "    </tr>\n",
       "    <tr>\n",
       "      <th>min</th>\n",
       "      <td>150.000000</td>\n",
       "      <td>0.000000</td>\n",
       "      <td>9.000000</td>\n",
       "      <td>12.000000</td>\n",
       "      <td>0.000000</td>\n",
       "    </tr>\n",
       "    <tr>\n",
       "      <th>25%</th>\n",
       "      <td>2877.500000</td>\n",
       "      <td>0.000000</td>\n",
       "      <td>100.250000</td>\n",
       "      <td>360.000000</td>\n",
       "      <td>1.000000</td>\n",
       "    </tr>\n",
       "    <tr>\n",
       "      <th>50%</th>\n",
       "      <td>3812.500000</td>\n",
       "      <td>1188.500000</td>\n",
       "      <td>125.000000</td>\n",
       "      <td>360.000000</td>\n",
       "      <td>1.000000</td>\n",
       "    </tr>\n",
       "    <tr>\n",
       "      <th>75%</th>\n",
       "      <td>5795.000000</td>\n",
       "      <td>2297.250000</td>\n",
       "      <td>164.750000</td>\n",
       "      <td>360.000000</td>\n",
       "      <td>1.000000</td>\n",
       "    </tr>\n",
       "    <tr>\n",
       "      <th>max</th>\n",
       "      <td>81000.000000</td>\n",
       "      <td>41667.000000</td>\n",
       "      <td>700.000000</td>\n",
       "      <td>480.000000</td>\n",
       "      <td>1.000000</td>\n",
       "    </tr>\n",
       "  </tbody>\n",
       "</table>\n",
       "</div>"
      ],
      "text/plain": [
       "       ApplicantIncome  CoapplicantIncome  LoanAmount  Loan_Amount_Term  \\\n",
       "count       614.000000         614.000000  614.000000        614.000000   \n",
       "mean       5403.459283        1621.245798  145.465798        342.000000   \n",
       "std        6109.041673        2926.248369   84.180967         64.372489   \n",
       "min         150.000000           0.000000    9.000000         12.000000   \n",
       "25%        2877.500000           0.000000  100.250000        360.000000   \n",
       "50%        3812.500000        1188.500000  125.000000        360.000000   \n",
       "75%        5795.000000        2297.250000  164.750000        360.000000   \n",
       "max       81000.000000       41667.000000  700.000000        480.000000   \n",
       "\n",
       "       Credit_History  \n",
       "count      614.000000  \n",
       "mean         0.855049  \n",
       "std          0.352339  \n",
       "min          0.000000  \n",
       "25%          1.000000  \n",
       "50%          1.000000  \n",
       "75%          1.000000  \n",
       "max          1.000000  "
      ]
     },
     "execution_count": 69,
     "metadata": {},
     "output_type": "execute_result"
    }
   ],
   "source": [
    "loan_data.describe()"
   ]
  },
  {
   "cell_type": "code",
   "execution_count": 14,
   "id": "e4b1401b",
   "metadata": {},
   "outputs": [],
   "source": [
    "# Observation: Here we can see that the columns are with equal count to the number of rows present."
   ]
  },
  {
   "cell_type": "markdown",
   "id": "2928eea6",
   "metadata": {},
   "source": [
    "# Transforming the data :"
   ]
  },
  {
   "cell_type": "markdown",
   "id": "b9f1a151",
   "metadata": {},
   "source": [
    "## Transforming the non-numerical columns into numerical:"
   ]
  },
  {
   "cell_type": "code",
   "execution_count": 70,
   "id": "53dd299b",
   "metadata": {},
   "outputs": [],
   "source": [
    "from sklearn.preprocessing import LabelEncoder"
   ]
  },
  {
   "cell_type": "code",
   "execution_count": 71,
   "id": "8171b698",
   "metadata": {},
   "outputs": [],
   "source": [
    "# Inspite of mentioning each and every which has strings we user \"forloop\" here as the data seems to be big."
   ]
  },
  {
   "cell_type": "code",
   "execution_count": 72,
   "id": "4415e58f",
   "metadata": {},
   "outputs": [],
   "source": [
    "for column in loan_data.columns:\n",
    "    if loan_data[column].dtype == np.number:\n",
    "        continue\n",
    "    loan_data[column] = LabelEncoder().fit_transform(loan_data[column])\n",
    "        "
   ]
  },
  {
   "cell_type": "code",
   "execution_count": 73,
   "id": "76290793",
   "metadata": {},
   "outputs": [
    {
     "data": {
      "text/html": [
       "<div>\n",
       "<style scoped>\n",
       "    .dataframe tbody tr th:only-of-type {\n",
       "        vertical-align: middle;\n",
       "    }\n",
       "\n",
       "    .dataframe tbody tr th {\n",
       "        vertical-align: top;\n",
       "    }\n",
       "\n",
       "    .dataframe thead th {\n",
       "        text-align: right;\n",
       "    }\n",
       "</style>\n",
       "<table border=\"1\" class=\"dataframe\">\n",
       "  <thead>\n",
       "    <tr style=\"text-align: right;\">\n",
       "      <th></th>\n",
       "      <th>Gender</th>\n",
       "      <th>Married</th>\n",
       "      <th>Dependents</th>\n",
       "      <th>Education</th>\n",
       "      <th>Self_Employed</th>\n",
       "      <th>ApplicantIncome</th>\n",
       "      <th>CoapplicantIncome</th>\n",
       "      <th>LoanAmount</th>\n",
       "      <th>Loan_Amount_Term</th>\n",
       "      <th>Credit_History</th>\n",
       "      <th>Property_Area</th>\n",
       "      <th>Loan_Status</th>\n",
       "    </tr>\n",
       "  </thead>\n",
       "  <tbody>\n",
       "    <tr>\n",
       "      <th>0</th>\n",
       "      <td>1</td>\n",
       "      <td>0</td>\n",
       "      <td>0</td>\n",
       "      <td>0</td>\n",
       "      <td>0</td>\n",
       "      <td>376</td>\n",
       "      <td>0.0</td>\n",
       "      <td>120.0</td>\n",
       "      <td>360.0</td>\n",
       "      <td>1.0</td>\n",
       "      <td>2</td>\n",
       "      <td>1</td>\n",
       "    </tr>\n",
       "    <tr>\n",
       "      <th>1</th>\n",
       "      <td>1</td>\n",
       "      <td>1</td>\n",
       "      <td>1</td>\n",
       "      <td>0</td>\n",
       "      <td>0</td>\n",
       "      <td>306</td>\n",
       "      <td>1508.0</td>\n",
       "      <td>128.0</td>\n",
       "      <td>360.0</td>\n",
       "      <td>1.0</td>\n",
       "      <td>0</td>\n",
       "      <td>0</td>\n",
       "    </tr>\n",
       "    <tr>\n",
       "      <th>2</th>\n",
       "      <td>1</td>\n",
       "      <td>1</td>\n",
       "      <td>0</td>\n",
       "      <td>0</td>\n",
       "      <td>1</td>\n",
       "      <td>139</td>\n",
       "      <td>0.0</td>\n",
       "      <td>66.0</td>\n",
       "      <td>360.0</td>\n",
       "      <td>1.0</td>\n",
       "      <td>2</td>\n",
       "      <td>1</td>\n",
       "    </tr>\n",
       "    <tr>\n",
       "      <th>3</th>\n",
       "      <td>1</td>\n",
       "      <td>1</td>\n",
       "      <td>0</td>\n",
       "      <td>1</td>\n",
       "      <td>0</td>\n",
       "      <td>90</td>\n",
       "      <td>2358.0</td>\n",
       "      <td>120.0</td>\n",
       "      <td>360.0</td>\n",
       "      <td>1.0</td>\n",
       "      <td>2</td>\n",
       "      <td>1</td>\n",
       "    </tr>\n",
       "    <tr>\n",
       "      <th>4</th>\n",
       "      <td>1</td>\n",
       "      <td>0</td>\n",
       "      <td>0</td>\n",
       "      <td>0</td>\n",
       "      <td>0</td>\n",
       "      <td>381</td>\n",
       "      <td>0.0</td>\n",
       "      <td>141.0</td>\n",
       "      <td>360.0</td>\n",
       "      <td>1.0</td>\n",
       "      <td>2</td>\n",
       "      <td>1</td>\n",
       "    </tr>\n",
       "    <tr>\n",
       "      <th>...</th>\n",
       "      <td>...</td>\n",
       "      <td>...</td>\n",
       "      <td>...</td>\n",
       "      <td>...</td>\n",
       "      <td>...</td>\n",
       "      <td>...</td>\n",
       "      <td>...</td>\n",
       "      <td>...</td>\n",
       "      <td>...</td>\n",
       "      <td>...</td>\n",
       "      <td>...</td>\n",
       "      <td>...</td>\n",
       "    </tr>\n",
       "    <tr>\n",
       "      <th>609</th>\n",
       "      <td>0</td>\n",
       "      <td>0</td>\n",
       "      <td>0</td>\n",
       "      <td>0</td>\n",
       "      <td>0</td>\n",
       "      <td>125</td>\n",
       "      <td>0.0</td>\n",
       "      <td>71.0</td>\n",
       "      <td>360.0</td>\n",
       "      <td>1.0</td>\n",
       "      <td>0</td>\n",
       "      <td>1</td>\n",
       "    </tr>\n",
       "    <tr>\n",
       "      <th>610</th>\n",
       "      <td>1</td>\n",
       "      <td>1</td>\n",
       "      <td>3</td>\n",
       "      <td>0</td>\n",
       "      <td>0</td>\n",
       "      <td>275</td>\n",
       "      <td>0.0</td>\n",
       "      <td>40.0</td>\n",
       "      <td>180.0</td>\n",
       "      <td>1.0</td>\n",
       "      <td>0</td>\n",
       "      <td>1</td>\n",
       "    </tr>\n",
       "    <tr>\n",
       "      <th>611</th>\n",
       "      <td>1</td>\n",
       "      <td>1</td>\n",
       "      <td>1</td>\n",
       "      <td>0</td>\n",
       "      <td>0</td>\n",
       "      <td>431</td>\n",
       "      <td>240.0</td>\n",
       "      <td>253.0</td>\n",
       "      <td>360.0</td>\n",
       "      <td>1.0</td>\n",
       "      <td>2</td>\n",
       "      <td>1</td>\n",
       "    </tr>\n",
       "    <tr>\n",
       "      <th>612</th>\n",
       "      <td>1</td>\n",
       "      <td>1</td>\n",
       "      <td>2</td>\n",
       "      <td>0</td>\n",
       "      <td>0</td>\n",
       "      <td>422</td>\n",
       "      <td>0.0</td>\n",
       "      <td>187.0</td>\n",
       "      <td>360.0</td>\n",
       "      <td>1.0</td>\n",
       "      <td>2</td>\n",
       "      <td>1</td>\n",
       "    </tr>\n",
       "    <tr>\n",
       "      <th>613</th>\n",
       "      <td>0</td>\n",
       "      <td>0</td>\n",
       "      <td>0</td>\n",
       "      <td>0</td>\n",
       "      <td>1</td>\n",
       "      <td>306</td>\n",
       "      <td>0.0</td>\n",
       "      <td>133.0</td>\n",
       "      <td>360.0</td>\n",
       "      <td>0.0</td>\n",
       "      <td>1</td>\n",
       "      <td>0</td>\n",
       "    </tr>\n",
       "  </tbody>\n",
       "</table>\n",
       "<p>614 rows × 12 columns</p>\n",
       "</div>"
      ],
      "text/plain": [
       "     Gender  Married  Dependents  Education  Self_Employed  ApplicantIncome  \\\n",
       "0         1        0           0          0              0              376   \n",
       "1         1        1           1          0              0              306   \n",
       "2         1        1           0          0              1              139   \n",
       "3         1        1           0          1              0               90   \n",
       "4         1        0           0          0              0              381   \n",
       "..      ...      ...         ...        ...            ...              ...   \n",
       "609       0        0           0          0              0              125   \n",
       "610       1        1           3          0              0              275   \n",
       "611       1        1           1          0              0              431   \n",
       "612       1        1           2          0              0              422   \n",
       "613       0        0           0          0              1              306   \n",
       "\n",
       "     CoapplicantIncome  LoanAmount  Loan_Amount_Term  Credit_History  \\\n",
       "0                  0.0       120.0             360.0             1.0   \n",
       "1               1508.0       128.0             360.0             1.0   \n",
       "2                  0.0        66.0             360.0             1.0   \n",
       "3               2358.0       120.0             360.0             1.0   \n",
       "4                  0.0       141.0             360.0             1.0   \n",
       "..                 ...         ...               ...             ...   \n",
       "609                0.0        71.0             360.0             1.0   \n",
       "610                0.0        40.0             180.0             1.0   \n",
       "611              240.0       253.0             360.0             1.0   \n",
       "612                0.0       187.0             360.0             1.0   \n",
       "613                0.0       133.0             360.0             0.0   \n",
       "\n",
       "     Property_Area  Loan_Status  \n",
       "0                2            1  \n",
       "1                0            0  \n",
       "2                2            1  \n",
       "3                2            1  \n",
       "4                2            1  \n",
       "..             ...          ...  \n",
       "609              0            1  \n",
       "610              0            1  \n",
       "611              2            1  \n",
       "612              2            1  \n",
       "613              1            0  \n",
       "\n",
       "[614 rows x 12 columns]"
      ]
     },
     "execution_count": 73,
     "metadata": {},
     "output_type": "execute_result"
    }
   ],
   "source": [
    "loan_data"
   ]
  },
  {
   "cell_type": "code",
   "execution_count": 13,
   "id": "54c7e6f6",
   "metadata": {},
   "outputs": [],
   "source": [
    "# Observation: Here we can see that the \"non-numerical\" data is transformed into the numerical data."
   ]
  },
  {
   "cell_type": "markdown",
   "id": "24f26fb9",
   "metadata": {},
   "source": [
    "# Checking the Outliers:"
   ]
  },
  {
   "cell_type": "code",
   "execution_count": 76,
   "id": "ed4a73a5",
   "metadata": {},
   "outputs": [
    {
     "data": {
      "image/png": "[encoded data removed]",
      "text/plain": [
       "<Figure size 2304x11520 with 12 Axes>"
      ]
     },
     "metadata": {
      "needs_background": "light"
     },
     "output_type": "display_data"
    }
   ],
   "source": [
    "col_list = loan_data.columns.values\n",
    "ncol = 32\n",
    "nrows = 12\n",
    "plt.figure(figsize = (ncol,5*ncol))\n",
    "for i in range (0, len(col_list)):\n",
    "    plt.subplot(nrows,ncol,i+1)\n",
    "    sns.boxplot(data = loan_data[col_list[i]],color = 'green', orient = 'v')\n",
    "    plt.tight_layout()"
   ]
  },
  {
   "cell_type": "code",
   "execution_count": 12,
   "id": "c6338ee3",
   "metadata": {},
   "outputs": [],
   "source": [
    "# Observation: Here we can see that few of the columns are with the outliers and also we have to remove the outliers and nextly \n",
    "# we have to reduce the outliers to get a good accuracy with our model building."
   ]
  },
  {
   "cell_type": "markdown",
   "id": "92d1fed4",
   "metadata": {},
   "source": [
    "# Removing the Outliers using - Z - Score method:"
   ]
  },
  {
   "cell_type": "code",
   "execution_count": 77,
   "id": "7d392235",
   "metadata": {},
   "outputs": [
    {
     "data": {
      "text/plain": [
       "(614, 12)"
      ]
     },
     "execution_count": 77,
     "metadata": {},
     "output_type": "execute_result"
    }
   ],
   "source": [
    "from scipy.stats import zscore\n",
    "z = np.abs(zscore(loan_data))\n",
    "z.shape"
   ]
  },
  {
   "cell_type": "code",
   "execution_count": 78,
   "id": "69294d94",
   "metadata": {},
   "outputs": [
    {
     "name": "stdout",
     "output_type": "stream",
     "text": [
      "(array([  9,  14,  68,  94, 130, 133, 155, 171, 177, 177, 242, 262, 278,\n",
      "       308, 313, 333, 369, 402, 417, 432, 487, 495, 497, 506, 523, 525,\n",
      "       546, 561, 575, 581, 585, 600, 604], dtype=int64), array([6, 8, 8, 8, 7, 8, 7, 7, 6, 7, 8, 8, 7, 7, 8, 7, 7, 6, 6, 7, 7, 8,\n",
      "       8, 7, 7, 7, 8, 7, 8, 6, 8, 6, 7], dtype=int64))\n"
     ]
    }
   ],
   "source": [
    "threshold = 3\n",
    "print(np.where(z>3))"
   ]
  },
  {
   "cell_type": "code",
   "execution_count": 79,
   "id": "eecb06a6",
   "metadata": {},
   "outputs": [
    {
     "data": {
      "text/plain": [
       "2"
      ]
     },
     "execution_count": 79,
     "metadata": {},
     "output_type": "execute_result"
    }
   ],
   "source": [
    "len(np.where(z>3))"
   ]
  },
  {
   "cell_type": "code",
   "execution_count": 80,
   "id": "2e6462c5",
   "metadata": {},
   "outputs": [
    {
     "data": {
      "text/plain": [
       "33"
      ]
     },
     "execution_count": 80,
     "metadata": {},
     "output_type": "execute_result"
    }
   ],
   "source": [
    "len(np.where(z>3)[0])"
   ]
  },
  {
   "cell_type": "code",
   "execution_count": 82,
   "id": "20b58204",
   "metadata": {},
   "outputs": [
    {
     "name": "stdout",
     "output_type": "stream",
     "text": [
      "(614, 12)\n",
      "(582, 12)\n"
     ]
    }
   ],
   "source": [
    "loan_data_new = loan_data[(z<3).all(axis = 1)]\n",
    "print(loan_data.shape)\n",
    "print(loan_data_new.shape)"
   ]
  },
  {
   "cell_type": "code",
   "execution_count": 11,
   "id": "695ad8b9",
   "metadata": {},
   "outputs": [],
   "source": [
    "# Observation: Here we can see that the rows are reduced from the original data."
   ]
  },
  {
   "cell_type": "markdown",
   "id": "4b920316",
   "metadata": {},
   "source": [
    "# Loss percentage calculation:"
   ]
  },
  {
   "cell_type": "code",
   "execution_count": 83,
   "id": "87bb38e4",
   "metadata": {},
   "outputs": [
    {
     "name": "stdout",
     "output_type": "stream",
     "text": [
      "5.211726384364821\n"
     ]
    }
   ],
   "source": [
    "loss_percent = (614-582)/614*100\n",
    "print(loss_percent)"
   ]
  },
  {
   "cell_type": "code",
   "execution_count": 10,
   "id": "65163b59",
   "metadata": {},
   "outputs": [],
   "source": [
    "# Observation: Here we can see that the data percent lost is 5.2%"
   ]
  },
  {
   "cell_type": "markdown",
   "id": "59666b13",
   "metadata": {},
   "source": [
    "# Skewness:"
   ]
  },
  {
   "cell_type": "code",
   "execution_count": 84,
   "id": "06f3b5fd",
   "metadata": {},
   "outputs": [
    {
     "data": {
      "text/plain": [
       "Gender              -1.636555\n",
       "Married             -0.636160\n",
       "Dependents           1.044261\n",
       "Education            1.319920\n",
       "Self_Employed        2.244210\n",
       "ApplicantIncome      0.044622\n",
       "CoapplicantIncome    1.348959\n",
       "LoanAmount           1.243160\n",
       "Loan_Amount_Term    -2.090517\n",
       "Credit_History      -1.971149\n",
       "Property_Area       -0.048661\n",
       "Loan_Status         -0.818715\n",
       "dtype: float64"
      ]
     },
     "execution_count": 84,
     "metadata": {},
     "output_type": "execute_result"
    }
   ],
   "source": [
    "loan_data_new.skew()"
   ]
  },
  {
   "cell_type": "code",
   "execution_count": 91,
   "id": "8b160ac2",
   "metadata": {},
   "outputs": [],
   "source": [
    "features = [\"Gender\",\"Dependents\",\"Education\",\"Self_Employed\",\"CoapplicantIncome\",\"LoanAmount\",\"Loan_Amount_Term\",\"Credit_History\"]"
   ]
  },
  {
   "cell_type": "code",
   "execution_count": 92,
   "id": "d2604859",
   "metadata": {},
   "outputs": [
    {
     "data": {
      "text/plain": [
       "['Gender',\n",
       " 'Dependents',\n",
       " 'Education',\n",
       " 'Self_Employed',\n",
       " 'CoapplicantIncome',\n",
       " 'LoanAmount',\n",
       " 'Loan_Amount_Term',\n",
       " 'Credit_History']"
      ]
     },
     "execution_count": 92,
     "metadata": {},
     "output_type": "execute_result"
    }
   ],
   "source": [
    "features"
   ]
  },
  {
   "cell_type": "markdown",
   "id": "ff186411",
   "metadata": {},
   "source": [
    "# Removing Skewness through Power Transformer:"
   ]
  },
  {
   "cell_type": "code",
   "execution_count": 93,
   "id": "ffd6827e",
   "metadata": {},
   "outputs": [
    {
     "data": {
      "text/plain": [
       "\"\\nparameters:\\nmethod = 'box-cox' or 'yeo-johnson'\\n\""
      ]
     },
     "execution_count": 93,
     "metadata": {},
     "output_type": "execute_result"
    }
   ],
   "source": [
    "from sklearn.preprocessing import PowerTransformer\n",
    "scaler = PowerTransformer(method='yeo-johnson')\n",
    "'''\n",
    "parameters:\n",
    "method = 'box-cox' or 'yeo-johnson'\n",
    "'''"
   ]
  },
  {
   "cell_type": "code",
   "execution_count": 94,
   "id": "5495212a",
   "metadata": {},
   "outputs": [
    {
     "data": {
      "text/html": [
       "<div>\n",
       "<style scoped>\n",
       "    .dataframe tbody tr th:only-of-type {\n",
       "        vertical-align: middle;\n",
       "    }\n",
       "\n",
       "    .dataframe tbody tr th {\n",
       "        vertical-align: top;\n",
       "    }\n",
       "\n",
       "    .dataframe thead th {\n",
       "        text-align: right;\n",
       "    }\n",
       "</style>\n",
       "<table border=\"1\" class=\"dataframe\">\n",
       "  <thead>\n",
       "    <tr style=\"text-align: right;\">\n",
       "      <th></th>\n",
       "      <th>Gender</th>\n",
       "      <th>Dependents</th>\n",
       "      <th>Education</th>\n",
       "      <th>Self_Employed</th>\n",
       "      <th>CoapplicantIncome</th>\n",
       "      <th>LoanAmount</th>\n",
       "      <th>Loan_Amount_Term</th>\n",
       "      <th>Credit_History</th>\n",
       "    </tr>\n",
       "  </thead>\n",
       "  <tbody>\n",
       "    <tr>\n",
       "      <th>0</th>\n",
       "      <td>0.474619</td>\n",
       "      <td>-0.823005</td>\n",
       "      <td>-0.538949</td>\n",
       "      <td>-0.381666</td>\n",
       "      <td>-1.108292</td>\n",
       "      <td>-0.138457</td>\n",
       "      <td>0.153233</td>\n",
       "      <td>0.419235</td>\n",
       "    </tr>\n",
       "    <tr>\n",
       "      <th>1</th>\n",
       "      <td>0.474619</td>\n",
       "      <td>1.051734</td>\n",
       "      <td>-0.538949</td>\n",
       "      <td>-0.381666</td>\n",
       "      <td>0.705241</td>\n",
       "      <td>0.014125</td>\n",
       "      <td>0.153233</td>\n",
       "      <td>0.419235</td>\n",
       "    </tr>\n",
       "    <tr>\n",
       "      <th>2</th>\n",
       "      <td>0.474619</td>\n",
       "      <td>-0.823005</td>\n",
       "      <td>-0.538949</td>\n",
       "      <td>2.620089</td>\n",
       "      <td>-1.108292</td>\n",
       "      <td>-1.448676</td>\n",
       "      <td>0.153233</td>\n",
       "      <td>0.419235</td>\n",
       "    </tr>\n",
       "    <tr>\n",
       "      <th>3</th>\n",
       "      <td>0.474619</td>\n",
       "      <td>-0.823005</td>\n",
       "      <td>1.855464</td>\n",
       "      <td>-0.381666</td>\n",
       "      <td>0.896464</td>\n",
       "      <td>-0.138457</td>\n",
       "      <td>0.153233</td>\n",
       "      <td>0.419235</td>\n",
       "    </tr>\n",
       "    <tr>\n",
       "      <th>4</th>\n",
       "      <td>0.474619</td>\n",
       "      <td>-0.823005</td>\n",
       "      <td>-0.538949</td>\n",
       "      <td>-0.381666</td>\n",
       "      <td>-1.108292</td>\n",
       "      <td>0.246556</td>\n",
       "      <td>0.153233</td>\n",
       "      <td>0.419235</td>\n",
       "    </tr>\n",
       "    <tr>\n",
       "      <th>...</th>\n",
       "      <td>...</td>\n",
       "      <td>...</td>\n",
       "      <td>...</td>\n",
       "      <td>...</td>\n",
       "      <td>...</td>\n",
       "      <td>...</td>\n",
       "      <td>...</td>\n",
       "      <td>...</td>\n",
       "    </tr>\n",
       "    <tr>\n",
       "      <th>609</th>\n",
       "      <td>-2.106953</td>\n",
       "      <td>-0.823005</td>\n",
       "      <td>-0.538949</td>\n",
       "      <td>-0.381666</td>\n",
       "      <td>-1.108292</td>\n",
       "      <td>-1.298899</td>\n",
       "      <td>0.153233</td>\n",
       "      <td>0.419235</td>\n",
       "    </tr>\n",
       "    <tr>\n",
       "      <th>610</th>\n",
       "      <td>0.474619</td>\n",
       "      <td>1.369490</td>\n",
       "      <td>-0.538949</td>\n",
       "      <td>-0.381666</td>\n",
       "      <td>-1.108292</td>\n",
       "      <td>-2.400398</td>\n",
       "      <td>-2.647671</td>\n",
       "      <td>0.419235</td>\n",
       "    </tr>\n",
       "    <tr>\n",
       "      <th>611</th>\n",
       "      <td>0.474619</td>\n",
       "      <td>1.051734</td>\n",
       "      <td>-0.538949</td>\n",
       "      <td>-0.381666</td>\n",
       "      <td>0.042695</td>\n",
       "      <td>1.764030</td>\n",
       "      <td>0.153233</td>\n",
       "      <td>0.419235</td>\n",
       "    </tr>\n",
       "    <tr>\n",
       "      <th>612</th>\n",
       "      <td>0.474619</td>\n",
       "      <td>1.282615</td>\n",
       "      <td>-0.538949</td>\n",
       "      <td>-0.381666</td>\n",
       "      <td>-1.108292</td>\n",
       "      <td>0.953582</td>\n",
       "      <td>0.153233</td>\n",
       "      <td>0.419235</td>\n",
       "    </tr>\n",
       "    <tr>\n",
       "      <th>613</th>\n",
       "      <td>-2.106953</td>\n",
       "      <td>-0.823005</td>\n",
       "      <td>-0.538949</td>\n",
       "      <td>2.620089</td>\n",
       "      <td>-1.108292</td>\n",
       "      <td>0.105654</td>\n",
       "      <td>0.153233</td>\n",
       "      <td>-2.385300</td>\n",
       "    </tr>\n",
       "  </tbody>\n",
       "</table>\n",
       "<p>582 rows × 8 columns</p>\n",
       "</div>"
      ],
      "text/plain": [
       "       Gender  Dependents  Education  Self_Employed  CoapplicantIncome  \\\n",
       "0    0.474619   -0.823005  -0.538949      -0.381666          -1.108292   \n",
       "1    0.474619    1.051734  -0.538949      -0.381666           0.705241   \n",
       "2    0.474619   -0.823005  -0.538949       2.620089          -1.108292   \n",
       "3    0.474619   -0.823005   1.855464      -0.381666           0.896464   \n",
       "4    0.474619   -0.823005  -0.538949      -0.381666          -1.108292   \n",
       "..        ...         ...        ...            ...                ...   \n",
       "609 -2.106953   -0.823005  -0.538949      -0.381666          -1.108292   \n",
       "610  0.474619    1.369490  -0.538949      -0.381666          -1.108292   \n",
       "611  0.474619    1.051734  -0.538949      -0.381666           0.042695   \n",
       "612  0.474619    1.282615  -0.538949      -0.381666          -1.108292   \n",
       "613 -2.106953   -0.823005  -0.538949       2.620089          -1.108292   \n",
       "\n",
       "     LoanAmount  Loan_Amount_Term  Credit_History  \n",
       "0     -0.138457          0.153233        0.419235  \n",
       "1      0.014125          0.153233        0.419235  \n",
       "2     -1.448676          0.153233        0.419235  \n",
       "3     -0.138457          0.153233        0.419235  \n",
       "4      0.246556          0.153233        0.419235  \n",
       "..          ...               ...             ...  \n",
       "609   -1.298899          0.153233        0.419235  \n",
       "610   -2.400398         -2.647671        0.419235  \n",
       "611    1.764030          0.153233        0.419235  \n",
       "612    0.953582          0.153233        0.419235  \n",
       "613    0.105654          0.153233       -2.385300  \n",
       "\n",
       "[582 rows x 8 columns]"
      ]
     },
     "execution_count": 94,
     "metadata": {},
     "output_type": "execute_result"
    }
   ],
   "source": [
    "loan_data_new[features] = scaler.fit_transform(loan_data_new[features].values)\n",
    "loan_data_new[features]"
   ]
  },
  {
   "cell_type": "code",
   "execution_count": 95,
   "id": "af3cf4da",
   "metadata": {},
   "outputs": [
    {
     "data": {
      "text/plain": [
       "Gender              -1.636555\n",
       "Married             -0.636160\n",
       "Dependents           0.406969\n",
       "Education            1.319920\n",
       "Self_Employed        2.244210\n",
       "ApplicantIncome      0.044622\n",
       "CoapplicantIncome   -0.143240\n",
       "LoanAmount          -0.058572\n",
       "Loan_Amount_Term     0.391118\n",
       "Credit_History      -1.971149\n",
       "Property_Area       -0.048661\n",
       "Loan_Status         -0.818715\n",
       "dtype: float64"
      ]
     },
     "execution_count": 95,
     "metadata": {},
     "output_type": "execute_result"
    }
   ],
   "source": [
    "loan_data_new.skew()"
   ]
  },
  {
   "cell_type": "code",
   "execution_count": 9,
   "id": "2de43e99",
   "metadata": {},
   "outputs": [],
   "source": [
    "# Observation: Here we can see that skewness of few of the columns are reduced to certain extent."
   ]
  },
  {
   "cell_type": "markdown",
   "id": "6d16f0c2",
   "metadata": {},
   "source": [
    "# Data preprocessing:"
   ]
  },
  {
   "cell_type": "markdown",
   "id": "cfe1bbea",
   "metadata": {},
   "source": [
    "## Seaparating the independent and target variables:"
   ]
  },
  {
   "cell_type": "code",
   "execution_count": 96,
   "id": "f61be01f",
   "metadata": {},
   "outputs": [
    {
     "data": {
      "text/plain": [
       "Index(['Gender', 'Married', 'Dependents', 'Education', 'Self_Employed',\n",
       "       'ApplicantIncome', 'CoapplicantIncome', 'LoanAmount',\n",
       "       'Loan_Amount_Term', 'Credit_History', 'Property_Area', 'Loan_Status'],\n",
       "      dtype='object')"
      ]
     },
     "execution_count": 96,
     "metadata": {},
     "output_type": "execute_result"
    }
   ],
   "source": [
    "loan_data_new.columns"
   ]
  },
  {
   "cell_type": "code",
   "execution_count": 97,
   "id": "6ed44ae3",
   "metadata": {},
   "outputs": [],
   "source": [
    "x = loan_data_new.drop(\"Loan_Status\", axis=1)\n",
    "y = loan_data_new[\"Loan_Status\"]"
   ]
  },
  {
   "cell_type": "code",
   "execution_count": 98,
   "id": "6d8ac298",
   "metadata": {},
   "outputs": [
    {
     "data": {
      "text/html": [
       "<div>\n",
       "<style scoped>\n",
       "    .dataframe tbody tr th:only-of-type {\n",
       "        vertical-align: middle;\n",
       "    }\n",
       "\n",
       "    .dataframe tbody tr th {\n",
       "        vertical-align: top;\n",
       "    }\n",
       "\n",
       "    .dataframe thead th {\n",
       "        text-align: right;\n",
       "    }\n",
       "</style>\n",
       "<table border=\"1\" class=\"dataframe\">\n",
       "  <thead>\n",
       "    <tr style=\"text-align: right;\">\n",
       "      <th></th>\n",
       "      <th>Gender</th>\n",
       "      <th>Married</th>\n",
       "      <th>Dependents</th>\n",
       "      <th>Education</th>\n",
       "      <th>Self_Employed</th>\n",
       "      <th>ApplicantIncome</th>\n",
       "      <th>CoapplicantIncome</th>\n",
       "      <th>LoanAmount</th>\n",
       "      <th>Loan_Amount_Term</th>\n",
       "      <th>Credit_History</th>\n",
       "      <th>Property_Area</th>\n",
       "    </tr>\n",
       "  </thead>\n",
       "  <tbody>\n",
       "    <tr>\n",
       "      <th>0</th>\n",
       "      <td>0.474619</td>\n",
       "      <td>0</td>\n",
       "      <td>-0.823005</td>\n",
       "      <td>-0.538949</td>\n",
       "      <td>-0.381666</td>\n",
       "      <td>376</td>\n",
       "      <td>-1.108292</td>\n",
       "      <td>-0.138457</td>\n",
       "      <td>0.153233</td>\n",
       "      <td>0.419235</td>\n",
       "      <td>2</td>\n",
       "    </tr>\n",
       "    <tr>\n",
       "      <th>1</th>\n",
       "      <td>0.474619</td>\n",
       "      <td>1</td>\n",
       "      <td>1.051734</td>\n",
       "      <td>-0.538949</td>\n",
       "      <td>-0.381666</td>\n",
       "      <td>306</td>\n",
       "      <td>0.705241</td>\n",
       "      <td>0.014125</td>\n",
       "      <td>0.153233</td>\n",
       "      <td>0.419235</td>\n",
       "      <td>0</td>\n",
       "    </tr>\n",
       "    <tr>\n",
       "      <th>2</th>\n",
       "      <td>0.474619</td>\n",
       "      <td>1</td>\n",
       "      <td>-0.823005</td>\n",
       "      <td>-0.538949</td>\n",
       "      <td>2.620089</td>\n",
       "      <td>139</td>\n",
       "      <td>-1.108292</td>\n",
       "      <td>-1.448676</td>\n",
       "      <td>0.153233</td>\n",
       "      <td>0.419235</td>\n",
       "      <td>2</td>\n",
       "    </tr>\n",
       "    <tr>\n",
       "      <th>3</th>\n",
       "      <td>0.474619</td>\n",
       "      <td>1</td>\n",
       "      <td>-0.823005</td>\n",
       "      <td>1.855464</td>\n",
       "      <td>-0.381666</td>\n",
       "      <td>90</td>\n",
       "      <td>0.896464</td>\n",
       "      <td>-0.138457</td>\n",
       "      <td>0.153233</td>\n",
       "      <td>0.419235</td>\n",
       "      <td>2</td>\n",
       "    </tr>\n",
       "    <tr>\n",
       "      <th>4</th>\n",
       "      <td>0.474619</td>\n",
       "      <td>0</td>\n",
       "      <td>-0.823005</td>\n",
       "      <td>-0.538949</td>\n",
       "      <td>-0.381666</td>\n",
       "      <td>381</td>\n",
       "      <td>-1.108292</td>\n",
       "      <td>0.246556</td>\n",
       "      <td>0.153233</td>\n",
       "      <td>0.419235</td>\n",
       "      <td>2</td>\n",
       "    </tr>\n",
       "  </tbody>\n",
       "</table>\n",
       "</div>"
      ],
      "text/plain": [
       "     Gender  Married  Dependents  Education  Self_Employed  ApplicantIncome  \\\n",
       "0  0.474619        0   -0.823005  -0.538949      -0.381666              376   \n",
       "1  0.474619        1    1.051734  -0.538949      -0.381666              306   \n",
       "2  0.474619        1   -0.823005  -0.538949       2.620089              139   \n",
       "3  0.474619        1   -0.823005   1.855464      -0.381666               90   \n",
       "4  0.474619        0   -0.823005  -0.538949      -0.381666              381   \n",
       "\n",
       "   CoapplicantIncome  LoanAmount  Loan_Amount_Term  Credit_History  \\\n",
       "0          -1.108292   -0.138457          0.153233        0.419235   \n",
       "1           0.705241    0.014125          0.153233        0.419235   \n",
       "2          -1.108292   -1.448676          0.153233        0.419235   \n",
       "3           0.896464   -0.138457          0.153233        0.419235   \n",
       "4          -1.108292    0.246556          0.153233        0.419235   \n",
       "\n",
       "   Property_Area  \n",
       "0              2  \n",
       "1              0  \n",
       "2              2  \n",
       "3              2  \n",
       "4              2  "
      ]
     },
     "execution_count": 98,
     "metadata": {},
     "output_type": "execute_result"
    }
   ],
   "source": [
    "x.head()"
   ]
  },
  {
   "cell_type": "code",
   "execution_count": 99,
   "id": "45d5c887",
   "metadata": {},
   "outputs": [
    {
     "data": {
      "text/plain": [
       "0    1\n",
       "1    0\n",
       "2    1\n",
       "3    1\n",
       "4    1\n",
       "Name: Loan_Status, dtype: int32"
      ]
     },
     "execution_count": 99,
     "metadata": {},
     "output_type": "execute_result"
    }
   ],
   "source": [
    "y.head()"
   ]
  },
  {
   "cell_type": "markdown",
   "id": "7b2960f8",
   "metadata": {},
   "source": [
    "# Scaling the data using Standard Scaler:"
   ]
  },
  {
   "cell_type": "code",
   "execution_count": 100,
   "id": "ef295542",
   "metadata": {},
   "outputs": [],
   "source": [
    "from sklearn.preprocessing import  StandardScaler"
   ]
  },
  {
   "cell_type": "code",
   "execution_count": 101,
   "id": "959a0f9d",
   "metadata": {},
   "outputs": [
    {
     "data": {
      "text/html": [
       "<div>\n",
       "<style scoped>\n",
       "    .dataframe tbody tr th:only-of-type {\n",
       "        vertical-align: middle;\n",
       "    }\n",
       "\n",
       "    .dataframe tbody tr th {\n",
       "        vertical-align: top;\n",
       "    }\n",
       "\n",
       "    .dataframe thead th {\n",
       "        text-align: right;\n",
       "    }\n",
       "</style>\n",
       "<table border=\"1\" class=\"dataframe\">\n",
       "  <thead>\n",
       "    <tr style=\"text-align: right;\">\n",
       "      <th></th>\n",
       "      <th>Gender</th>\n",
       "      <th>Married</th>\n",
       "      <th>Dependents</th>\n",
       "      <th>Education</th>\n",
       "      <th>Self_Employed</th>\n",
       "      <th>ApplicantIncome</th>\n",
       "      <th>CoapplicantIncome</th>\n",
       "      <th>LoanAmount</th>\n",
       "      <th>Loan_Amount_Term</th>\n",
       "      <th>Credit_History</th>\n",
       "      <th>Property_Area</th>\n",
       "    </tr>\n",
       "  </thead>\n",
       "  <tbody>\n",
       "    <tr>\n",
       "      <th>0</th>\n",
       "      <td>0.474619</td>\n",
       "      <td>-1.366380</td>\n",
       "      <td>-0.823005</td>\n",
       "      <td>-0.538949</td>\n",
       "      <td>-0.381666</td>\n",
       "      <td>0.950626</td>\n",
       "      <td>-1.108292</td>\n",
       "      <td>-0.138457</td>\n",
       "      <td>0.153233</td>\n",
       "      <td>0.419235</td>\n",
       "      <td>1.233857</td>\n",
       "    </tr>\n",
       "    <tr>\n",
       "      <th>1</th>\n",
       "      <td>0.474619</td>\n",
       "      <td>0.731861</td>\n",
       "      <td>1.051734</td>\n",
       "      <td>-0.538949</td>\n",
       "      <td>-0.381666</td>\n",
       "      <td>0.451116</td>\n",
       "      <td>0.705241</td>\n",
       "      <td>0.014125</td>\n",
       "      <td>0.153233</td>\n",
       "      <td>0.419235</td>\n",
       "      <td>-1.303615</td>\n",
       "    </tr>\n",
       "    <tr>\n",
       "      <th>2</th>\n",
       "      <td>0.474619</td>\n",
       "      <td>0.731861</td>\n",
       "      <td>-0.823005</td>\n",
       "      <td>-0.538949</td>\n",
       "      <td>2.620089</td>\n",
       "      <td>-0.740572</td>\n",
       "      <td>-1.108292</td>\n",
       "      <td>-1.448676</td>\n",
       "      <td>0.153233</td>\n",
       "      <td>0.419235</td>\n",
       "      <td>1.233857</td>\n",
       "    </tr>\n",
       "    <tr>\n",
       "      <th>3</th>\n",
       "      <td>0.474619</td>\n",
       "      <td>0.731861</td>\n",
       "      <td>-0.823005</td>\n",
       "      <td>1.855464</td>\n",
       "      <td>-0.381666</td>\n",
       "      <td>-1.090229</td>\n",
       "      <td>0.896464</td>\n",
       "      <td>-0.138457</td>\n",
       "      <td>0.153233</td>\n",
       "      <td>0.419235</td>\n",
       "      <td>1.233857</td>\n",
       "    </tr>\n",
       "    <tr>\n",
       "      <th>4</th>\n",
       "      <td>0.474619</td>\n",
       "      <td>-1.366380</td>\n",
       "      <td>-0.823005</td>\n",
       "      <td>-0.538949</td>\n",
       "      <td>-0.381666</td>\n",
       "      <td>0.986305</td>\n",
       "      <td>-1.108292</td>\n",
       "      <td>0.246556</td>\n",
       "      <td>0.153233</td>\n",
       "      <td>0.419235</td>\n",
       "      <td>1.233857</td>\n",
       "    </tr>\n",
       "    <tr>\n",
       "      <th>...</th>\n",
       "      <td>...</td>\n",
       "      <td>...</td>\n",
       "      <td>...</td>\n",
       "      <td>...</td>\n",
       "      <td>...</td>\n",
       "      <td>...</td>\n",
       "      <td>...</td>\n",
       "      <td>...</td>\n",
       "      <td>...</td>\n",
       "      <td>...</td>\n",
       "      <td>...</td>\n",
       "    </tr>\n",
       "    <tr>\n",
       "      <th>577</th>\n",
       "      <td>-2.106953</td>\n",
       "      <td>-1.366380</td>\n",
       "      <td>-0.823005</td>\n",
       "      <td>-0.538949</td>\n",
       "      <td>-0.381666</td>\n",
       "      <td>-0.840474</td>\n",
       "      <td>-1.108292</td>\n",
       "      <td>-1.298899</td>\n",
       "      <td>0.153233</td>\n",
       "      <td>0.419235</td>\n",
       "      <td>-1.303615</td>\n",
       "    </tr>\n",
       "    <tr>\n",
       "      <th>578</th>\n",
       "      <td>0.474619</td>\n",
       "      <td>0.731861</td>\n",
       "      <td>1.369490</td>\n",
       "      <td>-0.538949</td>\n",
       "      <td>-0.381666</td>\n",
       "      <td>0.229905</td>\n",
       "      <td>-1.108292</td>\n",
       "      <td>-2.400398</td>\n",
       "      <td>-2.647671</td>\n",
       "      <td>0.419235</td>\n",
       "      <td>-1.303615</td>\n",
       "    </tr>\n",
       "    <tr>\n",
       "      <th>579</th>\n",
       "      <td>0.474619</td>\n",
       "      <td>0.731861</td>\n",
       "      <td>1.051734</td>\n",
       "      <td>-0.538949</td>\n",
       "      <td>-0.381666</td>\n",
       "      <td>1.343098</td>\n",
       "      <td>0.042695</td>\n",
       "      <td>1.764030</td>\n",
       "      <td>0.153233</td>\n",
       "      <td>0.419235</td>\n",
       "      <td>1.233857</td>\n",
       "    </tr>\n",
       "    <tr>\n",
       "      <th>580</th>\n",
       "      <td>0.474619</td>\n",
       "      <td>0.731861</td>\n",
       "      <td>1.282615</td>\n",
       "      <td>-0.538949</td>\n",
       "      <td>-0.381666</td>\n",
       "      <td>1.278875</td>\n",
       "      <td>-1.108292</td>\n",
       "      <td>0.953582</td>\n",
       "      <td>0.153233</td>\n",
       "      <td>0.419235</td>\n",
       "      <td>1.233857</td>\n",
       "    </tr>\n",
       "    <tr>\n",
       "      <th>581</th>\n",
       "      <td>-2.106953</td>\n",
       "      <td>-1.366380</td>\n",
       "      <td>-0.823005</td>\n",
       "      <td>-0.538949</td>\n",
       "      <td>2.620089</td>\n",
       "      <td>0.451116</td>\n",
       "      <td>-1.108292</td>\n",
       "      <td>0.105654</td>\n",
       "      <td>0.153233</td>\n",
       "      <td>-2.385300</td>\n",
       "      <td>-0.034879</td>\n",
       "    </tr>\n",
       "  </tbody>\n",
       "</table>\n",
       "<p>582 rows × 11 columns</p>\n",
       "</div>"
      ],
      "text/plain": [
       "       Gender   Married  Dependents  Education  Self_Employed  \\\n",
       "0    0.474619 -1.366380   -0.823005  -0.538949      -0.381666   \n",
       "1    0.474619  0.731861    1.051734  -0.538949      -0.381666   \n",
       "2    0.474619  0.731861   -0.823005  -0.538949       2.620089   \n",
       "3    0.474619  0.731861   -0.823005   1.855464      -0.381666   \n",
       "4    0.474619 -1.366380   -0.823005  -0.538949      -0.381666   \n",
       "..        ...       ...         ...        ...            ...   \n",
       "577 -2.106953 -1.366380   -0.823005  -0.538949      -0.381666   \n",
       "578  0.474619  0.731861    1.369490  -0.538949      -0.381666   \n",
       "579  0.474619  0.731861    1.051734  -0.538949      -0.381666   \n",
       "580  0.474619  0.731861    1.282615  -0.538949      -0.381666   \n",
       "581 -2.106953 -1.366380   -0.823005  -0.538949       2.620089   \n",
       "\n",
       "     ApplicantIncome  CoapplicantIncome  LoanAmount  Loan_Amount_Term  \\\n",
       "0           0.950626          -1.108292   -0.138457          0.153233   \n",
       "1           0.451116           0.705241    0.014125          0.153233   \n",
       "2          -0.740572          -1.108292   -1.448676          0.153233   \n",
       "3          -1.090229           0.896464   -0.138457          0.153233   \n",
       "4           0.986305          -1.108292    0.246556          0.153233   \n",
       "..               ...                ...         ...               ...   \n",
       "577        -0.840474          -1.108292   -1.298899          0.153233   \n",
       "578         0.229905          -1.108292   -2.400398         -2.647671   \n",
       "579         1.343098           0.042695    1.764030          0.153233   \n",
       "580         1.278875          -1.108292    0.953582          0.153233   \n",
       "581         0.451116          -1.108292    0.105654          0.153233   \n",
       "\n",
       "     Credit_History  Property_Area  \n",
       "0          0.419235       1.233857  \n",
       "1          0.419235      -1.303615  \n",
       "2          0.419235       1.233857  \n",
       "3          0.419235       1.233857  \n",
       "4          0.419235       1.233857  \n",
       "..              ...            ...  \n",
       "577        0.419235      -1.303615  \n",
       "578        0.419235      -1.303615  \n",
       "579        0.419235       1.233857  \n",
       "580        0.419235       1.233857  \n",
       "581       -2.385300      -0.034879  \n",
       "\n",
       "[582 rows x 11 columns]"
      ]
     },
     "execution_count": 101,
     "metadata": {},
     "output_type": "execute_result"
    }
   ],
   "source": [
    "scaler = StandardScaler()\n",
    "x_scaled = pd.DataFrame(scaler.fit_transform(x), columns=x.columns)\n",
    "x_scaled"
   ]
  },
  {
   "cell_type": "markdown",
   "id": "3052cf31",
   "metadata": {},
   "source": [
    "# Checking the multicollinearity through VIF :"
   ]
  },
  {
   "cell_type": "code",
   "execution_count": 102,
   "id": "4b9c4633",
   "metadata": {},
   "outputs": [],
   "source": [
    "from statsmodels.stats.outliers_influence import variance_inflation_factor"
   ]
  },
  {
   "cell_type": "code",
   "execution_count": 103,
   "id": "bca68c42",
   "metadata": {},
   "outputs": [
    {
     "data": {
      "text/html": [
       "<div>\n",
       "<style scoped>\n",
       "    .dataframe tbody tr th:only-of-type {\n",
       "        vertical-align: middle;\n",
       "    }\n",
       "\n",
       "    .dataframe tbody tr th {\n",
       "        vertical-align: top;\n",
       "    }\n",
       "\n",
       "    .dataframe thead th {\n",
       "        text-align: right;\n",
       "    }\n",
       "</style>\n",
       "<table border=\"1\" class=\"dataframe\">\n",
       "  <thead>\n",
       "    <tr style=\"text-align: right;\">\n",
       "      <th></th>\n",
       "      <th>features</th>\n",
       "      <th>vif_Factor</th>\n",
       "    </tr>\n",
       "  </thead>\n",
       "  <tbody>\n",
       "    <tr>\n",
       "      <th>0</th>\n",
       "      <td>Gender</td>\n",
       "      <td>1.219395</td>\n",
       "    </tr>\n",
       "    <tr>\n",
       "      <th>1</th>\n",
       "      <td>Married</td>\n",
       "      <td>1.425635</td>\n",
       "    </tr>\n",
       "    <tr>\n",
       "      <th>2</th>\n",
       "      <td>Dependents</td>\n",
       "      <td>1.189439</td>\n",
       "    </tr>\n",
       "    <tr>\n",
       "      <th>3</th>\n",
       "      <td>Education</td>\n",
       "      <td>1.071152</td>\n",
       "    </tr>\n",
       "    <tr>\n",
       "      <th>4</th>\n",
       "      <td>Self_Employed</td>\n",
       "      <td>1.046876</td>\n",
       "    </tr>\n",
       "    <tr>\n",
       "      <th>5</th>\n",
       "      <td>ApplicantIncome</td>\n",
       "      <td>1.927113</td>\n",
       "    </tr>\n",
       "    <tr>\n",
       "      <th>6</th>\n",
       "      <td>CoapplicantIncome</td>\n",
       "      <td>1.622165</td>\n",
       "    </tr>\n",
       "    <tr>\n",
       "      <th>7</th>\n",
       "      <td>LoanAmount</td>\n",
       "      <td>1.663620</td>\n",
       "    </tr>\n",
       "    <tr>\n",
       "      <th>8</th>\n",
       "      <td>Loan_Amount_Term</td>\n",
       "      <td>1.048957</td>\n",
       "    </tr>\n",
       "    <tr>\n",
       "      <th>9</th>\n",
       "      <td>Credit_History</td>\n",
       "      <td>1.011360</td>\n",
       "    </tr>\n",
       "    <tr>\n",
       "      <th>10</th>\n",
       "      <td>Property_Area</td>\n",
       "      <td>1.031892</td>\n",
       "    </tr>\n",
       "  </tbody>\n",
       "</table>\n",
       "</div>"
      ],
      "text/plain": [
       "             features  vif_Factor\n",
       "0              Gender    1.219395\n",
       "1             Married    1.425635\n",
       "2          Dependents    1.189439\n",
       "3           Education    1.071152\n",
       "4       Self_Employed    1.046876\n",
       "5     ApplicantIncome    1.927113\n",
       "6   CoapplicantIncome    1.622165\n",
       "7          LoanAmount    1.663620\n",
       "8    Loan_Amount_Term    1.048957\n",
       "9      Credit_History    1.011360\n",
       "10      Property_Area    1.031892"
      ]
     },
     "execution_count": 103,
     "metadata": {},
     "output_type": "execute_result"
    }
   ],
   "source": [
    "vif = pd.DataFrame()\n",
    "vif[\"features\"] = x.columns\n",
    "vif[\"vif_Factor\"] = [variance_inflation_factor(x_scaled.values, i) for i in range(x_scaled.shape[1])]\n",
    "vif"
   ]
  },
  {
   "cell_type": "code",
   "execution_count": 8,
   "id": "714317f4",
   "metadata": {},
   "outputs": [],
   "source": [
    "# Observation: Here we can see that VIF values are with less values and are not that affective."
   ]
  },
  {
   "cell_type": "code",
   "execution_count": 104,
   "id": "4d75b680",
   "metadata": {},
   "outputs": [],
   "source": [
    "x = x_scaled"
   ]
  },
  {
   "cell_type": "markdown",
   "id": "ae42498b",
   "metadata": {},
   "source": [
    "# Train_test_split:"
   ]
  },
  {
   "cell_type": "code",
   "execution_count": 105,
   "id": "9aefc297",
   "metadata": {},
   "outputs": [],
   "source": [
    "x_train,x_test,y_train,y_test = train_test_split(x,y, test_size = 0.3, random_state = 0)"
   ]
  },
  {
   "cell_type": "markdown",
   "id": "003a98cf",
   "metadata": {},
   "source": [
    "# Training the model:"
   ]
  },
  {
   "cell_type": "code",
   "execution_count": 106,
   "id": "e59070d2",
   "metadata": {},
   "outputs": [
    {
     "name": "stdout",
     "output_type": "stream",
     "text": [
      "LogisticRegression is trained now.\n",
      "K-Nearest Neighbors is trained now.\n",
      "Decision Tree is trained now.\n",
      "Random Forest is trained now.\n",
      "Gradient Boosting is trained now.\n"
     ]
    }
   ],
   "source": [
    "models = {\"LogisticRegression\" : LogisticRegression(),\n",
    "          \"K-Nearest Neighbors\": KNeighborsClassifier(),\n",
    "          \"Decision Tree\"      : DecisionTreeClassifier(),\n",
    "          \"Random Forest\"      : RandomForestClassifier(),\n",
    "          \"Gradient Boosting\"  : GradientBoostingClassifier()}\n",
    "\n",
    "for name, model in models.items():\n",
    "    model.fit(x_train,y_train)\n",
    "    print(name + \" is trained now.\")"
   ]
  },
  {
   "cell_type": "code",
   "execution_count": 5,
   "id": "385d571d",
   "metadata": {},
   "outputs": [],
   "source": [
    "# Observation: Here we can see that we have trained our models now and our model is ready for testing."
   ]
  },
  {
   "cell_type": "markdown",
   "id": "759a982e",
   "metadata": {},
   "source": [
    "# Testing the model:"
   ]
  },
  {
   "cell_type": "code",
   "execution_count": 107,
   "id": "d7e92e5e",
   "metadata": {},
   "outputs": [
    {
     "name": "stdout",
     "output_type": "stream",
     "text": [
      "LogisticRegression: 80.86%\n",
      "K-Nearest Neighbors: 80.57%\n",
      "Decision Tree: 76.00%\n",
      "Random Forest: 81.14%\n",
      "Gradient Boosting: 80.57%\n"
     ]
    }
   ],
   "source": [
    "for name, model in models.items():\n",
    "    print(name + \": {:,.2f}%\".format(model.score(x_test,y_test)*100))"
   ]
  },
  {
   "cell_type": "code",
   "execution_count": 4,
   "id": "fdf53867",
   "metadata": {},
   "outputs": [],
   "source": [
    "# Observation: Here we can see that \"Random Forest\" model is with good accuracy among all the other models."
   ]
  },
  {
   "cell_type": "markdown",
   "id": "d1510159",
   "metadata": {},
   "source": [
    "# Hyper parameter tuning:"
   ]
  },
  {
   "cell_type": "markdown",
   "id": "6f5a1275",
   "metadata": {},
   "source": [
    "## GridSearch CV:"
   ]
  },
  {
   "cell_type": "code",
   "execution_count": 116,
   "id": "e73922e3",
   "metadata": {},
   "outputs": [],
   "source": [
    "from sklearn.model_selection import GridSearchCV"
   ]
  },
  {
   "cell_type": "code",
   "execution_count": 117,
   "id": "6ad51586",
   "metadata": {},
   "outputs": [],
   "source": [
    "parameters ={'n_estimators':[100,150,200,250],\n",
    "        'criterion':['gini','entropy'],\n",
    "        'max_depth':[13,15,16,17],\n",
    "        'min_samples_split':[2,3,4,5,6],\n",
    "        'bootstrap':[True,False],\n",
    "        'n_jobs':[-1,-2,-3]}"
   ]
  },
  {
   "cell_type": "markdown",
   "id": "c13f7103",
   "metadata": {},
   "source": [
    "# Random Forest Classifier:"
   ]
  },
  {
   "cell_type": "code",
   "execution_count": 118,
   "id": "fe270a4f",
   "metadata": {},
   "outputs": [],
   "source": [
    "GCV=GridSearchCV(RandomForestClassifier(),parameters,cv=5)"
   ]
  },
  {
   "cell_type": "code",
   "execution_count": 119,
   "id": "f8e10357",
   "metadata": {},
   "outputs": [
    {
     "data": {
      "text/plain": [
       "GridSearchCV(cv=5, estimator=RandomForestClassifier(),\n",
       "             param_grid={'bootstrap': [True, False],\n",
       "                         'criterion': ['gini', 'entropy'],\n",
       "                         'max_depth': [13, 15, 16, 17],\n",
       "                         'min_samples_split': [2, 3, 4, 5, 6],\n",
       "                         'n_estimators': [100, 150, 200, 250],\n",
       "                         'n_jobs': [-1, -2, -3]})"
      ]
     },
     "execution_count": 119,
     "metadata": {},
     "output_type": "execute_result"
    }
   ],
   "source": [
    "GCV.fit(x_train,y_train)"
   ]
  },
  {
   "cell_type": "code",
   "execution_count": 120,
   "id": "bf5d86bb",
   "metadata": {},
   "outputs": [
    {
     "data": {
      "text/plain": [
       "{'bootstrap': True,\n",
       " 'criterion': 'gini',\n",
       " 'max_depth': 17,\n",
       " 'min_samples_split': 4,\n",
       " 'n_estimators': 150,\n",
       " 'n_jobs': -1}"
      ]
     },
     "execution_count": 120,
     "metadata": {},
     "output_type": "execute_result"
    }
   ],
   "source": [
    "GCV.best_params_"
   ]
  },
  {
   "cell_type": "code",
   "execution_count": 3,
   "id": "cb80986b",
   "metadata": {},
   "outputs": [],
   "source": [
    "# Observation: Here we can see that these are the best parameters we got."
   ]
  },
  {
   "cell_type": "markdown",
   "id": "38adc01d",
   "metadata": {},
   "source": [
    "# Fitting best parameters to the model:"
   ]
  },
  {
   "cell_type": "code",
   "execution_count": 127,
   "id": "9fe6e11e",
   "metadata": {},
   "outputs": [],
   "source": [
    "from sklearn.metrics import accuracy_score\n",
    "from sklearn.metrics import classification_report"
   ]
  },
  {
   "cell_type": "code",
   "execution_count": 126,
   "id": "4347e3d6",
   "metadata": {},
   "outputs": [
    {
     "name": "stdout",
     "output_type": "stream",
     "text": [
      "The Accuracy score for the Tuned Decision Trees Classifier is 0.8\n"
     ]
    }
   ],
   "source": [
    "RandomForest_model = RandomForestClassifier(bootstrap = False, criterion = 'gini', max_depth = 17, min_samples_split = 2,\n",
    "                                n_estimators = 250, n_jobs = -3)\n",
    "RandomForest_model.fit(x_train,y_train)\n",
    "RandomForest_model_prediction  = RandomForest_model.predict(x_test)\n",
    "RandomForest_score  = accuracy_score(y_test,RandomForest_model_prediction)\n",
    "print('The Accuracy score for the Tuned Decision Trees Classifier is' , RandomForest_score)"
   ]
  },
  {
   "cell_type": "markdown",
   "id": "5aea840f",
   "metadata": {},
   "source": [
    "# Classification Report :"
   ]
  },
  {
   "cell_type": "code",
   "execution_count": 128,
   "id": "81700809",
   "metadata": {},
   "outputs": [
    {
     "name": "stdout",
     "output_type": "stream",
     "text": [
      "              precision    recall  f1-score   support\n",
      "\n",
      "           0       0.76      0.59      0.67        59\n",
      "           1       0.81      0.91      0.86       116\n",
      "\n",
      "    accuracy                           0.80       175\n",
      "   macro avg       0.79      0.75      0.76       175\n",
      "weighted avg       0.80      0.80      0.79       175\n",
      "\n"
     ]
    }
   ],
   "source": [
    "print(classification_report(y_test,RandomForest_model_prediction))"
   ]
  },
  {
   "cell_type": "code",
   "execution_count": 129,
   "id": "ac183dd6",
   "metadata": {},
   "outputs": [],
   "source": [
    "from sklearn.metrics import roc_auc_score"
   ]
  },
  {
   "cell_type": "code",
   "execution_count": 131,
   "id": "2f4064e8",
   "metadata": {},
   "outputs": [
    {
     "name": "stdout",
     "output_type": "stream",
     "text": [
      "0.7491963763880771\n"
     ]
    }
   ],
   "source": [
    "print(roc_auc_score(y_test, RandomForest_model_prediction))"
   ]
  },
  {
   "cell_type": "code",
   "execution_count": 2,
   "id": "11449a31",
   "metadata": {},
   "outputs": [],
   "source": [
    "# Observation: Here we can see that ROC - AUC Curve is with 74.9%"
   ]
  },
  {
   "cell_type": "markdown",
   "id": "c098ee35",
   "metadata": {},
   "source": [
    "# ROC - AUC Curve:"
   ]
  },
  {
   "cell_type": "code",
   "execution_count": 130,
   "id": "085e1a75",
   "metadata": {},
   "outputs": [],
   "source": [
    "from sklearn.metrics import roc_curve, auc"
   ]
  },
  {
   "cell_type": "code",
   "execution_count": 140,
   "id": "b98da9e2",
   "metadata": {},
   "outputs": [
    {
     "data": {
      "image/png": "[encoded data removed]",
      "text/plain": [
       "<Figure size 720x360 with 1 Axes>"
      ]
     },
     "metadata": {
      "needs_background": "light"
     },
     "output_type": "display_data"
    }
   ],
   "source": [
    "from sklearn.metrics import roc_curve, auc\n",
    "fpr,tpr, thresholds  = roc_curve(RandomForest_model_prediction, y_test)\n",
    "roc_auc = auc(fpr,tpr)\n",
    "\n",
    "plt.figure(figsize = (10,5))\n",
    "plt.plot(fpr, tpr, lw=10, color = 'red',label = 'ROC Curve(area = %0.2f)'%roc_auc)\n",
    "plt.plot([0,1],[0,1],lw =5, color ='green', linestyle = '--')\n",
    "plt.xlim(0.0,1.0)\n",
    "plt.ylim(0.0,1.0)\n",
    "plt.xlabel('False positive rate', fontsize = 20)\n",
    "plt.ylabel('True positive rate', fontsize  =20)\n",
    "plt.title('ROC AUC Curve', fontsize = 30)\n",
    "plt.legend(loc ='lower right', fontsize = 20)\n",
    "plt.show()\n"
   ]
  },
  {
   "cell_type": "code",
   "execution_count": 1,
   "id": "4ddad85b",
   "metadata": {},
   "outputs": [],
   "source": [
    "# Observation: Here we can see that ROC Curve is 79% which is a good accuracy."
   ]
  },
  {
   "cell_type": "markdown",
   "id": "f1b32da9",
   "metadata": {},
   "source": [
    "So our best model ie., RandomForestModel is with accuracy of 79%"
   ]
  },
  {
   "cell_type": "markdown",
   "id": "e22ad828",
   "metadata": {},
   "source": [
    "# Saving the model:"
   ]
  },
  {
   "cell_type": "code",
   "execution_count": 43,
   "id": "2229deef",
   "metadata": {},
   "outputs": [],
   "source": [
    "from sklearn.ensemble import  RandomForestClassifier "
   ]
  },
  {
   "cell_type": "code",
   "execution_count": 45,
   "id": "f2c084af",
   "metadata": {},
   "outputs": [],
   "source": [
    "import pickle\n",
    "filename='loan_data.pkl'\n",
    "pickle.dump(RandomForestClassifier,open(filename,'wb'))"
   ]
  },
  {
   "cell_type": "code",
   "execution_count": null,
   "id": "021f0b9f",
   "metadata": {},
   "outputs": [],
   "source": []
  }
 ],
 "metadata": {
  "kernelspec": {
   "display_name": "Python 3 (ipykernel)",
   "language": "python",
   "name": "python3"
  },
  "language_info": {
   "codemirror_mode": {
    "name": "ipython",
    "version": 3
   },
   "file_extension": ".py",
   "mimetype": "text/x-python",
   "name": "python",
   "nbconvert_exporter": "python",
   "pygments_lexer": "ipython3",
   "version": "3.9.7"
  }
 },
 "nbformat": 4,
 "nbformat_minor": 5
}
