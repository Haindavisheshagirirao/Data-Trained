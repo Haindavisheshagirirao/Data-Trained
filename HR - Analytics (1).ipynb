{
 "cells": [
  {
   "cell_type": "markdown",
   "id": "3d3825e4",
   "metadata": {},
   "source": [
    "Goal: Here our goal is to predict the employee attrition:"
   ]
  },
  {
   "cell_type": "markdown",
   "id": "c1457317",
   "metadata": {},
   "source": [
    "Description: \"Attrition\" is a major problem for every organization. Here we predict that how HR Analytics analyze the employee\n",
    "             attrition?"
   ]
  },
  {
   "cell_type": "markdown",
   "id": "3f0ae73c",
   "metadata": {},
   "source": [
    "# Importing the libraries:"
   ]
  },
  {
   "cell_type": "code",
   "execution_count": 1,
   "id": "9e8778d8",
   "metadata": {},
   "outputs": [],
   "source": [
    "import pandas as pd\n",
    "import numpy as np\n",
    "import seaborn as sns\n",
    "import matplotlib.pyplot as plt\n",
    "from scipy.stats import skew\n",
    "%matplotlib inline\n",
    "from sklearn.preprocessing import  StandardScaler\n",
    "from sklearn.model_selection import  train_test_split, cross_val_score\n",
    "#from sklearn.feature_selection import SelectKBest\n",
    "from sklearn.metrics import r2_score, mean_squared_error\n",
    "from sklearn.linear_model import LogisticRegression\n",
    "from sklearn.neighbors import KNeighborsClassifier\n",
    "from sklearn.tree import DecisionTreeClassifier\n",
    "#from sklearn.svm import LinearSVC , SVC\n",
    "\n",
    "from sklearn.ensemble import  RandomForestClassifier , GradientBoostingClassifier\n",
    "import warnings\n",
    "warnings.filterwarnings(\"ignore\") "
   ]
  },
  {
   "cell_type": "markdown",
   "id": "c65a2994",
   "metadata": {},
   "source": [
    "# Data Collection:"
   ]
  },
  {
   "cell_type": "code",
   "execution_count": 2,
   "id": "d53f7edf",
   "metadata": {},
   "outputs": [],
   "source": [
    "Attrition_data = pd.read_csv(\"HR-Employee.csv\")"
   ]
  },
  {
   "cell_type": "code",
   "execution_count": 3,
   "id": "84a7da64",
   "metadata": {},
   "outputs": [
    {
     "data": {
      "text/html": [
       "<div>\n",
       "<style scoped>\n",
       "    .dataframe tbody tr th:only-of-type {\n",
       "        vertical-align: middle;\n",
       "    }\n",
       "\n",
       "    .dataframe tbody tr th {\n",
       "        vertical-align: top;\n",
       "    }\n",
       "\n",
       "    .dataframe thead th {\n",
       "        text-align: right;\n",
       "    }\n",
       "</style>\n",
       "<table border=\"1\" class=\"dataframe\">\n",
       "  <thead>\n",
       "    <tr style=\"text-align: right;\">\n",
       "      <th></th>\n",
       "      <th>Age</th>\n",
       "      <th>Attrition</th>\n",
       "      <th>BusinessTravel</th>\n",
       "      <th>DailyRate</th>\n",
       "      <th>Department</th>\n",
       "      <th>DistanceFromHome</th>\n",
       "      <th>Education</th>\n",
       "      <th>EducationField</th>\n",
       "      <th>EmployeeCount</th>\n",
       "      <th>EmployeeNumber</th>\n",
       "      <th>...</th>\n",
       "      <th>RelationshipSatisfaction</th>\n",
       "      <th>StandardHours</th>\n",
       "      <th>StockOptionLevel</th>\n",
       "      <th>TotalWorkingYears</th>\n",
       "      <th>TrainingTimesLastYear</th>\n",
       "      <th>WorkLifeBalance</th>\n",
       "      <th>YearsAtCompany</th>\n",
       "      <th>YearsInCurrentRole</th>\n",
       "      <th>YearsSinceLastPromotion</th>\n",
       "      <th>YearsWithCurrManager</th>\n",
       "    </tr>\n",
       "  </thead>\n",
       "  <tbody>\n",
       "    <tr>\n",
       "      <th>0</th>\n",
       "      <td>41</td>\n",
       "      <td>Yes</td>\n",
       "      <td>Travel_Rarely</td>\n",
       "      <td>1102</td>\n",
       "      <td>Sales</td>\n",
       "      <td>1</td>\n",
       "      <td>2</td>\n",
       "      <td>Life Sciences</td>\n",
       "      <td>1</td>\n",
       "      <td>1</td>\n",
       "      <td>...</td>\n",
       "      <td>1</td>\n",
       "      <td>80</td>\n",
       "      <td>0</td>\n",
       "      <td>8</td>\n",
       "      <td>0</td>\n",
       "      <td>1</td>\n",
       "      <td>6</td>\n",
       "      <td>4</td>\n",
       "      <td>0</td>\n",
       "      <td>5</td>\n",
       "    </tr>\n",
       "    <tr>\n",
       "      <th>1</th>\n",
       "      <td>49</td>\n",
       "      <td>No</td>\n",
       "      <td>Travel_Frequently</td>\n",
       "      <td>279</td>\n",
       "      <td>Research &amp; Development</td>\n",
       "      <td>8</td>\n",
       "      <td>1</td>\n",
       "      <td>Life Sciences</td>\n",
       "      <td>1</td>\n",
       "      <td>2</td>\n",
       "      <td>...</td>\n",
       "      <td>4</td>\n",
       "      <td>80</td>\n",
       "      <td>1</td>\n",
       "      <td>10</td>\n",
       "      <td>3</td>\n",
       "      <td>3</td>\n",
       "      <td>10</td>\n",
       "      <td>7</td>\n",
       "      <td>1</td>\n",
       "      <td>7</td>\n",
       "    </tr>\n",
       "    <tr>\n",
       "      <th>2</th>\n",
       "      <td>37</td>\n",
       "      <td>Yes</td>\n",
       "      <td>Travel_Rarely</td>\n",
       "      <td>1373</td>\n",
       "      <td>Research &amp; Development</td>\n",
       "      <td>2</td>\n",
       "      <td>2</td>\n",
       "      <td>Other</td>\n",
       "      <td>1</td>\n",
       "      <td>4</td>\n",
       "      <td>...</td>\n",
       "      <td>2</td>\n",
       "      <td>80</td>\n",
       "      <td>0</td>\n",
       "      <td>7</td>\n",
       "      <td>3</td>\n",
       "      <td>3</td>\n",
       "      <td>0</td>\n",
       "      <td>0</td>\n",
       "      <td>0</td>\n",
       "      <td>0</td>\n",
       "    </tr>\n",
       "    <tr>\n",
       "      <th>3</th>\n",
       "      <td>33</td>\n",
       "      <td>No</td>\n",
       "      <td>Travel_Frequently</td>\n",
       "      <td>1392</td>\n",
       "      <td>Research &amp; Development</td>\n",
       "      <td>3</td>\n",
       "      <td>4</td>\n",
       "      <td>Life Sciences</td>\n",
       "      <td>1</td>\n",
       "      <td>5</td>\n",
       "      <td>...</td>\n",
       "      <td>3</td>\n",
       "      <td>80</td>\n",
       "      <td>0</td>\n",
       "      <td>8</td>\n",
       "      <td>3</td>\n",
       "      <td>3</td>\n",
       "      <td>8</td>\n",
       "      <td>7</td>\n",
       "      <td>3</td>\n",
       "      <td>0</td>\n",
       "    </tr>\n",
       "    <tr>\n",
       "      <th>4</th>\n",
       "      <td>27</td>\n",
       "      <td>No</td>\n",
       "      <td>Travel_Rarely</td>\n",
       "      <td>591</td>\n",
       "      <td>Research &amp; Development</td>\n",
       "      <td>2</td>\n",
       "      <td>1</td>\n",
       "      <td>Medical</td>\n",
       "      <td>1</td>\n",
       "      <td>7</td>\n",
       "      <td>...</td>\n",
       "      <td>4</td>\n",
       "      <td>80</td>\n",
       "      <td>1</td>\n",
       "      <td>6</td>\n",
       "      <td>3</td>\n",
       "      <td>3</td>\n",
       "      <td>2</td>\n",
       "      <td>2</td>\n",
       "      <td>2</td>\n",
       "      <td>2</td>\n",
       "    </tr>\n",
       "    <tr>\n",
       "      <th>5</th>\n",
       "      <td>32</td>\n",
       "      <td>No</td>\n",
       "      <td>Travel_Frequently</td>\n",
       "      <td>1005</td>\n",
       "      <td>Research &amp; Development</td>\n",
       "      <td>2</td>\n",
       "      <td>2</td>\n",
       "      <td>Life Sciences</td>\n",
       "      <td>1</td>\n",
       "      <td>8</td>\n",
       "      <td>...</td>\n",
       "      <td>3</td>\n",
       "      <td>80</td>\n",
       "      <td>0</td>\n",
       "      <td>8</td>\n",
       "      <td>2</td>\n",
       "      <td>2</td>\n",
       "      <td>7</td>\n",
       "      <td>7</td>\n",
       "      <td>3</td>\n",
       "      <td>6</td>\n",
       "    </tr>\n",
       "    <tr>\n",
       "      <th>6</th>\n",
       "      <td>59</td>\n",
       "      <td>No</td>\n",
       "      <td>Travel_Rarely</td>\n",
       "      <td>1324</td>\n",
       "      <td>Research &amp; Development</td>\n",
       "      <td>3</td>\n",
       "      <td>3</td>\n",
       "      <td>Medical</td>\n",
       "      <td>1</td>\n",
       "      <td>10</td>\n",
       "      <td>...</td>\n",
       "      <td>1</td>\n",
       "      <td>80</td>\n",
       "      <td>3</td>\n",
       "      <td>12</td>\n",
       "      <td>3</td>\n",
       "      <td>2</td>\n",
       "      <td>1</td>\n",
       "      <td>0</td>\n",
       "      <td>0</td>\n",
       "      <td>0</td>\n",
       "    </tr>\n",
       "  </tbody>\n",
       "</table>\n",
       "<p>7 rows × 35 columns</p>\n",
       "</div>"
      ],
      "text/plain": [
       "   Age Attrition     BusinessTravel  DailyRate              Department  \\\n",
       "0   41       Yes      Travel_Rarely       1102                   Sales   \n",
       "1   49        No  Travel_Frequently        279  Research & Development   \n",
       "2   37       Yes      Travel_Rarely       1373  Research & Development   \n",
       "3   33        No  Travel_Frequently       1392  Research & Development   \n",
       "4   27        No      Travel_Rarely        591  Research & Development   \n",
       "5   32        No  Travel_Frequently       1005  Research & Development   \n",
       "6   59        No      Travel_Rarely       1324  Research & Development   \n",
       "\n",
       "   DistanceFromHome  Education EducationField  EmployeeCount  EmployeeNumber  \\\n",
       "0                 1          2  Life Sciences              1               1   \n",
       "1                 8          1  Life Sciences              1               2   \n",
       "2                 2          2          Other              1               4   \n",
       "3                 3          4  Life Sciences              1               5   \n",
       "4                 2          1        Medical              1               7   \n",
       "5                 2          2  Life Sciences              1               8   \n",
       "6                 3          3        Medical              1              10   \n",
       "\n",
       "   ...  RelationshipSatisfaction StandardHours  StockOptionLevel  \\\n",
       "0  ...                         1            80                 0   \n",
       "1  ...                         4            80                 1   \n",
       "2  ...                         2            80                 0   \n",
       "3  ...                         3            80                 0   \n",
       "4  ...                         4            80                 1   \n",
       "5  ...                         3            80                 0   \n",
       "6  ...                         1            80                 3   \n",
       "\n",
       "   TotalWorkingYears  TrainingTimesLastYear WorkLifeBalance  YearsAtCompany  \\\n",
       "0                  8                      0               1               6   \n",
       "1                 10                      3               3              10   \n",
       "2                  7                      3               3               0   \n",
       "3                  8                      3               3               8   \n",
       "4                  6                      3               3               2   \n",
       "5                  8                      2               2               7   \n",
       "6                 12                      3               2               1   \n",
       "\n",
       "  YearsInCurrentRole  YearsSinceLastPromotion  YearsWithCurrManager  \n",
       "0                  4                        0                     5  \n",
       "1                  7                        1                     7  \n",
       "2                  0                        0                     0  \n",
       "3                  7                        3                     0  \n",
       "4                  2                        2                     2  \n",
       "5                  7                        3                     6  \n",
       "6                  0                        0                     0  \n",
       "\n",
       "[7 rows x 35 columns]"
      ]
     },
     "execution_count": 3,
     "metadata": {},
     "output_type": "execute_result"
    }
   ],
   "source": [
    "Attrition_data.head(7)"
   ]
  },
  {
   "cell_type": "markdown",
   "id": "dbf2137a",
   "metadata": {},
   "source": [
    "# What are the Columns?"
   ]
  },
  {
   "cell_type": "code",
   "execution_count": 4,
   "id": "36ada413",
   "metadata": {},
   "outputs": [
    {
     "data": {
      "text/plain": [
       "Index(['Age', 'Attrition', 'BusinessTravel', 'DailyRate', 'Department',\n",
       "       'DistanceFromHome', 'Education', 'EducationField', 'EmployeeCount',\n",
       "       'EmployeeNumber', 'EnvironmentSatisfaction', 'Gender', 'HourlyRate',\n",
       "       'JobInvolvement', 'JobLevel', 'JobRole', 'JobSatisfaction',\n",
       "       'MaritalStatus', 'MonthlyIncome', 'MonthlyRate', 'NumCompaniesWorked',\n",
       "       'Over18', 'OverTime', 'PercentSalaryHike', 'PerformanceRating',\n",
       "       'RelationshipSatisfaction', 'StandardHours', 'StockOptionLevel',\n",
       "       'TotalWorkingYears', 'TrainingTimesLastYear', 'WorkLifeBalance',\n",
       "       'YearsAtCompany', 'YearsInCurrentRole', 'YearsSinceLastPromotion',\n",
       "       'YearsWithCurrManager'],\n",
       "      dtype='object')"
      ]
     },
     "execution_count": 4,
     "metadata": {},
     "output_type": "execute_result"
    }
   ],
   "source": [
    "Attrition_data.columns"
   ]
  },
  {
   "cell_type": "code",
   "execution_count": 5,
   "id": "979df969",
   "metadata": {},
   "outputs": [],
   "source": [
    "# Observation: 1) Here we can see that the dataset consists of the general data of the employee , professional data of the employe ,\n",
    "# personal data of the employee and are combined to analyze the attrition of the employee.\n",
    "#              2) Here our target column is \"Attrition\"."
   ]
  },
  {
   "cell_type": "markdown",
   "id": "aaa607ff",
   "metadata": {},
   "source": [
    "# Size of the data:"
   ]
  },
  {
   "cell_type": "code",
   "execution_count": 6,
   "id": "2ae0458f",
   "metadata": {},
   "outputs": [
    {
     "data": {
      "text/plain": [
       "(1470, 35)"
      ]
     },
     "execution_count": 6,
     "metadata": {},
     "output_type": "execute_result"
    }
   ],
   "source": [
    "Attrition_data.shape"
   ]
  },
  {
   "cell_type": "code",
   "execution_count": 7,
   "id": "9abef590",
   "metadata": {},
   "outputs": [],
   "source": [
    "# Observation: Here we can see that there are : Rows - 1470 , Columns - 35."
   ]
  },
  {
   "cell_type": "markdown",
   "id": "157d04a3",
   "metadata": {},
   "source": [
    "# What are the different datatypes present?"
   ]
  },
  {
   "cell_type": "code",
   "execution_count": 8,
   "id": "6f53b209",
   "metadata": {},
   "outputs": [
    {
     "data": {
      "text/plain": [
       "Age                          int64\n",
       "Attrition                   object\n",
       "BusinessTravel              object\n",
       "DailyRate                    int64\n",
       "Department                  object\n",
       "DistanceFromHome             int64\n",
       "Education                    int64\n",
       "EducationField              object\n",
       "EmployeeCount                int64\n",
       "EmployeeNumber               int64\n",
       "EnvironmentSatisfaction      int64\n",
       "Gender                      object\n",
       "HourlyRate                   int64\n",
       "JobInvolvement               int64\n",
       "JobLevel                     int64\n",
       "JobRole                     object\n",
       "JobSatisfaction              int64\n",
       "MaritalStatus               object\n",
       "MonthlyIncome                int64\n",
       "MonthlyRate                  int64\n",
       "NumCompaniesWorked           int64\n",
       "Over18                      object\n",
       "OverTime                    object\n",
       "PercentSalaryHike            int64\n",
       "PerformanceRating            int64\n",
       "RelationshipSatisfaction     int64\n",
       "StandardHours                int64\n",
       "StockOptionLevel             int64\n",
       "TotalWorkingYears            int64\n",
       "TrainingTimesLastYear        int64\n",
       "WorkLifeBalance              int64\n",
       "YearsAtCompany               int64\n",
       "YearsInCurrentRole           int64\n",
       "YearsSinceLastPromotion      int64\n",
       "YearsWithCurrManager         int64\n",
       "dtype: object"
      ]
     },
     "execution_count": 8,
     "metadata": {},
     "output_type": "execute_result"
    }
   ],
   "source": [
    "Attrition_data.dtypes"
   ]
  },
  {
   "cell_type": "code",
   "execution_count": 9,
   "id": "1101186e",
   "metadata": {},
   "outputs": [],
   "source": [
    "# Observation: Here we can see that the major columns are with the datatype: \"int64\" and there are few columns with the \"object\"\n",
    "# datatype."
   ]
  },
  {
   "cell_type": "markdown",
   "id": "15225faa",
   "metadata": {},
   "source": [
    "# Information of the data:"
   ]
  },
  {
   "cell_type": "code",
   "execution_count": 10,
   "id": "1ab49ef5",
   "metadata": {},
   "outputs": [
    {
     "name": "stdout",
     "output_type": "stream",
     "text": [
      "<class 'pandas.core.frame.DataFrame'>\n",
      "RangeIndex: 1470 entries, 0 to 1469\n",
      "Data columns (total 35 columns):\n",
      " #   Column                    Non-Null Count  Dtype \n",
      "---  ------                    --------------  ----- \n",
      " 0   Age                       1470 non-null   int64 \n",
      " 1   Attrition                 1470 non-null   object\n",
      " 2   BusinessTravel            1470 non-null   object\n",
      " 3   DailyRate                 1470 non-null   int64 \n",
      " 4   Department                1470 non-null   object\n",
      " 5   DistanceFromHome          1470 non-null   int64 \n",
      " 6   Education                 1470 non-null   int64 \n",
      " 7   EducationField            1470 non-null   object\n",
      " 8   EmployeeCount             1470 non-null   int64 \n",
      " 9   EmployeeNumber            1470 non-null   int64 \n",
      " 10  EnvironmentSatisfaction   1470 non-null   int64 \n",
      " 11  Gender                    1470 non-null   object\n",
      " 12  HourlyRate                1470 non-null   int64 \n",
      " 13  JobInvolvement            1470 non-null   int64 \n",
      " 14  JobLevel                  1470 non-null   int64 \n",
      " 15  JobRole                   1470 non-null   object\n",
      " 16  JobSatisfaction           1470 non-null   int64 \n",
      " 17  MaritalStatus             1470 non-null   object\n",
      " 18  MonthlyIncome             1470 non-null   int64 \n",
      " 19  MonthlyRate               1470 non-null   int64 \n",
      " 20  NumCompaniesWorked        1470 non-null   int64 \n",
      " 21  Over18                    1470 non-null   object\n",
      " 22  OverTime                  1470 non-null   object\n",
      " 23  PercentSalaryHike         1470 non-null   int64 \n",
      " 24  PerformanceRating         1470 non-null   int64 \n",
      " 25  RelationshipSatisfaction  1470 non-null   int64 \n",
      " 26  StandardHours             1470 non-null   int64 \n",
      " 27  StockOptionLevel          1470 non-null   int64 \n",
      " 28  TotalWorkingYears         1470 non-null   int64 \n",
      " 29  TrainingTimesLastYear     1470 non-null   int64 \n",
      " 30  WorkLifeBalance           1470 non-null   int64 \n",
      " 31  YearsAtCompany            1470 non-null   int64 \n",
      " 32  YearsInCurrentRole        1470 non-null   int64 \n",
      " 33  YearsSinceLastPromotion   1470 non-null   int64 \n",
      " 34  YearsWithCurrManager      1470 non-null   int64 \n",
      "dtypes: int64(26), object(9)\n",
      "memory usage: 402.1+ KB\n"
     ]
    }
   ],
   "source": [
    "Attrition_data.info()"
   ]
  },
  {
   "cell_type": "code",
   "execution_count": 11,
   "id": "3e18fa1a",
   "metadata": {},
   "outputs": [],
   "source": [
    "# Observation: Here we can see that there are no null values in any of the columns."
   ]
  },
  {
   "cell_type": "markdown",
   "id": "e53d536d",
   "metadata": {},
   "source": [
    "# Statistical Analysis of the data:"
   ]
  },
  {
   "cell_type": "code",
   "execution_count": 12,
   "id": "a5e8ff2e",
   "metadata": {},
   "outputs": [
    {
     "data": {
      "text/html": [
       "<div>\n",
       "<style scoped>\n",
       "    .dataframe tbody tr th:only-of-type {\n",
       "        vertical-align: middle;\n",
       "    }\n",
       "\n",
       "    .dataframe tbody tr th {\n",
       "        vertical-align: top;\n",
       "    }\n",
       "\n",
       "    .dataframe thead th {\n",
       "        text-align: right;\n",
       "    }\n",
       "</style>\n",
       "<table border=\"1\" class=\"dataframe\">\n",
       "  <thead>\n",
       "    <tr style=\"text-align: right;\">\n",
       "      <th></th>\n",
       "      <th>Age</th>\n",
       "      <th>DailyRate</th>\n",
       "      <th>DistanceFromHome</th>\n",
       "      <th>Education</th>\n",
       "      <th>EmployeeCount</th>\n",
       "      <th>EmployeeNumber</th>\n",
       "      <th>EnvironmentSatisfaction</th>\n",
       "      <th>HourlyRate</th>\n",
       "      <th>JobInvolvement</th>\n",
       "      <th>JobLevel</th>\n",
       "      <th>...</th>\n",
       "      <th>RelationshipSatisfaction</th>\n",
       "      <th>StandardHours</th>\n",
       "      <th>StockOptionLevel</th>\n",
       "      <th>TotalWorkingYears</th>\n",
       "      <th>TrainingTimesLastYear</th>\n",
       "      <th>WorkLifeBalance</th>\n",
       "      <th>YearsAtCompany</th>\n",
       "      <th>YearsInCurrentRole</th>\n",
       "      <th>YearsSinceLastPromotion</th>\n",
       "      <th>YearsWithCurrManager</th>\n",
       "    </tr>\n",
       "  </thead>\n",
       "  <tbody>\n",
       "    <tr>\n",
       "      <th>count</th>\n",
       "      <td>1470.000000</td>\n",
       "      <td>1470.000000</td>\n",
       "      <td>1470.000000</td>\n",
       "      <td>1470.000000</td>\n",
       "      <td>1470.0</td>\n",
       "      <td>1470.000000</td>\n",
       "      <td>1470.000000</td>\n",
       "      <td>1470.000000</td>\n",
       "      <td>1470.000000</td>\n",
       "      <td>1470.000000</td>\n",
       "      <td>...</td>\n",
       "      <td>1470.000000</td>\n",
       "      <td>1470.0</td>\n",
       "      <td>1470.000000</td>\n",
       "      <td>1470.000000</td>\n",
       "      <td>1470.000000</td>\n",
       "      <td>1470.000000</td>\n",
       "      <td>1470.000000</td>\n",
       "      <td>1470.000000</td>\n",
       "      <td>1470.000000</td>\n",
       "      <td>1470.000000</td>\n",
       "    </tr>\n",
       "    <tr>\n",
       "      <th>mean</th>\n",
       "      <td>36.923810</td>\n",
       "      <td>802.485714</td>\n",
       "      <td>9.192517</td>\n",
       "      <td>2.912925</td>\n",
       "      <td>1.0</td>\n",
       "      <td>1024.865306</td>\n",
       "      <td>2.721769</td>\n",
       "      <td>65.891156</td>\n",
       "      <td>2.729932</td>\n",
       "      <td>2.063946</td>\n",
       "      <td>...</td>\n",
       "      <td>2.712245</td>\n",
       "      <td>80.0</td>\n",
       "      <td>0.793878</td>\n",
       "      <td>11.279592</td>\n",
       "      <td>2.799320</td>\n",
       "      <td>2.761224</td>\n",
       "      <td>7.008163</td>\n",
       "      <td>4.229252</td>\n",
       "      <td>2.187755</td>\n",
       "      <td>4.123129</td>\n",
       "    </tr>\n",
       "    <tr>\n",
       "      <th>std</th>\n",
       "      <td>9.135373</td>\n",
       "      <td>403.509100</td>\n",
       "      <td>8.106864</td>\n",
       "      <td>1.024165</td>\n",
       "      <td>0.0</td>\n",
       "      <td>602.024335</td>\n",
       "      <td>1.093082</td>\n",
       "      <td>20.329428</td>\n",
       "      <td>0.711561</td>\n",
       "      <td>1.106940</td>\n",
       "      <td>...</td>\n",
       "      <td>1.081209</td>\n",
       "      <td>0.0</td>\n",
       "      <td>0.852077</td>\n",
       "      <td>7.780782</td>\n",
       "      <td>1.289271</td>\n",
       "      <td>0.706476</td>\n",
       "      <td>6.126525</td>\n",
       "      <td>3.623137</td>\n",
       "      <td>3.222430</td>\n",
       "      <td>3.568136</td>\n",
       "    </tr>\n",
       "    <tr>\n",
       "      <th>min</th>\n",
       "      <td>18.000000</td>\n",
       "      <td>102.000000</td>\n",
       "      <td>1.000000</td>\n",
       "      <td>1.000000</td>\n",
       "      <td>1.0</td>\n",
       "      <td>1.000000</td>\n",
       "      <td>1.000000</td>\n",
       "      <td>30.000000</td>\n",
       "      <td>1.000000</td>\n",
       "      <td>1.000000</td>\n",
       "      <td>...</td>\n",
       "      <td>1.000000</td>\n",
       "      <td>80.0</td>\n",
       "      <td>0.000000</td>\n",
       "      <td>0.000000</td>\n",
       "      <td>0.000000</td>\n",
       "      <td>1.000000</td>\n",
       "      <td>0.000000</td>\n",
       "      <td>0.000000</td>\n",
       "      <td>0.000000</td>\n",
       "      <td>0.000000</td>\n",
       "    </tr>\n",
       "    <tr>\n",
       "      <th>25%</th>\n",
       "      <td>30.000000</td>\n",
       "      <td>465.000000</td>\n",
       "      <td>2.000000</td>\n",
       "      <td>2.000000</td>\n",
       "      <td>1.0</td>\n",
       "      <td>491.250000</td>\n",
       "      <td>2.000000</td>\n",
       "      <td>48.000000</td>\n",
       "      <td>2.000000</td>\n",
       "      <td>1.000000</td>\n",
       "      <td>...</td>\n",
       "      <td>2.000000</td>\n",
       "      <td>80.0</td>\n",
       "      <td>0.000000</td>\n",
       "      <td>6.000000</td>\n",
       "      <td>2.000000</td>\n",
       "      <td>2.000000</td>\n",
       "      <td>3.000000</td>\n",
       "      <td>2.000000</td>\n",
       "      <td>0.000000</td>\n",
       "      <td>2.000000</td>\n",
       "    </tr>\n",
       "    <tr>\n",
       "      <th>50%</th>\n",
       "      <td>36.000000</td>\n",
       "      <td>802.000000</td>\n",
       "      <td>7.000000</td>\n",
       "      <td>3.000000</td>\n",
       "      <td>1.0</td>\n",
       "      <td>1020.500000</td>\n",
       "      <td>3.000000</td>\n",
       "      <td>66.000000</td>\n",
       "      <td>3.000000</td>\n",
       "      <td>2.000000</td>\n",
       "      <td>...</td>\n",
       "      <td>3.000000</td>\n",
       "      <td>80.0</td>\n",
       "      <td>1.000000</td>\n",
       "      <td>10.000000</td>\n",
       "      <td>3.000000</td>\n",
       "      <td>3.000000</td>\n",
       "      <td>5.000000</td>\n",
       "      <td>3.000000</td>\n",
       "      <td>1.000000</td>\n",
       "      <td>3.000000</td>\n",
       "    </tr>\n",
       "    <tr>\n",
       "      <th>75%</th>\n",
       "      <td>43.000000</td>\n",
       "      <td>1157.000000</td>\n",
       "      <td>14.000000</td>\n",
       "      <td>4.000000</td>\n",
       "      <td>1.0</td>\n",
       "      <td>1555.750000</td>\n",
       "      <td>4.000000</td>\n",
       "      <td>83.750000</td>\n",
       "      <td>3.000000</td>\n",
       "      <td>3.000000</td>\n",
       "      <td>...</td>\n",
       "      <td>4.000000</td>\n",
       "      <td>80.0</td>\n",
       "      <td>1.000000</td>\n",
       "      <td>15.000000</td>\n",
       "      <td>3.000000</td>\n",
       "      <td>3.000000</td>\n",
       "      <td>9.000000</td>\n",
       "      <td>7.000000</td>\n",
       "      <td>3.000000</td>\n",
       "      <td>7.000000</td>\n",
       "    </tr>\n",
       "    <tr>\n",
       "      <th>max</th>\n",
       "      <td>60.000000</td>\n",
       "      <td>1499.000000</td>\n",
       "      <td>29.000000</td>\n",
       "      <td>5.000000</td>\n",
       "      <td>1.0</td>\n",
       "      <td>2068.000000</td>\n",
       "      <td>4.000000</td>\n",
       "      <td>100.000000</td>\n",
       "      <td>4.000000</td>\n",
       "      <td>5.000000</td>\n",
       "      <td>...</td>\n",
       "      <td>4.000000</td>\n",
       "      <td>80.0</td>\n",
       "      <td>3.000000</td>\n",
       "      <td>40.000000</td>\n",
       "      <td>6.000000</td>\n",
       "      <td>4.000000</td>\n",
       "      <td>40.000000</td>\n",
       "      <td>18.000000</td>\n",
       "      <td>15.000000</td>\n",
       "      <td>17.000000</td>\n",
       "    </tr>\n",
       "  </tbody>\n",
       "</table>\n",
       "<p>8 rows × 26 columns</p>\n",
       "</div>"
      ],
      "text/plain": [
       "               Age    DailyRate  DistanceFromHome    Education  EmployeeCount  \\\n",
       "count  1470.000000  1470.000000       1470.000000  1470.000000         1470.0   \n",
       "mean     36.923810   802.485714          9.192517     2.912925            1.0   \n",
       "std       9.135373   403.509100          8.106864     1.024165            0.0   \n",
       "min      18.000000   102.000000          1.000000     1.000000            1.0   \n",
       "25%      30.000000   465.000000          2.000000     2.000000            1.0   \n",
       "50%      36.000000   802.000000          7.000000     3.000000            1.0   \n",
       "75%      43.000000  1157.000000         14.000000     4.000000            1.0   \n",
       "max      60.000000  1499.000000         29.000000     5.000000            1.0   \n",
       "\n",
       "       EmployeeNumber  EnvironmentSatisfaction   HourlyRate  JobInvolvement  \\\n",
       "count     1470.000000              1470.000000  1470.000000     1470.000000   \n",
       "mean      1024.865306                 2.721769    65.891156        2.729932   \n",
       "std        602.024335                 1.093082    20.329428        0.711561   \n",
       "min          1.000000                 1.000000    30.000000        1.000000   \n",
       "25%        491.250000                 2.000000    48.000000        2.000000   \n",
       "50%       1020.500000                 3.000000    66.000000        3.000000   \n",
       "75%       1555.750000                 4.000000    83.750000        3.000000   \n",
       "max       2068.000000                 4.000000   100.000000        4.000000   \n",
       "\n",
       "          JobLevel  ...  RelationshipSatisfaction  StandardHours  \\\n",
       "count  1470.000000  ...               1470.000000         1470.0   \n",
       "mean      2.063946  ...                  2.712245           80.0   \n",
       "std       1.106940  ...                  1.081209            0.0   \n",
       "min       1.000000  ...                  1.000000           80.0   \n",
       "25%       1.000000  ...                  2.000000           80.0   \n",
       "50%       2.000000  ...                  3.000000           80.0   \n",
       "75%       3.000000  ...                  4.000000           80.0   \n",
       "max       5.000000  ...                  4.000000           80.0   \n",
       "\n",
       "       StockOptionLevel  TotalWorkingYears  TrainingTimesLastYear  \\\n",
       "count       1470.000000        1470.000000            1470.000000   \n",
       "mean           0.793878          11.279592               2.799320   \n",
       "std            0.852077           7.780782               1.289271   \n",
       "min            0.000000           0.000000               0.000000   \n",
       "25%            0.000000           6.000000               2.000000   \n",
       "50%            1.000000          10.000000               3.000000   \n",
       "75%            1.000000          15.000000               3.000000   \n",
       "max            3.000000          40.000000               6.000000   \n",
       "\n",
       "       WorkLifeBalance  YearsAtCompany  YearsInCurrentRole  \\\n",
       "count      1470.000000     1470.000000         1470.000000   \n",
       "mean          2.761224        7.008163            4.229252   \n",
       "std           0.706476        6.126525            3.623137   \n",
       "min           1.000000        0.000000            0.000000   \n",
       "25%           2.000000        3.000000            2.000000   \n",
       "50%           3.000000        5.000000            3.000000   \n",
       "75%           3.000000        9.000000            7.000000   \n",
       "max           4.000000       40.000000           18.000000   \n",
       "\n",
       "       YearsSinceLastPromotion  YearsWithCurrManager  \n",
       "count              1470.000000           1470.000000  \n",
       "mean                  2.187755              4.123129  \n",
       "std                   3.222430              3.568136  \n",
       "min                   0.000000              0.000000  \n",
       "25%                   0.000000              2.000000  \n",
       "50%                   1.000000              3.000000  \n",
       "75%                   3.000000              7.000000  \n",
       "max                  15.000000             17.000000  \n",
       "\n",
       "[8 rows x 26 columns]"
      ]
     },
     "execution_count": 12,
     "metadata": {},
     "output_type": "execute_result"
    }
   ],
   "source": [
    "Attrition_data.describe()"
   ]
  },
  {
   "cell_type": "code",
   "execution_count": 13,
   "id": "b2d26d62",
   "metadata": {},
   "outputs": [],
   "source": [
    "# Observation: 1) Here we can see that the numerical columns are considered. we can see that these columns are with absolute count.\n",
    "# 2) Also we can see that the difference between \"mean and std\" is more in many of the columns but in few columns it is less.\n",
    "# 3) Also in few columns the minimum value is \"0\"."
   ]
  },
  {
   "cell_type": "markdown",
   "id": "61ff9619",
   "metadata": {},
   "source": [
    "# Checking with the null values in the data:"
   ]
  },
  {
   "cell_type": "code",
   "execution_count": 14,
   "id": "b0ae3787",
   "metadata": {},
   "outputs": [
    {
     "data": {
      "text/plain": [
       "Age                         0\n",
       "Attrition                   0\n",
       "BusinessTravel              0\n",
       "DailyRate                   0\n",
       "Department                  0\n",
       "DistanceFromHome            0\n",
       "Education                   0\n",
       "EducationField              0\n",
       "EmployeeCount               0\n",
       "EmployeeNumber              0\n",
       "EnvironmentSatisfaction     0\n",
       "Gender                      0\n",
       "HourlyRate                  0\n",
       "JobInvolvement              0\n",
       "JobLevel                    0\n",
       "JobRole                     0\n",
       "JobSatisfaction             0\n",
       "MaritalStatus               0\n",
       "MonthlyIncome               0\n",
       "MonthlyRate                 0\n",
       "NumCompaniesWorked          0\n",
       "Over18                      0\n",
       "OverTime                    0\n",
       "PercentSalaryHike           0\n",
       "PerformanceRating           0\n",
       "RelationshipSatisfaction    0\n",
       "StandardHours               0\n",
       "StockOptionLevel            0\n",
       "TotalWorkingYears           0\n",
       "TrainingTimesLastYear       0\n",
       "WorkLifeBalance             0\n",
       "YearsAtCompany              0\n",
       "YearsInCurrentRole          0\n",
       "YearsSinceLastPromotion     0\n",
       "YearsWithCurrManager        0\n",
       "dtype: int64"
      ]
     },
     "execution_count": 14,
     "metadata": {},
     "output_type": "execute_result"
    }
   ],
   "source": [
    "Attrition_data.isnull().sum()"
   ]
  },
  {
   "cell_type": "code",
   "execution_count": 15,
   "id": "59059f4e",
   "metadata": {},
   "outputs": [],
   "source": [
    "# Observation: here we can see that this code checked the complete null values in all the columns including object datatype \n",
    "# columns and we can see that no null values in any of the columns."
   ]
  },
  {
   "cell_type": "code",
   "execution_count": 16,
   "id": "b2e38036",
   "metadata": {},
   "outputs": [
    {
     "data": {
      "text/plain": [
       "False"
      ]
     },
     "execution_count": 16,
     "metadata": {},
     "output_type": "execute_result"
    }
   ],
   "source": [
    "# Also can see the null/missing values:\n",
    "\n",
    "Attrition_data.isnull().values.any()"
   ]
  },
  {
   "cell_type": "markdown",
   "id": "21155080",
   "metadata": {},
   "source": [
    "# Checking the Count of our label: \"Attrition\" :"
   ]
  },
  {
   "cell_type": "code",
   "execution_count": 17,
   "id": "921aa5e0",
   "metadata": {},
   "outputs": [],
   "source": [
    "Attrition_count = pd.DataFrame(Attrition_data[\"Attrition\"].value_counts())"
   ]
  },
  {
   "cell_type": "code",
   "execution_count": 18,
   "id": "3ac7c65f",
   "metadata": {},
   "outputs": [
    {
     "data": {
      "text/html": [
       "<div>\n",
       "<style scoped>\n",
       "    .dataframe tbody tr th:only-of-type {\n",
       "        vertical-align: middle;\n",
       "    }\n",
       "\n",
       "    .dataframe tbody tr th {\n",
       "        vertical-align: top;\n",
       "    }\n",
       "\n",
       "    .dataframe thead th {\n",
       "        text-align: right;\n",
       "    }\n",
       "</style>\n",
       "<table border=\"1\" class=\"dataframe\">\n",
       "  <thead>\n",
       "    <tr style=\"text-align: right;\">\n",
       "      <th></th>\n",
       "      <th>Attrition</th>\n",
       "    </tr>\n",
       "  </thead>\n",
       "  <tbody>\n",
       "    <tr>\n",
       "      <th>No</th>\n",
       "      <td>1233</td>\n",
       "    </tr>\n",
       "    <tr>\n",
       "      <th>Yes</th>\n",
       "      <td>237</td>\n",
       "    </tr>\n",
       "  </tbody>\n",
       "</table>\n",
       "</div>"
      ],
      "text/plain": [
       "     Attrition\n",
       "No        1233\n",
       "Yes        237"
      ]
     },
     "execution_count": 18,
     "metadata": {},
     "output_type": "execute_result"
    }
   ],
   "source": [
    "Attrition_count"
   ]
  },
  {
   "cell_type": "code",
   "execution_count": 19,
   "id": "89dcfff8",
   "metadata": {},
   "outputs": [],
   "source": [
    "# Observation: Here we can see that : The employees attritioned - 237\n",
    "#                                     The employees who have not attritioned - 1233."
   ]
  },
  {
   "cell_type": "markdown",
   "id": "3ddfd3ba",
   "metadata": {},
   "source": [
    "# Removing the unrequired columns:"
   ]
  },
  {
   "cell_type": "code",
   "execution_count": 20,
   "id": "5f171b88",
   "metadata": {},
   "outputs": [],
   "source": [
    "Attrition_data = Attrition_data.drop([\"EmployeeCount\" , \"EmployeeNumber\" , \"Over18\", \"StandardHours\"] , axis = 1)"
   ]
  },
  {
   "cell_type": "code",
   "execution_count": 21,
   "id": "2031b5b0",
   "metadata": {},
   "outputs": [
    {
     "data": {
      "text/plain": [
       "(1470, 31)"
      ]
     },
     "execution_count": 21,
     "metadata": {},
     "output_type": "execute_result"
    }
   ],
   "source": [
    "Attrition_data.shape"
   ]
  },
  {
   "cell_type": "code",
   "execution_count": 22,
   "id": "34be5cbe",
   "metadata": {},
   "outputs": [],
   "source": [
    "# Observation: here we can see that the number of columns are reduced to 32,that means we have successfully dropped our unrequired columns."
   ]
  },
  {
   "cell_type": "markdown",
   "id": "27ccc8e3",
   "metadata": {},
   "source": [
    "# Visualization:"
   ]
  },
  {
   "cell_type": "markdown",
   "id": "0fff2137",
   "metadata": {},
   "source": [
    "## Univariate Analysis:"
   ]
  },
  {
   "cell_type": "markdown",
   "id": "27821e50",
   "metadata": {},
   "source": [
    "### Plot of our target variable : \"Attrition\""
   ]
  },
  {
   "cell_type": "code",
   "execution_count": 23,
   "id": "a84fee36",
   "metadata": {},
   "outputs": [
    {
     "data": {
      "image/png": "[encoded data removed]",
      "text/plain": [
       "<Figure size 360x360 with 1 Axes>"
      ]
     },
     "metadata": {
      "needs_background": "light"
     },
     "output_type": "display_data"
    }
   ],
   "source": [
    "plt.figure(figsize=(5,5))\n",
    "sns.countplot(Attrition_data.Attrition);"
   ]
  },
  {
   "cell_type": "code",
   "execution_count": 24,
   "id": "f9b23735",
   "metadata": {},
   "outputs": [],
   "source": [
    "# Observation : Here we can see that there are employees with attrition - yes in \"blue\" color and there are employees with\n",
    "# attrition - no in the othet color."
   ]
  },
  {
   "cell_type": "code",
   "execution_count": 25,
   "id": "09bfebe0",
   "metadata": {},
   "outputs": [
    {
     "data": {
      "text/plain": [
       "Index(['Age', 'Attrition', 'BusinessTravel', 'DailyRate', 'Department',\n",
       "       'DistanceFromHome', 'Education', 'EducationField',\n",
       "       'EnvironmentSatisfaction', 'Gender', 'HourlyRate', 'JobInvolvement',\n",
       "       'JobLevel', 'JobRole', 'JobSatisfaction', 'MaritalStatus',\n",
       "       'MonthlyIncome', 'MonthlyRate', 'NumCompaniesWorked', 'OverTime',\n",
       "       'PercentSalaryHike', 'PerformanceRating', 'RelationshipSatisfaction',\n",
       "       'StockOptionLevel', 'TotalWorkingYears', 'TrainingTimesLastYear',\n",
       "       'WorkLifeBalance', 'YearsAtCompany', 'YearsInCurrentRole',\n",
       "       'YearsSinceLastPromotion', 'YearsWithCurrManager'],\n",
       "      dtype='object')"
      ]
     },
     "execution_count": 25,
     "metadata": {},
     "output_type": "execute_result"
    }
   ],
   "source": [
    "Attrition_data.columns"
   ]
  },
  {
   "cell_type": "markdown",
   "id": "80a3bd1f",
   "metadata": {},
   "source": [
    "# Age:"
   ]
  },
  {
   "cell_type": "code",
   "execution_count": 26,
   "id": "b9bca26a",
   "metadata": {},
   "outputs": [
    {
     "data": {
      "image/png": "[encoded data removed]",
      "text/plain": [
       "<Figure size 864x576 with 3 Axes>"
      ]
     },
     "metadata": {
      "needs_background": "light"
     },
     "output_type": "display_data"
    }
   ],
   "source": [
    "plt.figure(figsize=(12,8))\n",
    "plt.subplot(2,2,1)\n",
    "sns.distplot(Attrition_data['Age'], kde=False, bins=range(0, 31, 2));\n",
    "plt.subplot(2,2,2)\n",
    "sns.boxplot(Attrition_data['Age']);\n",
    "plt.subplot(2,2,3)\n",
    "sns.distplot(Attrition_data['Age']);"
   ]
  },
  {
   "cell_type": "code",
   "execution_count": 27,
   "id": "3018f485",
   "metadata": {},
   "outputs": [],
   "source": [
    "# Observation: Here we can see that the graph is almost distributed normally and also we can see that there are no outliers \n",
    "# detected."
   ]
  },
  {
   "cell_type": "code",
   "execution_count": 28,
   "id": "ad219162",
   "metadata": {},
   "outputs": [
    {
     "data": {
      "image/png": "[encoded data removed]",
      "text/plain": [
       "<Figure size 864x576 with 3 Axes>"
      ]
     },
     "metadata": {
      "needs_background": "light"
     },
     "output_type": "display_data"
    }
   ],
   "source": [
    "plt.figure(figsize=(12,8))\n",
    "plt.subplot(2,2,1)\n",
    "sns.distplot(Attrition_data['Age'], kde=False);#, #bins=range(0, 31, 2));\n",
    "plt.subplot(2,2,2)\n",
    "sns.boxplot(Attrition_data['Age']);\n",
    "plt.subplot(2,2,3)\n",
    "sns.distplot(Attrition_data['Age']);"
   ]
  },
  {
   "cell_type": "markdown",
   "id": "427eef8a",
   "metadata": {},
   "source": [
    "# BusinessTravel:"
   ]
  },
  {
   "cell_type": "code",
   "execution_count": 29,
   "id": "4d26135a",
   "metadata": {},
   "outputs": [
    {
     "data": {
      "image/png": "[encoded data removed]",
      "text/plain": [
       "<Figure size 360x360 with 1 Axes>"
      ]
     },
     "metadata": {
      "needs_background": "light"
     },
     "output_type": "display_data"
    }
   ],
   "source": [
    "plt.figure(figsize=(5,5))\n",
    "sns.countplot(Attrition_data.BusinessTravel);"
   ]
  },
  {
   "cell_type": "code",
   "execution_count": 30,
   "id": "f456235a",
   "metadata": {},
   "outputs": [],
   "source": [
    "# Observation: Here we can see that there are more number of employees who \"Travel_Rarely\" and the order is followed by, who\n",
    "# \"Travel frequently Bussiness travel\" and finally by, who \"Non - Travel\" ie., who dont travel."
   ]
  },
  {
   "cell_type": "code",
   "execution_count": 31,
   "id": "4e7f0338",
   "metadata": {},
   "outputs": [
    {
     "data": {
      "text/html": [
       "<div>\n",
       "<style scoped>\n",
       "    .dataframe tbody tr th:only-of-type {\n",
       "        vertical-align: middle;\n",
       "    }\n",
       "\n",
       "    .dataframe tbody tr th {\n",
       "        vertical-align: top;\n",
       "    }\n",
       "\n",
       "    .dataframe thead th {\n",
       "        text-align: right;\n",
       "    }\n",
       "</style>\n",
       "<table border=\"1\" class=\"dataframe\">\n",
       "  <thead>\n",
       "    <tr style=\"text-align: right;\">\n",
       "      <th></th>\n",
       "      <th>Age</th>\n",
       "      <th>Attrition</th>\n",
       "      <th>BusinessTravel</th>\n",
       "      <th>DailyRate</th>\n",
       "      <th>Department</th>\n",
       "      <th>DistanceFromHome</th>\n",
       "      <th>Education</th>\n",
       "      <th>EducationField</th>\n",
       "      <th>EnvironmentSatisfaction</th>\n",
       "      <th>Gender</th>\n",
       "      <th>...</th>\n",
       "      <th>PerformanceRating</th>\n",
       "      <th>RelationshipSatisfaction</th>\n",
       "      <th>StockOptionLevel</th>\n",
       "      <th>TotalWorkingYears</th>\n",
       "      <th>TrainingTimesLastYear</th>\n",
       "      <th>WorkLifeBalance</th>\n",
       "      <th>YearsAtCompany</th>\n",
       "      <th>YearsInCurrentRole</th>\n",
       "      <th>YearsSinceLastPromotion</th>\n",
       "      <th>YearsWithCurrManager</th>\n",
       "    </tr>\n",
       "  </thead>\n",
       "  <tbody>\n",
       "    <tr>\n",
       "      <th>0</th>\n",
       "      <td>41</td>\n",
       "      <td>Yes</td>\n",
       "      <td>Travel_Rarely</td>\n",
       "      <td>1102</td>\n",
       "      <td>Sales</td>\n",
       "      <td>1</td>\n",
       "      <td>2</td>\n",
       "      <td>Life Sciences</td>\n",
       "      <td>2</td>\n",
       "      <td>Female</td>\n",
       "      <td>...</td>\n",
       "      <td>3</td>\n",
       "      <td>1</td>\n",
       "      <td>0</td>\n",
       "      <td>8</td>\n",
       "      <td>0</td>\n",
       "      <td>1</td>\n",
       "      <td>6</td>\n",
       "      <td>4</td>\n",
       "      <td>0</td>\n",
       "      <td>5</td>\n",
       "    </tr>\n",
       "    <tr>\n",
       "      <th>1</th>\n",
       "      <td>49</td>\n",
       "      <td>No</td>\n",
       "      <td>Travel_Frequently</td>\n",
       "      <td>279</td>\n",
       "      <td>Research &amp; Development</td>\n",
       "      <td>8</td>\n",
       "      <td>1</td>\n",
       "      <td>Life Sciences</td>\n",
       "      <td>3</td>\n",
       "      <td>Male</td>\n",
       "      <td>...</td>\n",
       "      <td>4</td>\n",
       "      <td>4</td>\n",
       "      <td>1</td>\n",
       "      <td>10</td>\n",
       "      <td>3</td>\n",
       "      <td>3</td>\n",
       "      <td>10</td>\n",
       "      <td>7</td>\n",
       "      <td>1</td>\n",
       "      <td>7</td>\n",
       "    </tr>\n",
       "    <tr>\n",
       "      <th>2</th>\n",
       "      <td>37</td>\n",
       "      <td>Yes</td>\n",
       "      <td>Travel_Rarely</td>\n",
       "      <td>1373</td>\n",
       "      <td>Research &amp; Development</td>\n",
       "      <td>2</td>\n",
       "      <td>2</td>\n",
       "      <td>Other</td>\n",
       "      <td>4</td>\n",
       "      <td>Male</td>\n",
       "      <td>...</td>\n",
       "      <td>3</td>\n",
       "      <td>2</td>\n",
       "      <td>0</td>\n",
       "      <td>7</td>\n",
       "      <td>3</td>\n",
       "      <td>3</td>\n",
       "      <td>0</td>\n",
       "      <td>0</td>\n",
       "      <td>0</td>\n",
       "      <td>0</td>\n",
       "    </tr>\n",
       "    <tr>\n",
       "      <th>3</th>\n",
       "      <td>33</td>\n",
       "      <td>No</td>\n",
       "      <td>Travel_Frequently</td>\n",
       "      <td>1392</td>\n",
       "      <td>Research &amp; Development</td>\n",
       "      <td>3</td>\n",
       "      <td>4</td>\n",
       "      <td>Life Sciences</td>\n",
       "      <td>4</td>\n",
       "      <td>Female</td>\n",
       "      <td>...</td>\n",
       "      <td>3</td>\n",
       "      <td>3</td>\n",
       "      <td>0</td>\n",
       "      <td>8</td>\n",
       "      <td>3</td>\n",
       "      <td>3</td>\n",
       "      <td>8</td>\n",
       "      <td>7</td>\n",
       "      <td>3</td>\n",
       "      <td>0</td>\n",
       "    </tr>\n",
       "    <tr>\n",
       "      <th>4</th>\n",
       "      <td>27</td>\n",
       "      <td>No</td>\n",
       "      <td>Travel_Rarely</td>\n",
       "      <td>591</td>\n",
       "      <td>Research &amp; Development</td>\n",
       "      <td>2</td>\n",
       "      <td>1</td>\n",
       "      <td>Medical</td>\n",
       "      <td>1</td>\n",
       "      <td>Male</td>\n",
       "      <td>...</td>\n",
       "      <td>3</td>\n",
       "      <td>4</td>\n",
       "      <td>1</td>\n",
       "      <td>6</td>\n",
       "      <td>3</td>\n",
       "      <td>3</td>\n",
       "      <td>2</td>\n",
       "      <td>2</td>\n",
       "      <td>2</td>\n",
       "      <td>2</td>\n",
       "    </tr>\n",
       "  </tbody>\n",
       "</table>\n",
       "<p>5 rows × 31 columns</p>\n",
       "</div>"
      ],
      "text/plain": [
       "   Age Attrition     BusinessTravel  DailyRate              Department  \\\n",
       "0   41       Yes      Travel_Rarely       1102                   Sales   \n",
       "1   49        No  Travel_Frequently        279  Research & Development   \n",
       "2   37       Yes      Travel_Rarely       1373  Research & Development   \n",
       "3   33        No  Travel_Frequently       1392  Research & Development   \n",
       "4   27        No      Travel_Rarely        591  Research & Development   \n",
       "\n",
       "   DistanceFromHome  Education EducationField  EnvironmentSatisfaction  \\\n",
       "0                 1          2  Life Sciences                        2   \n",
       "1                 8          1  Life Sciences                        3   \n",
       "2                 2          2          Other                        4   \n",
       "3                 3          4  Life Sciences                        4   \n",
       "4                 2          1        Medical                        1   \n",
       "\n",
       "   Gender  ...  PerformanceRating  RelationshipSatisfaction  StockOptionLevel  \\\n",
       "0  Female  ...                  3                         1                 0   \n",
       "1    Male  ...                  4                         4                 1   \n",
       "2    Male  ...                  3                         2                 0   \n",
       "3  Female  ...                  3                         3                 0   \n",
       "4    Male  ...                  3                         4                 1   \n",
       "\n",
       "  TotalWorkingYears  TrainingTimesLastYear WorkLifeBalance  YearsAtCompany  \\\n",
       "0                 8                      0               1               6   \n",
       "1                10                      3               3              10   \n",
       "2                 7                      3               3               0   \n",
       "3                 8                      3               3               8   \n",
       "4                 6                      3               3               2   \n",
       "\n",
       "   YearsInCurrentRole  YearsSinceLastPromotion YearsWithCurrManager  \n",
       "0                   4                        0                    5  \n",
       "1                   7                        1                    7  \n",
       "2                   0                        0                    0  \n",
       "3                   7                        3                    0  \n",
       "4                   2                        2                    2  \n",
       "\n",
       "[5 rows x 31 columns]"
      ]
     },
     "execution_count": 31,
     "metadata": {},
     "output_type": "execute_result"
    }
   ],
   "source": [
    "Attrition_data.head()"
   ]
  },
  {
   "cell_type": "markdown",
   "id": "80187a9e",
   "metadata": {},
   "source": [
    "# DailyRate:"
   ]
  },
  {
   "cell_type": "code",
   "execution_count": 32,
   "id": "a9598422",
   "metadata": {},
   "outputs": [
    {
     "data": {
      "image/png": "[encoded data removed]",
      "text/plain": [
       "<Figure size 864x576 with 3 Axes>"
      ]
     },
     "metadata": {
      "needs_background": "light"
     },
     "output_type": "display_data"
    }
   ],
   "source": [
    "plt.figure(figsize=(12,8))\n",
    "plt.subplot(2,2,1)\n",
    "sns.distplot(Attrition_data['DailyRate'], kde=False, bins=range(0, 31, 2));\n",
    "plt.subplot(2,2,2)\n",
    "sns.boxplot(Attrition_data['DailyRate']);\n",
    "plt.subplot(2,2,3)\n",
    "sns.distplot(Attrition_data['DailyRate']);"
   ]
  },
  {
   "cell_type": "code",
   "execution_count": 33,
   "id": "570e2b86",
   "metadata": {},
   "outputs": [],
   "source": [
    "# Observation: here we can see that the distribution curve is broad and seems to be distributed almsot normally and also we can\n",
    "# see that there are no outliers in the boxplot."
   ]
  },
  {
   "cell_type": "markdown",
   "id": "347cfeba",
   "metadata": {},
   "source": [
    "# Department:"
   ]
  },
  {
   "cell_type": "code",
   "execution_count": 34,
   "id": "c518cf5c",
   "metadata": {},
   "outputs": [
    {
     "data": {
      "image/png": "[encoded data removed]",
      "text/plain": [
       "<Figure size 360x360 with 1 Axes>"
      ]
     },
     "metadata": {
      "needs_background": "light"
     },
     "output_type": "display_data"
    }
   ],
   "source": [
    "plt.figure(figsize=(5,5))\n",
    "sns.countplot(Attrition_data.Department);"
   ]
  },
  {
   "cell_type": "code",
   "execution_count": 35,
   "id": "a51418da",
   "metadata": {},
   "outputs": [],
   "source": [
    "# Observation: Here we can see that \"research and Development\" bar is higher than the other bars and least one is \"Human Resources\""
   ]
  },
  {
   "cell_type": "markdown",
   "id": "9f79f984",
   "metadata": {},
   "source": [
    "# DistanceFromHome:"
   ]
  },
  {
   "cell_type": "code",
   "execution_count": 36,
   "id": "4dc340c6",
   "metadata": {},
   "outputs": [
    {
     "data": {
      "image/png": "[encoded data removed]",
      "text/plain": [
       "<Figure size 864x576 with 3 Axes>"
      ]
     },
     "metadata": {
      "needs_background": "light"
     },
     "output_type": "display_data"
    }
   ],
   "source": [
    "plt.figure(figsize=(12,8))\n",
    "plt.subplot(2,2,1)\n",
    "sns.distplot(Attrition_data['DistanceFromHome'], kde=False, bins=range(0, 31, 2));\n",
    "plt.subplot(2,2,2)\n",
    "sns.boxplot(Attrition_data['DistanceFromHome']);\n",
    "plt.subplot(2,2,3)\n",
    "sns.distplot(Attrition_data['DistanceFromHome']);"
   ]
  },
  {
   "cell_type": "code",
   "execution_count": 37,
   "id": "b93d9f72",
   "metadata": {},
   "outputs": [],
   "source": [
    "# Observation: Here we can see that there no outliers present in the boxplot but the distribution curve is not at all normall and\n",
    "# is skewed towards right and so it is right skewed due to which boxplot is onesided."
   ]
  },
  {
   "cell_type": "markdown",
   "id": "7eb0d037",
   "metadata": {},
   "source": [
    "# Education:"
   ]
  },
  {
   "cell_type": "code",
   "execution_count": 38,
   "id": "0fb16de0",
   "metadata": {},
   "outputs": [
    {
     "data": {
      "image/png": "[encoded data removed]",
      "text/plain": [
       "<Figure size 360x360 with 1 Axes>"
      ]
     },
     "metadata": {
      "needs_background": "light"
     },
     "output_type": "display_data"
    }
   ],
   "source": [
    "plt.figure(figsize=(5,5))\n",
    "sns.countplot(Attrition_data.Education);"
   ]
  },
  {
   "cell_type": "code",
   "execution_count": 39,
   "id": "ad48e3b6",
   "metadata": {},
   "outputs": [],
   "source": [
    "# observation: here we can see that the high count of the education is seen in \"Category - 3\" and the least is seen in \"category - 5\""
   ]
  },
  {
   "cell_type": "markdown",
   "id": "4d503a64",
   "metadata": {},
   "source": [
    "# EducationField:"
   ]
  },
  {
   "cell_type": "code",
   "execution_count": 40,
   "id": "1f30f920",
   "metadata": {},
   "outputs": [
    {
     "data": {
      "image/png": "[encoded data removed]",
      "text/plain": [
       "<Figure size 360x360 with 1 Axes>"
      ]
     },
     "metadata": {
      "needs_background": "light"
     },
     "output_type": "display_data"
    }
   ],
   "source": [
    "plt.figure(figsize=(5,5))\n",
    "sns.countplot(Attrition_data.EducationField);"
   ]
  },
  {
   "cell_type": "code",
   "execution_count": 41,
   "id": "7f9f5ac4",
   "metadata": {},
   "outputs": [],
   "source": [
    "# Observation: here we can see that there is highest count for the bar \"Life sciences\" and least one is \"Human Resources\"."
   ]
  },
  {
   "cell_type": "markdown",
   "id": "be7dc2f6",
   "metadata": {},
   "source": [
    "# EnvironmentSatisfaction:"
   ]
  },
  {
   "cell_type": "code",
   "execution_count": 42,
   "id": "c8c12e08",
   "metadata": {},
   "outputs": [
    {
     "data": {
      "image/png": "[encoded data removed]",
      "text/plain": [
       "<Figure size 360x360 with 1 Axes>"
      ]
     },
     "metadata": {
      "needs_background": "light"
     },
     "output_type": "display_data"
    }
   ],
   "source": [
    "plt.figure(figsize=(5,5))\n",
    "sns.countplot(Attrition_data.EnvironmentSatisfaction);"
   ]
  },
  {
   "cell_type": "code",
   "execution_count": 43,
   "id": "0a0bdb03",
   "metadata": {},
   "outputs": [],
   "source": [
    "# Observation: Here we can see that there is high count in the \"category - 3\" and also we can see that category 3 & 4 are almost\n",
    "# same."
   ]
  },
  {
   "cell_type": "markdown",
   "id": "4bfd65b4",
   "metadata": {},
   "source": [
    "# Gender:"
   ]
  },
  {
   "cell_type": "code",
   "execution_count": 44,
   "id": "bec05519",
   "metadata": {},
   "outputs": [
    {
     "data": {
      "image/png": "[encoded data removed]",
      "text/plain": [
       "<Figure size 360x360 with 1 Axes>"
      ]
     },
     "metadata": {
      "needs_background": "light"
     },
     "output_type": "display_data"
    }
   ],
   "source": [
    "plt.figure(figsize=(5,5))\n",
    "sns.countplot(Attrition_data.Gender);"
   ]
  },
  {
   "cell_type": "code",
   "execution_count": 45,
   "id": "8c594d46",
   "metadata": {},
   "outputs": [],
   "source": [
    "# Observation: Here we can see that the high count is for \"male\" category than \"Female\"."
   ]
  },
  {
   "cell_type": "markdown",
   "id": "a4527ed5",
   "metadata": {},
   "source": [
    "# HourlyRate:"
   ]
  },
  {
   "cell_type": "code",
   "execution_count": 46,
   "id": "22dfd587",
   "metadata": {},
   "outputs": [
    {
     "data": {
      "image/png": "[encoded data removed]",
      "text/plain": [
       "<Figure size 864x576 with 3 Axes>"
      ]
     },
     "metadata": {
      "needs_background": "light"
     },
     "output_type": "display_data"
    }
   ],
   "source": [
    "plt.figure(figsize=(12,8))\n",
    "plt.subplot(2,2,1)\n",
    "sns.distplot(Attrition_data['HourlyRate'], kde=False, bins=range(0, 31, 2));\n",
    "plt.subplot(2,2,2)\n",
    "sns.boxplot(Attrition_data['HourlyRate']);\n",
    "plt.subplot(2,2,3)\n",
    "sns.distplot(Attrition_data['HourlyRate']);"
   ]
  },
  {
   "cell_type": "code",
   "execution_count": 47,
   "id": "6c87bccd",
   "metadata": {},
   "outputs": [],
   "source": [
    "# Observation: Here we can see that there are no outliers can be in the boxplot and the distribution curve is almost \"normal\"."
   ]
  },
  {
   "cell_type": "markdown",
   "id": "e927502b",
   "metadata": {},
   "source": [
    "# JobInvolvement:"
   ]
  },
  {
   "cell_type": "code",
   "execution_count": 48,
   "id": "a569e33e",
   "metadata": {},
   "outputs": [
    {
     "data": {
      "image/png": "[encoded data removed]",
      "text/plain": [
       "<Figure size 360x360 with 1 Axes>"
      ]
     },
     "metadata": {
      "needs_background": "light"
     },
     "output_type": "display_data"
    }
   ],
   "source": [
    "plt.figure(figsize=(5,5))\n",
    "sns.countplot(Attrition_data.JobInvolvement);"
   ]
  },
  {
   "cell_type": "code",
   "execution_count": 49,
   "id": "0e5a6c50",
   "metadata": {},
   "outputs": [],
   "source": [
    "# Observation: Here we can see that the highest count can be seen in \"Category - 3\" and least in \"category - 1\". "
   ]
  },
  {
   "cell_type": "markdown",
   "id": "644527f7",
   "metadata": {},
   "source": [
    "# JobLevel:"
   ]
  },
  {
   "cell_type": "code",
   "execution_count": 50,
   "id": "e7ea83b7",
   "metadata": {},
   "outputs": [
    {
     "data": {
      "image/png": "[encoded data removed]",
      "text/plain": [
       "<Figure size 864x576 with 3 Axes>"
      ]
     },
     "metadata": {
      "needs_background": "light"
     },
     "output_type": "display_data"
    }
   ],
   "source": [
    "plt.figure(figsize=(12,8))\n",
    "plt.subplot(2,2,1)\n",
    "sns.distplot(Attrition_data['JobLevel'], kde=False, bins=range(0, 31, 2));\n",
    "plt.subplot(2,2,2)\n",
    "sns.boxplot(Attrition_data['JobLevel']);\n",
    "plt.subplot(2,2,3)\n",
    "sns.distplot(Attrition_data['JobLevel']);"
   ]
  },
  {
   "cell_type": "code",
   "execution_count": 51,
   "id": "c47f094f",
   "metadata": {},
   "outputs": [],
   "source": [
    "# Observation: Here we can see that there no outliers in the boxplot but also it is onesided and the distribution is not at all normal"
   ]
  },
  {
   "cell_type": "markdown",
   "id": "87f07f5b",
   "metadata": {},
   "source": [
    "# JobRole:"
   ]
  },
  {
   "cell_type": "code",
   "execution_count": 52,
   "id": "fb069c9c",
   "metadata": {},
   "outputs": [
    {
     "data": {
      "image/png": "[encoded data removed]",
      "text/plain": [
       "<Figure size 1440x360 with 1 Axes>"
      ]
     },
     "metadata": {
      "needs_background": "light"
     },
     "output_type": "display_data"
    }
   ],
   "source": [
    "plt.figure(figsize=(20,5))\n",
    "sns.countplot(Attrition_data.JobRole);"
   ]
  },
  {
   "cell_type": "code",
   "execution_count": 53,
   "id": "31435325",
   "metadata": {},
   "outputs": [],
   "source": [
    "# Observation: here we can see that the high count is for the category \"sales Executive\"  and the least is for the \"Human Resiurces\"."
   ]
  },
  {
   "cell_type": "markdown",
   "id": "22cb3e06",
   "metadata": {},
   "source": [
    "# JobSatisfaction:"
   ]
  },
  {
   "cell_type": "code",
   "execution_count": 54,
   "id": "74d51b49",
   "metadata": {},
   "outputs": [
    {
     "data": {
      "image/png": "[encoded data removed]",
      "text/plain": [
       "<Figure size 360x360 with 1 Axes>"
      ]
     },
     "metadata": {
      "needs_background": "light"
     },
     "output_type": "display_data"
    }
   ],
   "source": [
    "plt.figure(figsize=(5,5))\n",
    "sns.countplot(Attrition_data.JobSatisfaction);"
   ]
  },
  {
   "cell_type": "code",
   "execution_count": 55,
   "id": "97a710f1",
   "metadata": {},
   "outputs": [],
   "source": [
    "# Observation: Here we cna see that there are is similar to the \"environment satisfaction\" column and the category 3 & 4 are \n",
    "# almost similar in their count and the least one is \"category - 2\"."
   ]
  },
  {
   "cell_type": "markdown",
   "id": "6f717000",
   "metadata": {},
   "source": [
    "# MaritalStatus:"
   ]
  },
  {
   "cell_type": "code",
   "execution_count": 56,
   "id": "957bfdaa",
   "metadata": {},
   "outputs": [
    {
     "data": {
      "image/png": "[encoded data removed]",
      "text/plain": [
       "<Figure size 360x360 with 1 Axes>"
      ]
     },
     "metadata": {
      "needs_background": "light"
     },
     "output_type": "display_data"
    }
   ],
   "source": [
    "plt.figure(figsize=(5,5))\n",
    "sns.countplot(Attrition_data.MaritalStatus);"
   ]
  },
  {
   "cell_type": "code",
   "execution_count": 57,
   "id": "035138b6",
   "metadata": {},
   "outputs": [],
   "source": [
    "# Observation: Here we can see that there are more number of employees who are married and the least one are divorced."
   ]
  },
  {
   "cell_type": "markdown",
   "id": "405c21f7",
   "metadata": {},
   "source": [
    "# MonthlyIncome:"
   ]
  },
  {
   "cell_type": "code",
   "execution_count": 58,
   "id": "4a728b95",
   "metadata": {},
   "outputs": [
    {
     "data": {
      "image/png": "[encoded data removed]",
      "text/plain": [
       "<Figure size 864x576 with 3 Axes>"
      ]
     },
     "metadata": {
      "needs_background": "light"
     },
     "output_type": "display_data"
    }
   ],
   "source": [
    "plt.figure(figsize=(12,8))\n",
    "plt.subplot(2,2,1)\n",
    "sns.distplot(Attrition_data['MonthlyIncome'], kde=False, bins=range(800, 10000, 1));\n",
    "plt.subplot(2,2,2)\n",
    "sns.boxplot(Attrition_data['MonthlyIncome']);\n",
    "plt.subplot(2,2,3)\n",
    "sns.distplot(Attrition_data['MonthlyIncome']);"
   ]
  },
  {
   "cell_type": "code",
   "execution_count": 59,
   "id": "15d997ea",
   "metadata": {},
   "outputs": [],
   "source": [
    "# Observation: here we can see that there no outliers present in the boxplot and the distribution is not at all normal."
   ]
  },
  {
   "cell_type": "markdown",
   "id": "abe03bcf",
   "metadata": {},
   "source": [
    "# MonthlyRate:"
   ]
  },
  {
   "cell_type": "code",
   "execution_count": 60,
   "id": "9cda9847",
   "metadata": {},
   "outputs": [
    {
     "data": {
      "image/png": "[encoded data removed]",
      "text/plain": [
       "<Figure size 864x576 with 3 Axes>"
      ]
     },
     "metadata": {
      "needs_background": "light"
     },
     "output_type": "display_data"
    }
   ],
   "source": [
    "plt.figure(figsize=(12,8))\n",
    "plt.subplot(2,2,1)\n",
    "sns.distplot(Attrition_data['MonthlyRate'], kde=False, bins=range(500, 10000, 2));\n",
    "plt.subplot(2,2,2)\n",
    "sns.boxplot(Attrition_data['MonthlyRate']);\n",
    "plt.subplot(2,2,3)\n",
    "sns.distplot(Attrition_data['MonthlyRate']);"
   ]
  },
  {
   "cell_type": "code",
   "execution_count": 61,
   "id": "cd5aefcc",
   "metadata": {},
   "outputs": [],
   "source": [
    "# Observation: Here we can see that the boxplot has no putliers and the distribution curve is broad in the middle indicating to\n",
    "# be almost normal."
   ]
  },
  {
   "cell_type": "markdown",
   "id": "132cf965",
   "metadata": {},
   "source": [
    "# NumCompaniesWorked:"
   ]
  },
  {
   "cell_type": "code",
   "execution_count": 62,
   "id": "a87b1e06",
   "metadata": {},
   "outputs": [
    {
     "data": {
      "image/png": "[encoded data removed]",
      "text/plain": [
       "<Figure size 864x576 with 3 Axes>"
      ]
     },
     "metadata": {
      "needs_background": "light"
     },
     "output_type": "display_data"
    }
   ],
   "source": [
    "plt.figure(figsize=(12,8))\n",
    "plt.subplot(2,2,1)\n",
    "sns.distplot(Attrition_data['NumCompaniesWorked'], kde=False, bins=range(0, 31, 2));\n",
    "plt.subplot(2,2,2)\n",
    "sns.boxplot(Attrition_data['NumCompaniesWorked']);\n",
    "plt.subplot(2,2,3)\n",
    "sns.distplot(Attrition_data['NumCompaniesWorked']);"
   ]
  },
  {
   "cell_type": "code",
   "execution_count": 63,
   "id": "6c7ef476",
   "metadata": {},
   "outputs": [],
   "source": [
    "# Observation : Here we can see that there is an outlier present which can be seen in boxplot but is very far from \"max - quantile\"\n",
    "# point and so mostly our model will not be affected by it."
   ]
  },
  {
   "cell_type": "markdown",
   "id": "b45c4e9f",
   "metadata": {},
   "source": [
    "# OverTime:"
   ]
  },
  {
   "cell_type": "code",
   "execution_count": 64,
   "id": "9eb84252",
   "metadata": {},
   "outputs": [
    {
     "data": {
      "image/png": "[encoded data removed]",
      "text/plain": [
       "<Figure size 360x360 with 1 Axes>"
      ]
     },
     "metadata": {
      "needs_background": "light"
     },
     "output_type": "display_data"
    }
   ],
   "source": [
    "plt.figure(figsize=(5,5))\n",
    "sns.countplot(Attrition_data.OverTime);"
   ]
  },
  {
   "cell_type": "code",
   "execution_count": 65,
   "id": "df3b49ca",
   "metadata": {},
   "outputs": [],
   "source": [
    "#  Observation: Here we can see that the \"Category - No\" is high when compared to \"Yes\". "
   ]
  },
  {
   "cell_type": "markdown",
   "id": "5b66927d",
   "metadata": {},
   "source": [
    "# PercentSalaryHike:"
   ]
  },
  {
   "cell_type": "code",
   "execution_count": 66,
   "id": "8d12e8a2",
   "metadata": {},
   "outputs": [
    {
     "data": {
      "image/png": "[encoded data removed]",
      "text/plain": [
       "<Figure size 864x576 with 3 Axes>"
      ]
     },
     "metadata": {
      "needs_background": "light"
     },
     "output_type": "display_data"
    }
   ],
   "source": [
    "plt.figure(figsize=(12,8))\n",
    "plt.subplot(2,2,1)\n",
    "sns.distplot(Attrition_data['PercentSalaryHike'], kde=False, bins=range(0, 31, 2));\n",
    "plt.subplot(2,2,2)\n",
    "sns.boxplot(Attrition_data['PercentSalaryHike']);\n",
    "plt.subplot(2,2,3)\n",
    "sns.distplot(Attrition_data['PercentSalaryHike']);"
   ]
  },
  {
   "cell_type": "code",
   "execution_count": 67,
   "id": "f5080730",
   "metadata": {},
   "outputs": [],
   "source": [
    "# Observation: Here we can see that the boxplot is with no outliers and the distribution curve is skewed towards right and is \n",
    "# not normal."
   ]
  },
  {
   "cell_type": "markdown",
   "id": "36a42cc2",
   "metadata": {},
   "source": [
    "# PerformanceRating:"
   ]
  },
  {
   "cell_type": "code",
   "execution_count": 68,
   "id": "9e718799",
   "metadata": {},
   "outputs": [
    {
     "data": {
      "image/png": "[encoded data removed]",
      "text/plain": [
       "<Figure size 360x360 with 1 Axes>"
      ]
     },
     "metadata": {
      "needs_background": "light"
     },
     "output_type": "display_data"
    }
   ],
   "source": [
    "plt.figure(figsize=(5,5))\n",
    "sns.countplot(Attrition_data.PerformanceRating);"
   ]
  },
  {
   "cell_type": "code",
   "execution_count": 69,
   "id": "51872f23",
   "metadata": {},
   "outputs": [],
   "source": [
    "# observattion: Here we can see that the more number of employees are with performance rating - 3 and very few with performace\n",
    "# rating - 4."
   ]
  },
  {
   "cell_type": "markdown",
   "id": "29f57af3",
   "metadata": {},
   "source": [
    "# RelationshipSatisfaction:"
   ]
  },
  {
   "cell_type": "code",
   "execution_count": 70,
   "id": "68b89f15",
   "metadata": {},
   "outputs": [
    {
     "data": {
      "image/png": "[encoded data removed]",
      "text/plain": [
       "<Figure size 360x360 with 1 Axes>"
      ]
     },
     "metadata": {
      "needs_background": "light"
     },
     "output_type": "display_data"
    }
   ],
   "source": [
    "plt.figure(figsize=(5,5))\n",
    "sns.countplot(Attrition_data.RelationshipSatisfaction);"
   ]
  },
  {
   "cell_type": "code",
   "execution_count": 71,
   "id": "df18d2e5",
   "metadata": {},
   "outputs": [],
   "source": [
    "# Observation: here we can see that the relationship satisfaction rate is high in category - 3 and least in category - 1."
   ]
  },
  {
   "cell_type": "markdown",
   "id": "5b6eb3fa",
   "metadata": {},
   "source": [
    "# StockOptionLevel:"
   ]
  },
  {
   "cell_type": "code",
   "execution_count": 72,
   "id": "0ef9f11b",
   "metadata": {},
   "outputs": [
    {
     "data": {
      "image/png": "[encoded data removed]",
      "text/plain": [
       "<Figure size 360x360 with 1 Axes>"
      ]
     },
     "metadata": {
      "needs_background": "light"
     },
     "output_type": "display_data"
    }
   ],
   "source": [
    "plt.figure(figsize=(5,5))\n",
    "sns.countplot(Attrition_data.StockOptionLevel);"
   ]
  },
  {
   "cell_type": "code",
   "execution_count": 73,
   "id": "b82c1d88",
   "metadata": {},
   "outputs": [],
   "source": [
    "# observation: Here we can see that the level is more in category - 0 and least in category - 3."
   ]
  },
  {
   "cell_type": "markdown",
   "id": "a06f975a",
   "metadata": {},
   "source": [
    "# TotalWorkingYears:"
   ]
  },
  {
   "cell_type": "code",
   "execution_count": 74,
   "id": "9f85552f",
   "metadata": {},
   "outputs": [
    {
     "data": {
      "image/png": "[encoded data removed]",
      "text/plain": [
       "<Figure size 864x576 with 3 Axes>"
      ]
     },
     "metadata": {
      "needs_background": "light"
     },
     "output_type": "display_data"
    }
   ],
   "source": [
    "plt.figure(figsize=(12,8))\n",
    "plt.subplot(2,2,1)\n",
    "sns.distplot(Attrition_data['TotalWorkingYears'], kde=False, bins=range(0, 31, 2));\n",
    "plt.subplot(2,2,2)\n",
    "sns.boxplot(Attrition_data['TotalWorkingYears']);\n",
    "plt.subplot(2,2,3)\n",
    "sns.distplot(Attrition_data['TotalWorkingYears']);"
   ]
  },
  {
   "cell_type": "code",
   "execution_count": 75,
   "id": "ad464a34",
   "metadata": {},
   "outputs": [],
   "source": [
    "# Observation: Here we can see that there are outliers present in the boxplot at the max - quantile andthe distribution is \n",
    "# somewhat skewed."
   ]
  },
  {
   "cell_type": "markdown",
   "id": "e52a1a72",
   "metadata": {},
   "source": [
    "# TrainingTimesLastYear:"
   ]
  },
  {
   "cell_type": "code",
   "execution_count": 76,
   "id": "6bf15177",
   "metadata": {},
   "outputs": [
    {
     "data": {
      "image/png": "[encoded data removed]",
      "text/plain": [
       "<Figure size 360x360 with 1 Axes>"
      ]
     },
     "metadata": {
      "needs_background": "light"
     },
     "output_type": "display_data"
    }
   ],
   "source": [
    "plt.figure(figsize=(5,5))\n",
    "sns.countplot(Attrition_data.TrainingTimesLastYear);"
   ]
  },
  {
   "cell_type": "code",
   "execution_count": 77,
   "id": "390ea703",
   "metadata": {},
   "outputs": [],
   "source": [
    "# Observation: Here we can see that there are more number of employees who got trained 2 times last year and there are few \n",
    "# employees who did not get trained last year."
   ]
  },
  {
   "cell_type": "markdown",
   "id": "c97166e9",
   "metadata": {},
   "source": [
    "# WorkLifeBalance:"
   ]
  },
  {
   "cell_type": "code",
   "execution_count": 78,
   "id": "890524a1",
   "metadata": {},
   "outputs": [
    {
     "data": {
      "image/png": "[encoded data removed]",
      "text/plain": [
       "<Figure size 360x360 with 1 Axes>"
      ]
     },
     "metadata": {
      "needs_background": "light"
     },
     "output_type": "display_data"
    }
   ],
   "source": [
    "plt.figure(figsize=(5,5))\n",
    "sns.countplot(Attrition_data.WorkLifeBalance);"
   ]
  },
  {
   "cell_type": "code",
   "execution_count": 79,
   "id": "3efe31d3",
   "metadata": {},
   "outputs": [],
   "source": [
    "# Observation: Here we can see that there is more count in category - 3  and least in category - 1 for Worklifebalance."
   ]
  },
  {
   "cell_type": "markdown",
   "id": "f27aabad",
   "metadata": {},
   "source": [
    "# YearsAtCompany:"
   ]
  },
  {
   "cell_type": "code",
   "execution_count": 80,
   "id": "8820a6e5",
   "metadata": {},
   "outputs": [
    {
     "data": {
      "image/png": "[encoded data removed]",
      "text/plain": [
       "<Figure size 864x576 with 3 Axes>"
      ]
     },
     "metadata": {
      "needs_background": "light"
     },
     "output_type": "display_data"
    }
   ],
   "source": [
    "plt.figure(figsize=(12,8))\n",
    "plt.subplot(2,2,1)\n",
    "sns.distplot(Attrition_data['YearsAtCompany'], kde=False, bins=range(0, 31, 2));\n",
    "plt.subplot(2,2,2)\n",
    "sns.boxplot(Attrition_data['YearsAtCompany']);\n",
    "plt.subplot(2,2,3)\n",
    "sns.distplot(Attrition_data['YearsAtCompany']);"
   ]
  },
  {
   "cell_type": "code",
   "execution_count": 81,
   "id": "bf63e794",
   "metadata": {},
   "outputs": [],
   "source": [
    "# Observation: Here we can see that there are outliers present in the boxplot at the max - quantile andthe distribution is \n",
    "# somewhat skewed."
   ]
  },
  {
   "cell_type": "markdown",
   "id": "c0d781b6",
   "metadata": {},
   "source": [
    "# YearsInCurrentRole:"
   ]
  },
  {
   "cell_type": "code",
   "execution_count": 82,
   "id": "ae6b1ce8",
   "metadata": {},
   "outputs": [
    {
     "data": {
      "image/png": "[encoded data removed]",
      "text/plain": [
       "<Figure size 864x576 with 3 Axes>"
      ]
     },
     "metadata": {
      "needs_background": "light"
     },
     "output_type": "display_data"
    },
    {
     "data": {
      "image/png": "[encoded data removed]",
      "text/plain": [
       "<Figure size 360x360 with 1 Axes>"
      ]
     },
     "metadata": {
      "needs_background": "light"
     },
     "output_type": "display_data"
    }
   ],
   "source": [
    "plt.figure(figsize=(12,8))\n",
    "plt.subplot(2,2,1)\n",
    "sns.distplot(Attrition_data['Age'], kde=False, bins=range(0, 31, 2));\n",
    "plt.subplot(2,2,2)\n",
    "sns.boxplot(Attrition_data['Age']);\n",
    "plt.subplot(2,2,3)\n",
    "sns.distplot(Attrition_data['Age']);\n",
    "plt.figure(figsize=(5,5))\n",
    "sns.countplot(Attrition_data.YearsInCurrentRole);"
   ]
  },
  {
   "cell_type": "code",
   "execution_count": 83,
   "id": "62dad595",
   "metadata": {},
   "outputs": [],
   "source": [
    "# Observation: here we can see that there are no outliers present in the boxplot and the distribution curve seems to be normal\n",
    "# and probably more number of employees are with 2 years of experience."
   ]
  },
  {
   "cell_type": "markdown",
   "id": "275c9f3e",
   "metadata": {},
   "source": [
    "# YearsSinceLastPromotion:"
   ]
  },
  {
   "cell_type": "code",
   "execution_count": 84,
   "id": "9713f063",
   "metadata": {},
   "outputs": [
    {
     "data": {
      "image/png": "[encoded data removed]",
      "text/plain": [
       "<Figure size 864x576 with 3 Axes>"
      ]
     },
     "metadata": {
      "needs_background": "light"
     },
     "output_type": "display_data"
    },
    {
     "data": {
      "image/png": "[encoded data removed]",
      "text/plain": [
       "<Figure size 360x360 with 1 Axes>"
      ]
     },
     "metadata": {
      "needs_background": "light"
     },
     "output_type": "display_data"
    }
   ],
   "source": [
    "plt.figure(figsize=(12,8))\n",
    "plt.subplot(2,2,1)\n",
    "sns.distplot(Attrition_data['YearsSinceLastPromotion'], kde=False, bins=range(0, 31, 2));\n",
    "plt.subplot(2,2,2)\n",
    "sns.boxplot(Attrition_data['YearsSinceLastPromotion']);\n",
    "plt.subplot(2,2,3)\n",
    "sns.distplot(Attrition_data['YearsSinceLastPromotion']);\n",
    "plt.figure(figsize=(5,5))\n",
    "sns.countplot(Attrition_data.YearsSinceLastPromotion);"
   ]
  },
  {
   "cell_type": "code",
   "execution_count": 85,
   "id": "2e5edf6d",
   "metadata": {},
   "outputs": [],
   "source": [
    "# Observation: here we can see that there are outliers present in the boxplot and are far away from eachother and the distribution\n",
    "# curve is not at all normal and there are more number of employees with no experience after getting promotion ore recently \n",
    "# promoted."
   ]
  },
  {
   "cell_type": "markdown",
   "id": "1d49c63f",
   "metadata": {},
   "source": [
    "# YearsWithCurrManager:"
   ]
  },
  {
   "cell_type": "code",
   "execution_count": 86,
   "id": "4651658f",
   "metadata": {},
   "outputs": [
    {
     "data": {
      "image/png": "[encoded data removed]",
      "text/plain": [
       "<Figure size 864x576 with 3 Axes>"
      ]
     },
     "metadata": {
      "needs_background": "light"
     },
     "output_type": "display_data"
    },
    {
     "data": {
      "image/png": "[encoded data removed]",
      "text/plain": [
       "<Figure size 360x360 with 1 Axes>"
      ]
     },
     "metadata": {
      "needs_background": "light"
     },
     "output_type": "display_data"
    }
   ],
   "source": [
    "plt.figure(figsize=(12,8))\n",
    "plt.subplot(2,2,1)\n",
    "sns.distplot(Attrition_data['YearsWithCurrManager'], kde=False, bins=range(0, 31, 2));\n",
    "plt.subplot(2,2,2)\n",
    "sns.boxplot(Attrition_data['YearsWithCurrManager']);\n",
    "plt.subplot(2,2,3)\n",
    "sns.distplot(Attrition_data['YearsWithCurrManager']);\n",
    "plt.figure(figsize=(5,5))\n",
    "sns.countplot(Attrition_data.YearsWithCurrManager);"
   ]
  },
  {
   "cell_type": "code",
   "execution_count": 87,
   "id": "0d21ae0b",
   "metadata": {},
   "outputs": [],
   "source": [
    "# Observation: here we can see that thare are few outliers present in the boxplot and the distribution curve is with 2 peaks and\n",
    "# is not at all normal and also we can see that there are more number of employees with 2 years of experience with the current \n",
    "# manager."
   ]
  },
  {
   "cell_type": "markdown",
   "id": "00a7fa55",
   "metadata": {},
   "source": [
    "# Multivariate Analysis:"
   ]
  },
  {
   "cell_type": "markdown",
   "id": "b2dc7b48",
   "metadata": {},
   "source": [
    "## correlation:"
   ]
  },
  {
   "cell_type": "code",
   "execution_count": 88,
   "id": "87221594",
   "metadata": {},
   "outputs": [
    {
     "data": {
      "text/plain": [
       "<AxesSubplot:>"
      ]
     },
     "execution_count": 88,
     "metadata": {},
     "output_type": "execute_result"
    },
    {
     "data": {
      "image/png": "[encoded data removed]",
      "text/plain": [
       "<Figure size 1008x1080 with 2 Axes>"
      ]
     },
     "metadata": {
      "needs_background": "light"
     },
     "output_type": "display_data"
    }
   ],
   "source": [
    "plt.figure(figsize = (14,15))\n",
    "sns.heatmap(Attrition_data.corr(),cbar = True, square = True, fmt = \".0%\", annot = True, annot_kws = {'size': 8}, cmap = 'Blues')"
   ]
  },
  {
   "cell_type": "code",
   "execution_count": 89,
   "id": "43c1ca06",
   "metadata": {},
   "outputs": [],
   "source": [
    "# Observation: 1) Here we can see that there are columns with high correlation or positive correlation with the other columns like: \"Years at \n",
    "# company\" with \"joblevel\", \"Monthly income\" also \"Years at company\" with \"Totalworking years\",\"years at currentrole\", \"Years sice\n",
    "# last promotion\", \"Years with current manager\".\n",
    "#              2) Here we can see that there are columns with positive correlation with the column \"Years in current role\" which\n",
    "# is with \"Years at Company\",\"Years since last promotion\",\"years with current manager\".\n",
    "#              3) Here we can see that there are columns with positive correlation with the column \"years since last promotion\"\n",
    "# which is with \"Years at company\".\n",
    "#              4) Also we can see that the highest of the positive correlation value is in the column \"Monthly income\" which is\n",
    "# with \"joblevel\"."
   ]
  },
  {
   "cell_type": "markdown",
   "id": "621a5233",
   "metadata": {},
   "source": [
    "# Transforming the data:"
   ]
  },
  {
   "cell_type": "markdown",
   "id": "8d69cfac",
   "metadata": {},
   "source": [
    "## Transforming the non-numerical columns into numerical:"
   ]
  },
  {
   "cell_type": "code",
   "execution_count": 90,
   "id": "be5ef7ad",
   "metadata": {},
   "outputs": [],
   "source": [
    "from sklearn.preprocessing import LabelEncoder"
   ]
  },
  {
   "cell_type": "code",
   "execution_count": 91,
   "id": "6d3ebcbc",
   "metadata": {},
   "outputs": [],
   "source": [
    "# Inspite of mentioning each and every which has strings we user \"forloop\" here as the data seems to be big."
   ]
  },
  {
   "cell_type": "code",
   "execution_count": 92,
   "id": "cac64542",
   "metadata": {},
   "outputs": [],
   "source": [
    "for column in Attrition_data.columns:\n",
    "    if Attrition_data[column].dtype == np.number:\n",
    "        continue\n",
    "    Attrition_data[column] = LabelEncoder().fit_transform(Attrition_data[column])\n",
    "        "
   ]
  },
  {
   "cell_type": "code",
   "execution_count": 93,
   "id": "d1c023c4",
   "metadata": {},
   "outputs": [
    {
     "data": {
      "text/html": [
       "<div>\n",
       "<style scoped>\n",
       "    .dataframe tbody tr th:only-of-type {\n",
       "        vertical-align: middle;\n",
       "    }\n",
       "\n",
       "    .dataframe tbody tr th {\n",
       "        vertical-align: top;\n",
       "    }\n",
       "\n",
       "    .dataframe thead th {\n",
       "        text-align: right;\n",
       "    }\n",
       "</style>\n",
       "<table border=\"1\" class=\"dataframe\">\n",
       "  <thead>\n",
       "    <tr style=\"text-align: right;\">\n",
       "      <th></th>\n",
       "      <th>Age</th>\n",
       "      <th>Attrition</th>\n",
       "      <th>BusinessTravel</th>\n",
       "      <th>DailyRate</th>\n",
       "      <th>Department</th>\n",
       "      <th>DistanceFromHome</th>\n",
       "      <th>Education</th>\n",
       "      <th>EducationField</th>\n",
       "      <th>EnvironmentSatisfaction</th>\n",
       "      <th>Gender</th>\n",
       "      <th>...</th>\n",
       "      <th>PerformanceRating</th>\n",
       "      <th>RelationshipSatisfaction</th>\n",
       "      <th>StockOptionLevel</th>\n",
       "      <th>TotalWorkingYears</th>\n",
       "      <th>TrainingTimesLastYear</th>\n",
       "      <th>WorkLifeBalance</th>\n",
       "      <th>YearsAtCompany</th>\n",
       "      <th>YearsInCurrentRole</th>\n",
       "      <th>YearsSinceLastPromotion</th>\n",
       "      <th>YearsWithCurrManager</th>\n",
       "    </tr>\n",
       "  </thead>\n",
       "  <tbody>\n",
       "    <tr>\n",
       "      <th>0</th>\n",
       "      <td>23</td>\n",
       "      <td>1</td>\n",
       "      <td>2</td>\n",
       "      <td>624</td>\n",
       "      <td>2</td>\n",
       "      <td>0</td>\n",
       "      <td>1</td>\n",
       "      <td>1</td>\n",
       "      <td>1</td>\n",
       "      <td>0</td>\n",
       "      <td>...</td>\n",
       "      <td>0</td>\n",
       "      <td>0</td>\n",
       "      <td>0</td>\n",
       "      <td>8</td>\n",
       "      <td>0</td>\n",
       "      <td>0</td>\n",
       "      <td>6</td>\n",
       "      <td>4</td>\n",
       "      <td>0</td>\n",
       "      <td>5</td>\n",
       "    </tr>\n",
       "    <tr>\n",
       "      <th>1</th>\n",
       "      <td>31</td>\n",
       "      <td>0</td>\n",
       "      <td>1</td>\n",
       "      <td>113</td>\n",
       "      <td>1</td>\n",
       "      <td>7</td>\n",
       "      <td>0</td>\n",
       "      <td>1</td>\n",
       "      <td>2</td>\n",
       "      <td>1</td>\n",
       "      <td>...</td>\n",
       "      <td>1</td>\n",
       "      <td>3</td>\n",
       "      <td>1</td>\n",
       "      <td>10</td>\n",
       "      <td>3</td>\n",
       "      <td>2</td>\n",
       "      <td>10</td>\n",
       "      <td>7</td>\n",
       "      <td>1</td>\n",
       "      <td>7</td>\n",
       "    </tr>\n",
       "    <tr>\n",
       "      <th>2</th>\n",
       "      <td>19</td>\n",
       "      <td>1</td>\n",
       "      <td>2</td>\n",
       "      <td>805</td>\n",
       "      <td>1</td>\n",
       "      <td>1</td>\n",
       "      <td>1</td>\n",
       "      <td>4</td>\n",
       "      <td>3</td>\n",
       "      <td>1</td>\n",
       "      <td>...</td>\n",
       "      <td>0</td>\n",
       "      <td>1</td>\n",
       "      <td>0</td>\n",
       "      <td>7</td>\n",
       "      <td>3</td>\n",
       "      <td>2</td>\n",
       "      <td>0</td>\n",
       "      <td>0</td>\n",
       "      <td>0</td>\n",
       "      <td>0</td>\n",
       "    </tr>\n",
       "    <tr>\n",
       "      <th>3</th>\n",
       "      <td>15</td>\n",
       "      <td>0</td>\n",
       "      <td>1</td>\n",
       "      <td>820</td>\n",
       "      <td>1</td>\n",
       "      <td>2</td>\n",
       "      <td>3</td>\n",
       "      <td>1</td>\n",
       "      <td>3</td>\n",
       "      <td>0</td>\n",
       "      <td>...</td>\n",
       "      <td>0</td>\n",
       "      <td>2</td>\n",
       "      <td>0</td>\n",
       "      <td>8</td>\n",
       "      <td>3</td>\n",
       "      <td>2</td>\n",
       "      <td>8</td>\n",
       "      <td>7</td>\n",
       "      <td>3</td>\n",
       "      <td>0</td>\n",
       "    </tr>\n",
       "    <tr>\n",
       "      <th>4</th>\n",
       "      <td>9</td>\n",
       "      <td>0</td>\n",
       "      <td>2</td>\n",
       "      <td>312</td>\n",
       "      <td>1</td>\n",
       "      <td>1</td>\n",
       "      <td>0</td>\n",
       "      <td>3</td>\n",
       "      <td>0</td>\n",
       "      <td>1</td>\n",
       "      <td>...</td>\n",
       "      <td>0</td>\n",
       "      <td>3</td>\n",
       "      <td>1</td>\n",
       "      <td>6</td>\n",
       "      <td>3</td>\n",
       "      <td>2</td>\n",
       "      <td>2</td>\n",
       "      <td>2</td>\n",
       "      <td>2</td>\n",
       "      <td>2</td>\n",
       "    </tr>\n",
       "    <tr>\n",
       "      <th>...</th>\n",
       "      <td>...</td>\n",
       "      <td>...</td>\n",
       "      <td>...</td>\n",
       "      <td>...</td>\n",
       "      <td>...</td>\n",
       "      <td>...</td>\n",
       "      <td>...</td>\n",
       "      <td>...</td>\n",
       "      <td>...</td>\n",
       "      <td>...</td>\n",
       "      <td>...</td>\n",
       "      <td>...</td>\n",
       "      <td>...</td>\n",
       "      <td>...</td>\n",
       "      <td>...</td>\n",
       "      <td>...</td>\n",
       "      <td>...</td>\n",
       "      <td>...</td>\n",
       "      <td>...</td>\n",
       "      <td>...</td>\n",
       "      <td>...</td>\n",
       "    </tr>\n",
       "    <tr>\n",
       "      <th>1465</th>\n",
       "      <td>18</td>\n",
       "      <td>0</td>\n",
       "      <td>1</td>\n",
       "      <td>494</td>\n",
       "      <td>1</td>\n",
       "      <td>22</td>\n",
       "      <td>1</td>\n",
       "      <td>3</td>\n",
       "      <td>2</td>\n",
       "      <td>1</td>\n",
       "      <td>...</td>\n",
       "      <td>0</td>\n",
       "      <td>2</td>\n",
       "      <td>1</td>\n",
       "      <td>17</td>\n",
       "      <td>3</td>\n",
       "      <td>2</td>\n",
       "      <td>5</td>\n",
       "      <td>2</td>\n",
       "      <td>0</td>\n",
       "      <td>3</td>\n",
       "    </tr>\n",
       "    <tr>\n",
       "      <th>1466</th>\n",
       "      <td>21</td>\n",
       "      <td>0</td>\n",
       "      <td>2</td>\n",
       "      <td>327</td>\n",
       "      <td>1</td>\n",
       "      <td>5</td>\n",
       "      <td>0</td>\n",
       "      <td>3</td>\n",
       "      <td>3</td>\n",
       "      <td>1</td>\n",
       "      <td>...</td>\n",
       "      <td>0</td>\n",
       "      <td>0</td>\n",
       "      <td>1</td>\n",
       "      <td>9</td>\n",
       "      <td>5</td>\n",
       "      <td>2</td>\n",
       "      <td>7</td>\n",
       "      <td>7</td>\n",
       "      <td>1</td>\n",
       "      <td>7</td>\n",
       "    </tr>\n",
       "    <tr>\n",
       "      <th>1467</th>\n",
       "      <td>9</td>\n",
       "      <td>0</td>\n",
       "      <td>2</td>\n",
       "      <td>39</td>\n",
       "      <td>1</td>\n",
       "      <td>3</td>\n",
       "      <td>2</td>\n",
       "      <td>1</td>\n",
       "      <td>1</td>\n",
       "      <td>1</td>\n",
       "      <td>...</td>\n",
       "      <td>1</td>\n",
       "      <td>1</td>\n",
       "      <td>1</td>\n",
       "      <td>6</td>\n",
       "      <td>0</td>\n",
       "      <td>2</td>\n",
       "      <td>6</td>\n",
       "      <td>2</td>\n",
       "      <td>0</td>\n",
       "      <td>3</td>\n",
       "    </tr>\n",
       "    <tr>\n",
       "      <th>1468</th>\n",
       "      <td>31</td>\n",
       "      <td>0</td>\n",
       "      <td>1</td>\n",
       "      <td>579</td>\n",
       "      <td>2</td>\n",
       "      <td>1</td>\n",
       "      <td>2</td>\n",
       "      <td>3</td>\n",
       "      <td>3</td>\n",
       "      <td>1</td>\n",
       "      <td>...</td>\n",
       "      <td>0</td>\n",
       "      <td>3</td>\n",
       "      <td>0</td>\n",
       "      <td>17</td>\n",
       "      <td>3</td>\n",
       "      <td>1</td>\n",
       "      <td>9</td>\n",
       "      <td>6</td>\n",
       "      <td>0</td>\n",
       "      <td>8</td>\n",
       "    </tr>\n",
       "    <tr>\n",
       "      <th>1469</th>\n",
       "      <td>16</td>\n",
       "      <td>0</td>\n",
       "      <td>2</td>\n",
       "      <td>336</td>\n",
       "      <td>1</td>\n",
       "      <td>7</td>\n",
       "      <td>2</td>\n",
       "      <td>3</td>\n",
       "      <td>1</td>\n",
       "      <td>1</td>\n",
       "      <td>...</td>\n",
       "      <td>0</td>\n",
       "      <td>0</td>\n",
       "      <td>0</td>\n",
       "      <td>6</td>\n",
       "      <td>3</td>\n",
       "      <td>3</td>\n",
       "      <td>4</td>\n",
       "      <td>3</td>\n",
       "      <td>1</td>\n",
       "      <td>2</td>\n",
       "    </tr>\n",
       "  </tbody>\n",
       "</table>\n",
       "<p>1470 rows × 31 columns</p>\n",
       "</div>"
      ],
      "text/plain": [
       "      Age  Attrition  BusinessTravel  DailyRate  Department  DistanceFromHome  \\\n",
       "0      23          1               2        624           2                 0   \n",
       "1      31          0               1        113           1                 7   \n",
       "2      19          1               2        805           1                 1   \n",
       "3      15          0               1        820           1                 2   \n",
       "4       9          0               2        312           1                 1   \n",
       "...   ...        ...             ...        ...         ...               ...   \n",
       "1465   18          0               1        494           1                22   \n",
       "1466   21          0               2        327           1                 5   \n",
       "1467    9          0               2         39           1                 3   \n",
       "1468   31          0               1        579           2                 1   \n",
       "1469   16          0               2        336           1                 7   \n",
       "\n",
       "      Education  EducationField  EnvironmentSatisfaction  Gender  ...  \\\n",
       "0             1               1                        1       0  ...   \n",
       "1             0               1                        2       1  ...   \n",
       "2             1               4                        3       1  ...   \n",
       "3             3               1                        3       0  ...   \n",
       "4             0               3                        0       1  ...   \n",
       "...         ...             ...                      ...     ...  ...   \n",
       "1465          1               3                        2       1  ...   \n",
       "1466          0               3                        3       1  ...   \n",
       "1467          2               1                        1       1  ...   \n",
       "1468          2               3                        3       1  ...   \n",
       "1469          2               3                        1       1  ...   \n",
       "\n",
       "      PerformanceRating  RelationshipSatisfaction  StockOptionLevel  \\\n",
       "0                     0                         0                 0   \n",
       "1                     1                         3                 1   \n",
       "2                     0                         1                 0   \n",
       "3                     0                         2                 0   \n",
       "4                     0                         3                 1   \n",
       "...                 ...                       ...               ...   \n",
       "1465                  0                         2                 1   \n",
       "1466                  0                         0                 1   \n",
       "1467                  1                         1                 1   \n",
       "1468                  0                         3                 0   \n",
       "1469                  0                         0                 0   \n",
       "\n",
       "      TotalWorkingYears  TrainingTimesLastYear  WorkLifeBalance  \\\n",
       "0                     8                      0                0   \n",
       "1                    10                      3                2   \n",
       "2                     7                      3                2   \n",
       "3                     8                      3                2   \n",
       "4                     6                      3                2   \n",
       "...                 ...                    ...              ...   \n",
       "1465                 17                      3                2   \n",
       "1466                  9                      5                2   \n",
       "1467                  6                      0                2   \n",
       "1468                 17                      3                1   \n",
       "1469                  6                      3                3   \n",
       "\n",
       "      YearsAtCompany  YearsInCurrentRole  YearsSinceLastPromotion  \\\n",
       "0                  6                   4                        0   \n",
       "1                 10                   7                        1   \n",
       "2                  0                   0                        0   \n",
       "3                  8                   7                        3   \n",
       "4                  2                   2                        2   \n",
       "...              ...                 ...                      ...   \n",
       "1465               5                   2                        0   \n",
       "1466               7                   7                        1   \n",
       "1467               6                   2                        0   \n",
       "1468               9                   6                        0   \n",
       "1469               4                   3                        1   \n",
       "\n",
       "      YearsWithCurrManager  \n",
       "0                        5  \n",
       "1                        7  \n",
       "2                        0  \n",
       "3                        0  \n",
       "4                        2  \n",
       "...                    ...  \n",
       "1465                     3  \n",
       "1466                     7  \n",
       "1467                     3  \n",
       "1468                     8  \n",
       "1469                     2  \n",
       "\n",
       "[1470 rows x 31 columns]"
      ]
     },
     "execution_count": 93,
     "metadata": {},
     "output_type": "execute_result"
    }
   ],
   "source": [
    "Attrition_data"
   ]
  },
  {
   "cell_type": "code",
   "execution_count": 94,
   "id": "45389ebc",
   "metadata": {},
   "outputs": [],
   "source": [
    "# Observation: here we can see that all the non-numerical columns are converted into numerical columns."
   ]
  },
  {
   "cell_type": "markdown",
   "id": "796a1bdc",
   "metadata": {},
   "source": [
    "# Checking the Outliers:"
   ]
  },
  {
   "cell_type": "code",
   "execution_count": 95,
   "id": "ad303465",
   "metadata": {},
   "outputs": [
    {
     "data": {
      "image/png": "[encoded data removed]",
      "text/plain": [
       "<Figure size 2304x11520 with 31 Axes>"
      ]
     },
     "metadata": {
      "needs_background": "light"
     },
     "output_type": "display_data"
    }
   ],
   "source": [
    "col_list = Attrition_data.columns.values\n",
    "ncol = 32\n",
    "nrows = 12\n",
    "plt.figure(figsize = (ncol,5*ncol))\n",
    "for i in range (0, len(col_list)):\n",
    "    plt.subplot(nrows,ncol,i+1)\n",
    "    sns.boxplot(data = Attrition_data[col_list[i]],color = 'green', orient = 'v')\n",
    "    plt.tight_layout()"
   ]
  },
  {
   "cell_type": "code",
   "execution_count": 96,
   "id": "d06a5565",
   "metadata": {},
   "outputs": [],
   "source": [
    "# Observation: Here we can see that there are columns with the many number of the outliers are present in the columns - \n",
    "# 1)\"YearsAtCompany\", 2) \"MonthlyIncome\"  3) \"TotalWorkingYears\"  4)\"YearsSinceLastPromotion\"  5)\"YearsWithCurrManager\"."
   ]
  },
  {
   "cell_type": "markdown",
   "id": "01f6099f",
   "metadata": {},
   "source": [
    "# Removing Outliers -  Using Z- Score method:"
   ]
  },
  {
   "cell_type": "code",
   "execution_count": 97,
   "id": "129ba42a",
   "metadata": {},
   "outputs": [
    {
     "data": {
      "text/plain": [
       "(1470, 31)"
      ]
     },
     "execution_count": 97,
     "metadata": {},
     "output_type": "execute_result"
    }
   ],
   "source": [
    "from scipy.stats import zscore\n",
    "z = np.abs(zscore(Attrition_data))\n",
    "z.shape"
   ]
  },
  {
   "cell_type": "code",
   "execution_count": 98,
   "id": "751dca71",
   "metadata": {},
   "outputs": [
    {
     "name": "stdout",
     "output_type": "stream",
     "text": [
      "(array([  28,   45,   62,   62,   63,   64,   85,   98,   98,  110,  123,\n",
      "        123,  123,  126,  126,  126,  153,  178,  187,  187,  190,  190,\n",
      "        218,  231,  231,  237,  237,  270,  270,  281,  326,  386,  386,\n",
      "        401,  411,  425,  425,  427,  445,  466,  473,  477,  535,  561,\n",
      "        561,  584,  592,  595,  595,  595,  616,  624,  635,  653,  653,\n",
      "        677,  686,  701,  716,  746,  749,  752,  799,  838,  861,  861,\n",
      "        875,  875,  894,  914,  914,  918,  922,  926,  926,  937,  956,\n",
      "        962,  976,  976, 1008, 1024, 1043, 1078, 1078, 1086, 1086, 1093,\n",
      "       1111, 1116, 1116, 1135, 1138, 1138, 1156, 1184, 1221, 1223, 1242,\n",
      "       1295, 1301, 1301, 1303, 1327, 1331, 1348, 1351, 1401, 1414, 1430],\n",
      "      dtype=int64), array([30, 29, 27, 29, 28, 29, 24, 24, 27, 29, 28, 29, 30, 24, 27, 29, 30,\n",
      "       29, 24, 30, 27, 28, 29, 28, 30, 27, 29, 24, 27, 28, 29, 29, 30, 24,\n",
      "       27, 27, 29, 29, 24, 28, 27, 27, 29, 27, 30, 29, 27, 24, 27, 29, 30,\n",
      "       24, 30, 27, 29, 27, 30, 29, 28, 28, 27, 29, 29, 29, 27, 29, 29, 30,\n",
      "       24, 27, 29, 27, 29, 29, 30, 29, 24, 27, 28, 29, 29, 28, 24, 29, 30,\n",
      "       27, 29, 29, 27, 24, 27, 27, 27, 29, 29, 24, 29, 29, 29, 29, 24, 29,\n",
      "       29, 28, 29, 30, 28, 24, 29, 28], dtype=int64))\n"
     ]
    }
   ],
   "source": [
    "threshold = 3\n",
    "print(np.where(z>3))"
   ]
  },
  {
   "cell_type": "code",
   "execution_count": 99,
   "id": "d288d529",
   "metadata": {},
   "outputs": [
    {
     "data": {
      "text/plain": [
       "2"
      ]
     },
     "execution_count": 99,
     "metadata": {},
     "output_type": "execute_result"
    }
   ],
   "source": [
    "len(np.where(z>3))"
   ]
  },
  {
   "cell_type": "code",
   "execution_count": 100,
   "id": "2883e867",
   "metadata": {},
   "outputs": [
    {
     "data": {
      "text/plain": [
       "110"
      ]
     },
     "execution_count": 100,
     "metadata": {},
     "output_type": "execute_result"
    }
   ],
   "source": [
    "len(np.where(z>3)[0])"
   ]
  },
  {
   "cell_type": "code",
   "execution_count": 101,
   "id": "6192595c",
   "metadata": {},
   "outputs": [
    {
     "name": "stdout",
     "output_type": "stream",
     "text": [
      "(1470, 31)\n",
      "(1387, 31)\n"
     ]
    }
   ],
   "source": [
    "Attrition_data_new = Attrition_data[(z<3).all(axis = 1)]\n",
    "print(Attrition_data.shape)\n",
    "print(Attrition_data_new.shape)"
   ]
  },
  {
   "cell_type": "code",
   "execution_count": 102,
   "id": "23dc82f6",
   "metadata": {},
   "outputs": [],
   "source": [
    "# observation: here we can see that there is reduce in the number of total records(rows) and so there is reduce in the data."
   ]
  },
  {
   "cell_type": "markdown",
   "id": "4c7beb02",
   "metadata": {},
   "source": [
    "# loss percentage calculation:"
   ]
  },
  {
   "cell_type": "code",
   "execution_count": 103,
   "id": "4f7db698",
   "metadata": {},
   "outputs": [
    {
     "name": "stdout",
     "output_type": "stream",
     "text": [
      "5.646258503401361\n"
     ]
    }
   ],
   "source": [
    "loss_percent = (1470-1387)/1470*100\n",
    "print(loss_percent)"
   ]
  },
  {
   "cell_type": "code",
   "execution_count": 104,
   "id": "04e2714c",
   "metadata": {},
   "outputs": [],
   "source": [
    "# Observation: Here we can see that there is loss of 5.6% of the data , so it is negligible."
   ]
  },
  {
   "cell_type": "markdown",
   "id": "1ba0da92",
   "metadata": {},
   "source": [
    "# Skewness:"
   ]
  },
  {
   "cell_type": "code",
   "execution_count": 105,
   "id": "c7a6b34b",
   "metadata": {},
   "outputs": [
    {
     "data": {
      "text/plain": [
       "Age                         0.472280\n",
       "Attrition                   1.805983\n",
       "BusinessTravel             -1.426774\n",
       "DailyRate                  -0.012403\n",
       "Department                  0.183919\n",
       "DistanceFromHome            0.954752\n",
       "Education                  -0.289024\n",
       "EducationField              0.544868\n",
       "EnvironmentSatisfaction    -0.325285\n",
       "Gender                     -0.417296\n",
       "HourlyRate                 -0.030481\n",
       "JobInvolvement             -0.501401\n",
       "JobLevel                    1.126075\n",
       "JobRole                    -0.386843\n",
       "JobSatisfaction            -0.345612\n",
       "MaritalStatus              -0.160952\n",
       "MonthlyIncome               0.112326\n",
       "MonthlyRate                 0.024344\n",
       "NumCompaniesWorked          1.037715\n",
       "OverTime                    0.954751\n",
       "PercentSalaryHike           0.800592\n",
       "PerformanceRating           1.931566\n",
       "RelationshipSatisfaction   -0.295686\n",
       "StockOptionLevel            0.962332\n",
       "TotalWorkingYears           1.034487\n",
       "TrainingTimesLastYear       0.577614\n",
       "WorkLifeBalance            -0.557100\n",
       "YearsAtCompany              1.248623\n",
       "YearsInCurrentRole          0.726675\n",
       "YearsSinceLastPromotion     1.756335\n",
       "YearsWithCurrManager        0.694506\n",
       "dtype: float64"
      ]
     },
     "execution_count": 105,
     "metadata": {},
     "output_type": "execute_result"
    }
   ],
   "source": [
    "Attrition_data_new.skew()"
   ]
  },
  {
   "cell_type": "code",
   "execution_count": 106,
   "id": "e3f8bb0b",
   "metadata": {},
   "outputs": [],
   "source": [
    "features = [\"YearsAtCompany\",\"TotalWorkingYears\",\"YearsSinceLastPromotion\",\"YearsWithCurrManager\"]"
   ]
  },
  {
   "cell_type": "code",
   "execution_count": 107,
   "id": "543f71fc",
   "metadata": {},
   "outputs": [
    {
     "data": {
      "text/plain": [
       "\"\\nparameters:\\nmethod = 'box-cox' or 'yeo-johnson'\\n\""
      ]
     },
     "execution_count": 107,
     "metadata": {},
     "output_type": "execute_result"
    }
   ],
   "source": [
    "from sklearn.preprocessing import PowerTransformer\n",
    "scaler = PowerTransformer(method='yeo-johnson')\n",
    "'''\n",
    "parameters:\n",
    "method = 'box-cox' or 'yeo-johnson'\n",
    "'''"
   ]
  },
  {
   "cell_type": "code",
   "execution_count": 108,
   "id": "b64013cb",
   "metadata": {},
   "outputs": [
    {
     "data": {
      "text/html": [
       "<div>\n",
       "<style scoped>\n",
       "    .dataframe tbody tr th:only-of-type {\n",
       "        vertical-align: middle;\n",
       "    }\n",
       "\n",
       "    .dataframe tbody tr th {\n",
       "        vertical-align: top;\n",
       "    }\n",
       "\n",
       "    .dataframe thead th {\n",
       "        text-align: right;\n",
       "    }\n",
       "</style>\n",
       "<table border=\"1\" class=\"dataframe\">\n",
       "  <thead>\n",
       "    <tr style=\"text-align: right;\">\n",
       "      <th></th>\n",
       "      <th>YearsAtCompany</th>\n",
       "      <th>TotalWorkingYears</th>\n",
       "      <th>YearsSinceLastPromotion</th>\n",
       "      <th>YearsWithCurrManager</th>\n",
       "    </tr>\n",
       "  </thead>\n",
       "  <tbody>\n",
       "    <tr>\n",
       "      <th>0</th>\n",
       "      <td>0.231837</td>\n",
       "      <td>-0.173231</td>\n",
       "      <td>-1.073534</td>\n",
       "      <td>0.582177</td>\n",
       "    </tr>\n",
       "    <tr>\n",
       "      <th>1</th>\n",
       "      <td>0.948319</td>\n",
       "      <td>0.147620</td>\n",
       "      <td>0.193168</td>\n",
       "      <td>1.018073</td>\n",
       "    </tr>\n",
       "    <tr>\n",
       "      <th>2</th>\n",
       "      <td>-2.156089</td>\n",
       "      <td>-0.351153</td>\n",
       "      <td>-1.073534</td>\n",
       "      <td>-1.528426</td>\n",
       "    </tr>\n",
       "    <tr>\n",
       "      <th>3</th>\n",
       "      <td>0.621429</td>\n",
       "      <td>-0.173231</td>\n",
       "      <td>1.027520</td>\n",
       "      <td>-1.528426</td>\n",
       "    </tr>\n",
       "    <tr>\n",
       "      <th>4</th>\n",
       "      <td>-0.933983</td>\n",
       "      <td>-0.544046</td>\n",
       "      <td>0.722874</td>\n",
       "      <td>-0.347871</td>\n",
       "    </tr>\n",
       "    <tr>\n",
       "      <th>...</th>\n",
       "      <td>...</td>\n",
       "      <td>...</td>\n",
       "      <td>...</td>\n",
       "      <td>...</td>\n",
       "    </tr>\n",
       "    <tr>\n",
       "      <th>1465</th>\n",
       "      <td>0.003289</td>\n",
       "      <td>1.039364</td>\n",
       "      <td>-1.073534</td>\n",
       "      <td>0.018680</td>\n",
       "    </tr>\n",
       "    <tr>\n",
       "      <th>1466</th>\n",
       "      <td>0.436162</td>\n",
       "      <td>-0.007630</td>\n",
       "      <td>0.193168</td>\n",
       "      <td>1.018073</td>\n",
       "    </tr>\n",
       "    <tr>\n",
       "      <th>1467</th>\n",
       "      <td>0.231837</td>\n",
       "      <td>-0.544046</td>\n",
       "      <td>-1.073534</td>\n",
       "      <td>0.018680</td>\n",
       "    </tr>\n",
       "    <tr>\n",
       "      <th>1468</th>\n",
       "      <td>0.791264</td>\n",
       "      <td>1.039364</td>\n",
       "      <td>-1.073534</td>\n",
       "      <td>1.205782</td>\n",
       "    </tr>\n",
       "    <tr>\n",
       "      <th>1469</th>\n",
       "      <td>-0.257229</td>\n",
       "      <td>-0.544046</td>\n",
       "      <td>0.193168</td>\n",
       "      <td>-0.347871</td>\n",
       "    </tr>\n",
       "  </tbody>\n",
       "</table>\n",
       "<p>1387 rows × 4 columns</p>\n",
       "</div>"
      ],
      "text/plain": [
       "      YearsAtCompany  TotalWorkingYears  YearsSinceLastPromotion  \\\n",
       "0           0.231837          -0.173231                -1.073534   \n",
       "1           0.948319           0.147620                 0.193168   \n",
       "2          -2.156089          -0.351153                -1.073534   \n",
       "3           0.621429          -0.173231                 1.027520   \n",
       "4          -0.933983          -0.544046                 0.722874   \n",
       "...              ...                ...                      ...   \n",
       "1465        0.003289           1.039364                -1.073534   \n",
       "1466        0.436162          -0.007630                 0.193168   \n",
       "1467        0.231837          -0.544046                -1.073534   \n",
       "1468        0.791264           1.039364                -1.073534   \n",
       "1469       -0.257229          -0.544046                 0.193168   \n",
       "\n",
       "      YearsWithCurrManager  \n",
       "0                 0.582177  \n",
       "1                 1.018073  \n",
       "2                -1.528426  \n",
       "3                -1.528426  \n",
       "4                -0.347871  \n",
       "...                    ...  \n",
       "1465              0.018680  \n",
       "1466              1.018073  \n",
       "1467              0.018680  \n",
       "1468              1.205782  \n",
       "1469             -0.347871  \n",
       "\n",
       "[1387 rows x 4 columns]"
      ]
     },
     "execution_count": 108,
     "metadata": {},
     "output_type": "execute_result"
    }
   ],
   "source": [
    "Attrition_data_new[features] = scaler.fit_transform(Attrition_data_new[features].values)\n",
    "Attrition_data_new[features]"
   ]
  },
  {
   "cell_type": "code",
   "execution_count": 109,
   "id": "bbc9ae76",
   "metadata": {},
   "outputs": [
    {
     "data": {
      "text/plain": [
       "Age                         0.472280\n",
       "Attrition                   1.805983\n",
       "BusinessTravel             -1.426774\n",
       "DailyRate                  -0.012403\n",
       "Department                  0.183919\n",
       "DistanceFromHome            0.954752\n",
       "Education                  -0.289024\n",
       "EducationField              0.544868\n",
       "EnvironmentSatisfaction    -0.325285\n",
       "Gender                     -0.417296\n",
       "HourlyRate                 -0.030481\n",
       "JobInvolvement             -0.501401\n",
       "JobLevel                    1.126075\n",
       "JobRole                    -0.386843\n",
       "JobSatisfaction            -0.345612\n",
       "MaritalStatus              -0.160952\n",
       "MonthlyIncome               0.112326\n",
       "MonthlyRate                 0.024344\n",
       "NumCompaniesWorked          1.037715\n",
       "OverTime                    0.954751\n",
       "PercentSalaryHike           0.800592\n",
       "PerformanceRating           1.931566\n",
       "RelationshipSatisfaction   -0.295686\n",
       "StockOptionLevel            0.962332\n",
       "TotalWorkingYears          -0.009666\n",
       "TrainingTimesLastYear       0.577614\n",
       "WorkLifeBalance            -0.557100\n",
       "YearsAtCompany             -0.025230\n",
       "YearsInCurrentRole          0.726675\n",
       "YearsSinceLastPromotion     0.212301\n",
       "YearsWithCurrManager       -0.070570\n",
       "dtype: float64"
      ]
     },
     "execution_count": 109,
     "metadata": {},
     "output_type": "execute_result"
    }
   ],
   "source": [
    "Attrition_data_new.skew()"
   ]
  },
  {
   "cell_type": "code",
   "execution_count": 110,
   "id": "185ba432",
   "metadata": {},
   "outputs": [],
   "source": [
    "# Observation: Here we can see that there is change or we can say that reduce in the skewness of the data."
   ]
  },
  {
   "cell_type": "markdown",
   "id": "6fe74195",
   "metadata": {},
   "source": [
    "# Data Preprocessing:"
   ]
  },
  {
   "cell_type": "markdown",
   "id": "8b6367c7",
   "metadata": {},
   "source": [
    "## Separating independent and the target variables:"
   ]
  },
  {
   "cell_type": "markdown",
   "id": "c9faac61",
   "metadata": {},
   "source": [
    "### train_test_split:"
   ]
  },
  {
   "cell_type": "code",
   "execution_count": 111,
   "id": "617c53c8",
   "metadata": {},
   "outputs": [],
   "source": [
    "x = Attrition_data_new.drop(\"Attrition\", axis=1)\n",
    "y = Attrition_data_new[\"Attrition\"]"
   ]
  },
  {
   "cell_type": "code",
   "execution_count": 112,
   "id": "b7ce7ba1",
   "metadata": {},
   "outputs": [
    {
     "data": {
      "text/html": [
       "<div>\n",
       "<style scoped>\n",
       "    .dataframe tbody tr th:only-of-type {\n",
       "        vertical-align: middle;\n",
       "    }\n",
       "\n",
       "    .dataframe tbody tr th {\n",
       "        vertical-align: top;\n",
       "    }\n",
       "\n",
       "    .dataframe thead th {\n",
       "        text-align: right;\n",
       "    }\n",
       "</style>\n",
       "<table border=\"1\" class=\"dataframe\">\n",
       "  <thead>\n",
       "    <tr style=\"text-align: right;\">\n",
       "      <th></th>\n",
       "      <th>Age</th>\n",
       "      <th>BusinessTravel</th>\n",
       "      <th>DailyRate</th>\n",
       "      <th>Department</th>\n",
       "      <th>DistanceFromHome</th>\n",
       "      <th>Education</th>\n",
       "      <th>EducationField</th>\n",
       "      <th>EnvironmentSatisfaction</th>\n",
       "      <th>Gender</th>\n",
       "      <th>HourlyRate</th>\n",
       "      <th>...</th>\n",
       "      <th>PerformanceRating</th>\n",
       "      <th>RelationshipSatisfaction</th>\n",
       "      <th>StockOptionLevel</th>\n",
       "      <th>TotalWorkingYears</th>\n",
       "      <th>TrainingTimesLastYear</th>\n",
       "      <th>WorkLifeBalance</th>\n",
       "      <th>YearsAtCompany</th>\n",
       "      <th>YearsInCurrentRole</th>\n",
       "      <th>YearsSinceLastPromotion</th>\n",
       "      <th>YearsWithCurrManager</th>\n",
       "    </tr>\n",
       "  </thead>\n",
       "  <tbody>\n",
       "    <tr>\n",
       "      <th>0</th>\n",
       "      <td>23</td>\n",
       "      <td>2</td>\n",
       "      <td>624</td>\n",
       "      <td>2</td>\n",
       "      <td>0</td>\n",
       "      <td>1</td>\n",
       "      <td>1</td>\n",
       "      <td>1</td>\n",
       "      <td>0</td>\n",
       "      <td>64</td>\n",
       "      <td>...</td>\n",
       "      <td>0</td>\n",
       "      <td>0</td>\n",
       "      <td>0</td>\n",
       "      <td>-0.173231</td>\n",
       "      <td>0</td>\n",
       "      <td>0</td>\n",
       "      <td>0.231837</td>\n",
       "      <td>4</td>\n",
       "      <td>-1.073534</td>\n",
       "      <td>0.582177</td>\n",
       "    </tr>\n",
       "    <tr>\n",
       "      <th>1</th>\n",
       "      <td>31</td>\n",
       "      <td>1</td>\n",
       "      <td>113</td>\n",
       "      <td>1</td>\n",
       "      <td>7</td>\n",
       "      <td>0</td>\n",
       "      <td>1</td>\n",
       "      <td>2</td>\n",
       "      <td>1</td>\n",
       "      <td>31</td>\n",
       "      <td>...</td>\n",
       "      <td>1</td>\n",
       "      <td>3</td>\n",
       "      <td>1</td>\n",
       "      <td>0.147620</td>\n",
       "      <td>3</td>\n",
       "      <td>2</td>\n",
       "      <td>0.948319</td>\n",
       "      <td>7</td>\n",
       "      <td>0.193168</td>\n",
       "      <td>1.018073</td>\n",
       "    </tr>\n",
       "    <tr>\n",
       "      <th>2</th>\n",
       "      <td>19</td>\n",
       "      <td>2</td>\n",
       "      <td>805</td>\n",
       "      <td>1</td>\n",
       "      <td>1</td>\n",
       "      <td>1</td>\n",
       "      <td>4</td>\n",
       "      <td>3</td>\n",
       "      <td>1</td>\n",
       "      <td>62</td>\n",
       "      <td>...</td>\n",
       "      <td>0</td>\n",
       "      <td>1</td>\n",
       "      <td>0</td>\n",
       "      <td>-0.351153</td>\n",
       "      <td>3</td>\n",
       "      <td>2</td>\n",
       "      <td>-2.156089</td>\n",
       "      <td>0</td>\n",
       "      <td>-1.073534</td>\n",
       "      <td>-1.528426</td>\n",
       "    </tr>\n",
       "    <tr>\n",
       "      <th>3</th>\n",
       "      <td>15</td>\n",
       "      <td>1</td>\n",
       "      <td>820</td>\n",
       "      <td>1</td>\n",
       "      <td>2</td>\n",
       "      <td>3</td>\n",
       "      <td>1</td>\n",
       "      <td>3</td>\n",
       "      <td>0</td>\n",
       "      <td>26</td>\n",
       "      <td>...</td>\n",
       "      <td>0</td>\n",
       "      <td>2</td>\n",
       "      <td>0</td>\n",
       "      <td>-0.173231</td>\n",
       "      <td>3</td>\n",
       "      <td>2</td>\n",
       "      <td>0.621429</td>\n",
       "      <td>7</td>\n",
       "      <td>1.027520</td>\n",
       "      <td>-1.528426</td>\n",
       "    </tr>\n",
       "    <tr>\n",
       "      <th>4</th>\n",
       "      <td>9</td>\n",
       "      <td>2</td>\n",
       "      <td>312</td>\n",
       "      <td>1</td>\n",
       "      <td>1</td>\n",
       "      <td>0</td>\n",
       "      <td>3</td>\n",
       "      <td>0</td>\n",
       "      <td>1</td>\n",
       "      <td>10</td>\n",
       "      <td>...</td>\n",
       "      <td>0</td>\n",
       "      <td>3</td>\n",
       "      <td>1</td>\n",
       "      <td>-0.544046</td>\n",
       "      <td>3</td>\n",
       "      <td>2</td>\n",
       "      <td>-0.933983</td>\n",
       "      <td>2</td>\n",
       "      <td>0.722874</td>\n",
       "      <td>-0.347871</td>\n",
       "    </tr>\n",
       "    <tr>\n",
       "      <th>...</th>\n",
       "      <td>...</td>\n",
       "      <td>...</td>\n",
       "      <td>...</td>\n",
       "      <td>...</td>\n",
       "      <td>...</td>\n",
       "      <td>...</td>\n",
       "      <td>...</td>\n",
       "      <td>...</td>\n",
       "      <td>...</td>\n",
       "      <td>...</td>\n",
       "      <td>...</td>\n",
       "      <td>...</td>\n",
       "      <td>...</td>\n",
       "      <td>...</td>\n",
       "      <td>...</td>\n",
       "      <td>...</td>\n",
       "      <td>...</td>\n",
       "      <td>...</td>\n",
       "      <td>...</td>\n",
       "      <td>...</td>\n",
       "      <td>...</td>\n",
       "    </tr>\n",
       "    <tr>\n",
       "      <th>1465</th>\n",
       "      <td>18</td>\n",
       "      <td>1</td>\n",
       "      <td>494</td>\n",
       "      <td>1</td>\n",
       "      <td>22</td>\n",
       "      <td>1</td>\n",
       "      <td>3</td>\n",
       "      <td>2</td>\n",
       "      <td>1</td>\n",
       "      <td>11</td>\n",
       "      <td>...</td>\n",
       "      <td>0</td>\n",
       "      <td>2</td>\n",
       "      <td>1</td>\n",
       "      <td>1.039364</td>\n",
       "      <td>3</td>\n",
       "      <td>2</td>\n",
       "      <td>0.003289</td>\n",
       "      <td>2</td>\n",
       "      <td>-1.073534</td>\n",
       "      <td>0.018680</td>\n",
       "    </tr>\n",
       "    <tr>\n",
       "      <th>1466</th>\n",
       "      <td>21</td>\n",
       "      <td>2</td>\n",
       "      <td>327</td>\n",
       "      <td>1</td>\n",
       "      <td>5</td>\n",
       "      <td>0</td>\n",
       "      <td>3</td>\n",
       "      <td>3</td>\n",
       "      <td>1</td>\n",
       "      <td>12</td>\n",
       "      <td>...</td>\n",
       "      <td>0</td>\n",
       "      <td>0</td>\n",
       "      <td>1</td>\n",
       "      <td>-0.007630</td>\n",
       "      <td>5</td>\n",
       "      <td>2</td>\n",
       "      <td>0.436162</td>\n",
       "      <td>7</td>\n",
       "      <td>0.193168</td>\n",
       "      <td>1.018073</td>\n",
       "    </tr>\n",
       "    <tr>\n",
       "      <th>1467</th>\n",
       "      <td>9</td>\n",
       "      <td>2</td>\n",
       "      <td>39</td>\n",
       "      <td>1</td>\n",
       "      <td>3</td>\n",
       "      <td>2</td>\n",
       "      <td>1</td>\n",
       "      <td>1</td>\n",
       "      <td>1</td>\n",
       "      <td>57</td>\n",
       "      <td>...</td>\n",
       "      <td>1</td>\n",
       "      <td>1</td>\n",
       "      <td>1</td>\n",
       "      <td>-0.544046</td>\n",
       "      <td>0</td>\n",
       "      <td>2</td>\n",
       "      <td>0.231837</td>\n",
       "      <td>2</td>\n",
       "      <td>-1.073534</td>\n",
       "      <td>0.018680</td>\n",
       "    </tr>\n",
       "    <tr>\n",
       "      <th>1468</th>\n",
       "      <td>31</td>\n",
       "      <td>1</td>\n",
       "      <td>579</td>\n",
       "      <td>2</td>\n",
       "      <td>1</td>\n",
       "      <td>2</td>\n",
       "      <td>3</td>\n",
       "      <td>3</td>\n",
       "      <td>1</td>\n",
       "      <td>33</td>\n",
       "      <td>...</td>\n",
       "      <td>0</td>\n",
       "      <td>3</td>\n",
       "      <td>0</td>\n",
       "      <td>1.039364</td>\n",
       "      <td>3</td>\n",
       "      <td>1</td>\n",
       "      <td>0.791264</td>\n",
       "      <td>6</td>\n",
       "      <td>-1.073534</td>\n",
       "      <td>1.205782</td>\n",
       "    </tr>\n",
       "    <tr>\n",
       "      <th>1469</th>\n",
       "      <td>16</td>\n",
       "      <td>2</td>\n",
       "      <td>336</td>\n",
       "      <td>1</td>\n",
       "      <td>7</td>\n",
       "      <td>2</td>\n",
       "      <td>3</td>\n",
       "      <td>1</td>\n",
       "      <td>1</td>\n",
       "      <td>52</td>\n",
       "      <td>...</td>\n",
       "      <td>0</td>\n",
       "      <td>0</td>\n",
       "      <td>0</td>\n",
       "      <td>-0.544046</td>\n",
       "      <td>3</td>\n",
       "      <td>3</td>\n",
       "      <td>-0.257229</td>\n",
       "      <td>3</td>\n",
       "      <td>0.193168</td>\n",
       "      <td>-0.347871</td>\n",
       "    </tr>\n",
       "  </tbody>\n",
       "</table>\n",
       "<p>1387 rows × 30 columns</p>\n",
       "</div>"
      ],
      "text/plain": [
       "      Age  BusinessTravel  DailyRate  Department  DistanceFromHome  Education  \\\n",
       "0      23               2        624           2                 0          1   \n",
       "1      31               1        113           1                 7          0   \n",
       "2      19               2        805           1                 1          1   \n",
       "3      15               1        820           1                 2          3   \n",
       "4       9               2        312           1                 1          0   \n",
       "...   ...             ...        ...         ...               ...        ...   \n",
       "1465   18               1        494           1                22          1   \n",
       "1466   21               2        327           1                 5          0   \n",
       "1467    9               2         39           1                 3          2   \n",
       "1468   31               1        579           2                 1          2   \n",
       "1469   16               2        336           1                 7          2   \n",
       "\n",
       "      EducationField  EnvironmentSatisfaction  Gender  HourlyRate  ...  \\\n",
       "0                  1                        1       0          64  ...   \n",
       "1                  1                        2       1          31  ...   \n",
       "2                  4                        3       1          62  ...   \n",
       "3                  1                        3       0          26  ...   \n",
       "4                  3                        0       1          10  ...   \n",
       "...              ...                      ...     ...         ...  ...   \n",
       "1465               3                        2       1          11  ...   \n",
       "1466               3                        3       1          12  ...   \n",
       "1467               1                        1       1          57  ...   \n",
       "1468               3                        3       1          33  ...   \n",
       "1469               3                        1       1          52  ...   \n",
       "\n",
       "      PerformanceRating  RelationshipSatisfaction  StockOptionLevel  \\\n",
       "0                     0                         0                 0   \n",
       "1                     1                         3                 1   \n",
       "2                     0                         1                 0   \n",
       "3                     0                         2                 0   \n",
       "4                     0                         3                 1   \n",
       "...                 ...                       ...               ...   \n",
       "1465                  0                         2                 1   \n",
       "1466                  0                         0                 1   \n",
       "1467                  1                         1                 1   \n",
       "1468                  0                         3                 0   \n",
       "1469                  0                         0                 0   \n",
       "\n",
       "      TotalWorkingYears  TrainingTimesLastYear  WorkLifeBalance  \\\n",
       "0             -0.173231                      0                0   \n",
       "1              0.147620                      3                2   \n",
       "2             -0.351153                      3                2   \n",
       "3             -0.173231                      3                2   \n",
       "4             -0.544046                      3                2   \n",
       "...                 ...                    ...              ...   \n",
       "1465           1.039364                      3                2   \n",
       "1466          -0.007630                      5                2   \n",
       "1467          -0.544046                      0                2   \n",
       "1468           1.039364                      3                1   \n",
       "1469          -0.544046                      3                3   \n",
       "\n",
       "      YearsAtCompany  YearsInCurrentRole  YearsSinceLastPromotion  \\\n",
       "0           0.231837                   4                -1.073534   \n",
       "1           0.948319                   7                 0.193168   \n",
       "2          -2.156089                   0                -1.073534   \n",
       "3           0.621429                   7                 1.027520   \n",
       "4          -0.933983                   2                 0.722874   \n",
       "...              ...                 ...                      ...   \n",
       "1465        0.003289                   2                -1.073534   \n",
       "1466        0.436162                   7                 0.193168   \n",
       "1467        0.231837                   2                -1.073534   \n",
       "1468        0.791264                   6                -1.073534   \n",
       "1469       -0.257229                   3                 0.193168   \n",
       "\n",
       "      YearsWithCurrManager  \n",
       "0                 0.582177  \n",
       "1                 1.018073  \n",
       "2                -1.528426  \n",
       "3                -1.528426  \n",
       "4                -0.347871  \n",
       "...                    ...  \n",
       "1465              0.018680  \n",
       "1466              1.018073  \n",
       "1467              0.018680  \n",
       "1468              1.205782  \n",
       "1469             -0.347871  \n",
       "\n",
       "[1387 rows x 30 columns]"
      ]
     },
     "execution_count": 112,
     "metadata": {},
     "output_type": "execute_result"
    }
   ],
   "source": [
    "x"
   ]
  },
  {
   "cell_type": "code",
   "execution_count": 113,
   "id": "320796c6",
   "metadata": {},
   "outputs": [
    {
     "data": {
      "text/plain": [
       "0       1\n",
       "1       0\n",
       "2       1\n",
       "3       0\n",
       "4       0\n",
       "       ..\n",
       "1465    0\n",
       "1466    0\n",
       "1467    0\n",
       "1468    0\n",
       "1469    0\n",
       "Name: Attrition, Length: 1387, dtype: int32"
      ]
     },
     "execution_count": 113,
     "metadata": {},
     "output_type": "execute_result"
    }
   ],
   "source": [
    "y"
   ]
  },
  {
   "cell_type": "markdown",
   "id": "914ef643",
   "metadata": {},
   "source": [
    "### Scaling the x_data using standardscaler:"
   ]
  },
  {
   "cell_type": "code",
   "execution_count": 114,
   "id": "343aeb5f",
   "metadata": {},
   "outputs": [
    {
     "data": {
      "text/html": [
       "<div>\n",
       "<style scoped>\n",
       "    .dataframe tbody tr th:only-of-type {\n",
       "        vertical-align: middle;\n",
       "    }\n",
       "\n",
       "    .dataframe tbody tr th {\n",
       "        vertical-align: top;\n",
       "    }\n",
       "\n",
       "    .dataframe thead th {\n",
       "        text-align: right;\n",
       "    }\n",
       "</style>\n",
       "<table border=\"1\" class=\"dataframe\">\n",
       "  <thead>\n",
       "    <tr style=\"text-align: right;\">\n",
       "      <th></th>\n",
       "      <th>Age</th>\n",
       "      <th>BusinessTravel</th>\n",
       "      <th>DailyRate</th>\n",
       "      <th>Department</th>\n",
       "      <th>DistanceFromHome</th>\n",
       "      <th>Education</th>\n",
       "      <th>EducationField</th>\n",
       "      <th>EnvironmentSatisfaction</th>\n",
       "      <th>Gender</th>\n",
       "      <th>HourlyRate</th>\n",
       "      <th>...</th>\n",
       "      <th>PerformanceRating</th>\n",
       "      <th>RelationshipSatisfaction</th>\n",
       "      <th>StockOptionLevel</th>\n",
       "      <th>TotalWorkingYears</th>\n",
       "      <th>TrainingTimesLastYear</th>\n",
       "      <th>WorkLifeBalance</th>\n",
       "      <th>YearsAtCompany</th>\n",
       "      <th>YearsInCurrentRole</th>\n",
       "      <th>YearsSinceLastPromotion</th>\n",
       "      <th>YearsWithCurrManager</th>\n",
       "    </tr>\n",
       "  </thead>\n",
       "  <tbody>\n",
       "    <tr>\n",
       "      <th>0</th>\n",
       "      <td>0.536681</td>\n",
       "      <td>0.593126</td>\n",
       "      <td>0.705653</td>\n",
       "      <td>1.405373</td>\n",
       "      <td>-1.011249</td>\n",
       "      <td>-0.876177</td>\n",
       "      <td>-0.940815</td>\n",
       "      <td>-0.665328</td>\n",
       "      <td>-1.229911</td>\n",
       "      <td>1.388670</td>\n",
       "      <td>...</td>\n",
       "      <td>-0.424765</td>\n",
       "      <td>-1.575817</td>\n",
       "      <td>-0.929427</td>\n",
       "      <td>-0.173231</td>\n",
       "      <td>-2.171420</td>\n",
       "      <td>-2.501172</td>\n",
       "      <td>0.231837</td>\n",
       "      <td>0.040903</td>\n",
       "      <td>-1.073534</td>\n",
       "      <td>0.582177</td>\n",
       "    </tr>\n",
       "    <tr>\n",
       "      <th>1</th>\n",
       "      <td>1.442111</td>\n",
       "      <td>-0.905354</td>\n",
       "      <td>-1.312393</td>\n",
       "      <td>-0.496337</td>\n",
       "      <td>-0.145521</td>\n",
       "      <td>-1.853858</td>\n",
       "      <td>-0.940815</td>\n",
       "      <td>0.251978</td>\n",
       "      <td>0.813067</td>\n",
       "      <td>-0.239091</td>\n",
       "      <td>...</td>\n",
       "      <td>2.354241</td>\n",
       "      <td>1.199034</td>\n",
       "      <td>0.238250</td>\n",
       "      <td>0.147620</td>\n",
       "      <td>0.151871</td>\n",
       "      <td>0.336558</td>\n",
       "      <td>0.948319</td>\n",
       "      <td>0.965895</td>\n",
       "      <td>0.193168</td>\n",
       "      <td>1.018073</td>\n",
       "    </tr>\n",
       "    <tr>\n",
       "      <th>2</th>\n",
       "      <td>0.083966</td>\n",
       "      <td>0.593126</td>\n",
       "      <td>1.420460</td>\n",
       "      <td>-0.496337</td>\n",
       "      <td>-0.887573</td>\n",
       "      <td>-0.876177</td>\n",
       "      <td>1.305159</td>\n",
       "      <td>1.169285</td>\n",
       "      <td>0.813067</td>\n",
       "      <td>1.290017</td>\n",
       "      <td>...</td>\n",
       "      <td>-0.424765</td>\n",
       "      <td>-0.650866</td>\n",
       "      <td>-0.929427</td>\n",
       "      <td>-0.351153</td>\n",
       "      <td>0.151871</td>\n",
       "      <td>0.336558</td>\n",
       "      <td>-2.156089</td>\n",
       "      <td>-1.192419</td>\n",
       "      <td>-1.073534</td>\n",
       "      <td>-1.528426</td>\n",
       "    </tr>\n",
       "    <tr>\n",
       "      <th>3</th>\n",
       "      <td>-0.368749</td>\n",
       "      <td>-0.905354</td>\n",
       "      <td>1.479698</td>\n",
       "      <td>-0.496337</td>\n",
       "      <td>-0.763898</td>\n",
       "      <td>1.079185</td>\n",
       "      <td>-0.940815</td>\n",
       "      <td>1.169285</td>\n",
       "      <td>-1.229911</td>\n",
       "      <td>-0.485721</td>\n",
       "      <td>...</td>\n",
       "      <td>-0.424765</td>\n",
       "      <td>0.274084</td>\n",
       "      <td>-0.929427</td>\n",
       "      <td>-0.173231</td>\n",
       "      <td>0.151871</td>\n",
       "      <td>0.336558</td>\n",
       "      <td>0.621429</td>\n",
       "      <td>0.965895</td>\n",
       "      <td>1.027520</td>\n",
       "      <td>-1.528426</td>\n",
       "    </tr>\n",
       "    <tr>\n",
       "      <th>4</th>\n",
       "      <td>-1.047821</td>\n",
       "      <td>0.593126</td>\n",
       "      <td>-0.526501</td>\n",
       "      <td>-0.496337</td>\n",
       "      <td>-0.887573</td>\n",
       "      <td>-1.853858</td>\n",
       "      <td>0.556501</td>\n",
       "      <td>-1.582635</td>\n",
       "      <td>0.813067</td>\n",
       "      <td>-1.274939</td>\n",
       "      <td>...</td>\n",
       "      <td>-0.424765</td>\n",
       "      <td>1.199034</td>\n",
       "      <td>0.238250</td>\n",
       "      <td>-0.544046</td>\n",
       "      <td>0.151871</td>\n",
       "      <td>0.336558</td>\n",
       "      <td>-0.933983</td>\n",
       "      <td>-0.575758</td>\n",
       "      <td>0.722874</td>\n",
       "      <td>-0.347871</td>\n",
       "    </tr>\n",
       "    <tr>\n",
       "      <th>...</th>\n",
       "      <td>...</td>\n",
       "      <td>...</td>\n",
       "      <td>...</td>\n",
       "      <td>...</td>\n",
       "      <td>...</td>\n",
       "      <td>...</td>\n",
       "      <td>...</td>\n",
       "      <td>...</td>\n",
       "      <td>...</td>\n",
       "      <td>...</td>\n",
       "      <td>...</td>\n",
       "      <td>...</td>\n",
       "      <td>...</td>\n",
       "      <td>...</td>\n",
       "      <td>...</td>\n",
       "      <td>...</td>\n",
       "      <td>...</td>\n",
       "      <td>...</td>\n",
       "      <td>...</td>\n",
       "      <td>...</td>\n",
       "      <td>...</td>\n",
       "    </tr>\n",
       "    <tr>\n",
       "      <th>1382</th>\n",
       "      <td>-0.029213</td>\n",
       "      <td>-0.905354</td>\n",
       "      <td>0.192256</td>\n",
       "      <td>-0.496337</td>\n",
       "      <td>1.709609</td>\n",
       "      <td>-0.876177</td>\n",
       "      <td>0.556501</td>\n",
       "      <td>0.251978</td>\n",
       "      <td>0.813067</td>\n",
       "      <td>-1.225613</td>\n",
       "      <td>...</td>\n",
       "      <td>-0.424765</td>\n",
       "      <td>0.274084</td>\n",
       "      <td>0.238250</td>\n",
       "      <td>1.039364</td>\n",
       "      <td>0.151871</td>\n",
       "      <td>0.336558</td>\n",
       "      <td>0.003289</td>\n",
       "      <td>-0.575758</td>\n",
       "      <td>-1.073534</td>\n",
       "      <td>0.018680</td>\n",
       "    </tr>\n",
       "    <tr>\n",
       "      <th>1383</th>\n",
       "      <td>0.310324</td>\n",
       "      <td>0.593126</td>\n",
       "      <td>-0.467262</td>\n",
       "      <td>-0.496337</td>\n",
       "      <td>-0.392872</td>\n",
       "      <td>-1.853858</td>\n",
       "      <td>0.556501</td>\n",
       "      <td>1.169285</td>\n",
       "      <td>0.813067</td>\n",
       "      <td>-1.176286</td>\n",
       "      <td>...</td>\n",
       "      <td>-0.424765</td>\n",
       "      <td>-1.575817</td>\n",
       "      <td>0.238250</td>\n",
       "      <td>-0.007630</td>\n",
       "      <td>1.700732</td>\n",
       "      <td>0.336558</td>\n",
       "      <td>0.436162</td>\n",
       "      <td>0.965895</td>\n",
       "      <td>0.193168</td>\n",
       "      <td>1.018073</td>\n",
       "    </tr>\n",
       "    <tr>\n",
       "      <th>1384</th>\n",
       "      <td>-1.047821</td>\n",
       "      <td>0.593126</td>\n",
       "      <td>-1.604635</td>\n",
       "      <td>-0.496337</td>\n",
       "      <td>-0.640223</td>\n",
       "      <td>0.101504</td>\n",
       "      <td>-0.940815</td>\n",
       "      <td>-0.665328</td>\n",
       "      <td>0.813067</td>\n",
       "      <td>1.043387</td>\n",
       "      <td>...</td>\n",
       "      <td>2.354241</td>\n",
       "      <td>-0.650866</td>\n",
       "      <td>0.238250</td>\n",
       "      <td>-0.544046</td>\n",
       "      <td>-2.171420</td>\n",
       "      <td>0.336558</td>\n",
       "      <td>0.231837</td>\n",
       "      <td>-0.575758</td>\n",
       "      <td>-1.073534</td>\n",
       "      <td>0.018680</td>\n",
       "    </tr>\n",
       "    <tr>\n",
       "      <th>1385</th>\n",
       "      <td>1.442111</td>\n",
       "      <td>-0.905354</td>\n",
       "      <td>0.527938</td>\n",
       "      <td>1.405373</td>\n",
       "      <td>-0.887573</td>\n",
       "      <td>0.101504</td>\n",
       "      <td>0.556501</td>\n",
       "      <td>1.169285</td>\n",
       "      <td>0.813067</td>\n",
       "      <td>-0.140439</td>\n",
       "      <td>...</td>\n",
       "      <td>-0.424765</td>\n",
       "      <td>1.199034</td>\n",
       "      <td>-0.929427</td>\n",
       "      <td>1.039364</td>\n",
       "      <td>0.151871</td>\n",
       "      <td>-1.082307</td>\n",
       "      <td>0.791264</td>\n",
       "      <td>0.657565</td>\n",
       "      <td>-1.073534</td>\n",
       "      <td>1.205782</td>\n",
       "    </tr>\n",
       "    <tr>\n",
       "      <th>1386</th>\n",
       "      <td>-0.255570</td>\n",
       "      <td>0.593126</td>\n",
       "      <td>-0.431720</td>\n",
       "      <td>-0.496337</td>\n",
       "      <td>-0.145521</td>\n",
       "      <td>0.101504</td>\n",
       "      <td>0.556501</td>\n",
       "      <td>-0.665328</td>\n",
       "      <td>0.813067</td>\n",
       "      <td>0.796757</td>\n",
       "      <td>...</td>\n",
       "      <td>-0.424765</td>\n",
       "      <td>-1.575817</td>\n",
       "      <td>-0.929427</td>\n",
       "      <td>-0.544046</td>\n",
       "      <td>0.151871</td>\n",
       "      <td>1.755424</td>\n",
       "      <td>-0.257229</td>\n",
       "      <td>-0.267427</td>\n",
       "      <td>0.193168</td>\n",
       "      <td>-0.347871</td>\n",
       "    </tr>\n",
       "  </tbody>\n",
       "</table>\n",
       "<p>1387 rows × 30 columns</p>\n",
       "</div>"
      ],
      "text/plain": [
       "           Age  BusinessTravel  DailyRate  Department  DistanceFromHome  \\\n",
       "0     0.536681        0.593126   0.705653    1.405373         -1.011249   \n",
       "1     1.442111       -0.905354  -1.312393   -0.496337         -0.145521   \n",
       "2     0.083966        0.593126   1.420460   -0.496337         -0.887573   \n",
       "3    -0.368749       -0.905354   1.479698   -0.496337         -0.763898   \n",
       "4    -1.047821        0.593126  -0.526501   -0.496337         -0.887573   \n",
       "...        ...             ...        ...         ...               ...   \n",
       "1382 -0.029213       -0.905354   0.192256   -0.496337          1.709609   \n",
       "1383  0.310324        0.593126  -0.467262   -0.496337         -0.392872   \n",
       "1384 -1.047821        0.593126  -1.604635   -0.496337         -0.640223   \n",
       "1385  1.442111       -0.905354   0.527938    1.405373         -0.887573   \n",
       "1386 -0.255570        0.593126  -0.431720   -0.496337         -0.145521   \n",
       "\n",
       "      Education  EducationField  EnvironmentSatisfaction    Gender  \\\n",
       "0     -0.876177       -0.940815                -0.665328 -1.229911   \n",
       "1     -1.853858       -0.940815                 0.251978  0.813067   \n",
       "2     -0.876177        1.305159                 1.169285  0.813067   \n",
       "3      1.079185       -0.940815                 1.169285 -1.229911   \n",
       "4     -1.853858        0.556501                -1.582635  0.813067   \n",
       "...         ...             ...                      ...       ...   \n",
       "1382  -0.876177        0.556501                 0.251978  0.813067   \n",
       "1383  -1.853858        0.556501                 1.169285  0.813067   \n",
       "1384   0.101504       -0.940815                -0.665328  0.813067   \n",
       "1385   0.101504        0.556501                 1.169285  0.813067   \n",
       "1386   0.101504        0.556501                -0.665328  0.813067   \n",
       "\n",
       "      HourlyRate  ...  PerformanceRating  RelationshipSatisfaction  \\\n",
       "0       1.388670  ...          -0.424765                 -1.575817   \n",
       "1      -0.239091  ...           2.354241                  1.199034   \n",
       "2       1.290017  ...          -0.424765                 -0.650866   \n",
       "3      -0.485721  ...          -0.424765                  0.274084   \n",
       "4      -1.274939  ...          -0.424765                  1.199034   \n",
       "...          ...  ...                ...                       ...   \n",
       "1382   -1.225613  ...          -0.424765                  0.274084   \n",
       "1383   -1.176286  ...          -0.424765                 -1.575817   \n",
       "1384    1.043387  ...           2.354241                 -0.650866   \n",
       "1385   -0.140439  ...          -0.424765                  1.199034   \n",
       "1386    0.796757  ...          -0.424765                 -1.575817   \n",
       "\n",
       "      StockOptionLevel  TotalWorkingYears  TrainingTimesLastYear  \\\n",
       "0            -0.929427          -0.173231              -2.171420   \n",
       "1             0.238250           0.147620               0.151871   \n",
       "2            -0.929427          -0.351153               0.151871   \n",
       "3            -0.929427          -0.173231               0.151871   \n",
       "4             0.238250          -0.544046               0.151871   \n",
       "...                ...                ...                    ...   \n",
       "1382          0.238250           1.039364               0.151871   \n",
       "1383          0.238250          -0.007630               1.700732   \n",
       "1384          0.238250          -0.544046              -2.171420   \n",
       "1385         -0.929427           1.039364               0.151871   \n",
       "1386         -0.929427          -0.544046               0.151871   \n",
       "\n",
       "      WorkLifeBalance  YearsAtCompany  YearsInCurrentRole  \\\n",
       "0           -2.501172        0.231837            0.040903   \n",
       "1            0.336558        0.948319            0.965895   \n",
       "2            0.336558       -2.156089           -1.192419   \n",
       "3            0.336558        0.621429            0.965895   \n",
       "4            0.336558       -0.933983           -0.575758   \n",
       "...               ...             ...                 ...   \n",
       "1382         0.336558        0.003289           -0.575758   \n",
       "1383         0.336558        0.436162            0.965895   \n",
       "1384         0.336558        0.231837           -0.575758   \n",
       "1385        -1.082307        0.791264            0.657565   \n",
       "1386         1.755424       -0.257229           -0.267427   \n",
       "\n",
       "      YearsSinceLastPromotion  YearsWithCurrManager  \n",
       "0                   -1.073534              0.582177  \n",
       "1                    0.193168              1.018073  \n",
       "2                   -1.073534             -1.528426  \n",
       "3                    1.027520             -1.528426  \n",
       "4                    0.722874             -0.347871  \n",
       "...                       ...                   ...  \n",
       "1382                -1.073534              0.018680  \n",
       "1383                 0.193168              1.018073  \n",
       "1384                -1.073534              0.018680  \n",
       "1385                -1.073534              1.205782  \n",
       "1386                 0.193168             -0.347871  \n",
       "\n",
       "[1387 rows x 30 columns]"
      ]
     },
     "execution_count": 114,
     "metadata": {},
     "output_type": "execute_result"
    }
   ],
   "source": [
    "scaler = StandardScaler()\n",
    "x = pd.DataFrame(scaler.fit_transform(x), columns=x.columns)\n",
    "x"
   ]
  },
  {
   "cell_type": "code",
   "execution_count": 115,
   "id": "74341425",
   "metadata": {},
   "outputs": [],
   "source": [
    "x_train,x_test,y_train,y_test = train_test_split(x,y, test_size = 0.3, random_state = 0)"
   ]
  },
  {
   "cell_type": "markdown",
   "id": "83209a4f",
   "metadata": {},
   "source": [
    "# Training the model:"
   ]
  },
  {
   "cell_type": "code",
   "execution_count": 116,
   "id": "df8f0901",
   "metadata": {},
   "outputs": [],
   "source": [
    "# here we will use \"forloop\" for using models continously without getting interrupted:"
   ]
  },
  {
   "cell_type": "code",
   "execution_count": 117,
   "id": "fd2e932f",
   "metadata": {},
   "outputs": [
    {
     "name": "stdout",
     "output_type": "stream",
     "text": [
      "LogisticRegression is trained now.\n",
      "K-Nearest Neighbors is trained now.\n",
      "Decision Tree is trained now.\n",
      "Random Forest is trained now.\n",
      "Gradient Boosting is trained now.\n"
     ]
    }
   ],
   "source": [
    "models = {\"LogisticRegression\" : LogisticRegression(),\n",
    "          \"K-Nearest Neighbors\": KNeighborsClassifier(),\n",
    "          \"Decision Tree\"      : DecisionTreeClassifier(),\n",
    "          \"Random Forest\"      : RandomForestClassifier(),\n",
    "          \"Gradient Boosting\"  : GradientBoostingClassifier()}\n",
    "\n",
    "for name, model in models.items():\n",
    "    model.fit(x_train,y_train)\n",
    "    print(name + \" is trained now.\")"
   ]
  },
  {
   "cell_type": "markdown",
   "id": "f1e01b23",
   "metadata": {},
   "source": [
    "# testing:"
   ]
  },
  {
   "cell_type": "code",
   "execution_count": 118,
   "id": "36fc8553",
   "metadata": {},
   "outputs": [
    {
     "name": "stdout",
     "output_type": "stream",
     "text": [
      "LogisticRegression: 85.85%\n",
      "K-Nearest Neighbors: 84.65%\n",
      "Decision Tree: 77.22%\n",
      "Random Forest: 86.81%\n",
      "Gradient Boosting: 86.57%\n"
     ]
    }
   ],
   "source": [
    "for name, model in models.items():\n",
    "    print(name + \": {:,.2f}%\".format(model.score(x_test,y_test)*100))"
   ]
  },
  {
   "cell_type": "markdown",
   "id": "37c1a89d",
   "metadata": {},
   "source": [
    "# HyperParameter tuning:"
   ]
  },
  {
   "cell_type": "markdown",
   "id": "c11a3f31",
   "metadata": {},
   "source": [
    "## GridSearchCV:"
   ]
  },
  {
   "cell_type": "code",
   "execution_count": 119,
   "id": "99228391",
   "metadata": {},
   "outputs": [],
   "source": [
    "from sklearn.model_selection import GridSearchCV"
   ]
  },
  {
   "cell_type": "code",
   "execution_count": 120,
   "id": "c006b50e",
   "metadata": {},
   "outputs": [],
   "source": [
    "parameters = {'criterion':['mse', 'mae'],\n",
    "             'max_features':['auto', 'sqrt', 'log2'],\n",
    "             'n_estimators':[0,20],\n",
    "             'max_depth':[2,4,6]}"
   ]
  },
  {
   "cell_type": "markdown",
   "id": "bd870d71",
   "metadata": {},
   "source": [
    "# GradientBoostingClassifier:"
   ]
  },
  {
   "cell_type": "code",
   "execution_count": 121,
   "id": "0bdd5945",
   "metadata": {},
   "outputs": [],
   "source": [
    "# here we use \"GradientBoostingClassifier\" because this model has highest accuracy score when compared to the other models."
   ]
  },
  {
   "cell_type": "code",
   "execution_count": 122,
   "id": "ae4a8edd",
   "metadata": {},
   "outputs": [],
   "source": [
    "GCV=GridSearchCV(GradientBoostingClassifier(),parameters,cv=5)"
   ]
  },
  {
   "cell_type": "code",
   "execution_count": 123,
   "id": "4159fdca",
   "metadata": {},
   "outputs": [
    {
     "data": {
      "text/plain": [
       "GridSearchCV(cv=5, estimator=GradientBoostingClassifier(),\n",
       "             param_grid={'criterion': ['mse', 'mae'], 'max_depth': [2, 4, 6],\n",
       "                         'max_features': ['auto', 'sqrt', 'log2'],\n",
       "                         'n_estimators': [0, 20]})"
      ]
     },
     "execution_count": 123,
     "metadata": {},
     "output_type": "execute_result"
    }
   ],
   "source": [
    "GCV.fit(x_train,y_train)"
   ]
  },
  {
   "cell_type": "code",
   "execution_count": 124,
   "id": "aac1eab2",
   "metadata": {},
   "outputs": [
    {
     "data": {
      "text/plain": [
       "{'criterion': 'mse',\n",
       " 'max_depth': 6,\n",
       " 'max_features': 'sqrt',\n",
       " 'n_estimators': 20}"
      ]
     },
     "execution_count": 124,
     "metadata": {},
     "output_type": "execute_result"
    }
   ],
   "source": [
    "GCV.best_params_"
   ]
  },
  {
   "cell_type": "code",
   "execution_count": 125,
   "id": "936a99dc",
   "metadata": {},
   "outputs": [],
   "source": [
    "from sklearn import metrics\n",
    "from sklearn.metrics import mean_absolute_error\n",
    "from sklearn.metrics import mean_squared_error\n",
    "from sklearn.metrics import r2_score"
   ]
  },
  {
   "cell_type": "code",
   "execution_count": 126,
   "id": "22ecf980",
   "metadata": {},
   "outputs": [
    {
     "name": "stdout",
     "output_type": "stream",
     "text": [
      "{'criterion': 'mse', 'max_features': 'sqrt'}\n"
     ]
    }
   ],
   "source": [
    "parameters = {'criterion': ['mse','mae'], 'max_features': ['auto', 'sqrt', 'log2']}\n",
    "\n",
    "GradientBoosting = GradientBoostingClassifier()\n",
    "Classifier = GridSearchCV(GradientBoosting,parameters)\n",
    "Classifier.fit(x_train,y_train)\n",
    "\n",
    "print(Classifier.best_params_)"
   ]
  },
  {
   "cell_type": "code",
   "execution_count": 127,
   "id": "4ed3b9d2",
   "metadata": {},
   "outputs": [],
   "source": [
    "# observation: here we can see that the best_parameteers are selected."
   ]
  },
  {
   "cell_type": "code",
   "execution_count": 128,
   "id": "39532b7f",
   "metadata": {},
   "outputs": [
    {
     "name": "stdout",
     "output_type": "stream",
     "text": [
      "R2 Score: 3.358334737906643\n",
      "Cross Val Score: 87.09581071604809\n"
     ]
    }
   ],
   "source": [
    "GradientBoosting = GradientBoostingClassifier(criterion = 'mse', max_features = 'log2')\n",
    "GradientBoosting.fit(x_train,y_train)\n",
    "GradientBoosting.score(x_train,y_train)\n",
    "\n",
    "pred_decision = GradientBoosting.predict(x_test)\n",
    "GradientBoostingS = r2_score(y_test,pred_decision)\n",
    "print('R2 Score:', GradientBoostingS*100)\n",
    "\n",
    "GradientBoostingScore = cross_val_score(GradientBoosting,x,y,cv = 5)\n",
    "GradientBoostingC = GradientBoostingScore.mean()\n",
    "print(\"Cross Val Score:\",GradientBoostingC*100)"
   ]
  },
  {
   "cell_type": "code",
   "execution_count": 129,
   "id": "895e053f",
   "metadata": {},
   "outputs": [],
   "source": [
    "# Observation: here we can see that the best parameters we got for the model."
   ]
  },
  {
   "cell_type": "code",
   "execution_count": 130,
   "id": "d53e8e24",
   "metadata": {},
   "outputs": [
    {
     "name": "stdout",
     "output_type": "stream",
     "text": [
      "R2 Score: 3.358334737906643\n",
      "Cross Val Score: 86.5901358335714\n"
     ]
    }
   ],
   "source": [
    "GradientBoosting = GradientBoostingClassifier(criterion = 'mse', max_features = 'sqrt')\n",
    "GradientBoosting.fit(x_train,y_train)\n",
    "GradientBoosting.score(x_train,y_train)\n",
    "\n",
    "pred_decision = GradientBoosting.predict(x_test)\n",
    "GradientBoostingS = r2_score(y_test,pred_decision)\n",
    "print('R2 Score:', GradientBoostingS*100)\n",
    "\n",
    "GradientBoostingScore = cross_val_score(GradientBoosting,x,y,cv = 5)\n",
    "GradientBoostingC = GradientBoostingScore.mean()\n",
    "print(\"Cross Val Score:\",GradientBoostingC*100)"
   ]
  },
  {
   "cell_type": "markdown",
   "id": "fe3fffff",
   "metadata": {},
   "source": [
    "# saving the model:"
   ]
  },
  {
   "cell_type": "code",
   "execution_count": 131,
   "id": "98012729",
   "metadata": {},
   "outputs": [],
   "source": [
    "import pickle\n",
    "filename = 'churn.pkl'\n",
    "pickle.dump(GradientBoosting,open(filename, 'wb'))"
   ]
  },
  {
   "cell_type": "code",
   "execution_count": 132,
   "id": "b7b988c5",
   "metadata": {},
   "outputs": [
    {
     "name": "stdout",
     "output_type": "stream",
     "text": [
      "0.86810551558753\n"
     ]
    }
   ],
   "source": [
    "loaded_model = pickle.load(open(\"churn.pkl\", \"rb\"))\n",
    "result = loaded_model.score(x_test, y_test)\n",
    "print(result)"
   ]
  },
  {
   "cell_type": "markdown",
   "id": "14306c45",
   "metadata": {},
   "source": [
    "# conclusion:"
   ]
  },
  {
   "cell_type": "code",
   "execution_count": 133,
   "id": "d2178ee0",
   "metadata": {},
   "outputs": [],
   "source": [
    "conclusion = pd.DataFrame([loaded_model.predict(x_test)[:],pred_decision[:]],index = [\"Predicted\",\"Original\"])"
   ]
  },
  {
   "cell_type": "code",
   "execution_count": 134,
   "id": "f535faf1",
   "metadata": {},
   "outputs": [
    {
     "data": {
      "text/html": [
       "<div>\n",
       "<style scoped>\n",
       "    .dataframe tbody tr th:only-of-type {\n",
       "        vertical-align: middle;\n",
       "    }\n",
       "\n",
       "    .dataframe tbody tr th {\n",
       "        vertical-align: top;\n",
       "    }\n",
       "\n",
       "    .dataframe thead th {\n",
       "        text-align: right;\n",
       "    }\n",
       "</style>\n",
       "<table border=\"1\" class=\"dataframe\">\n",
       "  <thead>\n",
       "    <tr style=\"text-align: right;\">\n",
       "      <th></th>\n",
       "      <th>0</th>\n",
       "      <th>1</th>\n",
       "      <th>2</th>\n",
       "      <th>3</th>\n",
       "      <th>4</th>\n",
       "      <th>5</th>\n",
       "      <th>6</th>\n",
       "      <th>7</th>\n",
       "      <th>8</th>\n",
       "      <th>9</th>\n",
       "      <th>...</th>\n",
       "      <th>407</th>\n",
       "      <th>408</th>\n",
       "      <th>409</th>\n",
       "      <th>410</th>\n",
       "      <th>411</th>\n",
       "      <th>412</th>\n",
       "      <th>413</th>\n",
       "      <th>414</th>\n",
       "      <th>415</th>\n",
       "      <th>416</th>\n",
       "    </tr>\n",
       "  </thead>\n",
       "  <tbody>\n",
       "    <tr>\n",
       "      <th>Predicted</th>\n",
       "      <td>0</td>\n",
       "      <td>0</td>\n",
       "      <td>0</td>\n",
       "      <td>0</td>\n",
       "      <td>0</td>\n",
       "      <td>0</td>\n",
       "      <td>0</td>\n",
       "      <td>1</td>\n",
       "      <td>0</td>\n",
       "      <td>0</td>\n",
       "      <td>...</td>\n",
       "      <td>0</td>\n",
       "      <td>0</td>\n",
       "      <td>0</td>\n",
       "      <td>1</td>\n",
       "      <td>0</td>\n",
       "      <td>0</td>\n",
       "      <td>0</td>\n",
       "      <td>0</td>\n",
       "      <td>0</td>\n",
       "      <td>0</td>\n",
       "    </tr>\n",
       "    <tr>\n",
       "      <th>Original</th>\n",
       "      <td>0</td>\n",
       "      <td>0</td>\n",
       "      <td>0</td>\n",
       "      <td>0</td>\n",
       "      <td>0</td>\n",
       "      <td>0</td>\n",
       "      <td>0</td>\n",
       "      <td>1</td>\n",
       "      <td>0</td>\n",
       "      <td>0</td>\n",
       "      <td>...</td>\n",
       "      <td>0</td>\n",
       "      <td>0</td>\n",
       "      <td>0</td>\n",
       "      <td>1</td>\n",
       "      <td>0</td>\n",
       "      <td>0</td>\n",
       "      <td>0</td>\n",
       "      <td>0</td>\n",
       "      <td>0</td>\n",
       "      <td>0</td>\n",
       "    </tr>\n",
       "  </tbody>\n",
       "</table>\n",
       "<p>2 rows × 417 columns</p>\n",
       "</div>"
      ],
      "text/plain": [
       "           0    1    2    3    4    5    6    7    8    9    ...  407  408  \\\n",
       "Predicted    0    0    0    0    0    0    0    1    0    0  ...    0    0   \n",
       "Original     0    0    0    0    0    0    0    1    0    0  ...    0    0   \n",
       "\n",
       "           409  410  411  412  413  414  415  416  \n",
       "Predicted    0    1    0    0    0    0    0    0  \n",
       "Original     0    1    0    0    0    0    0    0  \n",
       "\n",
       "[2 rows x 417 columns]"
      ]
     },
     "execution_count": 134,
     "metadata": {},
     "output_type": "execute_result"
    }
   ],
   "source": [
    "conclusion"
   ]
  },
  {
   "cell_type": "markdown",
   "id": "4f643eaa",
   "metadata": {},
   "source": [
    "So, therefore our best model is \"GradientBoosting\" and the percentage we achieved is 88% ."
   ]
  },
  {
   "cell_type": "code",
   "execution_count": null,
   "id": "f57251fe",
   "metadata": {},
   "outputs": [],
   "source": []
  }
 ],
 "metadata": {
  "kernelspec": {
   "display_name": "Python 3 (ipykernel)",
   "language": "python",
   "name": "python3"
  },
  "language_info": {
   "codemirror_mode": {
    "name": "ipython",
    "version": 3
   },
   "file_extension": ".py",
   "mimetype": "text/x-python",
   "name": "python",
   "nbconvert_exporter": "python",
   "pygments_lexer": "ipython3",
   "version": "3.9.7"
  }
 },
 "nbformat": 4,
 "nbformat_minor": 5
}
