{
 "cells": [
  {
   "cell_type": "markdown",
   "id": "f8716dda",
   "metadata": {},
   "source": [
    "# Importing required libraries:"
   ]
  },
  {
   "cell_type": "code",
   "execution_count": 1,
   "id": "4cd41c20",
   "metadata": {},
   "outputs": [],
   "source": [
    "import pandas as pd\n",
    "import numpy as np\n",
    "import matplotlib.pyplot as plt\n",
    "%matplotlib inline\n",
    "import seaborn as sns\n",
    "import scipy.stats\n",
    "\n",
    "import warnings\n",
    "warnings.filterwarnings(\"ignore\") "
   ]
  },
  {
   "cell_type": "markdown",
   "id": "00caceaf",
   "metadata": {},
   "source": [
    "# Data Collection:"
   ]
  },
  {
   "cell_type": "code",
   "execution_count": 2,
   "id": "1c8d85d4",
   "metadata": {},
   "outputs": [
    {
     "data": {
      "text/html": [
       "<div>\n",
       "<style scoped>\n",
       "    .dataframe tbody tr th:only-of-type {\n",
       "        vertical-align: middle;\n",
       "    }\n",
       "\n",
       "    .dataframe tbody tr th {\n",
       "        vertical-align: top;\n",
       "    }\n",
       "\n",
       "    .dataframe thead th {\n",
       "        text-align: right;\n",
       "    }\n",
       "</style>\n",
       "<table border=\"1\" class=\"dataframe\">\n",
       "  <thead>\n",
       "    <tr style=\"text-align: right;\">\n",
       "      <th></th>\n",
       "      <th>Unnamed: 0</th>\n",
       "      <th>Date</th>\n",
       "      <th>AveragePrice</th>\n",
       "      <th>Total Volume</th>\n",
       "      <th>4046</th>\n",
       "      <th>4225</th>\n",
       "      <th>4770</th>\n",
       "      <th>Total Bags</th>\n",
       "      <th>Small Bags</th>\n",
       "      <th>Large Bags</th>\n",
       "      <th>XLarge Bags</th>\n",
       "      <th>type</th>\n",
       "      <th>year</th>\n",
       "      <th>region</th>\n",
       "    </tr>\n",
       "  </thead>\n",
       "  <tbody>\n",
       "    <tr>\n",
       "      <th>0</th>\n",
       "      <td>0</td>\n",
       "      <td>2015-12-27</td>\n",
       "      <td>1.33</td>\n",
       "      <td>64236.62</td>\n",
       "      <td>1036.74</td>\n",
       "      <td>54454.85</td>\n",
       "      <td>48.16</td>\n",
       "      <td>8696.87</td>\n",
       "      <td>8603.62</td>\n",
       "      <td>93.25</td>\n",
       "      <td>0.0</td>\n",
       "      <td>conventional</td>\n",
       "      <td>2015</td>\n",
       "      <td>Albany</td>\n",
       "    </tr>\n",
       "    <tr>\n",
       "      <th>1</th>\n",
       "      <td>1</td>\n",
       "      <td>2015-12-20</td>\n",
       "      <td>1.35</td>\n",
       "      <td>54876.98</td>\n",
       "      <td>674.28</td>\n",
       "      <td>44638.81</td>\n",
       "      <td>58.33</td>\n",
       "      <td>9505.56</td>\n",
       "      <td>9408.07</td>\n",
       "      <td>97.49</td>\n",
       "      <td>0.0</td>\n",
       "      <td>conventional</td>\n",
       "      <td>2015</td>\n",
       "      <td>Albany</td>\n",
       "    </tr>\n",
       "    <tr>\n",
       "      <th>2</th>\n",
       "      <td>2</td>\n",
       "      <td>2015-12-13</td>\n",
       "      <td>0.93</td>\n",
       "      <td>118220.22</td>\n",
       "      <td>794.70</td>\n",
       "      <td>109149.67</td>\n",
       "      <td>130.50</td>\n",
       "      <td>8145.35</td>\n",
       "      <td>8042.21</td>\n",
       "      <td>103.14</td>\n",
       "      <td>0.0</td>\n",
       "      <td>conventional</td>\n",
       "      <td>2015</td>\n",
       "      <td>Albany</td>\n",
       "    </tr>\n",
       "    <tr>\n",
       "      <th>3</th>\n",
       "      <td>3</td>\n",
       "      <td>2015-12-06</td>\n",
       "      <td>1.08</td>\n",
       "      <td>78992.15</td>\n",
       "      <td>1132.00</td>\n",
       "      <td>71976.41</td>\n",
       "      <td>72.58</td>\n",
       "      <td>5811.16</td>\n",
       "      <td>5677.40</td>\n",
       "      <td>133.76</td>\n",
       "      <td>0.0</td>\n",
       "      <td>conventional</td>\n",
       "      <td>2015</td>\n",
       "      <td>Albany</td>\n",
       "    </tr>\n",
       "    <tr>\n",
       "      <th>4</th>\n",
       "      <td>4</td>\n",
       "      <td>2015-11-29</td>\n",
       "      <td>1.28</td>\n",
       "      <td>51039.60</td>\n",
       "      <td>941.48</td>\n",
       "      <td>43838.39</td>\n",
       "      <td>75.78</td>\n",
       "      <td>6183.95</td>\n",
       "      <td>5986.26</td>\n",
       "      <td>197.69</td>\n",
       "      <td>0.0</td>\n",
       "      <td>conventional</td>\n",
       "      <td>2015</td>\n",
       "      <td>Albany</td>\n",
       "    </tr>\n",
       "  </tbody>\n",
       "</table>\n",
       "</div>"
      ],
      "text/plain": [
       "   Unnamed: 0        Date  AveragePrice  Total Volume     4046       4225  \\\n",
       "0           0  2015-12-27          1.33      64236.62  1036.74   54454.85   \n",
       "1           1  2015-12-20          1.35      54876.98   674.28   44638.81   \n",
       "2           2  2015-12-13          0.93     118220.22   794.70  109149.67   \n",
       "3           3  2015-12-06          1.08      78992.15  1132.00   71976.41   \n",
       "4           4  2015-11-29          1.28      51039.60   941.48   43838.39   \n",
       "\n",
       "     4770  Total Bags  Small Bags  Large Bags  XLarge Bags          type  \\\n",
       "0   48.16     8696.87     8603.62       93.25          0.0  conventional   \n",
       "1   58.33     9505.56     9408.07       97.49          0.0  conventional   \n",
       "2  130.50     8145.35     8042.21      103.14          0.0  conventional   \n",
       "3   72.58     5811.16     5677.40      133.76          0.0  conventional   \n",
       "4   75.78     6183.95     5986.26      197.69          0.0  conventional   \n",
       "\n",
       "   year  region  \n",
       "0  2015  Albany  \n",
       "1  2015  Albany  \n",
       "2  2015  Albany  \n",
       "3  2015  Albany  \n",
       "4  2015  Albany  "
      ]
     },
     "execution_count": 2,
     "metadata": {},
     "output_type": "execute_result"
    }
   ],
   "source": [
    "avocado_data = pd.read_csv(\"avocado.csv\")\n",
    "avocado_data.head()"
   ]
  },
  {
   "cell_type": "code",
   "execution_count": 3,
   "id": "f1e07e1f",
   "metadata": {},
   "outputs": [],
   "source": [
    "# Setting the column 'unnamed: 0' as index\n",
    "\n",
    "avocado_data = avocado_data.set_index('Unnamed: 0')"
   ]
  },
  {
   "cell_type": "code",
   "execution_count": 4,
   "id": "e373460a",
   "metadata": {},
   "outputs": [
    {
     "data": {
      "text/html": [
       "<div>\n",
       "<style scoped>\n",
       "    .dataframe tbody tr th:only-of-type {\n",
       "        vertical-align: middle;\n",
       "    }\n",
       "\n",
       "    .dataframe tbody tr th {\n",
       "        vertical-align: top;\n",
       "    }\n",
       "\n",
       "    .dataframe thead th {\n",
       "        text-align: right;\n",
       "    }\n",
       "</style>\n",
       "<table border=\"1\" class=\"dataframe\">\n",
       "  <thead>\n",
       "    <tr style=\"text-align: right;\">\n",
       "      <th></th>\n",
       "      <th>Date</th>\n",
       "      <th>AveragePrice</th>\n",
       "      <th>Total Volume</th>\n",
       "      <th>4046</th>\n",
       "      <th>4225</th>\n",
       "      <th>4770</th>\n",
       "      <th>Total Bags</th>\n",
       "      <th>Small Bags</th>\n",
       "      <th>Large Bags</th>\n",
       "      <th>XLarge Bags</th>\n",
       "      <th>type</th>\n",
       "      <th>year</th>\n",
       "      <th>region</th>\n",
       "    </tr>\n",
       "    <tr>\n",
       "      <th>Unnamed: 0</th>\n",
       "      <th></th>\n",
       "      <th></th>\n",
       "      <th></th>\n",
       "      <th></th>\n",
       "      <th></th>\n",
       "      <th></th>\n",
       "      <th></th>\n",
       "      <th></th>\n",
       "      <th></th>\n",
       "      <th></th>\n",
       "      <th></th>\n",
       "      <th></th>\n",
       "      <th></th>\n",
       "    </tr>\n",
       "  </thead>\n",
       "  <tbody>\n",
       "    <tr>\n",
       "      <th>0</th>\n",
       "      <td>2015-12-27</td>\n",
       "      <td>1.33</td>\n",
       "      <td>64236.62</td>\n",
       "      <td>1036.74</td>\n",
       "      <td>54454.85</td>\n",
       "      <td>48.16</td>\n",
       "      <td>8696.87</td>\n",
       "      <td>8603.62</td>\n",
       "      <td>93.25</td>\n",
       "      <td>0.0</td>\n",
       "      <td>conventional</td>\n",
       "      <td>2015</td>\n",
       "      <td>Albany</td>\n",
       "    </tr>\n",
       "    <tr>\n",
       "      <th>1</th>\n",
       "      <td>2015-12-20</td>\n",
       "      <td>1.35</td>\n",
       "      <td>54876.98</td>\n",
       "      <td>674.28</td>\n",
       "      <td>44638.81</td>\n",
       "      <td>58.33</td>\n",
       "      <td>9505.56</td>\n",
       "      <td>9408.07</td>\n",
       "      <td>97.49</td>\n",
       "      <td>0.0</td>\n",
       "      <td>conventional</td>\n",
       "      <td>2015</td>\n",
       "      <td>Albany</td>\n",
       "    </tr>\n",
       "    <tr>\n",
       "      <th>2</th>\n",
       "      <td>2015-12-13</td>\n",
       "      <td>0.93</td>\n",
       "      <td>118220.22</td>\n",
       "      <td>794.70</td>\n",
       "      <td>109149.67</td>\n",
       "      <td>130.50</td>\n",
       "      <td>8145.35</td>\n",
       "      <td>8042.21</td>\n",
       "      <td>103.14</td>\n",
       "      <td>0.0</td>\n",
       "      <td>conventional</td>\n",
       "      <td>2015</td>\n",
       "      <td>Albany</td>\n",
       "    </tr>\n",
       "    <tr>\n",
       "      <th>3</th>\n",
       "      <td>2015-12-06</td>\n",
       "      <td>1.08</td>\n",
       "      <td>78992.15</td>\n",
       "      <td>1132.00</td>\n",
       "      <td>71976.41</td>\n",
       "      <td>72.58</td>\n",
       "      <td>5811.16</td>\n",
       "      <td>5677.40</td>\n",
       "      <td>133.76</td>\n",
       "      <td>0.0</td>\n",
       "      <td>conventional</td>\n",
       "      <td>2015</td>\n",
       "      <td>Albany</td>\n",
       "    </tr>\n",
       "    <tr>\n",
       "      <th>4</th>\n",
       "      <td>2015-11-29</td>\n",
       "      <td>1.28</td>\n",
       "      <td>51039.60</td>\n",
       "      <td>941.48</td>\n",
       "      <td>43838.39</td>\n",
       "      <td>75.78</td>\n",
       "      <td>6183.95</td>\n",
       "      <td>5986.26</td>\n",
       "      <td>197.69</td>\n",
       "      <td>0.0</td>\n",
       "      <td>conventional</td>\n",
       "      <td>2015</td>\n",
       "      <td>Albany</td>\n",
       "    </tr>\n",
       "    <tr>\n",
       "      <th>...</th>\n",
       "      <td>...</td>\n",
       "      <td>...</td>\n",
       "      <td>...</td>\n",
       "      <td>...</td>\n",
       "      <td>...</td>\n",
       "      <td>...</td>\n",
       "      <td>...</td>\n",
       "      <td>...</td>\n",
       "      <td>...</td>\n",
       "      <td>...</td>\n",
       "      <td>...</td>\n",
       "      <td>...</td>\n",
       "      <td>...</td>\n",
       "    </tr>\n",
       "    <tr>\n",
       "      <th>7</th>\n",
       "      <td>2018-02-04</td>\n",
       "      <td>1.63</td>\n",
       "      <td>17074.83</td>\n",
       "      <td>2046.96</td>\n",
       "      <td>1529.20</td>\n",
       "      <td>0.00</td>\n",
       "      <td>13498.67</td>\n",
       "      <td>13066.82</td>\n",
       "      <td>431.85</td>\n",
       "      <td>0.0</td>\n",
       "      <td>organic</td>\n",
       "      <td>2018</td>\n",
       "      <td>WestTexNewMexico</td>\n",
       "    </tr>\n",
       "    <tr>\n",
       "      <th>8</th>\n",
       "      <td>2018-01-28</td>\n",
       "      <td>1.71</td>\n",
       "      <td>13888.04</td>\n",
       "      <td>1191.70</td>\n",
       "      <td>3431.50</td>\n",
       "      <td>0.00</td>\n",
       "      <td>9264.84</td>\n",
       "      <td>8940.04</td>\n",
       "      <td>324.80</td>\n",
       "      <td>0.0</td>\n",
       "      <td>organic</td>\n",
       "      <td>2018</td>\n",
       "      <td>WestTexNewMexico</td>\n",
       "    </tr>\n",
       "    <tr>\n",
       "      <th>9</th>\n",
       "      <td>2018-01-21</td>\n",
       "      <td>1.87</td>\n",
       "      <td>13766.76</td>\n",
       "      <td>1191.92</td>\n",
       "      <td>2452.79</td>\n",
       "      <td>727.94</td>\n",
       "      <td>9394.11</td>\n",
       "      <td>9351.80</td>\n",
       "      <td>42.31</td>\n",
       "      <td>0.0</td>\n",
       "      <td>organic</td>\n",
       "      <td>2018</td>\n",
       "      <td>WestTexNewMexico</td>\n",
       "    </tr>\n",
       "    <tr>\n",
       "      <th>10</th>\n",
       "      <td>2018-01-14</td>\n",
       "      <td>1.93</td>\n",
       "      <td>16205.22</td>\n",
       "      <td>1527.63</td>\n",
       "      <td>2981.04</td>\n",
       "      <td>727.01</td>\n",
       "      <td>10969.54</td>\n",
       "      <td>10919.54</td>\n",
       "      <td>50.00</td>\n",
       "      <td>0.0</td>\n",
       "      <td>organic</td>\n",
       "      <td>2018</td>\n",
       "      <td>WestTexNewMexico</td>\n",
       "    </tr>\n",
       "    <tr>\n",
       "      <th>11</th>\n",
       "      <td>2018-01-07</td>\n",
       "      <td>1.62</td>\n",
       "      <td>17489.58</td>\n",
       "      <td>2894.77</td>\n",
       "      <td>2356.13</td>\n",
       "      <td>224.53</td>\n",
       "      <td>12014.15</td>\n",
       "      <td>11988.14</td>\n",
       "      <td>26.01</td>\n",
       "      <td>0.0</td>\n",
       "      <td>organic</td>\n",
       "      <td>2018</td>\n",
       "      <td>WestTexNewMexico</td>\n",
       "    </tr>\n",
       "  </tbody>\n",
       "</table>\n",
       "<p>18249 rows × 13 columns</p>\n",
       "</div>"
      ],
      "text/plain": [
       "                  Date  AveragePrice  Total Volume     4046       4225  \\\n",
       "Unnamed: 0                                                               \n",
       "0           2015-12-27          1.33      64236.62  1036.74   54454.85   \n",
       "1           2015-12-20          1.35      54876.98   674.28   44638.81   \n",
       "2           2015-12-13          0.93     118220.22   794.70  109149.67   \n",
       "3           2015-12-06          1.08      78992.15  1132.00   71976.41   \n",
       "4           2015-11-29          1.28      51039.60   941.48   43838.39   \n",
       "...                ...           ...           ...      ...        ...   \n",
       "7           2018-02-04          1.63      17074.83  2046.96    1529.20   \n",
       "8           2018-01-28          1.71      13888.04  1191.70    3431.50   \n",
       "9           2018-01-21          1.87      13766.76  1191.92    2452.79   \n",
       "10          2018-01-14          1.93      16205.22  1527.63    2981.04   \n",
       "11          2018-01-07          1.62      17489.58  2894.77    2356.13   \n",
       "\n",
       "              4770  Total Bags  Small Bags  Large Bags  XLarge Bags  \\\n",
       "Unnamed: 0                                                            \n",
       "0            48.16     8696.87     8603.62       93.25          0.0   \n",
       "1            58.33     9505.56     9408.07       97.49          0.0   \n",
       "2           130.50     8145.35     8042.21      103.14          0.0   \n",
       "3            72.58     5811.16     5677.40      133.76          0.0   \n",
       "4            75.78     6183.95     5986.26      197.69          0.0   \n",
       "...            ...         ...         ...         ...          ...   \n",
       "7             0.00    13498.67    13066.82      431.85          0.0   \n",
       "8             0.00     9264.84     8940.04      324.80          0.0   \n",
       "9           727.94     9394.11     9351.80       42.31          0.0   \n",
       "10          727.01    10969.54    10919.54       50.00          0.0   \n",
       "11          224.53    12014.15    11988.14       26.01          0.0   \n",
       "\n",
       "                    type  year            region  \n",
       "Unnamed: 0                                        \n",
       "0           conventional  2015            Albany  \n",
       "1           conventional  2015            Albany  \n",
       "2           conventional  2015            Albany  \n",
       "3           conventional  2015            Albany  \n",
       "4           conventional  2015            Albany  \n",
       "...                  ...   ...               ...  \n",
       "7                organic  2018  WestTexNewMexico  \n",
       "8                organic  2018  WestTexNewMexico  \n",
       "9                organic  2018  WestTexNewMexico  \n",
       "10               organic  2018  WestTexNewMexico  \n",
       "11               organic  2018  WestTexNewMexico  \n",
       "\n",
       "[18249 rows x 13 columns]"
      ]
     },
     "execution_count": 4,
     "metadata": {},
     "output_type": "execute_result"
    }
   ],
   "source": [
    "avocado_data"
   ]
  },
  {
   "cell_type": "markdown",
   "id": "7a420025",
   "metadata": {},
   "source": [
    "# What are the columns?"
   ]
  },
  {
   "cell_type": "code",
   "execution_count": 5,
   "id": "8f636143",
   "metadata": {},
   "outputs": [
    {
     "data": {
      "text/plain": [
       "Index(['Date', 'AveragePrice', 'Total Volume', '4046', '4225', '4770',\n",
       "       'Total Bags', 'Small Bags', 'Large Bags', 'XLarge Bags', 'type', 'year',\n",
       "       'region'],\n",
       "      dtype='object')"
      ]
     },
     "execution_count": 5,
     "metadata": {},
     "output_type": "execute_result"
    }
   ],
   "source": [
    "avocado_data.columns"
   ]
  },
  {
   "cell_type": "markdown",
   "id": "e941f67f",
   "metadata": {},
   "source": [
    "# Size of the data:"
   ]
  },
  {
   "cell_type": "code",
   "execution_count": 6,
   "id": "c35b89d0",
   "metadata": {},
   "outputs": [
    {
     "data": {
      "text/plain": [
       "(18249, 13)"
      ]
     },
     "execution_count": 6,
     "metadata": {},
     "output_type": "execute_result"
    }
   ],
   "source": [
    "avocado_data.shape"
   ]
  },
  {
   "cell_type": "code",
   "execution_count": 7,
   "id": "80df4ec3",
   "metadata": {},
   "outputs": [],
   "source": [
    "# Observation: Here we can see that the dataset consists of 18249 rows and 13 columns."
   ]
  },
  {
   "cell_type": "markdown",
   "id": "b3f7758c",
   "metadata": {},
   "source": [
    "# What are the different datatypes present?"
   ]
  },
  {
   "cell_type": "code",
   "execution_count": 8,
   "id": "cc4900b4",
   "metadata": {},
   "outputs": [
    {
     "data": {
      "text/plain": [
       "Date             object\n",
       "AveragePrice    float64\n",
       "Total Volume    float64\n",
       "4046            float64\n",
       "4225            float64\n",
       "4770            float64\n",
       "Total Bags      float64\n",
       "Small Bags      float64\n",
       "Large Bags      float64\n",
       "XLarge Bags     float64\n",
       "type             object\n",
       "year              int64\n",
       "region           object\n",
       "dtype: object"
      ]
     },
     "execution_count": 8,
     "metadata": {},
     "output_type": "execute_result"
    }
   ],
   "source": [
    "avocado_data.dtypes"
   ]
  },
  {
   "cell_type": "code",
   "execution_count": 9,
   "id": "15145d4e",
   "metadata": {},
   "outputs": [],
   "source": [
    "# Observation: Here we can see that few columns are with \"object datatype\", mostly are with \"float datatype\" and only a single\n",
    "# column is with \"int data type\"."
   ]
  },
  {
   "cell_type": "markdown",
   "id": "ad41a922",
   "metadata": {},
   "source": [
    "# Information of the data:"
   ]
  },
  {
   "cell_type": "code",
   "execution_count": 10,
   "id": "d6e35dca",
   "metadata": {},
   "outputs": [
    {
     "name": "stdout",
     "output_type": "stream",
     "text": [
      "<class 'pandas.core.frame.DataFrame'>\n",
      "Int64Index: 18249 entries, 0 to 11\n",
      "Data columns (total 13 columns):\n",
      " #   Column        Non-Null Count  Dtype  \n",
      "---  ------        --------------  -----  \n",
      " 0   Date          18249 non-null  object \n",
      " 1   AveragePrice  18249 non-null  float64\n",
      " 2   Total Volume  18249 non-null  float64\n",
      " 3   4046          18249 non-null  float64\n",
      " 4   4225          18249 non-null  float64\n",
      " 5   4770          18249 non-null  float64\n",
      " 6   Total Bags    18249 non-null  float64\n",
      " 7   Small Bags    18249 non-null  float64\n",
      " 8   Large Bags    18249 non-null  float64\n",
      " 9   XLarge Bags   18249 non-null  float64\n",
      " 10  type          18249 non-null  object \n",
      " 11  year          18249 non-null  int64  \n",
      " 12  region        18249 non-null  object \n",
      "dtypes: float64(9), int64(1), object(3)\n",
      "memory usage: 1.9+ MB\n"
     ]
    }
   ],
   "source": [
    "avocado_data.info()"
   ]
  },
  {
   "cell_type": "code",
   "execution_count": 11,
   "id": "9f1b9a1a",
   "metadata": {},
   "outputs": [],
   "source": [
    "# Observation: Here we can see that there are no null-values in any of the columns."
   ]
  },
  {
   "cell_type": "markdown",
   "id": "a2f61724",
   "metadata": {},
   "source": [
    "# Checking the null-values in the data:"
   ]
  },
  {
   "cell_type": "code",
   "execution_count": 12,
   "id": "6fbbf080",
   "metadata": {},
   "outputs": [
    {
     "data": {
      "text/plain": [
       "Date            0\n",
       "AveragePrice    0\n",
       "Total Volume    0\n",
       "4046            0\n",
       "4225            0\n",
       "4770            0\n",
       "Total Bags      0\n",
       "Small Bags      0\n",
       "Large Bags      0\n",
       "XLarge Bags     0\n",
       "type            0\n",
       "year            0\n",
       "region          0\n",
       "dtype: int64"
      ]
     },
     "execution_count": 12,
     "metadata": {},
     "output_type": "execute_result"
    }
   ],
   "source": [
    "avocado_data.isnull().sum()"
   ]
  },
  {
   "cell_type": "code",
   "execution_count": 13,
   "id": "5115fbc2",
   "metadata": {},
   "outputs": [],
   "source": [
    "# Observation: Here we can see that there are \"0\" null-values in all the columns."
   ]
  },
  {
   "cell_type": "markdown",
   "id": "29c29f69",
   "metadata": {},
   "source": [
    "# Finding null/missing values if any:"
   ]
  },
  {
   "cell_type": "code",
   "execution_count": 14,
   "id": "0bd0cea5",
   "metadata": {},
   "outputs": [
    {
     "data": {
      "text/plain": [
       "False"
      ]
     },
     "execution_count": 14,
     "metadata": {},
     "output_type": "execute_result"
    }
   ],
   "source": [
    "avocado_data.isnull().values.any()"
   ]
  },
  {
   "cell_type": "code",
   "execution_count": 15,
   "id": "6d7b0683",
   "metadata": {},
   "outputs": [],
   "source": [
    "# observation: Here also we can see that there are also no missing values."
   ]
  },
  {
   "cell_type": "markdown",
   "id": "e5bb8d5e",
   "metadata": {},
   "source": [
    "# Statistical Information of the data:"
   ]
  },
  {
   "cell_type": "code",
   "execution_count": 16,
   "id": "cce5087f",
   "metadata": {},
   "outputs": [
    {
     "data": {
      "text/html": [
       "<div>\n",
       "<style scoped>\n",
       "    .dataframe tbody tr th:only-of-type {\n",
       "        vertical-align: middle;\n",
       "    }\n",
       "\n",
       "    .dataframe tbody tr th {\n",
       "        vertical-align: top;\n",
       "    }\n",
       "\n",
       "    .dataframe thead th {\n",
       "        text-align: right;\n",
       "    }\n",
       "</style>\n",
       "<table border=\"1\" class=\"dataframe\">\n",
       "  <thead>\n",
       "    <tr style=\"text-align: right;\">\n",
       "      <th></th>\n",
       "      <th>AveragePrice</th>\n",
       "      <th>Total Volume</th>\n",
       "      <th>4046</th>\n",
       "      <th>4225</th>\n",
       "      <th>4770</th>\n",
       "      <th>Total Bags</th>\n",
       "      <th>Small Bags</th>\n",
       "      <th>Large Bags</th>\n",
       "      <th>XLarge Bags</th>\n",
       "      <th>year</th>\n",
       "    </tr>\n",
       "  </thead>\n",
       "  <tbody>\n",
       "    <tr>\n",
       "      <th>count</th>\n",
       "      <td>18249.000000</td>\n",
       "      <td>1.824900e+04</td>\n",
       "      <td>1.824900e+04</td>\n",
       "      <td>1.824900e+04</td>\n",
       "      <td>1.824900e+04</td>\n",
       "      <td>1.824900e+04</td>\n",
       "      <td>1.824900e+04</td>\n",
       "      <td>1.824900e+04</td>\n",
       "      <td>18249.000000</td>\n",
       "      <td>18249.000000</td>\n",
       "    </tr>\n",
       "    <tr>\n",
       "      <th>mean</th>\n",
       "      <td>1.405978</td>\n",
       "      <td>8.506440e+05</td>\n",
       "      <td>2.930084e+05</td>\n",
       "      <td>2.951546e+05</td>\n",
       "      <td>2.283974e+04</td>\n",
       "      <td>2.396392e+05</td>\n",
       "      <td>1.821947e+05</td>\n",
       "      <td>5.433809e+04</td>\n",
       "      <td>3106.426507</td>\n",
       "      <td>2016.147899</td>\n",
       "    </tr>\n",
       "    <tr>\n",
       "      <th>std</th>\n",
       "      <td>0.402677</td>\n",
       "      <td>3.453545e+06</td>\n",
       "      <td>1.264989e+06</td>\n",
       "      <td>1.204120e+06</td>\n",
       "      <td>1.074641e+05</td>\n",
       "      <td>9.862424e+05</td>\n",
       "      <td>7.461785e+05</td>\n",
       "      <td>2.439660e+05</td>\n",
       "      <td>17692.894652</td>\n",
       "      <td>0.939938</td>\n",
       "    </tr>\n",
       "    <tr>\n",
       "      <th>min</th>\n",
       "      <td>0.440000</td>\n",
       "      <td>8.456000e+01</td>\n",
       "      <td>0.000000e+00</td>\n",
       "      <td>0.000000e+00</td>\n",
       "      <td>0.000000e+00</td>\n",
       "      <td>0.000000e+00</td>\n",
       "      <td>0.000000e+00</td>\n",
       "      <td>0.000000e+00</td>\n",
       "      <td>0.000000</td>\n",
       "      <td>2015.000000</td>\n",
       "    </tr>\n",
       "    <tr>\n",
       "      <th>25%</th>\n",
       "      <td>1.100000</td>\n",
       "      <td>1.083858e+04</td>\n",
       "      <td>8.540700e+02</td>\n",
       "      <td>3.008780e+03</td>\n",
       "      <td>0.000000e+00</td>\n",
       "      <td>5.088640e+03</td>\n",
       "      <td>2.849420e+03</td>\n",
       "      <td>1.274700e+02</td>\n",
       "      <td>0.000000</td>\n",
       "      <td>2015.000000</td>\n",
       "    </tr>\n",
       "    <tr>\n",
       "      <th>50%</th>\n",
       "      <td>1.370000</td>\n",
       "      <td>1.073768e+05</td>\n",
       "      <td>8.645300e+03</td>\n",
       "      <td>2.906102e+04</td>\n",
       "      <td>1.849900e+02</td>\n",
       "      <td>3.974383e+04</td>\n",
       "      <td>2.636282e+04</td>\n",
       "      <td>2.647710e+03</td>\n",
       "      <td>0.000000</td>\n",
       "      <td>2016.000000</td>\n",
       "    </tr>\n",
       "    <tr>\n",
       "      <th>75%</th>\n",
       "      <td>1.660000</td>\n",
       "      <td>4.329623e+05</td>\n",
       "      <td>1.110202e+05</td>\n",
       "      <td>1.502069e+05</td>\n",
       "      <td>6.243420e+03</td>\n",
       "      <td>1.107834e+05</td>\n",
       "      <td>8.333767e+04</td>\n",
       "      <td>2.202925e+04</td>\n",
       "      <td>132.500000</td>\n",
       "      <td>2017.000000</td>\n",
       "    </tr>\n",
       "    <tr>\n",
       "      <th>max</th>\n",
       "      <td>3.250000</td>\n",
       "      <td>6.250565e+07</td>\n",
       "      <td>2.274362e+07</td>\n",
       "      <td>2.047057e+07</td>\n",
       "      <td>2.546439e+06</td>\n",
       "      <td>1.937313e+07</td>\n",
       "      <td>1.338459e+07</td>\n",
       "      <td>5.719097e+06</td>\n",
       "      <td>551693.650000</td>\n",
       "      <td>2018.000000</td>\n",
       "    </tr>\n",
       "  </tbody>\n",
       "</table>\n",
       "</div>"
      ],
      "text/plain": [
       "       AveragePrice  Total Volume          4046          4225          4770  \\\n",
       "count  18249.000000  1.824900e+04  1.824900e+04  1.824900e+04  1.824900e+04   \n",
       "mean       1.405978  8.506440e+05  2.930084e+05  2.951546e+05  2.283974e+04   \n",
       "std        0.402677  3.453545e+06  1.264989e+06  1.204120e+06  1.074641e+05   \n",
       "min        0.440000  8.456000e+01  0.000000e+00  0.000000e+00  0.000000e+00   \n",
       "25%        1.100000  1.083858e+04  8.540700e+02  3.008780e+03  0.000000e+00   \n",
       "50%        1.370000  1.073768e+05  8.645300e+03  2.906102e+04  1.849900e+02   \n",
       "75%        1.660000  4.329623e+05  1.110202e+05  1.502069e+05  6.243420e+03   \n",
       "max        3.250000  6.250565e+07  2.274362e+07  2.047057e+07  2.546439e+06   \n",
       "\n",
       "         Total Bags    Small Bags    Large Bags    XLarge Bags          year  \n",
       "count  1.824900e+04  1.824900e+04  1.824900e+04   18249.000000  18249.000000  \n",
       "mean   2.396392e+05  1.821947e+05  5.433809e+04    3106.426507   2016.147899  \n",
       "std    9.862424e+05  7.461785e+05  2.439660e+05   17692.894652      0.939938  \n",
       "min    0.000000e+00  0.000000e+00  0.000000e+00       0.000000   2015.000000  \n",
       "25%    5.088640e+03  2.849420e+03  1.274700e+02       0.000000   2015.000000  \n",
       "50%    3.974383e+04  2.636282e+04  2.647710e+03       0.000000   2016.000000  \n",
       "75%    1.107834e+05  8.333767e+04  2.202925e+04     132.500000   2017.000000  \n",
       "max    1.937313e+07  1.338459e+07  5.719097e+06  551693.650000   2018.000000  "
      ]
     },
     "execution_count": 16,
     "metadata": {},
     "output_type": "execute_result"
    }
   ],
   "source": [
    "avocado_data.describe()"
   ]
  },
  {
   "cell_type": "code",
   "execution_count": 17,
   "id": "e654286a",
   "metadata": {},
   "outputs": [
    {
     "data": {
      "text/plain": [
       "False    18007\n",
       "True       242\n",
       "Name: 4046, dtype: int64"
      ]
     },
     "execution_count": 17,
     "metadata": {},
     "output_type": "execute_result"
    }
   ],
   "source": [
    "(avocado_data['4046']==0).value_counts()"
   ]
  },
  {
   "cell_type": "code",
   "execution_count": 18,
   "id": "a9ab06c2",
   "metadata": {},
   "outputs": [
    {
     "data": {
      "text/plain": [
       "False    18188\n",
       "True        61\n",
       "Name: 4225, dtype: int64"
      ]
     },
     "execution_count": 18,
     "metadata": {},
     "output_type": "execute_result"
    }
   ],
   "source": [
    "(avocado_data['4225']==0).value_counts()"
   ]
  },
  {
   "cell_type": "code",
   "execution_count": 19,
   "id": "91603db6",
   "metadata": {},
   "outputs": [
    {
     "data": {
      "text/plain": [
       "False    12752\n",
       "True      5497\n",
       "Name: 4770, dtype: int64"
      ]
     },
     "execution_count": 19,
     "metadata": {},
     "output_type": "execute_result"
    }
   ],
   "source": [
    "(avocado_data['4770']==0).value_counts()"
   ]
  },
  {
   "cell_type": "code",
   "execution_count": 20,
   "id": "bd3eeb68",
   "metadata": {},
   "outputs": [
    {
     "data": {
      "text/plain": [
       "False    18234\n",
       "True        15\n",
       "Name: Total Bags, dtype: int64"
      ]
     },
     "execution_count": 20,
     "metadata": {},
     "output_type": "execute_result"
    }
   ],
   "source": [
    "(avocado_data['Total Bags']==0).value_counts()"
   ]
  },
  {
   "cell_type": "code",
   "execution_count": 21,
   "id": "81e408e1",
   "metadata": {},
   "outputs": [
    {
     "data": {
      "text/plain": [
       "False    18090\n",
       "True       159\n",
       "Name: Small Bags, dtype: int64"
      ]
     },
     "execution_count": 21,
     "metadata": {},
     "output_type": "execute_result"
    }
   ],
   "source": [
    "(avocado_data['Small Bags']==0).value_counts()"
   ]
  },
  {
   "cell_type": "code",
   "execution_count": 22,
   "id": "c1f3502c",
   "metadata": {},
   "outputs": [
    {
     "data": {
      "text/plain": [
       "False    15879\n",
       "True      2370\n",
       "Name: Large Bags, dtype: int64"
      ]
     },
     "execution_count": 22,
     "metadata": {},
     "output_type": "execute_result"
    }
   ],
   "source": [
    "(avocado_data['Large Bags']==0).value_counts()"
   ]
  },
  {
   "cell_type": "code",
   "execution_count": 23,
   "id": "3f1b6033",
   "metadata": {},
   "outputs": [
    {
     "data": {
      "text/plain": [
       "True     12048\n",
       "False     6201\n",
       "Name: XLarge Bags, dtype: int64"
      ]
     },
     "execution_count": 23,
     "metadata": {},
     "output_type": "execute_result"
    }
   ],
   "source": [
    "(avocado_data['XLarge Bags']==0).value_counts()"
   ]
  },
  {
   "cell_type": "code",
   "execution_count": 24,
   "id": "6579fbe3",
   "metadata": {},
   "outputs": [
    {
     "data": {
      "text/plain": [
       "False    18249\n",
       "Name: year, dtype: int64"
      ]
     },
     "execution_count": 24,
     "metadata": {},
     "output_type": "execute_result"
    }
   ],
   "source": [
    "(avocado_data['year']==0).value_counts()"
   ]
  },
  {
   "cell_type": "code",
   "execution_count": 25,
   "id": "68612b83",
   "metadata": {},
   "outputs": [
    {
     "data": {
      "text/plain": [
       "False    18249\n",
       "Name: AveragePrice, dtype: int64"
      ]
     },
     "execution_count": 25,
     "metadata": {},
     "output_type": "execute_result"
    }
   ],
   "source": [
    "(avocado_data['AveragePrice']==0).value_counts()"
   ]
  },
  {
   "cell_type": "code",
   "execution_count": 26,
   "id": "4e5d14a4",
   "metadata": {},
   "outputs": [],
   "source": [
    "# Observation: Here we can see that there are only 2 columns which doesnot have \"0\" as the value in them rest all the columns have\n",
    "# their minimum value as \"0\"."
   ]
  },
  {
   "cell_type": "code",
   "execution_count": 27,
   "id": "e204485d",
   "metadata": {},
   "outputs": [
    {
     "data": {
      "text/plain": [
       "<AxesSubplot:ylabel='Unnamed: 0'>"
      ]
     },
     "execution_count": 27,
     "metadata": {},
     "output_type": "execute_result"
    },
    {
     "data": {
      "image/png": "[encoded data removed]",
      "text/plain": [
       "<Figure size 432x288 with 2 Axes>"
      ]
     },
     "metadata": {
      "needs_background": "light"
     },
     "output_type": "display_data"
    }
   ],
   "source": [
    "sns.heatmap(avocado_data.isnull())"
   ]
  },
  {
   "cell_type": "code",
   "execution_count": 28,
   "id": "fcebb5a1",
   "metadata": {},
   "outputs": [],
   "source": [
    "# observation: Here we can see that there are no null-values seen in the graph."
   ]
  },
  {
   "cell_type": "code",
   "execution_count": 29,
   "id": "7485ef8a",
   "metadata": {},
   "outputs": [],
   "source": [
    "region_count = pd.DataFrame(avocado_data[\"region\"].value_counts())"
   ]
  },
  {
   "cell_type": "code",
   "execution_count": 30,
   "id": "d3b9ff1c",
   "metadata": {},
   "outputs": [
    {
     "data": {
      "text/html": [
       "<div>\n",
       "<style scoped>\n",
       "    .dataframe tbody tr th:only-of-type {\n",
       "        vertical-align: middle;\n",
       "    }\n",
       "\n",
       "    .dataframe tbody tr th {\n",
       "        vertical-align: top;\n",
       "    }\n",
       "\n",
       "    .dataframe thead th {\n",
       "        text-align: right;\n",
       "    }\n",
       "</style>\n",
       "<table border=\"1\" class=\"dataframe\">\n",
       "  <thead>\n",
       "    <tr style=\"text-align: right;\">\n",
       "      <th></th>\n",
       "      <th>region</th>\n",
       "    </tr>\n",
       "  </thead>\n",
       "  <tbody>\n",
       "    <tr>\n",
       "      <th>Albany</th>\n",
       "      <td>338</td>\n",
       "    </tr>\n",
       "    <tr>\n",
       "      <th>Sacramento</th>\n",
       "      <td>338</td>\n",
       "    </tr>\n",
       "    <tr>\n",
       "      <th>Northeast</th>\n",
       "      <td>338</td>\n",
       "    </tr>\n",
       "    <tr>\n",
       "      <th>NorthernNewEngland</th>\n",
       "      <td>338</td>\n",
       "    </tr>\n",
       "    <tr>\n",
       "      <th>Orlando</th>\n",
       "      <td>338</td>\n",
       "    </tr>\n",
       "    <tr>\n",
       "      <th>Philadelphia</th>\n",
       "      <td>338</td>\n",
       "    </tr>\n",
       "    <tr>\n",
       "      <th>PhoenixTucson</th>\n",
       "      <td>338</td>\n",
       "    </tr>\n",
       "    <tr>\n",
       "      <th>Pittsburgh</th>\n",
       "      <td>338</td>\n",
       "    </tr>\n",
       "    <tr>\n",
       "      <th>Plains</th>\n",
       "      <td>338</td>\n",
       "    </tr>\n",
       "    <tr>\n",
       "      <th>Portland</th>\n",
       "      <td>338</td>\n",
       "    </tr>\n",
       "    <tr>\n",
       "      <th>RaleighGreensboro</th>\n",
       "      <td>338</td>\n",
       "    </tr>\n",
       "    <tr>\n",
       "      <th>RichmondNorfolk</th>\n",
       "      <td>338</td>\n",
       "    </tr>\n",
       "    <tr>\n",
       "      <th>Roanoke</th>\n",
       "      <td>338</td>\n",
       "    </tr>\n",
       "    <tr>\n",
       "      <th>SanDiego</th>\n",
       "      <td>338</td>\n",
       "    </tr>\n",
       "    <tr>\n",
       "      <th>Atlanta</th>\n",
       "      <td>338</td>\n",
       "    </tr>\n",
       "    <tr>\n",
       "      <th>SanFrancisco</th>\n",
       "      <td>338</td>\n",
       "    </tr>\n",
       "    <tr>\n",
       "      <th>Seattle</th>\n",
       "      <td>338</td>\n",
       "    </tr>\n",
       "    <tr>\n",
       "      <th>SouthCarolina</th>\n",
       "      <td>338</td>\n",
       "    </tr>\n",
       "    <tr>\n",
       "      <th>SouthCentral</th>\n",
       "      <td>338</td>\n",
       "    </tr>\n",
       "    <tr>\n",
       "      <th>Southeast</th>\n",
       "      <td>338</td>\n",
       "    </tr>\n",
       "    <tr>\n",
       "      <th>Spokane</th>\n",
       "      <td>338</td>\n",
       "    </tr>\n",
       "    <tr>\n",
       "      <th>StLouis</th>\n",
       "      <td>338</td>\n",
       "    </tr>\n",
       "    <tr>\n",
       "      <th>Syracuse</th>\n",
       "      <td>338</td>\n",
       "    </tr>\n",
       "    <tr>\n",
       "      <th>Tampa</th>\n",
       "      <td>338</td>\n",
       "    </tr>\n",
       "    <tr>\n",
       "      <th>TotalUS</th>\n",
       "      <td>338</td>\n",
       "    </tr>\n",
       "    <tr>\n",
       "      <th>West</th>\n",
       "      <td>338</td>\n",
       "    </tr>\n",
       "    <tr>\n",
       "      <th>NewYork</th>\n",
       "      <td>338</td>\n",
       "    </tr>\n",
       "    <tr>\n",
       "      <th>NewOrleansMobile</th>\n",
       "      <td>338</td>\n",
       "    </tr>\n",
       "    <tr>\n",
       "      <th>Nashville</th>\n",
       "      <td>338</td>\n",
       "    </tr>\n",
       "    <tr>\n",
       "      <th>Midsouth</th>\n",
       "      <td>338</td>\n",
       "    </tr>\n",
       "    <tr>\n",
       "      <th>BaltimoreWashington</th>\n",
       "      <td>338</td>\n",
       "    </tr>\n",
       "    <tr>\n",
       "      <th>Boise</th>\n",
       "      <td>338</td>\n",
       "    </tr>\n",
       "    <tr>\n",
       "      <th>Boston</th>\n",
       "      <td>338</td>\n",
       "    </tr>\n",
       "    <tr>\n",
       "      <th>BuffaloRochester</th>\n",
       "      <td>338</td>\n",
       "    </tr>\n",
       "    <tr>\n",
       "      <th>California</th>\n",
       "      <td>338</td>\n",
       "    </tr>\n",
       "    <tr>\n",
       "      <th>Charlotte</th>\n",
       "      <td>338</td>\n",
       "    </tr>\n",
       "    <tr>\n",
       "      <th>Chicago</th>\n",
       "      <td>338</td>\n",
       "    </tr>\n",
       "    <tr>\n",
       "      <th>CincinnatiDayton</th>\n",
       "      <td>338</td>\n",
       "    </tr>\n",
       "    <tr>\n",
       "      <th>Columbus</th>\n",
       "      <td>338</td>\n",
       "    </tr>\n",
       "    <tr>\n",
       "      <th>DallasFtWorth</th>\n",
       "      <td>338</td>\n",
       "    </tr>\n",
       "    <tr>\n",
       "      <th>Denver</th>\n",
       "      <td>338</td>\n",
       "    </tr>\n",
       "    <tr>\n",
       "      <th>Detroit</th>\n",
       "      <td>338</td>\n",
       "    </tr>\n",
       "    <tr>\n",
       "      <th>GrandRapids</th>\n",
       "      <td>338</td>\n",
       "    </tr>\n",
       "    <tr>\n",
       "      <th>GreatLakes</th>\n",
       "      <td>338</td>\n",
       "    </tr>\n",
       "    <tr>\n",
       "      <th>HarrisburgScranton</th>\n",
       "      <td>338</td>\n",
       "    </tr>\n",
       "    <tr>\n",
       "      <th>HartfordSpringfield</th>\n",
       "      <td>338</td>\n",
       "    </tr>\n",
       "    <tr>\n",
       "      <th>Houston</th>\n",
       "      <td>338</td>\n",
       "    </tr>\n",
       "    <tr>\n",
       "      <th>Indianapolis</th>\n",
       "      <td>338</td>\n",
       "    </tr>\n",
       "    <tr>\n",
       "      <th>Jacksonville</th>\n",
       "      <td>338</td>\n",
       "    </tr>\n",
       "    <tr>\n",
       "      <th>LasVegas</th>\n",
       "      <td>338</td>\n",
       "    </tr>\n",
       "    <tr>\n",
       "      <th>LosAngeles</th>\n",
       "      <td>338</td>\n",
       "    </tr>\n",
       "    <tr>\n",
       "      <th>Louisville</th>\n",
       "      <td>338</td>\n",
       "    </tr>\n",
       "    <tr>\n",
       "      <th>MiamiFtLauderdale</th>\n",
       "      <td>338</td>\n",
       "    </tr>\n",
       "    <tr>\n",
       "      <th>WestTexNewMexico</th>\n",
       "      <td>335</td>\n",
       "    </tr>\n",
       "  </tbody>\n",
       "</table>\n",
       "</div>"
      ],
      "text/plain": [
       "                     region\n",
       "Albany                  338\n",
       "Sacramento              338\n",
       "Northeast               338\n",
       "NorthernNewEngland      338\n",
       "Orlando                 338\n",
       "Philadelphia            338\n",
       "PhoenixTucson           338\n",
       "Pittsburgh              338\n",
       "Plains                  338\n",
       "Portland                338\n",
       "RaleighGreensboro       338\n",
       "RichmondNorfolk         338\n",
       "Roanoke                 338\n",
       "SanDiego                338\n",
       "Atlanta                 338\n",
       "SanFrancisco            338\n",
       "Seattle                 338\n",
       "SouthCarolina           338\n",
       "SouthCentral            338\n",
       "Southeast               338\n",
       "Spokane                 338\n",
       "StLouis                 338\n",
       "Syracuse                338\n",
       "Tampa                   338\n",
       "TotalUS                 338\n",
       "West                    338\n",
       "NewYork                 338\n",
       "NewOrleansMobile        338\n",
       "Nashville               338\n",
       "Midsouth                338\n",
       "BaltimoreWashington     338\n",
       "Boise                   338\n",
       "Boston                  338\n",
       "BuffaloRochester        338\n",
       "California              338\n",
       "Charlotte               338\n",
       "Chicago                 338\n",
       "CincinnatiDayton        338\n",
       "Columbus                338\n",
       "DallasFtWorth           338\n",
       "Denver                  338\n",
       "Detroit                 338\n",
       "GrandRapids             338\n",
       "GreatLakes              338\n",
       "HarrisburgScranton      338\n",
       "HartfordSpringfield     338\n",
       "Houston                 338\n",
       "Indianapolis            338\n",
       "Jacksonville            338\n",
       "LasVegas                338\n",
       "LosAngeles              338\n",
       "Louisville              338\n",
       "MiamiFtLauderdale       338\n",
       "WestTexNewMexico        335"
      ]
     },
     "execution_count": 30,
     "metadata": {},
     "output_type": "execute_result"
    }
   ],
   "source": [
    "region_count"
   ]
  },
  {
   "cell_type": "code",
   "execution_count": 31,
   "id": "0c86b983",
   "metadata": {},
   "outputs": [],
   "source": [
    "# observation: here we can see that the allthe regions are with certain count of avocados."
   ]
  },
  {
   "cell_type": "markdown",
   "id": "bbb94255",
   "metadata": {},
   "source": [
    "# Exploratory data analysis:"
   ]
  },
  {
   "cell_type": "markdown",
   "id": "dc5960d0",
   "metadata": {},
   "source": [
    "## Visualization:"
   ]
  },
  {
   "cell_type": "markdown",
   "id": "a16e974a",
   "metadata": {},
   "source": [
    "## Univariate Analysis:"
   ]
  },
  {
   "cell_type": "code",
   "execution_count": 32,
   "id": "5aba4564",
   "metadata": {},
   "outputs": [
    {
     "data": {
      "text/plain": [
       "Index(['Date', 'AveragePrice', 'Total Volume', '4046', '4225', '4770',\n",
       "       'Total Bags', 'Small Bags', 'Large Bags', 'XLarge Bags', 'type', 'year',\n",
       "       'region'],\n",
       "      dtype='object')"
      ]
     },
     "execution_count": 32,
     "metadata": {},
     "output_type": "execute_result"
    }
   ],
   "source": [
    "avocado_data.columns"
   ]
  },
  {
   "cell_type": "markdown",
   "id": "d8db5fa9",
   "metadata": {},
   "source": [
    "# Date:"
   ]
  },
  {
   "cell_type": "code",
   "execution_count": 33,
   "id": "ab256c61",
   "metadata": {},
   "outputs": [
    {
     "data": {
      "image/png": "[encoded data removed]",
      "text/plain": [
       "<Figure size 2160x720 with 1 Axes>"
      ]
     },
     "metadata": {
      "needs_background": "light"
     },
     "output_type": "display_data"
    }
   ],
   "source": [
    "plt.figure(figsize=(30,10))\n",
    "sns.countplot(avocado_data.Date);"
   ]
  },
  {
   "cell_type": "code",
   "execution_count": 34,
   "id": "50cb269f",
   "metadata": {},
   "outputs": [],
   "source": [
    "# Observation: here we can see that the count is almost same in all the dates. Here as the graph is unaffective and does not show any\n",
    "# affects on the model so we can drop this column."
   ]
  },
  {
   "cell_type": "markdown",
   "id": "6427a4c9",
   "metadata": {},
   "source": [
    "# AveragePrice:"
   ]
  },
  {
   "cell_type": "code",
   "execution_count": 35,
   "id": "1d54d3ab",
   "metadata": {},
   "outputs": [
    {
     "data": {
      "image/png": "[encoded data removed]",
      "text/plain": [
       "<Figure size 864x576 with 3 Axes>"
      ]
     },
     "metadata": {
      "needs_background": "light"
     },
     "output_type": "display_data"
    }
   ],
   "source": [
    "plt.figure(figsize=(12,8))\n",
    "plt.subplot(2,2,1)\n",
    "sns.distplot(avocado_data['AveragePrice'], kde=False, bins=range(0, 31, 2));\n",
    "plt.subplot(2,2,2)\n",
    "sns.boxplot(avocado_data['AveragePrice']);\n",
    "plt.subplot(2,2,3)\n",
    "sns.distplot(avocado_data['AveragePrice']);"
   ]
  },
  {
   "cell_type": "code",
   "execution_count": 36,
   "id": "00c5a5f7",
   "metadata": {},
   "outputs": [],
   "source": [
    "# Observation: here we can see that there are outliers present in the boxplot and the curve classifies at its peak. Probably the\n",
    "# outliers have to be treated if not the accuracy of our model may be affected."
   ]
  },
  {
   "cell_type": "markdown",
   "id": "f4507638",
   "metadata": {},
   "source": [
    "# Total Volume:"
   ]
  },
  {
   "cell_type": "code",
   "execution_count": 37,
   "id": "e0ad8b32",
   "metadata": {},
   "outputs": [
    {
     "data": {
      "image/png": "[encoded data removed]",
      "text/plain": [
       "<Figure size 864x576 with 2 Axes>"
      ]
     },
     "metadata": {
      "needs_background": "light"
     },
     "output_type": "display_data"
    }
   ],
   "source": [
    "plt.figure(figsize=(12,8))\n",
    "plt.subplot(2,2,1)\n",
    "sns.boxplot(avocado_data['Total Volume']);\n",
    "plt.subplot(2,2,2)\n",
    "sns.distplot(avocado_data['Total Volume']);"
   ]
  },
  {
   "cell_type": "code",
   "execution_count": 38,
   "id": "990fa152",
   "metadata": {},
   "outputs": [],
   "source": [
    "# Observation: here we can see that there are outliers which can be seen in the \"Total Volume\" column and the distribution curve\n",
    "# is not at all normal."
   ]
  },
  {
   "cell_type": "markdown",
   "id": "909dee62",
   "metadata": {},
   "source": [
    "# 4046:"
   ]
  },
  {
   "cell_type": "code",
   "execution_count": 39,
   "id": "f7f7487e",
   "metadata": {},
   "outputs": [
    {
     "data": {
      "image/png": "[encoded data removed]",
      "text/plain": [
       "<Figure size 864x576 with 2 Axes>"
      ]
     },
     "metadata": {
      "needs_background": "light"
     },
     "output_type": "display_data"
    }
   ],
   "source": [
    "# 4046\n",
    "plt.figure(figsize=(12,8))\n",
    "plt.subplot(2,2,1)\n",
    "sns.boxplot(avocado_data['4046']);\n",
    "plt.subplot(2,2,2)\n",
    "sns.distplot(avocado_data['4046']);"
   ]
  },
  {
   "cell_type": "code",
   "execution_count": 40,
   "id": "ed930843",
   "metadata": {},
   "outputs": [],
   "source": [
    "# Observation: Here we can see that there are many outliers present in this column which can be seen in the boxplot and the \n",
    "# distribution curve is not at all normal and seems to be same like the column \"TotalVolume\"."
   ]
  },
  {
   "cell_type": "markdown",
   "id": "8895431c",
   "metadata": {},
   "source": [
    "# 4225:"
   ]
  },
  {
   "cell_type": "code",
   "execution_count": 41,
   "id": "8c521264",
   "metadata": {},
   "outputs": [
    {
     "data": {
      "image/png": "[encoded data removed]",
      "text/plain": [
       "<Figure size 864x576 with 2 Axes>"
      ]
     },
     "metadata": {
      "needs_background": "light"
     },
     "output_type": "display_data"
    }
   ],
   "source": [
    "# 4225\n",
    "\n",
    "plt.figure(figsize=(12,8))\n",
    "plt.subplot(2,2,1)\n",
    "sns.boxplot(avocado_data['4225']);\n",
    "plt.subplot(2,2,2)\n",
    "sns.distplot(avocado_data['4225']);"
   ]
  },
  {
   "cell_type": "code",
   "execution_count": 42,
   "id": "f742e8c6",
   "metadata": {},
   "outputs": [],
   "source": [
    "# Observation: Here we can see that there are many outliers present in this column which can be seen in the boxplot and the \n",
    "# distribution curve is not at all normal and seems to be same like the column \"TotalVolume\",\"4046\"."
   ]
  },
  {
   "cell_type": "markdown",
   "id": "3a81bad3",
   "metadata": {},
   "source": [
    "# 4770:"
   ]
  },
  {
   "cell_type": "code",
   "execution_count": 43,
   "id": "94488757",
   "metadata": {},
   "outputs": [
    {
     "data": {
      "image/png": "[encoded data removed]",
      "text/plain": [
       "<Figure size 864x576 with 2 Axes>"
      ]
     },
     "metadata": {
      "needs_background": "light"
     },
     "output_type": "display_data"
    }
   ],
   "source": [
    "# 4770\n",
    "\n",
    "plt.figure(figsize=(12,8))\n",
    "plt.subplot(2,2,1)\n",
    "sns.boxplot(avocado_data['4770']);\n",
    "plt.subplot(2,2,2)\n",
    "sns.distplot(avocado_data['4770']);"
   ]
  },
  {
   "cell_type": "code",
   "execution_count": 44,
   "id": "ac6ebb7c",
   "metadata": {},
   "outputs": [],
   "source": [
    "# Observation: Here we can see that there are many outliers present in this column which can be seen in the boxplot and the \n",
    "# distribution curve is not at all normal and seems to be same like the column \"TotalVolume\",\"4046\",\"4225\"."
   ]
  },
  {
   "cell_type": "markdown",
   "id": "63caf37e",
   "metadata": {},
   "source": [
    "# Total Bags:"
   ]
  },
  {
   "cell_type": "code",
   "execution_count": 45,
   "id": "ee1d45d5",
   "metadata": {},
   "outputs": [
    {
     "data": {
      "image/png": "[encoded data removed]",
      "text/plain": [
       "<Figure size 864x576 with 2 Axes>"
      ]
     },
     "metadata": {
      "needs_background": "light"
     },
     "output_type": "display_data"
    }
   ],
   "source": [
    "# Total Bags\n",
    "\n",
    "plt.figure(figsize=(12,8))\n",
    "plt.subplot(2,2,1)\n",
    "sns.boxplot(avocado_data['Total Bags']);\n",
    "plt.subplot(2,2,2)\n",
    "sns.distplot(avocado_data['Total Bags']);"
   ]
  },
  {
   "cell_type": "code",
   "execution_count": 46,
   "id": "5ed4b805",
   "metadata": {},
   "outputs": [],
   "source": [
    "# Observation: Here we can see that there are many outliers present in this column which can be seen in the boxplot and the \n",
    "# distribution curve is not at all normal and seems to be same like the column \"TotalVolume\",\"4046\",\"4225\",\"4770\"."
   ]
  },
  {
   "cell_type": "markdown",
   "id": "e72db824",
   "metadata": {},
   "source": [
    "# Small Bags:"
   ]
  },
  {
   "cell_type": "code",
   "execution_count": 47,
   "id": "1d46de8d",
   "metadata": {},
   "outputs": [
    {
     "data": {
      "image/png": "[encoded data removed]",
      "text/plain": [
       "<Figure size 864x576 with 2 Axes>"
      ]
     },
     "metadata": {
      "needs_background": "light"
     },
     "output_type": "display_data"
    }
   ],
   "source": [
    "# Small Bags\n",
    "\n",
    "plt.figure(figsize=(12,8))\n",
    "plt.subplot(2,2,1)\n",
    "sns.boxplot(avocado_data['Small Bags']);\n",
    "plt.subplot(2,2,2)\n",
    "sns.distplot(avocado_data['Small Bags']);"
   ]
  },
  {
   "cell_type": "code",
   "execution_count": 48,
   "id": "52e305b4",
   "metadata": {},
   "outputs": [],
   "source": [
    "# Observation: Here we can see that there are many outliers present in this column which can be seen in the boxplot and the \n",
    "# distribution curve is not at all normal and seems to be same like the column \"TotalVolume\",\"4046\",\"4225\",\"4770\",\"Total Bags\"."
   ]
  },
  {
   "cell_type": "markdown",
   "id": "24d50b17",
   "metadata": {},
   "source": [
    "# XLarge Bags:"
   ]
  },
  {
   "cell_type": "code",
   "execution_count": 49,
   "id": "5d3d3d51",
   "metadata": {},
   "outputs": [
    {
     "data": {
      "image/png": "[encoded data removed]",
      "text/plain": [
       "<Figure size 864x576 with 2 Axes>"
      ]
     },
     "metadata": {
      "needs_background": "light"
     },
     "output_type": "display_data"
    }
   ],
   "source": [
    "#XLarge Bags\n",
    "\n",
    "plt.figure(figsize=(12,8))\n",
    "plt.subplot(2,2,1)\n",
    "sns.boxplot(avocado_data['XLarge Bags']);\n",
    "plt.subplot(2,2,2)\n",
    "sns.distplot(avocado_data['XLarge Bags']);"
   ]
  },
  {
   "cell_type": "code",
   "execution_count": 50,
   "id": "3b757d6b",
   "metadata": {},
   "outputs": [],
   "source": [
    "# Observation: Here we can see that there are many outliers present in this column which can be seen in the boxplot and the \n",
    "# distribution curve is not at all normal and seems to be same like the column \"TotalVolume\",\"4046\",\"4225\",\"4770\",\"Total Bags\"\n",
    "# \"Small Bags\"."
   ]
  },
  {
   "cell_type": "markdown",
   "id": "5e0cc4a5",
   "metadata": {},
   "source": [
    "# Large Bags:"
   ]
  },
  {
   "cell_type": "code",
   "execution_count": 51,
   "id": "b8a8e3e8",
   "metadata": {},
   "outputs": [
    {
     "data": {
      "image/png": "[encoded data removed]",
      "text/plain": [
       "<Figure size 864x576 with 2 Axes>"
      ]
     },
     "metadata": {
      "needs_background": "light"
     },
     "output_type": "display_data"
    }
   ],
   "source": [
    "plt.figure(figsize=(12,8))\n",
    "plt.subplot(2,2,1)\n",
    "sns.boxplot(avocado_data['Large Bags']);\n",
    "plt.subplot(2,2,2)\n",
    "sns.distplot(avocado_data['Large Bags']);"
   ]
  },
  {
   "cell_type": "code",
   "execution_count": 52,
   "id": "0d88ad73",
   "metadata": {},
   "outputs": [],
   "source": [
    "# Observation: Here we can see that there are many outliers present in this column which can be seen in the boxplot and the \n",
    "# distribution curve is not at all normal and seems to be same like the column \"TotalVolume\",\"4046\",\"4225\",\"4770\",\"Total Bags\"\n",
    "# \"Small Bags\",\"Xlarge Bags\"."
   ]
  },
  {
   "cell_type": "markdown",
   "id": "c10eb04c",
   "metadata": {},
   "source": [
    "# type:"
   ]
  },
  {
   "cell_type": "code",
   "execution_count": 53,
   "id": "5be9c720",
   "metadata": {},
   "outputs": [
    {
     "data": {
      "image/png": "[encoded data removed]",
      "text/plain": [
       "<Figure size 360x360 with 1 Axes>"
      ]
     },
     "metadata": {
      "needs_background": "light"
     },
     "output_type": "display_data"
    }
   ],
   "source": [
    "# type\n",
    "plt.figure(figsize=(5,5))\n",
    "sns.countplot(avocado_data.type);"
   ]
  },
  {
   "cell_type": "code",
   "execution_count": 54,
   "id": "98a5f6de",
   "metadata": {},
   "outputs": [],
   "source": [
    "# Observation: here we can see that there are almost same count of Conventional type and as well as organic type."
   ]
  },
  {
   "cell_type": "markdown",
   "id": "4e8f43c5",
   "metadata": {},
   "source": [
    "# year:"
   ]
  },
  {
   "cell_type": "code",
   "execution_count": 55,
   "id": "100666ff",
   "metadata": {},
   "outputs": [
    {
     "data": {
      "image/png": "[encoded data removed]",
      "text/plain": [
       "<Figure size 360x360 with 1 Axes>"
      ]
     },
     "metadata": {
      "needs_background": "light"
     },
     "output_type": "display_data"
    }
   ],
   "source": [
    "plt.figure(figsize=(5,5))\n",
    "sns.countplot(avocado_data.year);"
   ]
  },
  {
   "cell_type": "code",
   "execution_count": 56,
   "id": "20e2cc88",
   "metadata": {},
   "outputs": [],
   "source": [
    "# Observation: Here we can see that the count of \"avocados\" is highest in the year 2017 and is very low in the year 2018 and is\n",
    "# almost same in both the years 2015 and 2016."
   ]
  },
  {
   "cell_type": "markdown",
   "id": "6f16c0c8",
   "metadata": {},
   "source": [
    "# region:"
   ]
  },
  {
   "cell_type": "code",
   "execution_count": 57,
   "id": "b8a34451",
   "metadata": {},
   "outputs": [
    {
     "data": {
      "image/png": "[encoded data removed]",
      "text/plain": [
       "<Figure size 3960x1440 with 1 Axes>"
      ]
     },
     "metadata": {
      "needs_background": "light"
     },
     "output_type": "display_data"
    }
   ],
   "source": [
    "# region\n",
    "\n",
    "plt.figure(figsize=(55,20))\n",
    "sns.countplot(avocado_data.region);"
   ]
  },
  {
   "cell_type": "code",
   "execution_count": 58,
   "id": "1c5156c8",
   "metadata": {},
   "outputs": [],
   "source": [
    "# Observation: Here we can see that the count is almost same in all the regions."
   ]
  },
  {
   "cell_type": "markdown",
   "id": "8e82abb2",
   "metadata": {},
   "source": [
    "# Multivariate Analysis:"
   ]
  },
  {
   "cell_type": "markdown",
   "id": "f901b705",
   "metadata": {},
   "source": [
    "## Finding Correlation between the variables:"
   ]
  },
  {
   "cell_type": "code",
   "execution_count": 59,
   "id": "dc6123fd",
   "metadata": {},
   "outputs": [
    {
     "data": {
      "text/plain": [
       "Index(['Date', 'AveragePrice', 'Total Volume', '4046', '4225', '4770',\n",
       "       'Total Bags', 'Small Bags', 'Large Bags', 'XLarge Bags', 'type', 'year',\n",
       "       'region'],\n",
       "      dtype='object')"
      ]
     },
     "execution_count": 59,
     "metadata": {},
     "output_type": "execute_result"
    }
   ],
   "source": [
    "avocado_data.columns"
   ]
  },
  {
   "cell_type": "code",
   "execution_count": 60,
   "id": "60986442",
   "metadata": {},
   "outputs": [],
   "source": [
    "correlation = avocado_data.corr()"
   ]
  },
  {
   "cell_type": "code",
   "execution_count": 61,
   "id": "98105ff9",
   "metadata": {},
   "outputs": [
    {
     "data": {
      "image/png": "[encoded data removed]",
      "text/plain": [
       "<Figure size 2160x1440 with 2 Axes>"
      ]
     },
     "metadata": {
      "needs_background": "light"
     },
     "output_type": "display_data"
    }
   ],
   "source": [
    "plt.figure(figsize =(30,20))\n",
    "sns.heatmap(correlation,annot = True,fmt = \".0%\",cbar = True,square = True,annot_kws = {'size': 10}, cmap = 'Blues')\n",
    "plt.show()"
   ]
  },
  {
   "cell_type": "code",
   "execution_count": 62,
   "id": "7d17af59",
   "metadata": {},
   "outputs": [],
   "source": [
    "# Observation: here we can see that the highest correlation is seen in betweenthe variables \"total bags\" and \"small bags\" and\n",
    "# followed by the columns \" Total Volume\" and \"4046\" and followed by the other."
   ]
  },
  {
   "cell_type": "code",
   "execution_count": 63,
   "id": "56d0c642",
   "metadata": {},
   "outputs": [],
   "source": [
    "from sklearn.preprocessing import LabelEncoder"
   ]
  },
  {
   "cell_type": "code",
   "execution_count": 64,
   "id": "99dbfbd7",
   "metadata": {},
   "outputs": [],
   "source": [
    "for column in avocado_data.columns:\n",
    "    if avocado_data[column].dtype == np.number:\n",
    "        continue\n",
    "    avocado_data[column] = LabelEncoder().fit_transform(avocado_data[column])\n",
    "        "
   ]
  },
  {
   "cell_type": "code",
   "execution_count": 65,
   "id": "d5b9a445",
   "metadata": {},
   "outputs": [
    {
     "data": {
      "text/html": [
       "<div>\n",
       "<style scoped>\n",
       "    .dataframe tbody tr th:only-of-type {\n",
       "        vertical-align: middle;\n",
       "    }\n",
       "\n",
       "    .dataframe tbody tr th {\n",
       "        vertical-align: top;\n",
       "    }\n",
       "\n",
       "    .dataframe thead th {\n",
       "        text-align: right;\n",
       "    }\n",
       "</style>\n",
       "<table border=\"1\" class=\"dataframe\">\n",
       "  <thead>\n",
       "    <tr style=\"text-align: right;\">\n",
       "      <th></th>\n",
       "      <th>Date</th>\n",
       "      <th>AveragePrice</th>\n",
       "      <th>Total Volume</th>\n",
       "      <th>4046</th>\n",
       "      <th>4225</th>\n",
       "      <th>4770</th>\n",
       "      <th>Total Bags</th>\n",
       "      <th>Small Bags</th>\n",
       "      <th>Large Bags</th>\n",
       "      <th>XLarge Bags</th>\n",
       "      <th>type</th>\n",
       "      <th>year</th>\n",
       "      <th>region</th>\n",
       "    </tr>\n",
       "    <tr>\n",
       "      <th>Unnamed: 0</th>\n",
       "      <th></th>\n",
       "      <th></th>\n",
       "      <th></th>\n",
       "      <th></th>\n",
       "      <th></th>\n",
       "      <th></th>\n",
       "      <th></th>\n",
       "      <th></th>\n",
       "      <th></th>\n",
       "      <th></th>\n",
       "      <th></th>\n",
       "      <th></th>\n",
       "      <th></th>\n",
       "    </tr>\n",
       "  </thead>\n",
       "  <tbody>\n",
       "    <tr>\n",
       "      <th>0</th>\n",
       "      <td>51</td>\n",
       "      <td>1.33</td>\n",
       "      <td>64236.62</td>\n",
       "      <td>1036.74</td>\n",
       "      <td>54454.85</td>\n",
       "      <td>48.16</td>\n",
       "      <td>8696.87</td>\n",
       "      <td>8603.62</td>\n",
       "      <td>93.25</td>\n",
       "      <td>0.0</td>\n",
       "      <td>0</td>\n",
       "      <td>0</td>\n",
       "      <td>0</td>\n",
       "    </tr>\n",
       "    <tr>\n",
       "      <th>1</th>\n",
       "      <td>50</td>\n",
       "      <td>1.35</td>\n",
       "      <td>54876.98</td>\n",
       "      <td>674.28</td>\n",
       "      <td>44638.81</td>\n",
       "      <td>58.33</td>\n",
       "      <td>9505.56</td>\n",
       "      <td>9408.07</td>\n",
       "      <td>97.49</td>\n",
       "      <td>0.0</td>\n",
       "      <td>0</td>\n",
       "      <td>0</td>\n",
       "      <td>0</td>\n",
       "    </tr>\n",
       "    <tr>\n",
       "      <th>2</th>\n",
       "      <td>49</td>\n",
       "      <td>0.93</td>\n",
       "      <td>118220.22</td>\n",
       "      <td>794.70</td>\n",
       "      <td>109149.67</td>\n",
       "      <td>130.50</td>\n",
       "      <td>8145.35</td>\n",
       "      <td>8042.21</td>\n",
       "      <td>103.14</td>\n",
       "      <td>0.0</td>\n",
       "      <td>0</td>\n",
       "      <td>0</td>\n",
       "      <td>0</td>\n",
       "    </tr>\n",
       "    <tr>\n",
       "      <th>3</th>\n",
       "      <td>48</td>\n",
       "      <td>1.08</td>\n",
       "      <td>78992.15</td>\n",
       "      <td>1132.00</td>\n",
       "      <td>71976.41</td>\n",
       "      <td>72.58</td>\n",
       "      <td>5811.16</td>\n",
       "      <td>5677.40</td>\n",
       "      <td>133.76</td>\n",
       "      <td>0.0</td>\n",
       "      <td>0</td>\n",
       "      <td>0</td>\n",
       "      <td>0</td>\n",
       "    </tr>\n",
       "    <tr>\n",
       "      <th>4</th>\n",
       "      <td>47</td>\n",
       "      <td>1.28</td>\n",
       "      <td>51039.60</td>\n",
       "      <td>941.48</td>\n",
       "      <td>43838.39</td>\n",
       "      <td>75.78</td>\n",
       "      <td>6183.95</td>\n",
       "      <td>5986.26</td>\n",
       "      <td>197.69</td>\n",
       "      <td>0.0</td>\n",
       "      <td>0</td>\n",
       "      <td>0</td>\n",
       "      <td>0</td>\n",
       "    </tr>\n",
       "    <tr>\n",
       "      <th>...</th>\n",
       "      <td>...</td>\n",
       "      <td>...</td>\n",
       "      <td>...</td>\n",
       "      <td>...</td>\n",
       "      <td>...</td>\n",
       "      <td>...</td>\n",
       "      <td>...</td>\n",
       "      <td>...</td>\n",
       "      <td>...</td>\n",
       "      <td>...</td>\n",
       "      <td>...</td>\n",
       "      <td>...</td>\n",
       "      <td>...</td>\n",
       "    </tr>\n",
       "    <tr>\n",
       "      <th>7</th>\n",
       "      <td>161</td>\n",
       "      <td>1.63</td>\n",
       "      <td>17074.83</td>\n",
       "      <td>2046.96</td>\n",
       "      <td>1529.20</td>\n",
       "      <td>0.00</td>\n",
       "      <td>13498.67</td>\n",
       "      <td>13066.82</td>\n",
       "      <td>431.85</td>\n",
       "      <td>0.0</td>\n",
       "      <td>1</td>\n",
       "      <td>3</td>\n",
       "      <td>53</td>\n",
       "    </tr>\n",
       "    <tr>\n",
       "      <th>8</th>\n",
       "      <td>160</td>\n",
       "      <td>1.71</td>\n",
       "      <td>13888.04</td>\n",
       "      <td>1191.70</td>\n",
       "      <td>3431.50</td>\n",
       "      <td>0.00</td>\n",
       "      <td>9264.84</td>\n",
       "      <td>8940.04</td>\n",
       "      <td>324.80</td>\n",
       "      <td>0.0</td>\n",
       "      <td>1</td>\n",
       "      <td>3</td>\n",
       "      <td>53</td>\n",
       "    </tr>\n",
       "    <tr>\n",
       "      <th>9</th>\n",
       "      <td>159</td>\n",
       "      <td>1.87</td>\n",
       "      <td>13766.76</td>\n",
       "      <td>1191.92</td>\n",
       "      <td>2452.79</td>\n",
       "      <td>727.94</td>\n",
       "      <td>9394.11</td>\n",
       "      <td>9351.80</td>\n",
       "      <td>42.31</td>\n",
       "      <td>0.0</td>\n",
       "      <td>1</td>\n",
       "      <td>3</td>\n",
       "      <td>53</td>\n",
       "    </tr>\n",
       "    <tr>\n",
       "      <th>10</th>\n",
       "      <td>158</td>\n",
       "      <td>1.93</td>\n",
       "      <td>16205.22</td>\n",
       "      <td>1527.63</td>\n",
       "      <td>2981.04</td>\n",
       "      <td>727.01</td>\n",
       "      <td>10969.54</td>\n",
       "      <td>10919.54</td>\n",
       "      <td>50.00</td>\n",
       "      <td>0.0</td>\n",
       "      <td>1</td>\n",
       "      <td>3</td>\n",
       "      <td>53</td>\n",
       "    </tr>\n",
       "    <tr>\n",
       "      <th>11</th>\n",
       "      <td>157</td>\n",
       "      <td>1.62</td>\n",
       "      <td>17489.58</td>\n",
       "      <td>2894.77</td>\n",
       "      <td>2356.13</td>\n",
       "      <td>224.53</td>\n",
       "      <td>12014.15</td>\n",
       "      <td>11988.14</td>\n",
       "      <td>26.01</td>\n",
       "      <td>0.0</td>\n",
       "      <td>1</td>\n",
       "      <td>3</td>\n",
       "      <td>53</td>\n",
       "    </tr>\n",
       "  </tbody>\n",
       "</table>\n",
       "<p>18249 rows × 13 columns</p>\n",
       "</div>"
      ],
      "text/plain": [
       "            Date  AveragePrice  Total Volume     4046       4225    4770  \\\n",
       "Unnamed: 0                                                                 \n",
       "0             51          1.33      64236.62  1036.74   54454.85   48.16   \n",
       "1             50          1.35      54876.98   674.28   44638.81   58.33   \n",
       "2             49          0.93     118220.22   794.70  109149.67  130.50   \n",
       "3             48          1.08      78992.15  1132.00   71976.41   72.58   \n",
       "4             47          1.28      51039.60   941.48   43838.39   75.78   \n",
       "...          ...           ...           ...      ...        ...     ...   \n",
       "7            161          1.63      17074.83  2046.96    1529.20    0.00   \n",
       "8            160          1.71      13888.04  1191.70    3431.50    0.00   \n",
       "9            159          1.87      13766.76  1191.92    2452.79  727.94   \n",
       "10           158          1.93      16205.22  1527.63    2981.04  727.01   \n",
       "11           157          1.62      17489.58  2894.77    2356.13  224.53   \n",
       "\n",
       "            Total Bags  Small Bags  Large Bags  XLarge Bags  type  year  \\\n",
       "Unnamed: 0                                                                \n",
       "0              8696.87     8603.62       93.25          0.0     0     0   \n",
       "1              9505.56     9408.07       97.49          0.0     0     0   \n",
       "2              8145.35     8042.21      103.14          0.0     0     0   \n",
       "3              5811.16     5677.40      133.76          0.0     0     0   \n",
       "4              6183.95     5986.26      197.69          0.0     0     0   \n",
       "...                ...         ...         ...          ...   ...   ...   \n",
       "7             13498.67    13066.82      431.85          0.0     1     3   \n",
       "8              9264.84     8940.04      324.80          0.0     1     3   \n",
       "9              9394.11     9351.80       42.31          0.0     1     3   \n",
       "10            10969.54    10919.54       50.00          0.0     1     3   \n",
       "11            12014.15    11988.14       26.01          0.0     1     3   \n",
       "\n",
       "            region  \n",
       "Unnamed: 0          \n",
       "0                0  \n",
       "1                0  \n",
       "2                0  \n",
       "3                0  \n",
       "4                0  \n",
       "...            ...  \n",
       "7               53  \n",
       "8               53  \n",
       "9               53  \n",
       "10              53  \n",
       "11              53  \n",
       "\n",
       "[18249 rows x 13 columns]"
      ]
     },
     "execution_count": 65,
     "metadata": {},
     "output_type": "execute_result"
    }
   ],
   "source": [
    "avocado_data"
   ]
  },
  {
   "cell_type": "markdown",
   "id": "668f4fed",
   "metadata": {},
   "source": [
    "# Detecting the outliers: "
   ]
  },
  {
   "cell_type": "code",
   "execution_count": 66,
   "id": "023fbf8a",
   "metadata": {},
   "outputs": [
    {
     "data": {
      "text/plain": [
       "<AxesSubplot:>"
      ]
     },
     "execution_count": 66,
     "metadata": {},
     "output_type": "execute_result"
    },
    {
     "data": {
      "image/png": "[encoded data removed]",
      "text/plain": [
       "<Figure size 2160x1080 with 1 Axes>"
      ]
     },
     "metadata": {
      "needs_background": "light"
     },
     "output_type": "display_data"
    }
   ],
   "source": [
    "avocado_data.plot(kind=\"box\", figsize = (30,15), color=\"b\")"
   ]
  },
  {
   "cell_type": "code",
   "execution_count": 67,
   "id": "0c2ff5fa",
   "metadata": {},
   "outputs": [],
   "source": [
    "# Observation: Here we can see tat there are many number of outliers are present in almost all the columns in the dataset except\n",
    "# the columns \"AveragePrice\" and the \"year\"."
   ]
  },
  {
   "cell_type": "markdown",
   "id": "6f4e57a9",
   "metadata": {},
   "source": [
    "# Removal of the Outliers - Using Z - Score Method:"
   ]
  },
  {
   "cell_type": "code",
   "execution_count": 68,
   "id": "ce93392e",
   "metadata": {},
   "outputs": [
    {
     "data": {
      "text/plain": [
       "(18249, 13)"
      ]
     },
     "execution_count": 68,
     "metadata": {},
     "output_type": "execute_result"
    }
   ],
   "source": [
    "from scipy.stats import zscore\n",
    "z = np.abs(zscore(avocado_data))\n",
    "z.shape"
   ]
  },
  {
   "cell_type": "code",
   "execution_count": 69,
   "id": "576af158",
   "metadata": {},
   "outputs": [
    {
     "name": "stdout",
     "output_type": "stream",
     "text": [
      "(array([  346,   359,   780, ..., 17304, 17402, 17428], dtype=int64), array([3, 3, 9, ..., 1, 1, 1], dtype=int64))\n"
     ]
    }
   ],
   "source": [
    "threshold = 3\n",
    "print(np.where(z>3))"
   ]
  },
  {
   "cell_type": "code",
   "execution_count": 70,
   "id": "fc73d37c",
   "metadata": {},
   "outputs": [
    {
     "data": {
      "text/plain": [
       "2"
      ]
     },
     "execution_count": 70,
     "metadata": {},
     "output_type": "execute_result"
    }
   ],
   "source": [
    "len(np.where(z>3))"
   ]
  },
  {
   "cell_type": "code",
   "execution_count": 71,
   "id": "f7e28d09",
   "metadata": {},
   "outputs": [
    {
     "data": {
      "text/plain": [
       "1773"
      ]
     },
     "execution_count": 71,
     "metadata": {},
     "output_type": "execute_result"
    }
   ],
   "source": [
    "len(np.where(z>3)[0])"
   ]
  },
  {
   "cell_type": "code",
   "execution_count": 72,
   "id": "a56e8b30",
   "metadata": {},
   "outputs": [
    {
     "name": "stdout",
     "output_type": "stream",
     "text": [
      "(18249, 13)\n",
      "(17651, 13)\n"
     ]
    }
   ],
   "source": [
    "avocado_data_new = avocado_data[(z<3).all(axis = 1)]\n",
    "print(avocado_data.shape)\n",
    "print(avocado_data_new.shape)"
   ]
  },
  {
   "cell_type": "code",
   "execution_count": 73,
   "id": "4b387c90",
   "metadata": {},
   "outputs": [],
   "source": [
    "# Observation: here we can see that we have seen that theer is reduction in the number of records(rows) present in the dataset\n",
    "# and so it is clear that we have succeeded in the removal of the outliers"
   ]
  },
  {
   "cell_type": "markdown",
   "id": "ee6e3c9e",
   "metadata": {},
   "source": [
    "# Loss percentage calculation:"
   ]
  },
  {
   "cell_type": "code",
   "execution_count": 74,
   "id": "ac9e0c0f",
   "metadata": {},
   "outputs": [
    {
     "name": "stdout",
     "output_type": "stream",
     "text": [
      "3.276891884486821\n"
     ]
    }
   ],
   "source": [
    "loss_percent = (18249-17651)/18249*100\n",
    "print(loss_percent)"
   ]
  },
  {
   "cell_type": "code",
   "execution_count": 75,
   "id": "4364cd78",
   "metadata": {},
   "outputs": [],
   "source": [
    "# Observation: Here we can see that the loss percentage is approximately 3.2% which is negligible and we can continue with our \n",
    "# model."
   ]
  },
  {
   "cell_type": "markdown",
   "id": "c01f9140",
   "metadata": {},
   "source": [
    "# Finding Skewness:"
   ]
  },
  {
   "cell_type": "code",
   "execution_count": 76,
   "id": "afe46f90",
   "metadata": {},
   "outputs": [
    {
     "data": {
      "text/plain": [
       "Date            0.013714\n",
       "AveragePrice    0.377432\n",
       "Total Volume    3.767138\n",
       "4046            4.909848\n",
       "4225            4.455745\n",
       "4770            5.117170\n",
       "Total Bags      4.066771\n",
       "Small Bags      4.222706\n",
       "Large Bags      5.053434\n",
       "XLarge Bags     6.135607\n",
       "type           -0.037741\n",
       "year            0.229976\n",
       "region          0.012798\n",
       "dtype: float64"
      ]
     },
     "execution_count": 76,
     "metadata": {},
     "output_type": "execute_result"
    }
   ],
   "source": [
    "avocado_data_new.skew()"
   ]
  },
  {
   "cell_type": "code",
   "execution_count": 77,
   "id": "43ad0a92",
   "metadata": {},
   "outputs": [],
   "source": [
    "# Observation: here we can see that the most of the columns afre with high skewness ie., they are very highly positively skewed."
   ]
  },
  {
   "cell_type": "markdown",
   "id": "c6bf1fa0",
   "metadata": {},
   "source": [
    "# Removing skewness in the data:"
   ]
  },
  {
   "cell_type": "code",
   "execution_count": 78,
   "id": "cc8a2185",
   "metadata": {},
   "outputs": [],
   "source": [
    "features = [\"Total Volume\",\"4046\",\"4225\",\"4770\",\"Total Bags\",\"Small Bags\",\"Large Bags\",\"XLarge Bags\"]"
   ]
  },
  {
   "cell_type": "code",
   "execution_count": 79,
   "id": "ea0998f9",
   "metadata": {},
   "outputs": [
    {
     "data": {
      "text/plain": [
       "\"\\nparameters:\\nmethod = 'box-cox' or 'yeo-johnson'\\n\""
      ]
     },
     "execution_count": 79,
     "metadata": {},
     "output_type": "execute_result"
    }
   ],
   "source": [
    "from sklearn.preprocessing import PowerTransformer\n",
    "scaler = PowerTransformer(method='yeo-johnson')\n",
    "'''\n",
    "parameters:\n",
    "method = 'box-cox' or 'yeo-johnson'\n",
    "'''"
   ]
  },
  {
   "cell_type": "code",
   "execution_count": 80,
   "id": "732cf02c",
   "metadata": {},
   "outputs": [
    {
     "data": {
      "text/html": [
       "<div>\n",
       "<style scoped>\n",
       "    .dataframe tbody tr th:only-of-type {\n",
       "        vertical-align: middle;\n",
       "    }\n",
       "\n",
       "    .dataframe tbody tr th {\n",
       "        vertical-align: top;\n",
       "    }\n",
       "\n",
       "    .dataframe thead th {\n",
       "        text-align: right;\n",
       "    }\n",
       "</style>\n",
       "<table border=\"1\" class=\"dataframe\">\n",
       "  <thead>\n",
       "    <tr style=\"text-align: right;\">\n",
       "      <th></th>\n",
       "      <th>Total Volume</th>\n",
       "      <th>4046</th>\n",
       "      <th>4225</th>\n",
       "      <th>4770</th>\n",
       "      <th>Total Bags</th>\n",
       "      <th>Small Bags</th>\n",
       "      <th>Large Bags</th>\n",
       "      <th>XLarge Bags</th>\n",
       "    </tr>\n",
       "    <tr>\n",
       "      <th>Unnamed: 0</th>\n",
       "      <th></th>\n",
       "      <th></th>\n",
       "      <th></th>\n",
       "      <th></th>\n",
       "      <th></th>\n",
       "      <th></th>\n",
       "      <th></th>\n",
       "      <th></th>\n",
       "    </tr>\n",
       "  </thead>\n",
       "  <tbody>\n",
       "    <tr>\n",
       "      <th>0</th>\n",
       "      <td>-0.075324</td>\n",
       "      <td>-0.657421</td>\n",
       "      <td>0.351430</td>\n",
       "      <td>-0.222566</td>\n",
       "      <td>-0.537507</td>\n",
       "      <td>-0.347421</td>\n",
       "      <td>-0.781153</td>\n",
       "      <td>-0.677919</td>\n",
       "    </tr>\n",
       "    <tr>\n",
       "      <th>1</th>\n",
       "      <td>-0.147497</td>\n",
       "      <td>-0.777179</td>\n",
       "      <td>0.269513</td>\n",
       "      <td>-0.175223</td>\n",
       "      <td>-0.498128</td>\n",
       "      <td>-0.311322</td>\n",
       "      <td>-0.771198</td>\n",
       "      <td>-0.677919</td>\n",
       "    </tr>\n",
       "    <tr>\n",
       "      <th>2</th>\n",
       "      <td>0.205556</td>\n",
       "      <td>-0.731776</td>\n",
       "      <td>0.649333</td>\n",
       "      <td>0.023923</td>\n",
       "      <td>-0.566369</td>\n",
       "      <td>-0.374453</td>\n",
       "      <td>-0.758523</td>\n",
       "      <td>-0.677919</td>\n",
       "    </tr>\n",
       "    <tr>\n",
       "      <th>3</th>\n",
       "      <td>0.019655</td>\n",
       "      <td>-0.632592</td>\n",
       "      <td>0.468799</td>\n",
       "      <td>-0.121164</td>\n",
       "      <td>-0.713068</td>\n",
       "      <td>-0.510991</td>\n",
       "      <td>-0.699123</td>\n",
       "      <td>-0.677919</td>\n",
       "    </tr>\n",
       "    <tr>\n",
       "      <th>4</th>\n",
       "      <td>-0.180674</td>\n",
       "      <td>-0.684504</td>\n",
       "      <td>0.262126</td>\n",
       "      <td>-0.110491</td>\n",
       "      <td>-0.686312</td>\n",
       "      <td>-0.490534</td>\n",
       "      <td>-0.607027</td>\n",
       "      <td>-0.677919</td>\n",
       "    </tr>\n",
       "    <tr>\n",
       "      <th>...</th>\n",
       "      <td>...</td>\n",
       "      <td>...</td>\n",
       "      <td>...</td>\n",
       "      <td>...</td>\n",
       "      <td>...</td>\n",
       "      <td>...</td>\n",
       "      <td>...</td>\n",
       "      <td>...</td>\n",
       "    </tr>\n",
       "    <tr>\n",
       "      <th>7</th>\n",
       "      <td>-0.678214</td>\n",
       "      <td>-0.462066</td>\n",
       "      <td>-0.926028</td>\n",
       "      <td>-1.228986</td>\n",
       "      <td>-0.340422</td>\n",
       "      <td>-0.175753</td>\n",
       "      <td>-0.412401</td>\n",
       "      <td>-0.677919</td>\n",
       "    </tr>\n",
       "    <tr>\n",
       "      <th>8</th>\n",
       "      <td>-0.771326</td>\n",
       "      <td>-0.618019</td>\n",
       "      <td>-0.670600</td>\n",
       "      <td>-1.228986</td>\n",
       "      <td>-0.509513</td>\n",
       "      <td>-0.331971</td>\n",
       "      <td>-0.484991</td>\n",
       "      <td>-0.677919</td>\n",
       "    </tr>\n",
       "    <tr>\n",
       "      <th>9</th>\n",
       "      <td>-0.775274</td>\n",
       "      <td>-0.617966</td>\n",
       "      <td>-0.778893</td>\n",
       "      <td>0.445710</td>\n",
       "      <td>-0.503366</td>\n",
       "      <td>-0.313756</td>\n",
       "      <td>-0.950743</td>\n",
       "      <td>-0.677919</td>\n",
       "    </tr>\n",
       "    <tr>\n",
       "      <th>10</th>\n",
       "      <td>-0.701797</td>\n",
       "      <td>-0.547011</td>\n",
       "      <td>-0.716371</td>\n",
       "      <td>0.445399</td>\n",
       "      <td>-0.434176</td>\n",
       "      <td>-0.250408</td>\n",
       "      <td>-0.916068</td>\n",
       "      <td>-0.677919</td>\n",
       "    </tr>\n",
       "    <tr>\n",
       "      <th>11</th>\n",
       "      <td>-0.667381</td>\n",
       "      <td>-0.359671</td>\n",
       "      <td>-0.791650</td>\n",
       "      <td>0.157768</td>\n",
       "      <td>-0.393236</td>\n",
       "      <td>-0.211755</td>\n",
       "      <td>-1.048116</td>\n",
       "      <td>-0.677919</td>\n",
       "    </tr>\n",
       "  </tbody>\n",
       "</table>\n",
       "<p>17651 rows × 8 columns</p>\n",
       "</div>"
      ],
      "text/plain": [
       "            Total Volume      4046      4225      4770  Total Bags  \\\n",
       "Unnamed: 0                                                           \n",
       "0              -0.075324 -0.657421  0.351430 -0.222566   -0.537507   \n",
       "1              -0.147497 -0.777179  0.269513 -0.175223   -0.498128   \n",
       "2               0.205556 -0.731776  0.649333  0.023923   -0.566369   \n",
       "3               0.019655 -0.632592  0.468799 -0.121164   -0.713068   \n",
       "4              -0.180674 -0.684504  0.262126 -0.110491   -0.686312   \n",
       "...                  ...       ...       ...       ...         ...   \n",
       "7              -0.678214 -0.462066 -0.926028 -1.228986   -0.340422   \n",
       "8              -0.771326 -0.618019 -0.670600 -1.228986   -0.509513   \n",
       "9              -0.775274 -0.617966 -0.778893  0.445710   -0.503366   \n",
       "10             -0.701797 -0.547011 -0.716371  0.445399   -0.434176   \n",
       "11             -0.667381 -0.359671 -0.791650  0.157768   -0.393236   \n",
       "\n",
       "            Small Bags  Large Bags  XLarge Bags  \n",
       "Unnamed: 0                                       \n",
       "0            -0.347421   -0.781153    -0.677919  \n",
       "1            -0.311322   -0.771198    -0.677919  \n",
       "2            -0.374453   -0.758523    -0.677919  \n",
       "3            -0.510991   -0.699123    -0.677919  \n",
       "4            -0.490534   -0.607027    -0.677919  \n",
       "...                ...         ...          ...  \n",
       "7            -0.175753   -0.412401    -0.677919  \n",
       "8            -0.331971   -0.484991    -0.677919  \n",
       "9            -0.313756   -0.950743    -0.677919  \n",
       "10           -0.250408   -0.916068    -0.677919  \n",
       "11           -0.211755   -1.048116    -0.677919  \n",
       "\n",
       "[17651 rows x 8 columns]"
      ]
     },
     "execution_count": 80,
     "metadata": {},
     "output_type": "execute_result"
    }
   ],
   "source": [
    "avocado_data_new[features] = scaler.fit_transform(avocado_data_new[features].values)\n",
    "avocado_data_new[features]"
   ]
  },
  {
   "cell_type": "code",
   "execution_count": 81,
   "id": "cf8df515",
   "metadata": {},
   "outputs": [
    {
     "data": {
      "text/plain": [
       "Date            0.013714\n",
       "AveragePrice    0.377432\n",
       "Total Volume   -0.008642\n",
       "4046           -0.039282\n",
       "4225           -0.044675\n",
       "4770            0.024168\n",
       "Total Bags     -0.022204\n",
       "Small Bags     -0.024405\n",
       "Large Bags     -0.110913\n",
       "XLarge Bags     0.853758\n",
       "type           -0.037741\n",
       "year            0.229976\n",
       "region          0.012798\n",
       "dtype: float64"
      ]
     },
     "execution_count": 81,
     "metadata": {},
     "output_type": "execute_result"
    }
   ],
   "source": [
    "avocado_data_new.skew()"
   ]
  },
  {
   "cell_type": "code",
   "execution_count": 82,
   "id": "106045d6",
   "metadata": {},
   "outputs": [],
   "source": [
    "# Observation: here we can see that the skewness is reduced in the columns mentioned as features."
   ]
  },
  {
   "cell_type": "markdown",
   "id": "4066a8e5",
   "metadata": {},
   "source": [
    "# Data Preprocessing:"
   ]
  },
  {
   "cell_type": "markdown",
   "id": "5812efad",
   "metadata": {},
   "source": [
    "# a) Classification:"
   ]
  },
  {
   "cell_type": "markdown",
   "id": "97ecaba9",
   "metadata": {},
   "source": [
    "## Separating the independent and the target variables"
   ]
  },
  {
   "cell_type": "markdown",
   "id": "12e0796c",
   "metadata": {},
   "source": [
    "## train_test_split:"
   ]
  },
  {
   "cell_type": "code",
   "execution_count": 83,
   "id": "1a738345",
   "metadata": {},
   "outputs": [],
   "source": [
    "x = avocado_data_new.drop(\"region\", axis=1)\n",
    "y = avocado_data_new[\"region\"]"
   ]
  },
  {
   "cell_type": "code",
   "execution_count": 84,
   "id": "152d76df",
   "metadata": {},
   "outputs": [
    {
     "data": {
      "text/html": [
       "<div>\n",
       "<style scoped>\n",
       "    .dataframe tbody tr th:only-of-type {\n",
       "        vertical-align: middle;\n",
       "    }\n",
       "\n",
       "    .dataframe tbody tr th {\n",
       "        vertical-align: top;\n",
       "    }\n",
       "\n",
       "    .dataframe thead th {\n",
       "        text-align: right;\n",
       "    }\n",
       "</style>\n",
       "<table border=\"1\" class=\"dataframe\">\n",
       "  <thead>\n",
       "    <tr style=\"text-align: right;\">\n",
       "      <th></th>\n",
       "      <th>Date</th>\n",
       "      <th>AveragePrice</th>\n",
       "      <th>Total Volume</th>\n",
       "      <th>4046</th>\n",
       "      <th>4225</th>\n",
       "      <th>4770</th>\n",
       "      <th>Total Bags</th>\n",
       "      <th>Small Bags</th>\n",
       "      <th>Large Bags</th>\n",
       "      <th>XLarge Bags</th>\n",
       "      <th>type</th>\n",
       "      <th>year</th>\n",
       "    </tr>\n",
       "    <tr>\n",
       "      <th>Unnamed: 0</th>\n",
       "      <th></th>\n",
       "      <th></th>\n",
       "      <th></th>\n",
       "      <th></th>\n",
       "      <th></th>\n",
       "      <th></th>\n",
       "      <th></th>\n",
       "      <th></th>\n",
       "      <th></th>\n",
       "      <th></th>\n",
       "      <th></th>\n",
       "      <th></th>\n",
       "    </tr>\n",
       "  </thead>\n",
       "  <tbody>\n",
       "    <tr>\n",
       "      <th>0</th>\n",
       "      <td>51</td>\n",
       "      <td>1.33</td>\n",
       "      <td>-0.075324</td>\n",
       "      <td>-0.657421</td>\n",
       "      <td>0.351430</td>\n",
       "      <td>-0.222566</td>\n",
       "      <td>-0.537507</td>\n",
       "      <td>-0.347421</td>\n",
       "      <td>-0.781153</td>\n",
       "      <td>-0.677919</td>\n",
       "      <td>0</td>\n",
       "      <td>0</td>\n",
       "    </tr>\n",
       "    <tr>\n",
       "      <th>1</th>\n",
       "      <td>50</td>\n",
       "      <td>1.35</td>\n",
       "      <td>-0.147497</td>\n",
       "      <td>-0.777179</td>\n",
       "      <td>0.269513</td>\n",
       "      <td>-0.175223</td>\n",
       "      <td>-0.498128</td>\n",
       "      <td>-0.311322</td>\n",
       "      <td>-0.771198</td>\n",
       "      <td>-0.677919</td>\n",
       "      <td>0</td>\n",
       "      <td>0</td>\n",
       "    </tr>\n",
       "    <tr>\n",
       "      <th>2</th>\n",
       "      <td>49</td>\n",
       "      <td>0.93</td>\n",
       "      <td>0.205556</td>\n",
       "      <td>-0.731776</td>\n",
       "      <td>0.649333</td>\n",
       "      <td>0.023923</td>\n",
       "      <td>-0.566369</td>\n",
       "      <td>-0.374453</td>\n",
       "      <td>-0.758523</td>\n",
       "      <td>-0.677919</td>\n",
       "      <td>0</td>\n",
       "      <td>0</td>\n",
       "    </tr>\n",
       "    <tr>\n",
       "      <th>3</th>\n",
       "      <td>48</td>\n",
       "      <td>1.08</td>\n",
       "      <td>0.019655</td>\n",
       "      <td>-0.632592</td>\n",
       "      <td>0.468799</td>\n",
       "      <td>-0.121164</td>\n",
       "      <td>-0.713068</td>\n",
       "      <td>-0.510991</td>\n",
       "      <td>-0.699123</td>\n",
       "      <td>-0.677919</td>\n",
       "      <td>0</td>\n",
       "      <td>0</td>\n",
       "    </tr>\n",
       "    <tr>\n",
       "      <th>4</th>\n",
       "      <td>47</td>\n",
       "      <td>1.28</td>\n",
       "      <td>-0.180674</td>\n",
       "      <td>-0.684504</td>\n",
       "      <td>0.262126</td>\n",
       "      <td>-0.110491</td>\n",
       "      <td>-0.686312</td>\n",
       "      <td>-0.490534</td>\n",
       "      <td>-0.607027</td>\n",
       "      <td>-0.677919</td>\n",
       "      <td>0</td>\n",
       "      <td>0</td>\n",
       "    </tr>\n",
       "  </tbody>\n",
       "</table>\n",
       "</div>"
      ],
      "text/plain": [
       "            Date  AveragePrice  Total Volume      4046      4225      4770  \\\n",
       "Unnamed: 0                                                                   \n",
       "0             51          1.33     -0.075324 -0.657421  0.351430 -0.222566   \n",
       "1             50          1.35     -0.147497 -0.777179  0.269513 -0.175223   \n",
       "2             49          0.93      0.205556 -0.731776  0.649333  0.023923   \n",
       "3             48          1.08      0.019655 -0.632592  0.468799 -0.121164   \n",
       "4             47          1.28     -0.180674 -0.684504  0.262126 -0.110491   \n",
       "\n",
       "            Total Bags  Small Bags  Large Bags  XLarge Bags  type  year  \n",
       "Unnamed: 0                                                               \n",
       "0            -0.537507   -0.347421   -0.781153    -0.677919     0     0  \n",
       "1            -0.498128   -0.311322   -0.771198    -0.677919     0     0  \n",
       "2            -0.566369   -0.374453   -0.758523    -0.677919     0     0  \n",
       "3            -0.713068   -0.510991   -0.699123    -0.677919     0     0  \n",
       "4            -0.686312   -0.490534   -0.607027    -0.677919     0     0  "
      ]
     },
     "execution_count": 84,
     "metadata": {},
     "output_type": "execute_result"
    }
   ],
   "source": [
    "x.head()"
   ]
  },
  {
   "cell_type": "code",
   "execution_count": 85,
   "id": "9018374f",
   "metadata": {},
   "outputs": [
    {
     "data": {
      "text/plain": [
       "Unnamed: 0\n",
       "7     53\n",
       "8     53\n",
       "9     53\n",
       "10    53\n",
       "11    53\n",
       "Name: region, dtype: int32"
      ]
     },
     "execution_count": 85,
     "metadata": {},
     "output_type": "execute_result"
    }
   ],
   "source": [
    "y.tail()"
   ]
  },
  {
   "cell_type": "markdown",
   "id": "0ecb3262",
   "metadata": {},
   "source": [
    "# Scaling the data - Using standard Scaler:"
   ]
  },
  {
   "cell_type": "code",
   "execution_count": 86,
   "id": "6e2f9297",
   "metadata": {},
   "outputs": [],
   "source": [
    "from sklearn.preprocessing import  StandardScaler\n"
   ]
  },
  {
   "cell_type": "code",
   "execution_count": 87,
   "id": "4978b49a",
   "metadata": {},
   "outputs": [
    {
     "data": {
      "text/html": [
       "<div>\n",
       "<style scoped>\n",
       "    .dataframe tbody tr th:only-of-type {\n",
       "        vertical-align: middle;\n",
       "    }\n",
       "\n",
       "    .dataframe tbody tr th {\n",
       "        vertical-align: top;\n",
       "    }\n",
       "\n",
       "    .dataframe thead th {\n",
       "        text-align: right;\n",
       "    }\n",
       "</style>\n",
       "<table border=\"1\" class=\"dataframe\">\n",
       "  <thead>\n",
       "    <tr style=\"text-align: right;\">\n",
       "      <th></th>\n",
       "      <th>Date</th>\n",
       "      <th>AveragePrice</th>\n",
       "      <th>Total Volume</th>\n",
       "      <th>4046</th>\n",
       "      <th>4225</th>\n",
       "      <th>4770</th>\n",
       "      <th>Total Bags</th>\n",
       "      <th>Small Bags</th>\n",
       "      <th>Large Bags</th>\n",
       "      <th>XLarge Bags</th>\n",
       "      <th>type</th>\n",
       "      <th>year</th>\n",
       "    </tr>\n",
       "  </thead>\n",
       "  <tbody>\n",
       "    <tr>\n",
       "      <th>0</th>\n",
       "      <td>-0.664946</td>\n",
       "      <td>-0.195352</td>\n",
       "      <td>-0.075324</td>\n",
       "      <td>-0.657421</td>\n",
       "      <td>0.351430</td>\n",
       "      <td>-0.222566</td>\n",
       "      <td>-0.537507</td>\n",
       "      <td>-0.347421</td>\n",
       "      <td>-0.781153</td>\n",
       "      <td>-0.677919</td>\n",
       "      <td>-1.019047</td>\n",
       "      <td>-1.210013</td>\n",
       "    </tr>\n",
       "    <tr>\n",
       "      <th>1</th>\n",
       "      <td>-0.685424</td>\n",
       "      <td>-0.143510</td>\n",
       "      <td>-0.147497</td>\n",
       "      <td>-0.777179</td>\n",
       "      <td>0.269513</td>\n",
       "      <td>-0.175223</td>\n",
       "      <td>-0.498128</td>\n",
       "      <td>-0.311322</td>\n",
       "      <td>-0.771198</td>\n",
       "      <td>-0.677919</td>\n",
       "      <td>-1.019047</td>\n",
       "      <td>-1.210013</td>\n",
       "    </tr>\n",
       "    <tr>\n",
       "      <th>2</th>\n",
       "      <td>-0.705902</td>\n",
       "      <td>-1.232207</td>\n",
       "      <td>0.205556</td>\n",
       "      <td>-0.731776</td>\n",
       "      <td>0.649333</td>\n",
       "      <td>0.023923</td>\n",
       "      <td>-0.566369</td>\n",
       "      <td>-0.374453</td>\n",
       "      <td>-0.758523</td>\n",
       "      <td>-0.677919</td>\n",
       "      <td>-1.019047</td>\n",
       "      <td>-1.210013</td>\n",
       "    </tr>\n",
       "    <tr>\n",
       "      <th>3</th>\n",
       "      <td>-0.726380</td>\n",
       "      <td>-0.843387</td>\n",
       "      <td>0.019655</td>\n",
       "      <td>-0.632592</td>\n",
       "      <td>0.468799</td>\n",
       "      <td>-0.121164</td>\n",
       "      <td>-0.713068</td>\n",
       "      <td>-0.510991</td>\n",
       "      <td>-0.699123</td>\n",
       "      <td>-0.677919</td>\n",
       "      <td>-1.019047</td>\n",
       "      <td>-1.210013</td>\n",
       "    </tr>\n",
       "    <tr>\n",
       "      <th>4</th>\n",
       "      <td>-0.746858</td>\n",
       "      <td>-0.324959</td>\n",
       "      <td>-0.180674</td>\n",
       "      <td>-0.684504</td>\n",
       "      <td>0.262126</td>\n",
       "      <td>-0.110491</td>\n",
       "      <td>-0.686312</td>\n",
       "      <td>-0.490534</td>\n",
       "      <td>-0.607027</td>\n",
       "      <td>-0.677919</td>\n",
       "      <td>-1.019047</td>\n",
       "      <td>-1.210013</td>\n",
       "    </tr>\n",
       "    <tr>\n",
       "      <th>...</th>\n",
       "      <td>...</td>\n",
       "      <td>...</td>\n",
       "      <td>...</td>\n",
       "      <td>...</td>\n",
       "      <td>...</td>\n",
       "      <td>...</td>\n",
       "      <td>...</td>\n",
       "      <td>...</td>\n",
       "      <td>...</td>\n",
       "      <td>...</td>\n",
       "      <td>...</td>\n",
       "      <td>...</td>\n",
       "    </tr>\n",
       "    <tr>\n",
       "      <th>17646</th>\n",
       "      <td>1.587626</td>\n",
       "      <td>0.582289</td>\n",
       "      <td>-0.678214</td>\n",
       "      <td>-0.462066</td>\n",
       "      <td>-0.926028</td>\n",
       "      <td>-1.228986</td>\n",
       "      <td>-0.340422</td>\n",
       "      <td>-0.175753</td>\n",
       "      <td>-0.412401</td>\n",
       "      <td>-0.677919</td>\n",
       "      <td>0.981309</td>\n",
       "      <td>1.980756</td>\n",
       "    </tr>\n",
       "    <tr>\n",
       "      <th>17647</th>\n",
       "      <td>1.567148</td>\n",
       "      <td>0.789660</td>\n",
       "      <td>-0.771326</td>\n",
       "      <td>-0.618019</td>\n",
       "      <td>-0.670600</td>\n",
       "      <td>-1.228986</td>\n",
       "      <td>-0.509513</td>\n",
       "      <td>-0.331971</td>\n",
       "      <td>-0.484991</td>\n",
       "      <td>-0.677919</td>\n",
       "      <td>0.981309</td>\n",
       "      <td>1.980756</td>\n",
       "    </tr>\n",
       "    <tr>\n",
       "      <th>17648</th>\n",
       "      <td>1.546670</td>\n",
       "      <td>1.204402</td>\n",
       "      <td>-0.775274</td>\n",
       "      <td>-0.617966</td>\n",
       "      <td>-0.778893</td>\n",
       "      <td>0.445710</td>\n",
       "      <td>-0.503366</td>\n",
       "      <td>-0.313756</td>\n",
       "      <td>-0.950743</td>\n",
       "      <td>-0.677919</td>\n",
       "      <td>0.981309</td>\n",
       "      <td>1.980756</td>\n",
       "    </tr>\n",
       "    <tr>\n",
       "      <th>17649</th>\n",
       "      <td>1.526192</td>\n",
       "      <td>1.359930</td>\n",
       "      <td>-0.701797</td>\n",
       "      <td>-0.547011</td>\n",
       "      <td>-0.716371</td>\n",
       "      <td>0.445399</td>\n",
       "      <td>-0.434176</td>\n",
       "      <td>-0.250408</td>\n",
       "      <td>-0.916068</td>\n",
       "      <td>-0.677919</td>\n",
       "      <td>0.981309</td>\n",
       "      <td>1.980756</td>\n",
       "    </tr>\n",
       "    <tr>\n",
       "      <th>17650</th>\n",
       "      <td>1.505714</td>\n",
       "      <td>0.556367</td>\n",
       "      <td>-0.667381</td>\n",
       "      <td>-0.359671</td>\n",
       "      <td>-0.791650</td>\n",
       "      <td>0.157768</td>\n",
       "      <td>-0.393236</td>\n",
       "      <td>-0.211755</td>\n",
       "      <td>-1.048116</td>\n",
       "      <td>-0.677919</td>\n",
       "      <td>0.981309</td>\n",
       "      <td>1.980756</td>\n",
       "    </tr>\n",
       "  </tbody>\n",
       "</table>\n",
       "<p>17651 rows × 12 columns</p>\n",
       "</div>"
      ],
      "text/plain": [
       "           Date  AveragePrice  Total Volume      4046      4225      4770  \\\n",
       "0     -0.664946     -0.195352     -0.075324 -0.657421  0.351430 -0.222566   \n",
       "1     -0.685424     -0.143510     -0.147497 -0.777179  0.269513 -0.175223   \n",
       "2     -0.705902     -1.232207      0.205556 -0.731776  0.649333  0.023923   \n",
       "3     -0.726380     -0.843387      0.019655 -0.632592  0.468799 -0.121164   \n",
       "4     -0.746858     -0.324959     -0.180674 -0.684504  0.262126 -0.110491   \n",
       "...         ...           ...           ...       ...       ...       ...   \n",
       "17646  1.587626      0.582289     -0.678214 -0.462066 -0.926028 -1.228986   \n",
       "17647  1.567148      0.789660     -0.771326 -0.618019 -0.670600 -1.228986   \n",
       "17648  1.546670      1.204402     -0.775274 -0.617966 -0.778893  0.445710   \n",
       "17649  1.526192      1.359930     -0.701797 -0.547011 -0.716371  0.445399   \n",
       "17650  1.505714      0.556367     -0.667381 -0.359671 -0.791650  0.157768   \n",
       "\n",
       "       Total Bags  Small Bags  Large Bags  XLarge Bags      type      year  \n",
       "0       -0.537507   -0.347421   -0.781153    -0.677919 -1.019047 -1.210013  \n",
       "1       -0.498128   -0.311322   -0.771198    -0.677919 -1.019047 -1.210013  \n",
       "2       -0.566369   -0.374453   -0.758523    -0.677919 -1.019047 -1.210013  \n",
       "3       -0.713068   -0.510991   -0.699123    -0.677919 -1.019047 -1.210013  \n",
       "4       -0.686312   -0.490534   -0.607027    -0.677919 -1.019047 -1.210013  \n",
       "...           ...         ...         ...          ...       ...       ...  \n",
       "17646   -0.340422   -0.175753   -0.412401    -0.677919  0.981309  1.980756  \n",
       "17647   -0.509513   -0.331971   -0.484991    -0.677919  0.981309  1.980756  \n",
       "17648   -0.503366   -0.313756   -0.950743    -0.677919  0.981309  1.980756  \n",
       "17649   -0.434176   -0.250408   -0.916068    -0.677919  0.981309  1.980756  \n",
       "17650   -0.393236   -0.211755   -1.048116    -0.677919  0.981309  1.980756  \n",
       "\n",
       "[17651 rows x 12 columns]"
      ]
     },
     "execution_count": 87,
     "metadata": {},
     "output_type": "execute_result"
    }
   ],
   "source": [
    "scaler = StandardScaler()\n",
    "x_scaled = pd.DataFrame(scaler.fit_transform(x), columns=x.columns)\n",
    "x_scaled"
   ]
  },
  {
   "cell_type": "code",
   "execution_count": 88,
   "id": "f5d1632e",
   "metadata": {},
   "outputs": [],
   "source": [
    "from statsmodels.stats.outliers_influence import variance_inflation_factor"
   ]
  },
  {
   "cell_type": "code",
   "execution_count": 89,
   "id": "0b9fcd8b",
   "metadata": {},
   "outputs": [
    {
     "data": {
      "text/html": [
       "<div>\n",
       "<style scoped>\n",
       "    .dataframe tbody tr th:only-of-type {\n",
       "        vertical-align: middle;\n",
       "    }\n",
       "\n",
       "    .dataframe tbody tr th {\n",
       "        vertical-align: top;\n",
       "    }\n",
       "\n",
       "    .dataframe thead th {\n",
       "        text-align: right;\n",
       "    }\n",
       "</style>\n",
       "<table border=\"1\" class=\"dataframe\">\n",
       "  <thead>\n",
       "    <tr style=\"text-align: right;\">\n",
       "      <th></th>\n",
       "      <th>features</th>\n",
       "      <th>vif_Factor</th>\n",
       "    </tr>\n",
       "  </thead>\n",
       "  <tbody>\n",
       "    <tr>\n",
       "      <th>0</th>\n",
       "      <td>Date</td>\n",
       "      <td>11.389965</td>\n",
       "    </tr>\n",
       "    <tr>\n",
       "      <th>1</th>\n",
       "      <td>AveragePrice</td>\n",
       "      <td>2.284112</td>\n",
       "    </tr>\n",
       "    <tr>\n",
       "      <th>2</th>\n",
       "      <td>Total Volume</td>\n",
       "      <td>54.880263</td>\n",
       "    </tr>\n",
       "    <tr>\n",
       "      <th>3</th>\n",
       "      <td>4046</td>\n",
       "      <td>6.915786</td>\n",
       "    </tr>\n",
       "    <tr>\n",
       "      <th>4</th>\n",
       "      <td>4225</td>\n",
       "      <td>12.459295</td>\n",
       "    </tr>\n",
       "    <tr>\n",
       "      <th>5</th>\n",
       "      <td>4770</td>\n",
       "      <td>3.967206</td>\n",
       "    </tr>\n",
       "    <tr>\n",
       "      <th>6</th>\n",
       "      <td>Total Bags</td>\n",
       "      <td>36.066501</td>\n",
       "    </tr>\n",
       "    <tr>\n",
       "      <th>7</th>\n",
       "      <td>Small Bags</td>\n",
       "      <td>17.302778</td>\n",
       "    </tr>\n",
       "    <tr>\n",
       "      <th>8</th>\n",
       "      <td>Large Bags</td>\n",
       "      <td>3.477851</td>\n",
       "    </tr>\n",
       "    <tr>\n",
       "      <th>9</th>\n",
       "      <td>XLarge Bags</td>\n",
       "      <td>2.047390</td>\n",
       "    </tr>\n",
       "    <tr>\n",
       "      <th>10</th>\n",
       "      <td>type</td>\n",
       "      <td>4.205466</td>\n",
       "    </tr>\n",
       "    <tr>\n",
       "      <th>11</th>\n",
       "      <td>year</td>\n",
       "      <td>10.670157</td>\n",
       "    </tr>\n",
       "  </tbody>\n",
       "</table>\n",
       "</div>"
      ],
      "text/plain": [
       "        features  vif_Factor\n",
       "0           Date   11.389965\n",
       "1   AveragePrice    2.284112\n",
       "2   Total Volume   54.880263\n",
       "3           4046    6.915786\n",
       "4           4225   12.459295\n",
       "5           4770    3.967206\n",
       "6     Total Bags   36.066501\n",
       "7     Small Bags   17.302778\n",
       "8     Large Bags    3.477851\n",
       "9    XLarge Bags    2.047390\n",
       "10          type    4.205466\n",
       "11          year   10.670157"
      ]
     },
     "execution_count": 89,
     "metadata": {},
     "output_type": "execute_result"
    }
   ],
   "source": [
    "vif = pd.DataFrame()\n",
    "vif[\"features\"] = x.columns\n",
    "vif[\"vif_Factor\"] = [variance_inflation_factor(x_scaled.values, i) for i in range(x_scaled.shape[1])]\n",
    "vif"
   ]
  },
  {
   "cell_type": "code",
   "execution_count": 90,
   "id": "34ea9127",
   "metadata": {},
   "outputs": [],
   "source": [
    "# Observation: 1) here we can see that there are columns where the VIF value is >10.\n",
    "#              2) Also we can see that in correlation matrix ,there is high correlation exists between the totalbags and small bags \n",
    "# so we can delete any of the columns."
   ]
  },
  {
   "cell_type": "code",
   "execution_count": 91,
   "id": "e3f9e669",
   "metadata": {},
   "outputs": [],
   "source": [
    "x = x_scaled.drop(\"Total Volume\", axis = 1)"
   ]
  },
  {
   "cell_type": "code",
   "execution_count": 92,
   "id": "6b6fe018",
   "metadata": {},
   "outputs": [
    {
     "data": {
      "text/html": [
       "<div>\n",
       "<style scoped>\n",
       "    .dataframe tbody tr th:only-of-type {\n",
       "        vertical-align: middle;\n",
       "    }\n",
       "\n",
       "    .dataframe tbody tr th {\n",
       "        vertical-align: top;\n",
       "    }\n",
       "\n",
       "    .dataframe thead th {\n",
       "        text-align: right;\n",
       "    }\n",
       "</style>\n",
       "<table border=\"1\" class=\"dataframe\">\n",
       "  <thead>\n",
       "    <tr style=\"text-align: right;\">\n",
       "      <th></th>\n",
       "      <th>Date</th>\n",
       "      <th>AveragePrice</th>\n",
       "      <th>4046</th>\n",
       "      <th>4225</th>\n",
       "      <th>4770</th>\n",
       "      <th>Total Bags</th>\n",
       "      <th>Small Bags</th>\n",
       "      <th>Large Bags</th>\n",
       "      <th>XLarge Bags</th>\n",
       "      <th>type</th>\n",
       "      <th>year</th>\n",
       "    </tr>\n",
       "  </thead>\n",
       "  <tbody>\n",
       "    <tr>\n",
       "      <th>0</th>\n",
       "      <td>-0.664946</td>\n",
       "      <td>-0.195352</td>\n",
       "      <td>-0.657421</td>\n",
       "      <td>0.351430</td>\n",
       "      <td>-0.222566</td>\n",
       "      <td>-0.537507</td>\n",
       "      <td>-0.347421</td>\n",
       "      <td>-0.781153</td>\n",
       "      <td>-0.677919</td>\n",
       "      <td>-1.019047</td>\n",
       "      <td>-1.210013</td>\n",
       "    </tr>\n",
       "    <tr>\n",
       "      <th>1</th>\n",
       "      <td>-0.685424</td>\n",
       "      <td>-0.143510</td>\n",
       "      <td>-0.777179</td>\n",
       "      <td>0.269513</td>\n",
       "      <td>-0.175223</td>\n",
       "      <td>-0.498128</td>\n",
       "      <td>-0.311322</td>\n",
       "      <td>-0.771198</td>\n",
       "      <td>-0.677919</td>\n",
       "      <td>-1.019047</td>\n",
       "      <td>-1.210013</td>\n",
       "    </tr>\n",
       "    <tr>\n",
       "      <th>2</th>\n",
       "      <td>-0.705902</td>\n",
       "      <td>-1.232207</td>\n",
       "      <td>-0.731776</td>\n",
       "      <td>0.649333</td>\n",
       "      <td>0.023923</td>\n",
       "      <td>-0.566369</td>\n",
       "      <td>-0.374453</td>\n",
       "      <td>-0.758523</td>\n",
       "      <td>-0.677919</td>\n",
       "      <td>-1.019047</td>\n",
       "      <td>-1.210013</td>\n",
       "    </tr>\n",
       "    <tr>\n",
       "      <th>3</th>\n",
       "      <td>-0.726380</td>\n",
       "      <td>-0.843387</td>\n",
       "      <td>-0.632592</td>\n",
       "      <td>0.468799</td>\n",
       "      <td>-0.121164</td>\n",
       "      <td>-0.713068</td>\n",
       "      <td>-0.510991</td>\n",
       "      <td>-0.699123</td>\n",
       "      <td>-0.677919</td>\n",
       "      <td>-1.019047</td>\n",
       "      <td>-1.210013</td>\n",
       "    </tr>\n",
       "    <tr>\n",
       "      <th>4</th>\n",
       "      <td>-0.746858</td>\n",
       "      <td>-0.324959</td>\n",
       "      <td>-0.684504</td>\n",
       "      <td>0.262126</td>\n",
       "      <td>-0.110491</td>\n",
       "      <td>-0.686312</td>\n",
       "      <td>-0.490534</td>\n",
       "      <td>-0.607027</td>\n",
       "      <td>-0.677919</td>\n",
       "      <td>-1.019047</td>\n",
       "      <td>-1.210013</td>\n",
       "    </tr>\n",
       "  </tbody>\n",
       "</table>\n",
       "</div>"
      ],
      "text/plain": [
       "       Date  AveragePrice      4046      4225      4770  Total Bags  \\\n",
       "0 -0.664946     -0.195352 -0.657421  0.351430 -0.222566   -0.537507   \n",
       "1 -0.685424     -0.143510 -0.777179  0.269513 -0.175223   -0.498128   \n",
       "2 -0.705902     -1.232207 -0.731776  0.649333  0.023923   -0.566369   \n",
       "3 -0.726380     -0.843387 -0.632592  0.468799 -0.121164   -0.713068   \n",
       "4 -0.746858     -0.324959 -0.684504  0.262126 -0.110491   -0.686312   \n",
       "\n",
       "   Small Bags  Large Bags  XLarge Bags      type      year  \n",
       "0   -0.347421   -0.781153    -0.677919 -1.019047 -1.210013  \n",
       "1   -0.311322   -0.771198    -0.677919 -1.019047 -1.210013  \n",
       "2   -0.374453   -0.758523    -0.677919 -1.019047 -1.210013  \n",
       "3   -0.510991   -0.699123    -0.677919 -1.019047 -1.210013  \n",
       "4   -0.490534   -0.607027    -0.677919 -1.019047 -1.210013  "
      ]
     },
     "execution_count": 92,
     "metadata": {},
     "output_type": "execute_result"
    }
   ],
   "source": [
    "x.head()"
   ]
  },
  {
   "cell_type": "code",
   "execution_count": 93,
   "id": "5dca76a2",
   "metadata": {},
   "outputs": [
    {
     "data": {
      "text/plain": [
       "Unnamed: 0\n",
       "0    0\n",
       "1    0\n",
       "2    0\n",
       "3    0\n",
       "4    0\n",
       "Name: region, dtype: int32"
      ]
     },
     "execution_count": 93,
     "metadata": {},
     "output_type": "execute_result"
    }
   ],
   "source": [
    "y.head()"
   ]
  },
  {
   "cell_type": "markdown",
   "id": "1558e5a6",
   "metadata": {},
   "source": [
    "# Model Building:"
   ]
  },
  {
   "cell_type": "markdown",
   "id": "a7bd710c",
   "metadata": {},
   "source": [
    "## train_test_split:"
   ]
  },
  {
   "cell_type": "code",
   "execution_count": 94,
   "id": "82acddaa",
   "metadata": {},
   "outputs": [],
   "source": [
    "from sklearn.model_selection import  train_test_split, cross_val_score"
   ]
  },
  {
   "cell_type": "code",
   "execution_count": 95,
   "id": "f780278a",
   "metadata": {},
   "outputs": [],
   "source": [
    "x_train,x_test,y_train,y_test = train_test_split(x,y, test_size = 0.3, random_state = 0)"
   ]
  },
  {
   "cell_type": "code",
   "execution_count": 96,
   "id": "061d8a7b",
   "metadata": {},
   "outputs": [],
   "source": [
    "from sklearn.metrics import r2_score, mean_squared_error\n",
    "from sklearn.linear_model import LogisticRegression\n",
    "from sklearn.neighbors import KNeighborsClassifier\n",
    "from sklearn.tree import DecisionTreeClassifier\n",
    "from sklearn.ensemble import  RandomForestClassifier , GradientBoostingClassifier"
   ]
  },
  {
   "cell_type": "code",
   "execution_count": 97,
   "id": "da675b98",
   "metadata": {},
   "outputs": [],
   "source": [
    "# here we will use \"forloop\" for using models continously without getting interrupted:"
   ]
  },
  {
   "cell_type": "markdown",
   "id": "789b0302",
   "metadata": {},
   "source": [
    "# training:"
   ]
  },
  {
   "cell_type": "code",
   "execution_count": 98,
   "id": "3f54518e",
   "metadata": {},
   "outputs": [
    {
     "name": "stdout",
     "output_type": "stream",
     "text": [
      "LogisticRegression is trained now.\n",
      "K-Nearest Neighbors is trained now.\n",
      "Decision Tree is trained now.\n",
      "Random Forest is trained now.\n",
      "Gradient Boosting is trained now.\n"
     ]
    }
   ],
   "source": [
    "models = {\"LogisticRegression\" : LogisticRegression(),\n",
    "          \"K-Nearest Neighbors\": KNeighborsClassifier(),\n",
    "          \"Decision Tree\"      : DecisionTreeClassifier(),\n",
    "          \"Random Forest\"      : RandomForestClassifier(),\n",
    "          \"Gradient Boosting\"  : GradientBoostingClassifier()}\n",
    "\n",
    "for name, model in models.items():\n",
    "    model.fit(x_train,y_train)\n",
    "    print(name + \" is trained now.\")"
   ]
  },
  {
   "cell_type": "markdown",
   "id": "a91a83de",
   "metadata": {},
   "source": [
    "# testing:"
   ]
  },
  {
   "cell_type": "code",
   "execution_count": 99,
   "id": "5393f483",
   "metadata": {},
   "outputs": [
    {
     "name": "stdout",
     "output_type": "stream",
     "text": [
      "LogisticRegression: 52.59%\n",
      "K-Nearest Neighbors: 83.53%\n",
      "Decision Tree: 79.59%\n",
      "Random Forest: 90.96%\n",
      "Gradient Boosting: 83.50%\n"
     ]
    }
   ],
   "source": [
    "for name, model in models.items():\n",
    "    print(name + \": {:,.2f}%\".format(model.score(x_test,y_test)*100))"
   ]
  },
  {
   "cell_type": "markdown",
   "id": "47e70106",
   "metadata": {},
   "source": [
    "# Hyper Parameter tuning:"
   ]
  },
  {
   "cell_type": "markdown",
   "id": "07823086",
   "metadata": {},
   "source": [
    "## GridSearch CV:"
   ]
  },
  {
   "cell_type": "code",
   "execution_count": 100,
   "id": "3026121a",
   "metadata": {},
   "outputs": [],
   "source": [
    "from sklearn.model_selection import GridSearchCV"
   ]
  },
  {
   "cell_type": "code",
   "execution_count": 101,
   "id": "88c075e3",
   "metadata": {},
   "outputs": [],
   "source": [
    "parameters = {'criterion':{\"gini\", \"entropy\"},\n",
    "             'max_features':['auto', 'sqrt', 'log2'],\n",
    "             'n_estimators':int,\n",
    "             'max_depth':int}"
   ]
  },
  {
   "cell_type": "markdown",
   "id": "ee4d9daf",
   "metadata": {},
   "source": [
    "# Random Forest Classifier:"
   ]
  },
  {
   "cell_type": "code",
   "execution_count": 102,
   "id": "52ea3785",
   "metadata": {},
   "outputs": [],
   "source": [
    "# here we use \"Random Forest Classifier\" because this model has highest accuracy score when compared to the other models."
   ]
  },
  {
   "cell_type": "code",
   "execution_count": 103,
   "id": "79e82511",
   "metadata": {},
   "outputs": [
    {
     "name": "stdout",
     "output_type": "stream",
     "text": [
      "R2 Score: 80.10185232941447\n",
      "Cross Val Score: 69.59407530067561\n"
     ]
    }
   ],
   "source": [
    "RandomForest = RandomForestClassifier(criterion = 'gini', max_features = 'log2')\n",
    "RandomForest.fit(x_train,y_train)\n",
    "RandomForest.score(x_train,y_train)\n",
    "\n",
    "pred_decision = RandomForest.predict(x_test)\n",
    "RandomForestS = r2_score(y_test,pred_decision)\n",
    "print('R2 Score:', RandomForestS*100)\n",
    "\n",
    "RandomForestScore = cross_val_score(RandomForest,x,y,cv = 5)\n",
    "RandomForestC = RandomForestScore.mean()\n",
    "print(\"Cross Val Score:\",RandomForestC*100)"
   ]
  },
  {
   "cell_type": "code",
   "execution_count": 104,
   "id": "12a6dcca",
   "metadata": {},
   "outputs": [],
   "source": [
    "# Observation: Here we can see that our accuracy got reduced after using the \"GridSearch CV\" this is probably because of the \n",
    "# parameters used. My accuracy is very good before using GridSearch CV."
   ]
  },
  {
   "cell_type": "code",
   "execution_count": 105,
   "id": "4ad5760d",
   "metadata": {},
   "outputs": [],
   "source": [
    "conclusion = pd.DataFrame([RandomForest.predict(x_test)[:],pred_decision[:]],index = [\"Predicted\",\"Original\"])"
   ]
  },
  {
   "cell_type": "code",
   "execution_count": 106,
   "id": "c7612837",
   "metadata": {},
   "outputs": [
    {
     "data": {
      "text/html": [
       "<div>\n",
       "<style scoped>\n",
       "    .dataframe tbody tr th:only-of-type {\n",
       "        vertical-align: middle;\n",
       "    }\n",
       "\n",
       "    .dataframe tbody tr th {\n",
       "        vertical-align: top;\n",
       "    }\n",
       "\n",
       "    .dataframe thead th {\n",
       "        text-align: right;\n",
       "    }\n",
       "</style>\n",
       "<table border=\"1\" class=\"dataframe\">\n",
       "  <thead>\n",
       "    <tr style=\"text-align: right;\">\n",
       "      <th></th>\n",
       "      <th>0</th>\n",
       "      <th>1</th>\n",
       "      <th>2</th>\n",
       "      <th>3</th>\n",
       "      <th>4</th>\n",
       "      <th>5</th>\n",
       "      <th>6</th>\n",
       "      <th>7</th>\n",
       "      <th>8</th>\n",
       "      <th>9</th>\n",
       "      <th>...</th>\n",
       "      <th>5286</th>\n",
       "      <th>5287</th>\n",
       "      <th>5288</th>\n",
       "      <th>5289</th>\n",
       "      <th>5290</th>\n",
       "      <th>5291</th>\n",
       "      <th>5292</th>\n",
       "      <th>5293</th>\n",
       "      <th>5294</th>\n",
       "      <th>5295</th>\n",
       "    </tr>\n",
       "  </thead>\n",
       "  <tbody>\n",
       "    <tr>\n",
       "      <th>Predicted</th>\n",
       "      <td>11</td>\n",
       "      <td>38</td>\n",
       "      <td>0</td>\n",
       "      <td>41</td>\n",
       "      <td>35</td>\n",
       "      <td>14</td>\n",
       "      <td>1</td>\n",
       "      <td>43</td>\n",
       "      <td>5</td>\n",
       "      <td>33</td>\n",
       "      <td>...</td>\n",
       "      <td>1</td>\n",
       "      <td>15</td>\n",
       "      <td>41</td>\n",
       "      <td>33</td>\n",
       "      <td>22</td>\n",
       "      <td>30</td>\n",
       "      <td>20</td>\n",
       "      <td>29</td>\n",
       "      <td>10</td>\n",
       "      <td>47</td>\n",
       "    </tr>\n",
       "    <tr>\n",
       "      <th>Original</th>\n",
       "      <td>11</td>\n",
       "      <td>38</td>\n",
       "      <td>0</td>\n",
       "      <td>41</td>\n",
       "      <td>35</td>\n",
       "      <td>14</td>\n",
       "      <td>1</td>\n",
       "      <td>43</td>\n",
       "      <td>5</td>\n",
       "      <td>33</td>\n",
       "      <td>...</td>\n",
       "      <td>1</td>\n",
       "      <td>15</td>\n",
       "      <td>41</td>\n",
       "      <td>33</td>\n",
       "      <td>22</td>\n",
       "      <td>30</td>\n",
       "      <td>20</td>\n",
       "      <td>29</td>\n",
       "      <td>10</td>\n",
       "      <td>47</td>\n",
       "    </tr>\n",
       "  </tbody>\n",
       "</table>\n",
       "<p>2 rows × 5296 columns</p>\n",
       "</div>"
      ],
      "text/plain": [
       "           0     1     2     3     4     5     6     7     8     9     ...  \\\n",
       "Predicted    11    38     0    41    35    14     1    43     5    33  ...   \n",
       "Original     11    38     0    41    35    14     1    43     5    33  ...   \n",
       "\n",
       "           5286  5287  5288  5289  5290  5291  5292  5293  5294  5295  \n",
       "Predicted     1    15    41    33    22    30    20    29    10    47  \n",
       "Original      1    15    41    33    22    30    20    29    10    47  \n",
       "\n",
       "[2 rows x 5296 columns]"
      ]
     },
     "execution_count": 106,
     "metadata": {},
     "output_type": "execute_result"
    }
   ],
   "source": [
    "conclusion"
   ]
  },
  {
   "cell_type": "code",
   "execution_count": 150,
   "id": "e801b7e7",
   "metadata": {},
   "outputs": [],
   "source": [
    "# Therefore our model \"Random Forest\" is the best model and with the accuracy of about 90%."
   ]
  },
  {
   "cell_type": "markdown",
   "id": "c7b4e668",
   "metadata": {},
   "source": [
    "# b) Regression:"
   ]
  },
  {
   "cell_type": "code",
   "execution_count": 107,
   "id": "7efa5e2b",
   "metadata": {},
   "outputs": [
    {
     "data": {
      "text/html": [
       "<div>\n",
       "<style scoped>\n",
       "    .dataframe tbody tr th:only-of-type {\n",
       "        vertical-align: middle;\n",
       "    }\n",
       "\n",
       "    .dataframe tbody tr th {\n",
       "        vertical-align: top;\n",
       "    }\n",
       "\n",
       "    .dataframe thead th {\n",
       "        text-align: right;\n",
       "    }\n",
       "</style>\n",
       "<table border=\"1\" class=\"dataframe\">\n",
       "  <thead>\n",
       "    <tr style=\"text-align: right;\">\n",
       "      <th></th>\n",
       "      <th>Date</th>\n",
       "      <th>AveragePrice</th>\n",
       "      <th>Total Volume</th>\n",
       "      <th>4046</th>\n",
       "      <th>4225</th>\n",
       "      <th>4770</th>\n",
       "      <th>Total Bags</th>\n",
       "      <th>Small Bags</th>\n",
       "      <th>Large Bags</th>\n",
       "      <th>XLarge Bags</th>\n",
       "      <th>type</th>\n",
       "      <th>year</th>\n",
       "    </tr>\n",
       "  </thead>\n",
       "  <tbody>\n",
       "    <tr>\n",
       "      <th>0</th>\n",
       "      <td>-0.664946</td>\n",
       "      <td>-0.195352</td>\n",
       "      <td>-0.075324</td>\n",
       "      <td>-0.657421</td>\n",
       "      <td>0.351430</td>\n",
       "      <td>-0.222566</td>\n",
       "      <td>-0.537507</td>\n",
       "      <td>-0.347421</td>\n",
       "      <td>-0.781153</td>\n",
       "      <td>-0.677919</td>\n",
       "      <td>-1.019047</td>\n",
       "      <td>-1.210013</td>\n",
       "    </tr>\n",
       "    <tr>\n",
       "      <th>1</th>\n",
       "      <td>-0.685424</td>\n",
       "      <td>-0.143510</td>\n",
       "      <td>-0.147497</td>\n",
       "      <td>-0.777179</td>\n",
       "      <td>0.269513</td>\n",
       "      <td>-0.175223</td>\n",
       "      <td>-0.498128</td>\n",
       "      <td>-0.311322</td>\n",
       "      <td>-0.771198</td>\n",
       "      <td>-0.677919</td>\n",
       "      <td>-1.019047</td>\n",
       "      <td>-1.210013</td>\n",
       "    </tr>\n",
       "    <tr>\n",
       "      <th>2</th>\n",
       "      <td>-0.705902</td>\n",
       "      <td>-1.232207</td>\n",
       "      <td>0.205556</td>\n",
       "      <td>-0.731776</td>\n",
       "      <td>0.649333</td>\n",
       "      <td>0.023923</td>\n",
       "      <td>-0.566369</td>\n",
       "      <td>-0.374453</td>\n",
       "      <td>-0.758523</td>\n",
       "      <td>-0.677919</td>\n",
       "      <td>-1.019047</td>\n",
       "      <td>-1.210013</td>\n",
       "    </tr>\n",
       "    <tr>\n",
       "      <th>3</th>\n",
       "      <td>-0.726380</td>\n",
       "      <td>-0.843387</td>\n",
       "      <td>0.019655</td>\n",
       "      <td>-0.632592</td>\n",
       "      <td>0.468799</td>\n",
       "      <td>-0.121164</td>\n",
       "      <td>-0.713068</td>\n",
       "      <td>-0.510991</td>\n",
       "      <td>-0.699123</td>\n",
       "      <td>-0.677919</td>\n",
       "      <td>-1.019047</td>\n",
       "      <td>-1.210013</td>\n",
       "    </tr>\n",
       "    <tr>\n",
       "      <th>4</th>\n",
       "      <td>-0.746858</td>\n",
       "      <td>-0.324959</td>\n",
       "      <td>-0.180674</td>\n",
       "      <td>-0.684504</td>\n",
       "      <td>0.262126</td>\n",
       "      <td>-0.110491</td>\n",
       "      <td>-0.686312</td>\n",
       "      <td>-0.490534</td>\n",
       "      <td>-0.607027</td>\n",
       "      <td>-0.677919</td>\n",
       "      <td>-1.019047</td>\n",
       "      <td>-1.210013</td>\n",
       "    </tr>\n",
       "  </tbody>\n",
       "</table>\n",
       "</div>"
      ],
      "text/plain": [
       "       Date  AveragePrice  Total Volume      4046      4225      4770  \\\n",
       "0 -0.664946     -0.195352     -0.075324 -0.657421  0.351430 -0.222566   \n",
       "1 -0.685424     -0.143510     -0.147497 -0.777179  0.269513 -0.175223   \n",
       "2 -0.705902     -1.232207      0.205556 -0.731776  0.649333  0.023923   \n",
       "3 -0.726380     -0.843387      0.019655 -0.632592  0.468799 -0.121164   \n",
       "4 -0.746858     -0.324959     -0.180674 -0.684504  0.262126 -0.110491   \n",
       "\n",
       "   Total Bags  Small Bags  Large Bags  XLarge Bags      type      year  \n",
       "0   -0.537507   -0.347421   -0.781153    -0.677919 -1.019047 -1.210013  \n",
       "1   -0.498128   -0.311322   -0.771198    -0.677919 -1.019047 -1.210013  \n",
       "2   -0.566369   -0.374453   -0.758523    -0.677919 -1.019047 -1.210013  \n",
       "3   -0.713068   -0.510991   -0.699123    -0.677919 -1.019047 -1.210013  \n",
       "4   -0.686312   -0.490534   -0.607027    -0.677919 -1.019047 -1.210013  "
      ]
     },
     "execution_count": 107,
     "metadata": {},
     "output_type": "execute_result"
    }
   ],
   "source": [
    "x_scaled.head()"
   ]
  },
  {
   "cell_type": "markdown",
   "id": "1d00618f",
   "metadata": {},
   "source": [
    "## Separating the independent and target variables:"
   ]
  },
  {
   "cell_type": "code",
   "execution_count": 108,
   "id": "dfb0df29",
   "metadata": {},
   "outputs": [],
   "source": [
    "x_reg = x_scaled.drop(\"AveragePrice\", axis = 1)\n",
    "y_reg = x_scaled[\"AveragePrice\"]"
   ]
  },
  {
   "cell_type": "code",
   "execution_count": 109,
   "id": "c94bbdb5",
   "metadata": {},
   "outputs": [
    {
     "data": {
      "text/html": [
       "<div>\n",
       "<style scoped>\n",
       "    .dataframe tbody tr th:only-of-type {\n",
       "        vertical-align: middle;\n",
       "    }\n",
       "\n",
       "    .dataframe tbody tr th {\n",
       "        vertical-align: top;\n",
       "    }\n",
       "\n",
       "    .dataframe thead th {\n",
       "        text-align: right;\n",
       "    }\n",
       "</style>\n",
       "<table border=\"1\" class=\"dataframe\">\n",
       "  <thead>\n",
       "    <tr style=\"text-align: right;\">\n",
       "      <th></th>\n",
       "      <th>Date</th>\n",
       "      <th>Total Volume</th>\n",
       "      <th>4046</th>\n",
       "      <th>4225</th>\n",
       "      <th>4770</th>\n",
       "      <th>Total Bags</th>\n",
       "      <th>Small Bags</th>\n",
       "      <th>Large Bags</th>\n",
       "      <th>XLarge Bags</th>\n",
       "      <th>type</th>\n",
       "      <th>year</th>\n",
       "    </tr>\n",
       "  </thead>\n",
       "  <tbody>\n",
       "    <tr>\n",
       "      <th>0</th>\n",
       "      <td>-0.664946</td>\n",
       "      <td>-0.075324</td>\n",
       "      <td>-0.657421</td>\n",
       "      <td>0.351430</td>\n",
       "      <td>-0.222566</td>\n",
       "      <td>-0.537507</td>\n",
       "      <td>-0.347421</td>\n",
       "      <td>-0.781153</td>\n",
       "      <td>-0.677919</td>\n",
       "      <td>-1.019047</td>\n",
       "      <td>-1.210013</td>\n",
       "    </tr>\n",
       "    <tr>\n",
       "      <th>1</th>\n",
       "      <td>-0.685424</td>\n",
       "      <td>-0.147497</td>\n",
       "      <td>-0.777179</td>\n",
       "      <td>0.269513</td>\n",
       "      <td>-0.175223</td>\n",
       "      <td>-0.498128</td>\n",
       "      <td>-0.311322</td>\n",
       "      <td>-0.771198</td>\n",
       "      <td>-0.677919</td>\n",
       "      <td>-1.019047</td>\n",
       "      <td>-1.210013</td>\n",
       "    </tr>\n",
       "    <tr>\n",
       "      <th>2</th>\n",
       "      <td>-0.705902</td>\n",
       "      <td>0.205556</td>\n",
       "      <td>-0.731776</td>\n",
       "      <td>0.649333</td>\n",
       "      <td>0.023923</td>\n",
       "      <td>-0.566369</td>\n",
       "      <td>-0.374453</td>\n",
       "      <td>-0.758523</td>\n",
       "      <td>-0.677919</td>\n",
       "      <td>-1.019047</td>\n",
       "      <td>-1.210013</td>\n",
       "    </tr>\n",
       "    <tr>\n",
       "      <th>3</th>\n",
       "      <td>-0.726380</td>\n",
       "      <td>0.019655</td>\n",
       "      <td>-0.632592</td>\n",
       "      <td>0.468799</td>\n",
       "      <td>-0.121164</td>\n",
       "      <td>-0.713068</td>\n",
       "      <td>-0.510991</td>\n",
       "      <td>-0.699123</td>\n",
       "      <td>-0.677919</td>\n",
       "      <td>-1.019047</td>\n",
       "      <td>-1.210013</td>\n",
       "    </tr>\n",
       "    <tr>\n",
       "      <th>4</th>\n",
       "      <td>-0.746858</td>\n",
       "      <td>-0.180674</td>\n",
       "      <td>-0.684504</td>\n",
       "      <td>0.262126</td>\n",
       "      <td>-0.110491</td>\n",
       "      <td>-0.686312</td>\n",
       "      <td>-0.490534</td>\n",
       "      <td>-0.607027</td>\n",
       "      <td>-0.677919</td>\n",
       "      <td>-1.019047</td>\n",
       "      <td>-1.210013</td>\n",
       "    </tr>\n",
       "    <tr>\n",
       "      <th>...</th>\n",
       "      <td>...</td>\n",
       "      <td>...</td>\n",
       "      <td>...</td>\n",
       "      <td>...</td>\n",
       "      <td>...</td>\n",
       "      <td>...</td>\n",
       "      <td>...</td>\n",
       "      <td>...</td>\n",
       "      <td>...</td>\n",
       "      <td>...</td>\n",
       "      <td>...</td>\n",
       "    </tr>\n",
       "    <tr>\n",
       "      <th>17646</th>\n",
       "      <td>1.587626</td>\n",
       "      <td>-0.678214</td>\n",
       "      <td>-0.462066</td>\n",
       "      <td>-0.926028</td>\n",
       "      <td>-1.228986</td>\n",
       "      <td>-0.340422</td>\n",
       "      <td>-0.175753</td>\n",
       "      <td>-0.412401</td>\n",
       "      <td>-0.677919</td>\n",
       "      <td>0.981309</td>\n",
       "      <td>1.980756</td>\n",
       "    </tr>\n",
       "    <tr>\n",
       "      <th>17647</th>\n",
       "      <td>1.567148</td>\n",
       "      <td>-0.771326</td>\n",
       "      <td>-0.618019</td>\n",
       "      <td>-0.670600</td>\n",
       "      <td>-1.228986</td>\n",
       "      <td>-0.509513</td>\n",
       "      <td>-0.331971</td>\n",
       "      <td>-0.484991</td>\n",
       "      <td>-0.677919</td>\n",
       "      <td>0.981309</td>\n",
       "      <td>1.980756</td>\n",
       "    </tr>\n",
       "    <tr>\n",
       "      <th>17648</th>\n",
       "      <td>1.546670</td>\n",
       "      <td>-0.775274</td>\n",
       "      <td>-0.617966</td>\n",
       "      <td>-0.778893</td>\n",
       "      <td>0.445710</td>\n",
       "      <td>-0.503366</td>\n",
       "      <td>-0.313756</td>\n",
       "      <td>-0.950743</td>\n",
       "      <td>-0.677919</td>\n",
       "      <td>0.981309</td>\n",
       "      <td>1.980756</td>\n",
       "    </tr>\n",
       "    <tr>\n",
       "      <th>17649</th>\n",
       "      <td>1.526192</td>\n",
       "      <td>-0.701797</td>\n",
       "      <td>-0.547011</td>\n",
       "      <td>-0.716371</td>\n",
       "      <td>0.445399</td>\n",
       "      <td>-0.434176</td>\n",
       "      <td>-0.250408</td>\n",
       "      <td>-0.916068</td>\n",
       "      <td>-0.677919</td>\n",
       "      <td>0.981309</td>\n",
       "      <td>1.980756</td>\n",
       "    </tr>\n",
       "    <tr>\n",
       "      <th>17650</th>\n",
       "      <td>1.505714</td>\n",
       "      <td>-0.667381</td>\n",
       "      <td>-0.359671</td>\n",
       "      <td>-0.791650</td>\n",
       "      <td>0.157768</td>\n",
       "      <td>-0.393236</td>\n",
       "      <td>-0.211755</td>\n",
       "      <td>-1.048116</td>\n",
       "      <td>-0.677919</td>\n",
       "      <td>0.981309</td>\n",
       "      <td>1.980756</td>\n",
       "    </tr>\n",
       "  </tbody>\n",
       "</table>\n",
       "<p>17651 rows × 11 columns</p>\n",
       "</div>"
      ],
      "text/plain": [
       "           Date  Total Volume      4046      4225      4770  Total Bags  \\\n",
       "0     -0.664946     -0.075324 -0.657421  0.351430 -0.222566   -0.537507   \n",
       "1     -0.685424     -0.147497 -0.777179  0.269513 -0.175223   -0.498128   \n",
       "2     -0.705902      0.205556 -0.731776  0.649333  0.023923   -0.566369   \n",
       "3     -0.726380      0.019655 -0.632592  0.468799 -0.121164   -0.713068   \n",
       "4     -0.746858     -0.180674 -0.684504  0.262126 -0.110491   -0.686312   \n",
       "...         ...           ...       ...       ...       ...         ...   \n",
       "17646  1.587626     -0.678214 -0.462066 -0.926028 -1.228986   -0.340422   \n",
       "17647  1.567148     -0.771326 -0.618019 -0.670600 -1.228986   -0.509513   \n",
       "17648  1.546670     -0.775274 -0.617966 -0.778893  0.445710   -0.503366   \n",
       "17649  1.526192     -0.701797 -0.547011 -0.716371  0.445399   -0.434176   \n",
       "17650  1.505714     -0.667381 -0.359671 -0.791650  0.157768   -0.393236   \n",
       "\n",
       "       Small Bags  Large Bags  XLarge Bags      type      year  \n",
       "0       -0.347421   -0.781153    -0.677919 -1.019047 -1.210013  \n",
       "1       -0.311322   -0.771198    -0.677919 -1.019047 -1.210013  \n",
       "2       -0.374453   -0.758523    -0.677919 -1.019047 -1.210013  \n",
       "3       -0.510991   -0.699123    -0.677919 -1.019047 -1.210013  \n",
       "4       -0.490534   -0.607027    -0.677919 -1.019047 -1.210013  \n",
       "...           ...         ...          ...       ...       ...  \n",
       "17646   -0.175753   -0.412401    -0.677919  0.981309  1.980756  \n",
       "17647   -0.331971   -0.484991    -0.677919  0.981309  1.980756  \n",
       "17648   -0.313756   -0.950743    -0.677919  0.981309  1.980756  \n",
       "17649   -0.250408   -0.916068    -0.677919  0.981309  1.980756  \n",
       "17650   -0.211755   -1.048116    -0.677919  0.981309  1.980756  \n",
       "\n",
       "[17651 rows x 11 columns]"
      ]
     },
     "execution_count": 109,
     "metadata": {},
     "output_type": "execute_result"
    }
   ],
   "source": [
    "x_reg.drop(\"Total Volume\",axis = 1)\n",
    "x_reg"
   ]
  },
  {
   "cell_type": "markdown",
   "id": "be12d67d",
   "metadata": {},
   "source": [
    "# Checking the random_state:"
   ]
  },
  {
   "cell_type": "code",
   "execution_count": 110,
   "id": "f88dbc64",
   "metadata": {},
   "outputs": [],
   "source": [
    "from sklearn import metrics\n",
    "from sklearn.linear_model import LinearRegression\n",
    "#from sklearn.model_selection import train_test_split\n",
    "from sklearn.metrics import mean_absolute_error\n",
    "from sklearn.metrics import mean_squared_error\n",
    "from sklearn.metrics import r2_score\n",
    "#from sklearn.model_selection import cross_val_score\n",
    "from sklearn.ensemble import RandomForestRegressor\n",
    "from sklearn.tree import DecisionTreeRegressor\n",
    "from sklearn.neighbors import KNeighborsRegressor as KNN\n",
    "from sklearn.svm import SVR\n"
   ]
  },
  {
   "cell_type": "code",
   "execution_count": 111,
   "id": "7e784c37",
   "metadata": {},
   "outputs": [
    {
     "name": "stdout",
     "output_type": "stream",
     "text": [
      "Maximum r2 score is  0.09025121720078322  on Random_state  11\n"
     ]
    }
   ],
   "source": [
    "maxAccu=0\n",
    "maxRS=0\n",
    "for i in range(1,100):\n",
    "    x_train,x_test,y_train,y_test = train_test_split(x,y,test_size=.30, random_state=i)\n",
    "    mod = LinearRegression()\n",
    "    mod.fit(x_train, y_train)\n",
    "    pred = mod.predict(x_test)\n",
    "    acc=r2_score(y_test, pred)\n",
    "    if acc>maxAccu:\n",
    "        maxAccu=acc\n",
    "        maxRS=i\n",
    "print(\"Maximum r2 score is \",maxAccu,\" on Random_state \",maxRS)"
   ]
  },
  {
   "cell_type": "code",
   "execution_count": 112,
   "id": "57ff5f50",
   "metadata": {},
   "outputs": [],
   "source": [
    "# Observation: Here we got the accuracy as 58% for the random_state = 28"
   ]
  },
  {
   "cell_type": "markdown",
   "id": "7587402f",
   "metadata": {},
   "source": [
    "# train_test_split:"
   ]
  },
  {
   "cell_type": "markdown",
   "id": "18385807",
   "metadata": {},
   "source": [
    "## splitting the data at the \"maxRs\" = 28:"
   ]
  },
  {
   "cell_type": "code",
   "execution_count": 113,
   "id": "e373afc0",
   "metadata": {},
   "outputs": [],
   "source": [
    "x_reg_train,x_reg_test,y_reg_train,y_reg_test=train_test_split(x_reg,y_reg,test_size=.30,random_state=maxRS)"
   ]
  },
  {
   "cell_type": "code",
   "execution_count": 114,
   "id": "c0bba3d5",
   "metadata": {},
   "outputs": [],
   "source": [
    "# Observation: here we can see that the data is into 70% training and 30% testing."
   ]
  },
  {
   "cell_type": "markdown",
   "id": "c92e385a",
   "metadata": {},
   "source": [
    "# Linear Regression:"
   ]
  },
  {
   "cell_type": "code",
   "execution_count": 115,
   "id": "37b792c5",
   "metadata": {},
   "outputs": [
    {
     "name": "stdout",
     "output_type": "stream",
     "text": [
      "R2_score: 0.5673319277129034\n"
     ]
    }
   ],
   "source": [
    "# Checking r2score for Linear Regression\n",
    "LR = LinearRegression()\n",
    "LR.fit(x_reg_train,y_reg_train)\n",
    "\n",
    "# prediction\n",
    "predLR=LR.predict(x_reg_test)\n",
    "print('R2_score:',metrics.r2_score(y_reg_test,predLR))"
   ]
  },
  {
   "cell_type": "code",
   "execution_count": 116,
   "id": "53679f20",
   "metadata": {},
   "outputs": [],
   "source": [
    "# Observation: the R2 Score in Linear Regression is 58%"
   ]
  },
  {
   "cell_type": "code",
   "execution_count": 117,
   "id": "d41b18f1",
   "metadata": {},
   "outputs": [
    {
     "name": "stdout",
     "output_type": "stream",
     "text": [
      "0.5217125264028105\n",
      "0.43769312186889464\n",
      "0.661583798070127\n"
     ]
    }
   ],
   "source": [
    "# Mean Absolute Error (MAE)\n",
    "\n",
    "print(metrics.mean_absolute_error(y_reg_test, predLR))\n",
    "\n",
    "# Mean Squared Error (MSE)\n",
    "print(metrics.mean_squared_error(y_reg_test, predLR))\n",
    "\n",
    "# Root Mean Squared Error (RMSE)\n",
    "print(np.sqrt(metrics.mean_squared_error(y_reg_test, predLR)))"
   ]
  },
  {
   "cell_type": "markdown",
   "id": "1e3dc070",
   "metadata": {},
   "source": [
    "# Random Forest Regressor:"
   ]
  },
  {
   "cell_type": "code",
   "execution_count": 118,
   "id": "cb8372fc",
   "metadata": {},
   "outputs": [
    {
     "name": "stdout",
     "output_type": "stream",
     "text": [
      "R2_Score: 0.8842000125448842\n"
     ]
    }
   ],
   "source": [
    "#Checking R2 score for Random Forest Regressor:\n",
    "\n",
    "RFR=RandomForestRegressor()\n",
    "RFR.fit(x_reg_train,y_reg_train)\n",
    "\n",
    "# prediction\n",
    "predRFR=RFR.predict(x_reg_test)\n",
    "print('R2_Score:',metrics.r2_score(y_reg_test,predRFR))"
   ]
  },
  {
   "cell_type": "code",
   "execution_count": 119,
   "id": "7d881776",
   "metadata": {},
   "outputs": [],
   "source": [
    "# Observation: here we can see that accuracy R2 Score is 87%"
   ]
  },
  {
   "cell_type": "code",
   "execution_count": 120,
   "id": "3b109f0d",
   "metadata": {},
   "outputs": [
    {
     "name": "stdout",
     "output_type": "stream",
     "text": [
      "0.2400620748555879\n",
      "0.11714489990834487\n",
      "0.3422643713686028\n"
     ]
    }
   ],
   "source": [
    "# Mean Absolute Error (MAE)\n",
    "\n",
    "print(metrics.mean_absolute_error(y_reg_test, predRFR))\n",
    "\n",
    "# Mean Squared Error (MSE)\n",
    "print(metrics.mean_squared_error(y_reg_test, predRFR))\n",
    "\n",
    "# Root Mean Squared Error (RMSE)\n",
    "print(np.sqrt(metrics.mean_squared_error(y_reg_test, predRFR)))"
   ]
  },
  {
   "cell_type": "markdown",
   "id": "94530bb1",
   "metadata": {},
   "source": [
    "# Decision Tree Regressor:"
   ]
  },
  {
   "cell_type": "code",
   "execution_count": 121,
   "id": "5f2b976e",
   "metadata": {},
   "outputs": [
    {
     "name": "stdout",
     "output_type": "stream",
     "text": [
      "R2_Score: 0.7514934238376918\n"
     ]
    }
   ],
   "source": [
    "# Checking R2 score for Decision Tree Regressor\n",
    "DTR=DecisionTreeRegressor()\n",
    "DTR.fit(x_reg_train,y_reg_train)\n",
    "\n",
    "# prediction\n",
    "predDTR=DTR.predict(x_reg_test)\n",
    "print('R2_Score:',metrics.r2_score(y_reg_test,predDTR))"
   ]
  },
  {
   "cell_type": "code",
   "execution_count": 122,
   "id": "ff1365a2",
   "metadata": {},
   "outputs": [],
   "source": [
    "# Observation: here we can see that accuracy R2 Score is 76%"
   ]
  },
  {
   "cell_type": "code",
   "execution_count": 123,
   "id": "af589d04",
   "metadata": {},
   "outputs": [
    {
     "name": "stdout",
     "output_type": "stream",
     "text": [
      "0.3266993068189878\n",
      "0.2513927559999317\n",
      "0.5013908216151665\n"
     ]
    }
   ],
   "source": [
    "# Mean Absolute Error (MAE)\n",
    "print(metrics.mean_absolute_error(y_reg_test, predDTR))\n",
    "\n",
    "# Mean Squared Error (MSE)\n",
    "print(metrics.mean_squared_error(y_reg_test, predDTR))\n",
    "\n",
    "# Root Mean Squared Error (RMSE)\n",
    "print(np.sqrt(metrics.mean_squared_error(y_reg_test, predDTR)))"
   ]
  },
  {
   "cell_type": "code",
   "execution_count": 124,
   "id": "b16afe0a",
   "metadata": {},
   "outputs": [],
   "source": [
    "# Observation: here we can see that accuracy R2 Score is 76%"
   ]
  },
  {
   "cell_type": "markdown",
   "id": "e3d7a44e",
   "metadata": {},
   "source": [
    "# KNN Regressor:"
   ]
  },
  {
   "cell_type": "code",
   "execution_count": 125,
   "id": "6955682f",
   "metadata": {},
   "outputs": [
    {
     "name": "stdout",
     "output_type": "stream",
     "text": [
      "R2_Score: 0.8473774978281606\n"
     ]
    }
   ],
   "source": [
    "# Checking R2 score for KNN regressor\n",
    "\n",
    "knn=KNN()\n",
    "knn.fit(x_reg_train,y_reg_train)\n",
    "\n",
    "#prediction\n",
    "predknn=knn.predict(x_reg_test)\n",
    "print('R2_Score:',metrics.r2_score(y_reg_test,predknn))"
   ]
  },
  {
   "cell_type": "code",
   "execution_count": 126,
   "id": "a79e40bf",
   "metadata": {},
   "outputs": [
    {
     "name": "stdout",
     "output_type": "stream",
     "text": [
      "0.2737220197519991\n",
      "0.15439507493566162\n",
      "0.39293138705842984\n"
     ]
    }
   ],
   "source": [
    "# Mean Absolute Error (MAE)\n",
    "print(metrics.mean_absolute_error(y_reg_test, predknn))\n",
    "\n",
    "# Mean Squared Error (MSE)\n",
    "print(metrics.mean_squared_error(y_reg_test, predknn))\n",
    "\n",
    "# Root Mean Squared Error (RMSE)\n",
    "print(np.sqrt(metrics.mean_squared_error(y_reg_test, predknn)))\n"
   ]
  },
  {
   "cell_type": "code",
   "execution_count": 127,
   "id": "36744d47",
   "metadata": {},
   "outputs": [],
   "source": [
    "# Observation: here we can see that accuracy R2 Score is 84%"
   ]
  },
  {
   "cell_type": "markdown",
   "id": "58be3018",
   "metadata": {},
   "source": [
    "# Support Vector Regressor:"
   ]
  },
  {
   "cell_type": "code",
   "execution_count": 128,
   "id": "51ef8206",
   "metadata": {},
   "outputs": [
    {
     "name": "stdout",
     "output_type": "stream",
     "text": [
      "R2_Score: 0.735960622665874\n"
     ]
    }
   ],
   "source": [
    "# Checking R2 score for KNN regressor\n",
    "svr=SVR()\n",
    "svr.fit(x_reg_train,y_reg_train)\n",
    "\n",
    "#prediction\n",
    "predsvr=svr.predict(x_reg_test)\n",
    "print('R2_Score:',metrics.r2_score(y_reg_test,predsvr))"
   ]
  },
  {
   "cell_type": "code",
   "execution_count": 129,
   "id": "11eb48b8",
   "metadata": {},
   "outputs": [
    {
     "name": "stdout",
     "output_type": "stream",
     "text": [
      "0.3825027318678876\n",
      "0.26710595665355086\n",
      "0.5168229451693789\n"
     ]
    }
   ],
   "source": [
    "# Mean Absolute Error (MAE)\n",
    "print(metrics.mean_absolute_error(y_reg_test, predsvr))\n",
    "\n",
    "# Mean Squared Error (MSE)\n",
    "print(metrics.mean_squared_error(y_reg_test, predsvr))\n",
    "\n",
    "# Root Mean Squared Error (RMSE)\n",
    "print(np.sqrt(metrics.mean_squared_error(y_reg_test, predsvr)))"
   ]
  },
  {
   "cell_type": "code",
   "execution_count": 130,
   "id": "356be005",
   "metadata": {},
   "outputs": [],
   "source": [
    "# Observation: here we can see that accuracy R2 Score is 74%"
   ]
  },
  {
   "cell_type": "markdown",
   "id": "59fef3bd",
   "metadata": {},
   "source": [
    "# Checking the Cross Validation Score:"
   ]
  },
  {
   "cell_type": "code",
   "execution_count": 131,
   "id": "a4356649",
   "metadata": {},
   "outputs": [
    {
     "name": "stdout",
     "output_type": "stream",
     "text": [
      "0.16695082686514245\n"
     ]
    }
   ],
   "source": [
    "# Checking cv score for Linear Regression\n",
    "print(cross_val_score(LR,x_reg,y_reg,cv=10).mean())"
   ]
  },
  {
   "cell_type": "code",
   "execution_count": 132,
   "id": "275273a0",
   "metadata": {},
   "outputs": [
    {
     "name": "stdout",
     "output_type": "stream",
     "text": [
      "0.4261118982992674\n"
     ]
    }
   ],
   "source": [
    "# Checking cv score for Random Forest Regression\n",
    "print(cross_val_score(RFR,x_reg,y_reg,cv=5).mean())"
   ]
  },
  {
   "cell_type": "code",
   "execution_count": 133,
   "id": "8dc7a3c8",
   "metadata": {},
   "outputs": [
    {
     "name": "stdout",
     "output_type": "stream",
     "text": [
      "-0.01588966317564049\n"
     ]
    }
   ],
   "source": [
    "# Checking cv score for Decision Tree Regression\n",
    "print(cross_val_score(DTR,x_reg,y_reg,cv=5).mean())"
   ]
  },
  {
   "cell_type": "code",
   "execution_count": 134,
   "id": "1cc60882",
   "metadata": {},
   "outputs": [
    {
     "name": "stdout",
     "output_type": "stream",
     "text": [
      "0.16933301200136913\n"
     ]
    }
   ],
   "source": [
    "# Checking cv score for KNN Regression\n",
    "print(cross_val_score(knn,x_reg,y_reg,cv=5).mean())"
   ]
  },
  {
   "cell_type": "code",
   "execution_count": 135,
   "id": "2725ac56",
   "metadata": {},
   "outputs": [
    {
     "name": "stdout",
     "output_type": "stream",
     "text": [
      "0.42104819353669515\n"
     ]
    }
   ],
   "source": [
    "# Checking cv score for SVR Regression\n",
    "print(cross_val_score(svr,x_reg,y_reg,cv=5).mean())"
   ]
  },
  {
   "cell_type": "markdown",
   "id": "67fd85cf",
   "metadata": {},
   "source": [
    " Observation: Here we can see that there are the R2 Score is high for \"Random Forest Regression\" with 87.9% accuracy and so we can consider this model  \"best fitting model\"."
   ]
  },
  {
   "cell_type": "markdown",
   "id": "7c200df1",
   "metadata": {},
   "source": [
    "# Hyper Parameter Tuning:"
   ]
  },
  {
   "cell_type": "code",
   "execution_count": 136,
   "id": "bded0011",
   "metadata": {},
   "outputs": [],
   "source": [
    "# Here we chose our best model \"Random Forest Regression\" :"
   ]
  },
  {
   "cell_type": "code",
   "execution_count": 140,
   "id": "09ae3688",
   "metadata": {},
   "outputs": [],
   "source": [
    "parameters = {'criterion':['mse', 'mae'],\n",
    "             'max_features':['auto', 'sqrt', 'log2'],\n",
    "             'n_estimators':[0,20],\n",
    "             'max_depth':[2,4,6]}"
   ]
  },
  {
   "cell_type": "code",
   "execution_count": 138,
   "id": "26801e56",
   "metadata": {},
   "outputs": [],
   "source": [
    "GCV=GridSearchCV(RandomForestRegressor(),parameters,cv=5)"
   ]
  },
  {
   "cell_type": "code",
   "execution_count": 139,
   "id": "70733020",
   "metadata": {},
   "outputs": [
    {
     "data": {
      "text/plain": [
       "GridSearchCV(cv=5, estimator=RandomForestRegressor(),\n",
       "             param_grid={'criterion': ['mse', 'mae'], 'max_depth': [2, 4, 6],\n",
       "                         'max_features': ['auto', 'sqrt', 'log2'],\n",
       "                         'n_estimators': [0, 20]})"
      ]
     },
     "execution_count": 139,
     "metadata": {},
     "output_type": "execute_result"
    }
   ],
   "source": [
    "GCV.fit(x_reg_train,y_reg_train)"
   ]
  },
  {
   "cell_type": "code",
   "execution_count": 141,
   "id": "d275c831",
   "metadata": {},
   "outputs": [
    {
     "name": "stdout",
     "output_type": "stream",
     "text": [
      " variance :  0.6807159695381001\n",
      "Residual sum of squares: 0.31\n"
     ]
    }
   ],
   "source": [
    "print (\" variance : \", GCV.best_score_)\n",
    "print(\"Residual sum of squares: %.2f\"\n",
    "              % np.mean((GCV.predict(x_reg_test) - y_reg_test) ** 2))"
   ]
  },
  {
   "cell_type": "code",
   "execution_count": 142,
   "id": "2e48a71c",
   "metadata": {},
   "outputs": [],
   "source": [
    "# Observation : Random Forest Regression is with good accuracy without \"Grid Search CV\""
   ]
  },
  {
   "cell_type": "markdown",
   "id": "38ca4acb",
   "metadata": {},
   "source": [
    "# Conclusion:"
   ]
  },
  {
   "cell_type": "code",
   "execution_count": 147,
   "id": "bd725bfa",
   "metadata": {},
   "outputs": [],
   "source": [
    "conclusion = pd.DataFrame([RandomForest.predict(x_reg_test)[:],pred_decision[:]],index = [\"Predicted\",\"Original\"])"
   ]
  },
  {
   "cell_type": "code",
   "execution_count": 148,
   "id": "2d3b2309",
   "metadata": {},
   "outputs": [
    {
     "data": {
      "text/html": [
       "<div>\n",
       "<style scoped>\n",
       "    .dataframe tbody tr th:only-of-type {\n",
       "        vertical-align: middle;\n",
       "    }\n",
       "\n",
       "    .dataframe tbody tr th {\n",
       "        vertical-align: top;\n",
       "    }\n",
       "\n",
       "    .dataframe thead th {\n",
       "        text-align: right;\n",
       "    }\n",
       "</style>\n",
       "<table border=\"1\" class=\"dataframe\">\n",
       "  <thead>\n",
       "    <tr style=\"text-align: right;\">\n",
       "      <th></th>\n",
       "      <th>0</th>\n",
       "      <th>1</th>\n",
       "      <th>2</th>\n",
       "      <th>3</th>\n",
       "      <th>4</th>\n",
       "      <th>5</th>\n",
       "      <th>6</th>\n",
       "      <th>7</th>\n",
       "      <th>8</th>\n",
       "      <th>9</th>\n",
       "      <th>...</th>\n",
       "      <th>5286</th>\n",
       "      <th>5287</th>\n",
       "      <th>5288</th>\n",
       "      <th>5289</th>\n",
       "      <th>5290</th>\n",
       "      <th>5291</th>\n",
       "      <th>5292</th>\n",
       "      <th>5293</th>\n",
       "      <th>5294</th>\n",
       "      <th>5295</th>\n",
       "    </tr>\n",
       "  </thead>\n",
       "  <tbody>\n",
       "    <tr>\n",
       "      <th>Predicted</th>\n",
       "      <td>1</td>\n",
       "      <td>8</td>\n",
       "      <td>20</td>\n",
       "      <td>40</td>\n",
       "      <td>26</td>\n",
       "      <td>36</td>\n",
       "      <td>39</td>\n",
       "      <td>8</td>\n",
       "      <td>38</td>\n",
       "      <td>29</td>\n",
       "      <td>...</td>\n",
       "      <td>32</td>\n",
       "      <td>24</td>\n",
       "      <td>30</td>\n",
       "      <td>7</td>\n",
       "      <td>34</td>\n",
       "      <td>12</td>\n",
       "      <td>18</td>\n",
       "      <td>48</td>\n",
       "      <td>26</td>\n",
       "      <td>44</td>\n",
       "    </tr>\n",
       "    <tr>\n",
       "      <th>Original</th>\n",
       "      <td>11</td>\n",
       "      <td>38</td>\n",
       "      <td>0</td>\n",
       "      <td>41</td>\n",
       "      <td>35</td>\n",
       "      <td>14</td>\n",
       "      <td>1</td>\n",
       "      <td>43</td>\n",
       "      <td>5</td>\n",
       "      <td>33</td>\n",
       "      <td>...</td>\n",
       "      <td>1</td>\n",
       "      <td>15</td>\n",
       "      <td>41</td>\n",
       "      <td>33</td>\n",
       "      <td>22</td>\n",
       "      <td>30</td>\n",
       "      <td>20</td>\n",
       "      <td>29</td>\n",
       "      <td>10</td>\n",
       "      <td>47</td>\n",
       "    </tr>\n",
       "  </tbody>\n",
       "</table>\n",
       "<p>2 rows × 5296 columns</p>\n",
       "</div>"
      ],
      "text/plain": [
       "           0     1     2     3     4     5     6     7     8     9     ...  \\\n",
       "Predicted     1     8    20    40    26    36    39     8    38    29  ...   \n",
       "Original     11    38     0    41    35    14     1    43     5    33  ...   \n",
       "\n",
       "           5286  5287  5288  5289  5290  5291  5292  5293  5294  5295  \n",
       "Predicted    32    24    30     7    34    12    18    48    26    44  \n",
       "Original      1    15    41    33    22    30    20    29    10    47  \n",
       "\n",
       "[2 rows x 5296 columns]"
      ]
     },
     "execution_count": 148,
     "metadata": {},
     "output_type": "execute_result"
    }
   ],
   "source": [
    "conclusion"
   ]
  },
  {
   "cell_type": "markdown",
   "id": "358e41e9",
   "metadata": {},
   "source": [
    "Observation: Here we can see that there are the R2 Score is high for \"Random Forest Regression\" with 87.9% accuracy and so we can consider this model  \"best fitting model\"."
   ]
  },
  {
   "cell_type": "markdown",
   "id": "70ca5ed1",
   "metadata": {},
   "source": [
    "# Saving the model:"
   ]
  },
  {
   "cell_type": "code",
   "execution_count": 149,
   "id": "b12e1da7",
   "metadata": {},
   "outputs": [],
   "source": [
    "import pickle\n",
    "filename='Avocado.pkl'\n",
    "pickle.dump(RandomForest,open(filename,'wb'))"
   ]
  },
  {
   "cell_type": "code",
   "execution_count": null,
   "id": "6cdb8b86",
   "metadata": {},
   "outputs": [],
   "source": []
  }
 ],
 "metadata": {
  "kernelspec": {
   "display_name": "Python 3 (ipykernel)",
   "language": "python",
   "name": "python3"
  },
  "language_info": {
   "codemirror_mode": {
    "name": "ipython",
    "version": 3
   },
   "file_extension": ".py",
   "mimetype": "text/x-python",
   "name": "python",
   "nbconvert_exporter": "python",
   "pygments_lexer": "ipython3",
   "version": "3.9.7"
  }
 },
 "nbformat": 4,
 "nbformat_minor": 5
}
